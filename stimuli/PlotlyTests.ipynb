{
 "cells": [
  {
   "cell_type": "markdown",
   "metadata": {},
   "source": [
    "# View a CNN for CIFAR-10 classification"
   ]
  },
  {
   "cell_type": "code",
   "execution_count": 1,
   "metadata": {},
   "outputs": [],
   "source": [
    "import sys\n",
    "import plotly.graph_objects as go"
   ]
  },
  {
   "cell_type": "code",
   "execution_count": 2,
   "metadata": {},
   "outputs": [],
   "source": [
    "#%load_ext autoreload\n",
    "#%autoreload 2\n",
    "sys.path.append('../')"
   ]
  },
  {
   "cell_type": "markdown",
   "metadata": {},
   "source": [
    "# Compare trace vs shape for Spline"
   ]
  },
  {
   "cell_type": "code",
   "execution_count": 33,
   "metadata": {},
   "outputs": [
    {
     "name": "stdout",
     "output_type": "stream",
     "text": [
      "CPU times: user 3.59 s, sys: 65.2 ms, total: 3.65 s\n",
      "Wall time: 3.64 s\n"
     ]
    },
    {
     "data": {
      "application/vnd.plotly.v1+json": {
       "config": {
        "plotlyServerURL": "https://plot.ly"
       },
       "data": [
        {
         "line": {
          "shape": "spline"
         },
         "mode": "lines",
         "showlegend": false,
         "type": "scatter",
         "x": [
          0,
          1
         ],
         "y": [
          229,
          1031
         ]
        },
        {
         "line": {
          "shape": "spline"
         },
         "mode": "lines",
         "showlegend": false,
         "type": "scatter",
         "x": [
          0,
          1
         ],
         "y": [
          470,
          38
         ]
        },
        {
         "line": {
          "shape": "spline"
         },
         "mode": "lines",
         "showlegend": false,
         "type": "scatter",
         "x": [
          0,
          1
         ],
         "y": [
          1105,
          559
         ]
        },
        {
         "line": {
          "shape": "spline"
         },
         "mode": "lines",
         "showlegend": false,
         "type": "scatter",
         "x": [
          0,
          1
         ],
         "y": [
          1041,
          107
         ]
        },
        {
         "line": {
          "shape": "spline"
         },
         "mode": "lines",
         "showlegend": false,
         "type": "scatter",
         "x": [
          0,
          1
         ],
         "y": [
          578,
          688
         ]
        },
        {
         "line": {
          "shape": "spline"
         },
         "mode": "lines",
         "showlegend": false,
         "type": "scatter",
         "x": [
          0,
          1
         ],
         "y": [
          654,
          36
         ]
        },
        {
         "line": {
          "shape": "spline"
         },
         "mode": "lines",
         "showlegend": false,
         "type": "scatter",
         "x": [
          0,
          1
         ],
         "y": [
          915,
          67
         ]
        },
        {
         "line": {
          "shape": "spline"
         },
         "mode": "lines",
         "showlegend": false,
         "type": "scatter",
         "x": [
          0,
          1
         ],
         "y": [
          41,
          310
         ]
        },
        {
         "line": {
          "shape": "spline"
         },
         "mode": "lines",
         "showlegend": false,
         "type": "scatter",
         "x": [
          0,
          1
         ],
         "y": [
          1194,
          218
         ]
        },
        {
         "line": {
          "shape": "spline"
         },
         "mode": "lines",
         "showlegend": false,
         "type": "scatter",
         "x": [
          0,
          1
         ],
         "y": [
          928,
          1076
         ]
        },
        {
         "line": {
          "shape": "spline"
         },
         "mode": "lines",
         "showlegend": false,
         "type": "scatter",
         "x": [
          0,
          1
         ],
         "y": [
          272,
          0
         ]
        },
        {
         "line": {
          "shape": "spline"
         },
         "mode": "lines",
         "showlegend": false,
         "type": "scatter",
         "x": [
          0,
          1
         ],
         "y": [
          1241,
          1041
         ]
        },
        {
         "line": {
          "shape": "spline"
         },
         "mode": "lines",
         "showlegend": false,
         "type": "scatter",
         "x": [
          0,
          1
         ],
         "y": [
          37,
          145
         ]
        },
        {
         "line": {
          "shape": "spline"
         },
         "mode": "lines",
         "showlegend": false,
         "type": "scatter",
         "x": [
          0,
          1
         ],
         "y": [
          1193,
          655
         ]
        },
        {
         "line": {
          "shape": "spline"
         },
         "mode": "lines",
         "showlegend": false,
         "type": "scatter",
         "x": [
          0,
          1
         ],
         "y": [
          1265,
          400
         ]
        },
        {
         "line": {
          "shape": "spline"
         },
         "mode": "lines",
         "showlegend": false,
         "type": "scatter",
         "x": [
          0,
          1
         ],
         "y": [
          1082,
          406
         ]
        },
        {
         "line": {
          "shape": "spline"
         },
         "mode": "lines",
         "showlegend": false,
         "type": "scatter",
         "x": [
          0,
          1
         ],
         "y": [
          985,
          132
         ]
        },
        {
         "line": {
          "shape": "spline"
         },
         "mode": "lines",
         "showlegend": false,
         "type": "scatter",
         "x": [
          0,
          1
         ],
         "y": [
          1256,
          780
         ]
        },
        {
         "line": {
          "shape": "spline"
         },
         "mode": "lines",
         "showlegend": false,
         "type": "scatter",
         "x": [
          0,
          1
         ],
         "y": [
          410,
          928
         ]
        },
        {
         "line": {
          "shape": "spline"
         },
         "mode": "lines",
         "showlegend": false,
         "type": "scatter",
         "x": [
          0,
          1
         ],
         "y": [
          514,
          1270
         ]
        },
        {
         "line": {
          "shape": "spline"
         },
         "mode": "lines",
         "showlegend": false,
         "type": "scatter",
         "x": [
          0,
          1
         ],
         "y": [
          157,
          1263
         ]
        },
        {
         "line": {
          "shape": "spline"
         },
         "mode": "lines",
         "showlegend": false,
         "type": "scatter",
         "x": [
          0,
          1
         ],
         "y": [
          1080,
          647
         ]
        },
        {
         "line": {
          "shape": "spline"
         },
         "mode": "lines",
         "showlegend": false,
         "type": "scatter",
         "x": [
          0,
          1
         ],
         "y": [
          74,
          1229
         ]
        },
        {
         "line": {
          "shape": "spline"
         },
         "mode": "lines",
         "showlegend": false,
         "type": "scatter",
         "x": [
          0,
          1
         ],
         "y": [
          68,
          1162
         ]
        },
        {
         "line": {
          "shape": "spline"
         },
         "mode": "lines",
         "showlegend": false,
         "type": "scatter",
         "x": [
          0,
          1
         ],
         "y": [
          982,
          1271
         ]
        },
        {
         "line": {
          "shape": "spline"
         },
         "mode": "lines",
         "showlegend": false,
         "type": "scatter",
         "x": [
          0,
          1
         ],
         "y": [
          895,
          910
         ]
        },
        {
         "line": {
          "shape": "spline"
         },
         "mode": "lines",
         "showlegend": false,
         "type": "scatter",
         "x": [
          0,
          1
         ],
         "y": [
          175,
          1217
         ]
        },
        {
         "line": {
          "shape": "spline"
         },
         "mode": "lines",
         "showlegend": false,
         "type": "scatter",
         "x": [
          0,
          1
         ],
         "y": [
          393,
          489
         ]
        },
        {
         "line": {
          "shape": "spline"
         },
         "mode": "lines",
         "showlegend": false,
         "type": "scatter",
         "x": [
          0,
          1
         ],
         "y": [
          76,
          754
         ]
        },
        {
         "line": {
          "shape": "spline"
         },
         "mode": "lines",
         "showlegend": false,
         "type": "scatter",
         "x": [
          0,
          1
         ],
         "y": [
          78,
          322
         ]
        },
        {
         "line": {
          "shape": "spline"
         },
         "mode": "lines",
         "showlegend": false,
         "type": "scatter",
         "x": [
          0,
          1
         ],
         "y": [
          1015,
          215
         ]
        },
        {
         "line": {
          "shape": "spline"
         },
         "mode": "lines",
         "showlegend": false,
         "type": "scatter",
         "x": [
          0,
          1
         ],
         "y": [
          70,
          705
         ]
        },
        {
         "line": {
          "shape": "spline"
         },
         "mode": "lines",
         "showlegend": false,
         "type": "scatter",
         "x": [
          0,
          1
         ],
         "y": [
          188,
          692
         ]
        },
        {
         "line": {
          "shape": "spline"
         },
         "mode": "lines",
         "showlegend": false,
         "type": "scatter",
         "x": [
          0,
          1
         ],
         "y": [
          675,
          1153
         ]
        },
        {
         "line": {
          "shape": "spline"
         },
         "mode": "lines",
         "showlegend": false,
         "type": "scatter",
         "x": [
          0,
          1
         ],
         "y": [
          779,
          934
         ]
        },
        {
         "line": {
          "shape": "spline"
         },
         "mode": "lines",
         "showlegend": false,
         "type": "scatter",
         "x": [
          0,
          1
         ],
         "y": [
          595,
          873
         ]
        },
        {
         "line": {
          "shape": "spline"
         },
         "mode": "lines",
         "showlegend": false,
         "type": "scatter",
         "x": [
          0,
          1
         ],
         "y": [
          349,
          897
         ]
        },
        {
         "line": {
          "shape": "spline"
         },
         "mode": "lines",
         "showlegend": false,
         "type": "scatter",
         "x": [
          0,
          1
         ],
         "y": [
          1233,
          829
         ]
        },
        {
         "line": {
          "shape": "spline"
         },
         "mode": "lines",
         "showlegend": false,
         "type": "scatter",
         "x": [
          0,
          1
         ],
         "y": [
          88,
          633
         ]
        },
        {
         "line": {
          "shape": "spline"
         },
         "mode": "lines",
         "showlegend": false,
         "type": "scatter",
         "x": [
          0,
          1
         ],
         "y": [
          433,
          589
         ]
        },
        {
         "line": {
          "shape": "spline"
         },
         "mode": "lines",
         "showlegend": false,
         "type": "scatter",
         "x": [
          0,
          1
         ],
         "y": [
          1003,
          444
         ]
        },
        {
         "line": {
          "shape": "spline"
         },
         "mode": "lines",
         "showlegend": false,
         "type": "scatter",
         "x": [
          0,
          1
         ],
         "y": [
          927,
          111
         ]
        },
        {
         "line": {
          "shape": "spline"
         },
         "mode": "lines",
         "showlegend": false,
         "type": "scatter",
         "x": [
          0,
          1
         ],
         "y": [
          625,
          234
         ]
        },
        {
         "line": {
          "shape": "spline"
         },
         "mode": "lines",
         "showlegend": false,
         "type": "scatter",
         "x": [
          0,
          1
         ],
         "y": [
          721,
          153
         ]
        },
        {
         "line": {
          "shape": "spline"
         },
         "mode": "lines",
         "showlegend": false,
         "type": "scatter",
         "x": [
          0,
          1
         ],
         "y": [
          454,
          662
         ]
        },
        {
         "line": {
          "shape": "spline"
         },
         "mode": "lines",
         "showlegend": false,
         "type": "scatter",
         "x": [
          0,
          1
         ],
         "y": [
          985,
          54
         ]
        },
        {
         "line": {
          "shape": "spline"
         },
         "mode": "lines",
         "showlegend": false,
         "type": "scatter",
         "x": [
          0,
          1
         ],
         "y": [
          528,
          477
         ]
        },
        {
         "line": {
          "shape": "spline"
         },
         "mode": "lines",
         "showlegend": false,
         "type": "scatter",
         "x": [
          0,
          1
         ],
         "y": [
          364,
          312
         ]
        },
        {
         "line": {
          "shape": "spline"
         },
         "mode": "lines",
         "showlegend": false,
         "type": "scatter",
         "x": [
          0,
          1
         ],
         "y": [
          942,
          425
         ]
        },
        {
         "line": {
          "shape": "spline"
         },
         "mode": "lines",
         "showlegend": false,
         "type": "scatter",
         "x": [
          0,
          1
         ],
         "y": [
          374,
          345
         ]
        },
        {
         "line": {
          "shape": "spline"
         },
         "mode": "lines",
         "showlegend": false,
         "type": "scatter",
         "x": [
          0,
          1
         ],
         "y": [
          711,
          200
         ]
        },
        {
         "line": {
          "shape": "spline"
         },
         "mode": "lines",
         "showlegend": false,
         "type": "scatter",
         "x": [
          0,
          1
         ],
         "y": [
          680,
          284
         ]
        },
        {
         "line": {
          "shape": "spline"
         },
         "mode": "lines",
         "showlegend": false,
         "type": "scatter",
         "x": [
          0,
          1
         ],
         "y": [
          851,
          101
         ]
        },
        {
         "line": {
          "shape": "spline"
         },
         "mode": "lines",
         "showlegend": false,
         "type": "scatter",
         "x": [
          0,
          1
         ],
         "y": [
          877,
          52
         ]
        },
        {
         "line": {
          "shape": "spline"
         },
         "mode": "lines",
         "showlegend": false,
         "type": "scatter",
         "x": [
          0,
          1
         ],
         "y": [
          985,
          384
         ]
        },
        {
         "line": {
          "shape": "spline"
         },
         "mode": "lines",
         "showlegend": false,
         "type": "scatter",
         "x": [
          0,
          1
         ],
         "y": [
          1192,
          1205
         ]
        },
        {
         "line": {
          "shape": "spline"
         },
         "mode": "lines",
         "showlegend": false,
         "type": "scatter",
         "x": [
          0,
          1
         ],
         "y": [
          338,
          388
         ]
        },
        {
         "line": {
          "shape": "spline"
         },
         "mode": "lines",
         "showlegend": false,
         "type": "scatter",
         "x": [
          0,
          1
         ],
         "y": [
          936,
          851
         ]
        },
        {
         "line": {
          "shape": "spline"
         },
         "mode": "lines",
         "showlegend": false,
         "type": "scatter",
         "x": [
          0,
          1
         ],
         "y": [
          989,
          457
         ]
        },
        {
         "line": {
          "shape": "spline"
         },
         "mode": "lines",
         "showlegend": false,
         "type": "scatter",
         "x": [
          0,
          1
         ],
         "y": [
          261,
          1081
         ]
        },
        {
         "line": {
          "shape": "spline"
         },
         "mode": "lines",
         "showlegend": false,
         "type": "scatter",
         "x": [
          0,
          1
         ],
         "y": [
          358,
          634
         ]
        },
        {
         "line": {
          "shape": "spline"
         },
         "mode": "lines",
         "showlegend": false,
         "type": "scatter",
         "x": [
          0,
          1
         ],
         "y": [
          1169,
          688
         ]
        },
        {
         "line": {
          "shape": "spline"
         },
         "mode": "lines",
         "showlegend": false,
         "type": "scatter",
         "x": [
          0,
          1
         ],
         "y": [
          1228,
          259
         ]
        },
        {
         "line": {
          "shape": "spline"
         },
         "mode": "lines",
         "showlegend": false,
         "type": "scatter",
         "x": [
          0,
          1
         ],
         "y": [
          799,
          1204
         ]
        },
        {
         "line": {
          "shape": "spline"
         },
         "mode": "lines",
         "showlegend": false,
         "type": "scatter",
         "x": [
          0,
          1
         ],
         "y": [
          814,
          83
         ]
        },
        {
         "line": {
          "shape": "spline"
         },
         "mode": "lines",
         "showlegend": false,
         "type": "scatter",
         "x": [
          0,
          1
         ],
         "y": [
          268,
          494
         ]
        },
        {
         "line": {
          "shape": "spline"
         },
         "mode": "lines",
         "showlegend": false,
         "type": "scatter",
         "x": [
          0,
          1
         ],
         "y": [
          1194,
          974
         ]
        },
        {
         "line": {
          "shape": "spline"
         },
         "mode": "lines",
         "showlegend": false,
         "type": "scatter",
         "x": [
          0,
          1
         ],
         "y": [
          606,
          790
         ]
        },
        {
         "line": {
          "shape": "spline"
         },
         "mode": "lines",
         "showlegend": false,
         "type": "scatter",
         "x": [
          0,
          1
         ],
         "y": [
          437,
          667
         ]
        },
        {
         "line": {
          "shape": "spline"
         },
         "mode": "lines",
         "showlegend": false,
         "type": "scatter",
         "x": [
          0,
          1
         ],
         "y": [
          1008,
          1114
         ]
        },
        {
         "line": {
          "shape": "spline"
         },
         "mode": "lines",
         "showlegend": false,
         "type": "scatter",
         "x": [
          0,
          1
         ],
         "y": [
          909,
          1053
         ]
        },
        {
         "line": {
          "shape": "spline"
         },
         "mode": "lines",
         "showlegend": false,
         "type": "scatter",
         "x": [
          0,
          1
         ],
         "y": [
          1037,
          1218
         ]
        },
        {
         "line": {
          "shape": "spline"
         },
         "mode": "lines",
         "showlegend": false,
         "type": "scatter",
         "x": [
          0,
          1
         ],
         "y": [
          387,
          576
         ]
        },
        {
         "line": {
          "shape": "spline"
         },
         "mode": "lines",
         "showlegend": false,
         "type": "scatter",
         "x": [
          0,
          1
         ],
         "y": [
          289,
          844
         ]
        },
        {
         "line": {
          "shape": "spline"
         },
         "mode": "lines",
         "showlegend": false,
         "type": "scatter",
         "x": [
          0,
          1
         ],
         "y": [
          293,
          1128
         ]
        },
        {
         "line": {
          "shape": "spline"
         },
         "mode": "lines",
         "showlegend": false,
         "type": "scatter",
         "x": [
          0,
          1
         ],
         "y": [
          642,
          1076
         ]
        },
        {
         "line": {
          "shape": "spline"
         },
         "mode": "lines",
         "showlegend": false,
         "type": "scatter",
         "x": [
          0,
          1
         ],
         "y": [
          682,
          180
         ]
        },
        {
         "line": {
          "shape": "spline"
         },
         "mode": "lines",
         "showlegend": false,
         "type": "scatter",
         "x": [
          0,
          1
         ],
         "y": [
          608,
          927
         ]
        },
        {
         "line": {
          "shape": "spline"
         },
         "mode": "lines",
         "showlegend": false,
         "type": "scatter",
         "x": [
          0,
          1
         ],
         "y": [
          644,
          924
         ]
        },
        {
         "line": {
          "shape": "spline"
         },
         "mode": "lines",
         "showlegend": false,
         "type": "scatter",
         "x": [
          0,
          1
         ],
         "y": [
          851,
          1237
         ]
        },
        {
         "line": {
          "shape": "spline"
         },
         "mode": "lines",
         "showlegend": false,
         "type": "scatter",
         "x": [
          0,
          1
         ],
         "y": [
          1005,
          1244
         ]
        },
        {
         "line": {
          "shape": "spline"
         },
         "mode": "lines",
         "showlegend": false,
         "type": "scatter",
         "x": [
          0,
          1
         ],
         "y": [
          912,
          758
         ]
        },
        {
         "line": {
          "shape": "spline"
         },
         "mode": "lines",
         "showlegend": false,
         "type": "scatter",
         "x": [
          0,
          1
         ],
         "y": [
          1205,
          284
         ]
        },
        {
         "line": {
          "shape": "spline"
         },
         "mode": "lines",
         "showlegend": false,
         "type": "scatter",
         "x": [
          0,
          1
         ],
         "y": [
          309,
          543
         ]
        },
        {
         "line": {
          "shape": "spline"
         },
         "mode": "lines",
         "showlegend": false,
         "type": "scatter",
         "x": [
          0,
          1
         ],
         "y": [
          831,
          107
         ]
        },
        {
         "line": {
          "shape": "spline"
         },
         "mode": "lines",
         "showlegend": false,
         "type": "scatter",
         "x": [
          0,
          1
         ],
         "y": [
          436,
          918
         ]
        },
        {
         "line": {
          "shape": "spline"
         },
         "mode": "lines",
         "showlegend": false,
         "type": "scatter",
         "x": [
          0,
          1
         ],
         "y": [
          969,
          429
         ]
        },
        {
         "line": {
          "shape": "spline"
         },
         "mode": "lines",
         "showlegend": false,
         "type": "scatter",
         "x": [
          0,
          1
         ],
         "y": [
          509,
          1147
         ]
        },
        {
         "line": {
          "shape": "spline"
         },
         "mode": "lines",
         "showlegend": false,
         "type": "scatter",
         "x": [
          0,
          1
         ],
         "y": [
          677,
          441
         ]
        },
        {
         "line": {
          "shape": "spline"
         },
         "mode": "lines",
         "showlegend": false,
         "type": "scatter",
         "x": [
          0,
          1
         ],
         "y": [
          472,
          642
         ]
        },
        {
         "line": {
          "shape": "spline"
         },
         "mode": "lines",
         "showlegend": false,
         "type": "scatter",
         "x": [
          0,
          1
         ],
         "y": [
          25,
          250
         ]
        },
        {
         "line": {
          "shape": "spline"
         },
         "mode": "lines",
         "showlegend": false,
         "type": "scatter",
         "x": [
          0,
          1
         ],
         "y": [
          114,
          1031
         ]
        },
        {
         "line": {
          "shape": "spline"
         },
         "mode": "lines",
         "showlegend": false,
         "type": "scatter",
         "x": [
          0,
          1
         ],
         "y": [
          219,
          1048
         ]
        },
        {
         "line": {
          "shape": "spline"
         },
         "mode": "lines",
         "showlegend": false,
         "type": "scatter",
         "x": [
          0,
          1
         ],
         "y": [
          168,
          892
         ]
        },
        {
         "line": {
          "shape": "spline"
         },
         "mode": "lines",
         "showlegend": false,
         "type": "scatter",
         "x": [
          0,
          1
         ],
         "y": [
          144,
          449
         ]
        },
        {
         "line": {
          "shape": "spline"
         },
         "mode": "lines",
         "showlegend": false,
         "type": "scatter",
         "x": [
          0,
          1
         ],
         "y": [
          680,
          1150
         ]
        },
        {
         "line": {
          "shape": "spline"
         },
         "mode": "lines",
         "showlegend": false,
         "type": "scatter",
         "x": [
          0,
          1
         ],
         "y": [
          209,
          494
         ]
        },
        {
         "line": {
          "shape": "spline"
         },
         "mode": "lines",
         "showlegend": false,
         "type": "scatter",
         "x": [
          0,
          1
         ],
         "y": [
          1117,
          149
         ]
        },
        {
         "line": {
          "shape": "spline"
         },
         "mode": "lines",
         "showlegend": false,
         "type": "scatter",
         "x": [
          0,
          1
         ],
         "y": [
          726,
          1239
         ]
        },
        {
         "line": {
          "shape": "spline"
         },
         "mode": "lines",
         "showlegend": false,
         "type": "scatter",
         "x": [
          0,
          1
         ],
         "y": [
          410,
          661
         ]
        },
        {
         "line": {
          "shape": "spline"
         },
         "mode": "lines",
         "showlegend": false,
         "type": "scatter",
         "x": [
          0,
          1
         ],
         "y": [
          272,
          171
         ]
        },
        {
         "line": {
          "shape": "spline"
         },
         "mode": "lines",
         "showlegend": false,
         "type": "scatter",
         "x": [
          0,
          1
         ],
         "y": [
          532,
          102
         ]
        },
        {
         "line": {
          "shape": "spline"
         },
         "mode": "lines",
         "showlegend": false,
         "type": "scatter",
         "x": [
          0,
          1
         ],
         "y": [
          1098,
          1250
         ]
        },
        {
         "line": {
          "shape": "spline"
         },
         "mode": "lines",
         "showlegend": false,
         "type": "scatter",
         "x": [
          0,
          1
         ],
         "y": [
          380,
          1214
         ]
        },
        {
         "line": {
          "shape": "spline"
         },
         "mode": "lines",
         "showlegend": false,
         "type": "scatter",
         "x": [
          0,
          1
         ],
         "y": [
          721,
          822
         ]
        },
        {
         "line": {
          "shape": "spline"
         },
         "mode": "lines",
         "showlegend": false,
         "type": "scatter",
         "x": [
          0,
          1
         ],
         "y": [
          1094,
          237
         ]
        },
        {
         "line": {
          "shape": "spline"
         },
         "mode": "lines",
         "showlegend": false,
         "type": "scatter",
         "x": [
          0,
          1
         ],
         "y": [
          810,
          314
         ]
        },
        {
         "line": {
          "shape": "spline"
         },
         "mode": "lines",
         "showlegend": false,
         "type": "scatter",
         "x": [
          0,
          1
         ],
         "y": [
          15,
          440
         ]
        },
        {
         "line": {
          "shape": "spline"
         },
         "mode": "lines",
         "showlegend": false,
         "type": "scatter",
         "x": [
          0,
          1
         ],
         "y": [
          748,
          339
         ]
        },
        {
         "line": {
          "shape": "spline"
         },
         "mode": "lines",
         "showlegend": false,
         "type": "scatter",
         "x": [
          0,
          1
         ],
         "y": [
          299,
          788
         ]
        },
        {
         "line": {
          "shape": "spline"
         },
         "mode": "lines",
         "showlegend": false,
         "type": "scatter",
         "x": [
          0,
          1
         ],
         "y": [
          1014,
          213
         ]
        },
        {
         "line": {
          "shape": "spline"
         },
         "mode": "lines",
         "showlegend": false,
         "type": "scatter",
         "x": [
          0,
          1
         ],
         "y": [
          764,
          9
         ]
        },
        {
         "line": {
          "shape": "spline"
         },
         "mode": "lines",
         "showlegend": false,
         "type": "scatter",
         "x": [
          0,
          1
         ],
         "y": [
          27,
          567
         ]
        },
        {
         "line": {
          "shape": "spline"
         },
         "mode": "lines",
         "showlegend": false,
         "type": "scatter",
         "x": [
          0,
          1
         ],
         "y": [
          696,
          703
         ]
        },
        {
         "line": {
          "shape": "spline"
         },
         "mode": "lines",
         "showlegend": false,
         "type": "scatter",
         "x": [
          0,
          1
         ],
         "y": [
          1130,
          212
         ]
        },
        {
         "line": {
          "shape": "spline"
         },
         "mode": "lines",
         "showlegend": false,
         "type": "scatter",
         "x": [
          0,
          1
         ],
         "y": [
          70,
          1084
         ]
        },
        {
         "line": {
          "shape": "spline"
         },
         "mode": "lines",
         "showlegend": false,
         "type": "scatter",
         "x": [
          0,
          1
         ],
         "y": [
          665,
          843
         ]
        },
        {
         "line": {
          "shape": "spline"
         },
         "mode": "lines",
         "showlegend": false,
         "type": "scatter",
         "x": [
          0,
          1
         ],
         "y": [
          99,
          1105
         ]
        },
        {
         "line": {
          "shape": "spline"
         },
         "mode": "lines",
         "showlegend": false,
         "type": "scatter",
         "x": [
          0,
          1
         ],
         "y": [
          161,
          962
         ]
        },
        {
         "line": {
          "shape": "spline"
         },
         "mode": "lines",
         "showlegend": false,
         "type": "scatter",
         "x": [
          0,
          1
         ],
         "y": [
          213,
          1152
         ]
        },
        {
         "line": {
          "shape": "spline"
         },
         "mode": "lines",
         "showlegend": false,
         "type": "scatter",
         "x": [
          0,
          1
         ],
         "y": [
          240,
          157
         ]
        },
        {
         "line": {
          "shape": "spline"
         },
         "mode": "lines",
         "showlegend": false,
         "type": "scatter",
         "x": [
          0,
          1
         ],
         "y": [
          1268,
          233
         ]
        },
        {
         "line": {
          "shape": "spline"
         },
         "mode": "lines",
         "showlegend": false,
         "type": "scatter",
         "x": [
          0,
          1
         ],
         "y": [
          938,
          262
         ]
        },
        {
         "line": {
          "shape": "spline"
         },
         "mode": "lines",
         "showlegend": false,
         "type": "scatter",
         "x": [
          0,
          1
         ],
         "y": [
          135,
          549
         ]
        },
        {
         "line": {
          "shape": "spline"
         },
         "mode": "lines",
         "showlegend": false,
         "type": "scatter",
         "x": [
          0,
          1
         ],
         "y": [
          459,
          266
         ]
        },
        {
         "line": {
          "shape": "spline"
         },
         "mode": "lines",
         "showlegend": false,
         "type": "scatter",
         "x": [
          0,
          1
         ],
         "y": [
          1119,
          1042
         ]
        },
        {
         "line": {
          "shape": "spline"
         },
         "mode": "lines",
         "showlegend": false,
         "type": "scatter",
         "x": [
          0,
          1
         ],
         "y": [
          1134,
          217
         ]
        },
        {
         "line": {
          "shape": "spline"
         },
         "mode": "lines",
         "showlegend": false,
         "type": "scatter",
         "x": [
          0,
          1
         ],
         "y": [
          745,
          895
         ]
        },
        {
         "line": {
          "shape": "spline"
         },
         "mode": "lines",
         "showlegend": false,
         "type": "scatter",
         "x": [
          0,
          1
         ],
         "y": [
          313,
          1228
         ]
        },
        {
         "line": {
          "shape": "spline"
         },
         "mode": "lines",
         "showlegend": false,
         "type": "scatter",
         "x": [
          0,
          1
         ],
         "y": [
          235,
          538
         ]
        },
        {
         "line": {
          "shape": "spline"
         },
         "mode": "lines",
         "showlegend": false,
         "type": "scatter",
         "x": [
          0,
          1
         ],
         "y": [
          647,
          729
         ]
        },
        {
         "line": {
          "shape": "spline"
         },
         "mode": "lines",
         "showlegend": false,
         "type": "scatter",
         "x": [
          0,
          1
         ],
         "y": [
          46,
          1023
         ]
        },
        {
         "line": {
          "shape": "spline"
         },
         "mode": "lines",
         "showlegend": false,
         "type": "scatter",
         "x": [
          0,
          1
         ],
         "y": [
          667,
          220
         ]
        },
        {
         "line": {
          "shape": "spline"
         },
         "mode": "lines",
         "showlegend": false,
         "type": "scatter",
         "x": [
          0,
          1
         ],
         "y": [
          1045,
          832
         ]
        },
        {
         "line": {
          "shape": "spline"
         },
         "mode": "lines",
         "showlegend": false,
         "type": "scatter",
         "x": [
          0,
          1
         ],
         "y": [
          69,
          1164
         ]
        },
        {
         "line": {
          "shape": "spline"
         },
         "mode": "lines",
         "showlegend": false,
         "type": "scatter",
         "x": [
          0,
          1
         ],
         "y": [
          900,
          855
         ]
        },
        {
         "line": {
          "shape": "spline"
         },
         "mode": "lines",
         "showlegend": false,
         "type": "scatter",
         "x": [
          0,
          1
         ],
         "y": [
          314,
          801
         ]
        },
        {
         "line": {
          "shape": "spline"
         },
         "mode": "lines",
         "showlegend": false,
         "type": "scatter",
         "x": [
          0,
          1
         ],
         "y": [
          588,
          742
         ]
        },
        {
         "line": {
          "shape": "spline"
         },
         "mode": "lines",
         "showlegend": false,
         "type": "scatter",
         "x": [
          0,
          1
         ],
         "y": [
          982,
          246
         ]
        },
        {
         "line": {
          "shape": "spline"
         },
         "mode": "lines",
         "showlegend": false,
         "type": "scatter",
         "x": [
          0,
          1
         ],
         "y": [
          102,
          50
         ]
        },
        {
         "line": {
          "shape": "spline"
         },
         "mode": "lines",
         "showlegend": false,
         "type": "scatter",
         "x": [
          0,
          1
         ],
         "y": [
          99,
          939
         ]
        },
        {
         "line": {
          "shape": "spline"
         },
         "mode": "lines",
         "showlegend": false,
         "type": "scatter",
         "x": [
          0,
          1
         ],
         "y": [
          114,
          930
         ]
        },
        {
         "line": {
          "shape": "spline"
         },
         "mode": "lines",
         "showlegend": false,
         "type": "scatter",
         "x": [
          0,
          1
         ],
         "y": [
          554,
          4
         ]
        },
        {
         "line": {
          "shape": "spline"
         },
         "mode": "lines",
         "showlegend": false,
         "type": "scatter",
         "x": [
          0,
          1
         ],
         "y": [
          533,
          257
         ]
        },
        {
         "line": {
          "shape": "spline"
         },
         "mode": "lines",
         "showlegend": false,
         "type": "scatter",
         "x": [
          0,
          1
         ],
         "y": [
          187,
          141
         ]
        },
        {
         "line": {
          "shape": "spline"
         },
         "mode": "lines",
         "showlegend": false,
         "type": "scatter",
         "x": [
          0,
          1
         ],
         "y": [
          928,
          1080
         ]
        },
        {
         "line": {
          "shape": "spline"
         },
         "mode": "lines",
         "showlegend": false,
         "type": "scatter",
         "x": [
          0,
          1
         ],
         "y": [
          856,
          1041
         ]
        },
        {
         "line": {
          "shape": "spline"
         },
         "mode": "lines",
         "showlegend": false,
         "type": "scatter",
         "x": [
          0,
          1
         ],
         "y": [
          1274,
          1090
         ]
        },
        {
         "line": {
          "shape": "spline"
         },
         "mode": "lines",
         "showlegend": false,
         "type": "scatter",
         "x": [
          0,
          1
         ],
         "y": [
          355,
          1
         ]
        },
        {
         "line": {
          "shape": "spline"
         },
         "mode": "lines",
         "showlegend": false,
         "type": "scatter",
         "x": [
          0,
          1
         ],
         "y": [
          1085,
          214
         ]
        },
        {
         "line": {
          "shape": "spline"
         },
         "mode": "lines",
         "showlegend": false,
         "type": "scatter",
         "x": [
          0,
          1
         ],
         "y": [
          110,
          21
         ]
        },
        {
         "line": {
          "shape": "spline"
         },
         "mode": "lines",
         "showlegend": false,
         "type": "scatter",
         "x": [
          0,
          1
         ],
         "y": [
          965,
          802
         ]
        },
        {
         "line": {
          "shape": "spline"
         },
         "mode": "lines",
         "showlegend": false,
         "type": "scatter",
         "x": [
          0,
          1
         ],
         "y": [
          972,
          426
         ]
        },
        {
         "line": {
          "shape": "spline"
         },
         "mode": "lines",
         "showlegend": false,
         "type": "scatter",
         "x": [
          0,
          1
         ],
         "y": [
          1098,
          758
         ]
        },
        {
         "line": {
          "shape": "spline"
         },
         "mode": "lines",
         "showlegend": false,
         "type": "scatter",
         "x": [
          0,
          1
         ],
         "y": [
          172,
          853
         ]
        },
        {
         "line": {
          "shape": "spline"
         },
         "mode": "lines",
         "showlegend": false,
         "type": "scatter",
         "x": [
          0,
          1
         ],
         "y": [
          133,
          726
         ]
        },
        {
         "line": {
          "shape": "spline"
         },
         "mode": "lines",
         "showlegend": false,
         "type": "scatter",
         "x": [
          0,
          1
         ],
         "y": [
          1085,
          1267
         ]
        },
        {
         "line": {
          "shape": "spline"
         },
         "mode": "lines",
         "showlegend": false,
         "type": "scatter",
         "x": [
          0,
          1
         ],
         "y": [
          902,
          1278
         ]
        },
        {
         "line": {
          "shape": "spline"
         },
         "mode": "lines",
         "showlegend": false,
         "type": "scatter",
         "x": [
          0,
          1
         ],
         "y": [
          724,
          739
         ]
        },
        {
         "line": {
          "shape": "spline"
         },
         "mode": "lines",
         "showlegend": false,
         "type": "scatter",
         "x": [
          0,
          1
         ],
         "y": [
          323,
          183
         ]
        },
        {
         "line": {
          "shape": "spline"
         },
         "mode": "lines",
         "showlegend": false,
         "type": "scatter",
         "x": [
          0,
          1
         ],
         "y": [
          1185,
          63
         ]
        },
        {
         "line": {
          "shape": "spline"
         },
         "mode": "lines",
         "showlegend": false,
         "type": "scatter",
         "x": [
          0,
          1
         ],
         "y": [
          316,
          884
         ]
        },
        {
         "line": {
          "shape": "spline"
         },
         "mode": "lines",
         "showlegend": false,
         "type": "scatter",
         "x": [
          0,
          1
         ],
         "y": [
          1,
          800
         ]
        },
        {
         "line": {
          "shape": "spline"
         },
         "mode": "lines",
         "showlegend": false,
         "type": "scatter",
         "x": [
          0,
          1
         ],
         "y": [
          78,
          846
         ]
        },
        {
         "line": {
          "shape": "spline"
         },
         "mode": "lines",
         "showlegend": false,
         "type": "scatter",
         "x": [
          0,
          1
         ],
         "y": [
          1162,
          865
         ]
        },
        {
         "line": {
          "shape": "spline"
         },
         "mode": "lines",
         "showlegend": false,
         "type": "scatter",
         "x": [
          0,
          1
         ],
         "y": [
          505,
          1184
         ]
        },
        {
         "line": {
          "shape": "spline"
         },
         "mode": "lines",
         "showlegend": false,
         "type": "scatter",
         "x": [
          0,
          1
         ],
         "y": [
          482,
          714
         ]
        },
        {
         "line": {
          "shape": "spline"
         },
         "mode": "lines",
         "showlegend": false,
         "type": "scatter",
         "x": [
          0,
          1
         ],
         "y": [
          89,
          1040
         ]
        },
        {
         "line": {
          "shape": "spline"
         },
         "mode": "lines",
         "showlegend": false,
         "type": "scatter",
         "x": [
          0,
          1
         ],
         "y": [
          1253,
          73
         ]
        },
        {
         "line": {
          "shape": "spline"
         },
         "mode": "lines",
         "showlegend": false,
         "type": "scatter",
         "x": [
          0,
          1
         ],
         "y": [
          701,
          164
         ]
        },
        {
         "line": {
          "shape": "spline"
         },
         "mode": "lines",
         "showlegend": false,
         "type": "scatter",
         "x": [
          0,
          1
         ],
         "y": [
          590,
          680
         ]
        },
        {
         "line": {
          "shape": "spline"
         },
         "mode": "lines",
         "showlegend": false,
         "type": "scatter",
         "x": [
          0,
          1
         ],
         "y": [
          1188,
          1124
         ]
        },
        {
         "line": {
          "shape": "spline"
         },
         "mode": "lines",
         "showlegend": false,
         "type": "scatter",
         "x": [
          0,
          1
         ],
         "y": [
          109,
          65
         ]
        },
        {
         "line": {
          "shape": "spline"
         },
         "mode": "lines",
         "showlegend": false,
         "type": "scatter",
         "x": [
          0,
          1
         ],
         "y": [
          521,
          770
         ]
        },
        {
         "line": {
          "shape": "spline"
         },
         "mode": "lines",
         "showlegend": false,
         "type": "scatter",
         "x": [
          0,
          1
         ],
         "y": [
          211,
          293
         ]
        },
        {
         "line": {
          "shape": "spline"
         },
         "mode": "lines",
         "showlegend": false,
         "type": "scatter",
         "x": [
          0,
          1
         ],
         "y": [
          788,
          799
         ]
        },
        {
         "line": {
          "shape": "spline"
         },
         "mode": "lines",
         "showlegend": false,
         "type": "scatter",
         "x": [
          0,
          1
         ],
         "y": [
          771,
          830
         ]
        },
        {
         "line": {
          "shape": "spline"
         },
         "mode": "lines",
         "showlegend": false,
         "type": "scatter",
         "x": [
          0,
          1
         ],
         "y": [
          387,
          59
         ]
        },
        {
         "line": {
          "shape": "spline"
         },
         "mode": "lines",
         "showlegend": false,
         "type": "scatter",
         "x": [
          0,
          1
         ],
         "y": [
          1167,
          402
         ]
        },
        {
         "line": {
          "shape": "spline"
         },
         "mode": "lines",
         "showlegend": false,
         "type": "scatter",
         "x": [
          0,
          1
         ],
         "y": [
          505,
          797
         ]
        },
        {
         "line": {
          "shape": "spline"
         },
         "mode": "lines",
         "showlegend": false,
         "type": "scatter",
         "x": [
          0,
          1
         ],
         "y": [
          318,
          687
         ]
        },
        {
         "line": {
          "shape": "spline"
         },
         "mode": "lines",
         "showlegend": false,
         "type": "scatter",
         "x": [
          0,
          1
         ],
         "y": [
          741,
          662
         ]
        },
        {
         "line": {
          "shape": "spline"
         },
         "mode": "lines",
         "showlegend": false,
         "type": "scatter",
         "x": [
          0,
          1
         ],
         "y": [
          1250,
          363
         ]
        },
        {
         "line": {
          "shape": "spline"
         },
         "mode": "lines",
         "showlegend": false,
         "type": "scatter",
         "x": [
          0,
          1
         ],
         "y": [
          984,
          860
         ]
        },
        {
         "line": {
          "shape": "spline"
         },
         "mode": "lines",
         "showlegend": false,
         "type": "scatter",
         "x": [
          0,
          1
         ],
         "y": [
          1255,
          160
         ]
        },
        {
         "line": {
          "shape": "spline"
         },
         "mode": "lines",
         "showlegend": false,
         "type": "scatter",
         "x": [
          0,
          1
         ],
         "y": [
          856,
          398
         ]
        },
        {
         "line": {
          "shape": "spline"
         },
         "mode": "lines",
         "showlegend": false,
         "type": "scatter",
         "x": [
          0,
          1
         ],
         "y": [
          993,
          750
         ]
        },
        {
         "line": {
          "shape": "spline"
         },
         "mode": "lines",
         "showlegend": false,
         "type": "scatter",
         "x": [
          0,
          1
         ],
         "y": [
          1113,
          842
         ]
        },
        {
         "line": {
          "shape": "spline"
         },
         "mode": "lines",
         "showlegend": false,
         "type": "scatter",
         "x": [
          0,
          1
         ],
         "y": [
          745,
          420
         ]
        },
        {
         "line": {
          "shape": "spline"
         },
         "mode": "lines",
         "showlegend": false,
         "type": "scatter",
         "x": [
          0,
          1
         ],
         "y": [
          219,
          765
         ]
        },
        {
         "line": {
          "shape": "spline"
         },
         "mode": "lines",
         "showlegend": false,
         "type": "scatter",
         "x": [
          0,
          1
         ],
         "y": [
          687,
          126
         ]
        },
        {
         "line": {
          "shape": "spline"
         },
         "mode": "lines",
         "showlegend": false,
         "type": "scatter",
         "x": [
          0,
          1
         ],
         "y": [
          740,
          210
         ]
        },
        {
         "line": {
          "shape": "spline"
         },
         "mode": "lines",
         "showlegend": false,
         "type": "scatter",
         "x": [
          0,
          1
         ],
         "y": [
          390,
          98
         ]
        },
        {
         "line": {
          "shape": "spline"
         },
         "mode": "lines",
         "showlegend": false,
         "type": "scatter",
         "x": [
          0,
          1
         ],
         "y": [
          1227,
          1226
         ]
        },
        {
         "line": {
          "shape": "spline"
         },
         "mode": "lines",
         "showlegend": false,
         "type": "scatter",
         "x": [
          0,
          1
         ],
         "y": [
          618,
          142
         ]
        },
        {
         "line": {
          "shape": "spline"
         },
         "mode": "lines",
         "showlegend": false,
         "type": "scatter",
         "x": [
          0,
          1
         ],
         "y": [
          875,
          666
         ]
        },
        {
         "line": {
          "shape": "spline"
         },
         "mode": "lines",
         "showlegend": false,
         "type": "scatter",
         "x": [
          0,
          1
         ],
         "y": [
          932,
          128
         ]
        },
        {
         "line": {
          "shape": "spline"
         },
         "mode": "lines",
         "showlegend": false,
         "type": "scatter",
         "x": [
          0,
          1
         ],
         "y": [
          635,
          481
         ]
        },
        {
         "line": {
          "shape": "spline"
         },
         "mode": "lines",
         "showlegend": false,
         "type": "scatter",
         "x": [
          0,
          1
         ],
         "y": [
          1141,
          188
         ]
        },
        {
         "line": {
          "shape": "spline"
         },
         "mode": "lines",
         "showlegend": false,
         "type": "scatter",
         "x": [
          0,
          1
         ],
         "y": [
          1072,
          1216
         ]
        },
        {
         "line": {
          "shape": "spline"
         },
         "mode": "lines",
         "showlegend": false,
         "type": "scatter",
         "x": [
          0,
          1
         ],
         "y": [
          684,
          837
         ]
        },
        {
         "line": {
          "shape": "spline"
         },
         "mode": "lines",
         "showlegend": false,
         "type": "scatter",
         "x": [
          0,
          1
         ],
         "y": [
          332,
          1130
         ]
        },
        {
         "line": {
          "shape": "spline"
         },
         "mode": "lines",
         "showlegend": false,
         "type": "scatter",
         "x": [
          0,
          1
         ],
         "y": [
          528,
          741
         ]
        },
        {
         "line": {
          "shape": "spline"
         },
         "mode": "lines",
         "showlegend": false,
         "type": "scatter",
         "x": [
          0,
          1
         ],
         "y": [
          1226,
          217
         ]
        },
        {
         "line": {
          "shape": "spline"
         },
         "mode": "lines",
         "showlegend": false,
         "type": "scatter",
         "x": [
          0,
          1
         ],
         "y": [
          707,
          913
         ]
        },
        {
         "line": {
          "shape": "spline"
         },
         "mode": "lines",
         "showlegend": false,
         "type": "scatter",
         "x": [
          0,
          1
         ],
         "y": [
          973,
          138
         ]
        },
        {
         "line": {
          "shape": "spline"
         },
         "mode": "lines",
         "showlegend": false,
         "type": "scatter",
         "x": [
          0,
          1
         ],
         "y": [
          128,
          760
         ]
        },
        {
         "line": {
          "shape": "spline"
         },
         "mode": "lines",
         "showlegend": false,
         "type": "scatter",
         "x": [
          0,
          1
         ],
         "y": [
          692,
          1110
         ]
        },
        {
         "line": {
          "shape": "spline"
         },
         "mode": "lines",
         "showlegend": false,
         "type": "scatter",
         "x": [
          0,
          1
         ],
         "y": [
          1112,
          1217
         ]
        },
        {
         "line": {
          "shape": "spline"
         },
         "mode": "lines",
         "showlegend": false,
         "type": "scatter",
         "x": [
          0,
          1
         ],
         "y": [
          1039,
          117
         ]
        },
        {
         "line": {
          "shape": "spline"
         },
         "mode": "lines",
         "showlegend": false,
         "type": "scatter",
         "x": [
          0,
          1
         ],
         "y": [
          1272,
          969
         ]
        },
        {
         "line": {
          "shape": "spline"
         },
         "mode": "lines",
         "showlegend": false,
         "type": "scatter",
         "x": [
          0,
          1
         ],
         "y": [
          1089,
          572
         ]
        },
        {
         "line": {
          "shape": "spline"
         },
         "mode": "lines",
         "showlegend": false,
         "type": "scatter",
         "x": [
          0,
          1
         ],
         "y": [
          197,
          1226
         ]
        },
        {
         "line": {
          "shape": "spline"
         },
         "mode": "lines",
         "showlegend": false,
         "type": "scatter",
         "x": [
          0,
          1
         ],
         "y": [
          1183,
          1120
         ]
        },
        {
         "line": {
          "shape": "spline"
         },
         "mode": "lines",
         "showlegend": false,
         "type": "scatter",
         "x": [
          0,
          1
         ],
         "y": [
          219,
          1145
         ]
        },
        {
         "line": {
          "shape": "spline"
         },
         "mode": "lines",
         "showlegend": false,
         "type": "scatter",
         "x": [
          0,
          1
         ],
         "y": [
          830,
          127
         ]
        },
        {
         "line": {
          "shape": "spline"
         },
         "mode": "lines",
         "showlegend": false,
         "type": "scatter",
         "x": [
          0,
          1
         ],
         "y": [
          897,
          390
         ]
        },
        {
         "line": {
          "shape": "spline"
         },
         "mode": "lines",
         "showlegend": false,
         "type": "scatter",
         "x": [
          0,
          1
         ],
         "y": [
          909,
          1086
         ]
        },
        {
         "line": {
          "shape": "spline"
         },
         "mode": "lines",
         "showlegend": false,
         "type": "scatter",
         "x": [
          0,
          1
         ],
         "y": [
          1221,
          54
         ]
        },
        {
         "line": {
          "shape": "spline"
         },
         "mode": "lines",
         "showlegend": false,
         "type": "scatter",
         "x": [
          0,
          1
         ],
         "y": [
          132,
          548
         ]
        },
        {
         "line": {
          "shape": "spline"
         },
         "mode": "lines",
         "showlegend": false,
         "type": "scatter",
         "x": [
          0,
          1
         ],
         "y": [
          540,
          325
         ]
        },
        {
         "line": {
          "shape": "spline"
         },
         "mode": "lines",
         "showlegend": false,
         "type": "scatter",
         "x": [
          0,
          1
         ],
         "y": [
          1042,
          166
         ]
        },
        {
         "line": {
          "shape": "spline"
         },
         "mode": "lines",
         "showlegend": false,
         "type": "scatter",
         "x": [
          0,
          1
         ],
         "y": [
          158,
          119
         ]
        },
        {
         "line": {
          "shape": "spline"
         },
         "mode": "lines",
         "showlegend": false,
         "type": "scatter",
         "x": [
          0,
          1
         ],
         "y": [
          1046,
          77
         ]
        },
        {
         "line": {
          "shape": "spline"
         },
         "mode": "lines",
         "showlegend": false,
         "type": "scatter",
         "x": [
          0,
          1
         ],
         "y": [
          512,
          1260
         ]
        },
        {
         "line": {
          "shape": "spline"
         },
         "mode": "lines",
         "showlegend": false,
         "type": "scatter",
         "x": [
          0,
          1
         ],
         "y": [
          616,
          393
         ]
        },
        {
         "line": {
          "shape": "spline"
         },
         "mode": "lines",
         "showlegend": false,
         "type": "scatter",
         "x": [
          0,
          1
         ],
         "y": [
          839,
          370
         ]
        },
        {
         "line": {
          "shape": "spline"
         },
         "mode": "lines",
         "showlegend": false,
         "type": "scatter",
         "x": [
          0,
          1
         ],
         "y": [
          1279,
          48
         ]
        },
        {
         "line": {
          "shape": "spline"
         },
         "mode": "lines",
         "showlegend": false,
         "type": "scatter",
         "x": [
          0,
          1
         ],
         "y": [
          534,
          61
         ]
        },
        {
         "line": {
          "shape": "spline"
         },
         "mode": "lines",
         "showlegend": false,
         "type": "scatter",
         "x": [
          0,
          1
         ],
         "y": [
          931,
          887
         ]
        },
        {
         "line": {
          "shape": "spline"
         },
         "mode": "lines",
         "showlegend": false,
         "type": "scatter",
         "x": [
          0,
          1
         ],
         "y": [
          951,
          722
         ]
        },
        {
         "line": {
          "shape": "spline"
         },
         "mode": "lines",
         "showlegend": false,
         "type": "scatter",
         "x": [
          0,
          1
         ],
         "y": [
          470,
          474
         ]
        },
        {
         "line": {
          "shape": "spline"
         },
         "mode": "lines",
         "showlegend": false,
         "type": "scatter",
         "x": [
          0,
          1
         ],
         "y": [
          387,
          267
         ]
        },
        {
         "line": {
          "shape": "spline"
         },
         "mode": "lines",
         "showlegend": false,
         "type": "scatter",
         "x": [
          0,
          1
         ],
         "y": [
          1183,
          1144
         ]
        },
        {
         "line": {
          "shape": "spline"
         },
         "mode": "lines",
         "showlegend": false,
         "type": "scatter",
         "x": [
          0,
          1
         ],
         "y": [
          1227,
          979
         ]
        },
        {
         "line": {
          "shape": "spline"
         },
         "mode": "lines",
         "showlegend": false,
         "type": "scatter",
         "x": [
          0,
          1
         ],
         "y": [
          60,
          78
         ]
        },
        {
         "line": {
          "shape": "spline"
         },
         "mode": "lines",
         "showlegend": false,
         "type": "scatter",
         "x": [
          0,
          1
         ],
         "y": [
          700,
          281
         ]
        },
        {
         "line": {
          "shape": "spline"
         },
         "mode": "lines",
         "showlegend": false,
         "type": "scatter",
         "x": [
          0,
          1
         ],
         "y": [
          638,
          495
         ]
        },
        {
         "line": {
          "shape": "spline"
         },
         "mode": "lines",
         "showlegend": false,
         "type": "scatter",
         "x": [
          0,
          1
         ],
         "y": [
          212,
          171
         ]
        },
        {
         "line": {
          "shape": "spline"
         },
         "mode": "lines",
         "showlegend": false,
         "type": "scatter",
         "x": [
          0,
          1
         ],
         "y": [
          48,
          952
         ]
        },
        {
         "line": {
          "shape": "spline"
         },
         "mode": "lines",
         "showlegend": false,
         "type": "scatter",
         "x": [
          0,
          1
         ],
         "y": [
          12,
          76
         ]
        },
        {
         "line": {
          "shape": "spline"
         },
         "mode": "lines",
         "showlegend": false,
         "type": "scatter",
         "x": [
          0,
          1
         ],
         "y": [
          550,
          1049
         ]
        },
        {
         "line": {
          "shape": "spline"
         },
         "mode": "lines",
         "showlegend": false,
         "type": "scatter",
         "x": [
          0,
          1
         ],
         "y": [
          839,
          652
         ]
        },
        {
         "line": {
          "shape": "spline"
         },
         "mode": "lines",
         "showlegend": false,
         "type": "scatter",
         "x": [
          0,
          1
         ],
         "y": [
          1199,
          383
         ]
        },
        {
         "line": {
          "shape": "spline"
         },
         "mode": "lines",
         "showlegend": false,
         "type": "scatter",
         "x": [
          0,
          1
         ],
         "y": [
          755,
          46
         ]
        },
        {
         "line": {
          "shape": "spline"
         },
         "mode": "lines",
         "showlegend": false,
         "type": "scatter",
         "x": [
          0,
          1
         ],
         "y": [
          952,
          685
         ]
        },
        {
         "line": {
          "shape": "spline"
         },
         "mode": "lines",
         "showlegend": false,
         "type": "scatter",
         "x": [
          0,
          1
         ],
         "y": [
          466,
          811
         ]
        },
        {
         "line": {
          "shape": "spline"
         },
         "mode": "lines",
         "showlegend": false,
         "type": "scatter",
         "x": [
          0,
          1
         ],
         "y": [
          703,
          979
         ]
        },
        {
         "line": {
          "shape": "spline"
         },
         "mode": "lines",
         "showlegend": false,
         "type": "scatter",
         "x": [
          0,
          1
         ],
         "y": [
          312,
          1189
         ]
        },
        {
         "line": {
          "shape": "spline"
         },
         "mode": "lines",
         "showlegend": false,
         "type": "scatter",
         "x": [
          0,
          1
         ],
         "y": [
          9,
          873
         ]
        },
        {
         "line": {
          "shape": "spline"
         },
         "mode": "lines",
         "showlegend": false,
         "type": "scatter",
         "x": [
          0,
          1
         ],
         "y": [
          120,
          731
         ]
        },
        {
         "line": {
          "shape": "spline"
         },
         "mode": "lines",
         "showlegend": false,
         "type": "scatter",
         "x": [
          0,
          1
         ],
         "y": [
          199,
          299
         ]
        },
        {
         "line": {
          "shape": "spline"
         },
         "mode": "lines",
         "showlegend": false,
         "type": "scatter",
         "x": [
          0,
          1
         ],
         "y": [
          1157,
          621
         ]
        },
        {
         "line": {
          "shape": "spline"
         },
         "mode": "lines",
         "showlegend": false,
         "type": "scatter",
         "x": [
          0,
          1
         ],
         "y": [
          29,
          854
         ]
        },
        {
         "line": {
          "shape": "spline"
         },
         "mode": "lines",
         "showlegend": false,
         "type": "scatter",
         "x": [
          0,
          1
         ],
         "y": [
          323,
          362
         ]
        },
        {
         "line": {
          "shape": "spline"
         },
         "mode": "lines",
         "showlegend": false,
         "type": "scatter",
         "x": [
          0,
          1
         ],
         "y": [
          368,
          375
         ]
        },
        {
         "line": {
          "shape": "spline"
         },
         "mode": "lines",
         "showlegend": false,
         "type": "scatter",
         "x": [
          0,
          1
         ],
         "y": [
          529,
          835
         ]
        },
        {
         "line": {
          "shape": "spline"
         },
         "mode": "lines",
         "showlegend": false,
         "type": "scatter",
         "x": [
          0,
          1
         ],
         "y": [
          1177,
          861
         ]
        },
        {
         "line": {
          "shape": "spline"
         },
         "mode": "lines",
         "showlegend": false,
         "type": "scatter",
         "x": [
          0,
          1
         ],
         "y": [
          2,
          26
         ]
        },
        {
         "line": {
          "shape": "spline"
         },
         "mode": "lines",
         "showlegend": false,
         "type": "scatter",
         "x": [
          0,
          1
         ],
         "y": [
          1156,
          507
         ]
        },
        {
         "line": {
          "shape": "spline"
         },
         "mode": "lines",
         "showlegend": false,
         "type": "scatter",
         "x": [
          0,
          1
         ],
         "y": [
          94,
          334
         ]
        },
        {
         "line": {
          "shape": "spline"
         },
         "mode": "lines",
         "showlegend": false,
         "type": "scatter",
         "x": [
          0,
          1
         ],
         "y": [
          412,
          209
         ]
        },
        {
         "line": {
          "shape": "spline"
         },
         "mode": "lines",
         "showlegend": false,
         "type": "scatter",
         "x": [
          0,
          1
         ],
         "y": [
          473,
          358
         ]
        },
        {
         "line": {
          "shape": "spline"
         },
         "mode": "lines",
         "showlegend": false,
         "type": "scatter",
         "x": [
          0,
          1
         ],
         "y": [
          245,
          1110
         ]
        },
        {
         "line": {
          "shape": "spline"
         },
         "mode": "lines",
         "showlegend": false,
         "type": "scatter",
         "x": [
          0,
          1
         ],
         "y": [
          484,
          719
         ]
        },
        {
         "line": {
          "shape": "spline"
         },
         "mode": "lines",
         "showlegend": false,
         "type": "scatter",
         "x": [
          0,
          1
         ],
         "y": [
          18,
          57
         ]
        },
        {
         "line": {
          "shape": "spline"
         },
         "mode": "lines",
         "showlegend": false,
         "type": "scatter",
         "x": [
          0,
          1
         ],
         "y": [
          360,
          862
         ]
        },
        {
         "line": {
          "shape": "spline"
         },
         "mode": "lines",
         "showlegend": false,
         "type": "scatter",
         "x": [
          0,
          1
         ],
         "y": [
          126,
          536
         ]
        },
        {
         "line": {
          "shape": "spline"
         },
         "mode": "lines",
         "showlegend": false,
         "type": "scatter",
         "x": [
          0,
          1
         ],
         "y": [
          1125,
          67
         ]
        },
        {
         "line": {
          "shape": "spline"
         },
         "mode": "lines",
         "showlegend": false,
         "type": "scatter",
         "x": [
          0,
          1
         ],
         "y": [
          42,
          583
         ]
        },
        {
         "line": {
          "shape": "spline"
         },
         "mode": "lines",
         "showlegend": false,
         "type": "scatter",
         "x": [
          0,
          1
         ],
         "y": [
          572,
          698
         ]
        },
        {
         "line": {
          "shape": "spline"
         },
         "mode": "lines",
         "showlegend": false,
         "type": "scatter",
         "x": [
          0,
          1
         ],
         "y": [
          1000,
          836
         ]
        },
        {
         "line": {
          "shape": "spline"
         },
         "mode": "lines",
         "showlegend": false,
         "type": "scatter",
         "x": [
          0,
          1
         ],
         "y": [
          931,
          71
         ]
        },
        {
         "line": {
          "shape": "spline"
         },
         "mode": "lines",
         "showlegend": false,
         "type": "scatter",
         "x": [
          0,
          1
         ],
         "y": [
          532,
          173
         ]
        },
        {
         "line": {
          "shape": "spline"
         },
         "mode": "lines",
         "showlegend": false,
         "type": "scatter",
         "x": [
          0,
          1
         ],
         "y": [
          103,
          588
         ]
        },
        {
         "line": {
          "shape": "spline"
         },
         "mode": "lines",
         "showlegend": false,
         "type": "scatter",
         "x": [
          0,
          1
         ],
         "y": [
          120,
          458
         ]
        },
        {
         "line": {
          "shape": "spline"
         },
         "mode": "lines",
         "showlegend": false,
         "type": "scatter",
         "x": [
          0,
          1
         ],
         "y": [
          260,
          1246
         ]
        },
        {
         "line": {
          "shape": "spline"
         },
         "mode": "lines",
         "showlegend": false,
         "type": "scatter",
         "x": [
          0,
          1
         ],
         "y": [
          751,
          586
         ]
        },
        {
         "line": {
          "shape": "spline"
         },
         "mode": "lines",
         "showlegend": false,
         "type": "scatter",
         "x": [
          0,
          1
         ],
         "y": [
          900,
          109
         ]
        },
        {
         "line": {
          "shape": "spline"
         },
         "mode": "lines",
         "showlegend": false,
         "type": "scatter",
         "x": [
          0,
          1
         ],
         "y": [
          603,
          117
         ]
        },
        {
         "line": {
          "shape": "spline"
         },
         "mode": "lines",
         "showlegend": false,
         "type": "scatter",
         "x": [
          0,
          1
         ],
         "y": [
          1198,
          1009
         ]
        },
        {
         "line": {
          "shape": "spline"
         },
         "mode": "lines",
         "showlegend": false,
         "type": "scatter",
         "x": [
          0,
          1
         ],
         "y": [
          782,
          215
         ]
        },
        {
         "line": {
          "shape": "spline"
         },
         "mode": "lines",
         "showlegend": false,
         "type": "scatter",
         "x": [
          0,
          1
         ],
         "y": [
          923,
          107
         ]
        },
        {
         "line": {
          "shape": "spline"
         },
         "mode": "lines",
         "showlegend": false,
         "type": "scatter",
         "x": [
          0,
          1
         ],
         "y": [
          464,
          41
         ]
        },
        {
         "line": {
          "shape": "spline"
         },
         "mode": "lines",
         "showlegend": false,
         "type": "scatter",
         "x": [
          0,
          1
         ],
         "y": [
          359,
          988
         ]
        },
        {
         "line": {
          "shape": "spline"
         },
         "mode": "lines",
         "showlegend": false,
         "type": "scatter",
         "x": [
          0,
          1
         ],
         "y": [
          1132,
          480
         ]
        },
        {
         "line": {
          "shape": "spline"
         },
         "mode": "lines",
         "showlegend": false,
         "type": "scatter",
         "x": [
          0,
          1
         ],
         "y": [
          1007,
          1226
         ]
        },
        {
         "line": {
          "shape": "spline"
         },
         "mode": "lines",
         "showlegend": false,
         "type": "scatter",
         "x": [
          0,
          1
         ],
         "y": [
          887,
          800
         ]
        },
        {
         "line": {
          "shape": "spline"
         },
         "mode": "lines",
         "showlegend": false,
         "type": "scatter",
         "x": [
          0,
          1
         ],
         "y": [
          506,
          452
         ]
        },
        {
         "line": {
          "shape": "spline"
         },
         "mode": "lines",
         "showlegend": false,
         "type": "scatter",
         "x": [
          0,
          1
         ],
         "y": [
          66,
          585
         ]
        },
        {
         "line": {
          "shape": "spline"
         },
         "mode": "lines",
         "showlegend": false,
         "type": "scatter",
         "x": [
          0,
          1
         ],
         "y": [
          1127,
          150
         ]
        },
        {
         "line": {
          "shape": "spline"
         },
         "mode": "lines",
         "showlegend": false,
         "type": "scatter",
         "x": [
          0,
          1
         ],
         "y": [
          549,
          865
         ]
        },
        {
         "line": {
          "shape": "spline"
         },
         "mode": "lines",
         "showlegend": false,
         "type": "scatter",
         "x": [
          0,
          1
         ],
         "y": [
          646,
          661
         ]
        },
        {
         "line": {
          "shape": "spline"
         },
         "mode": "lines",
         "showlegend": false,
         "type": "scatter",
         "x": [
          0,
          1
         ],
         "y": [
          1048,
          1061
         ]
        },
        {
         "line": {
          "shape": "spline"
         },
         "mode": "lines",
         "showlegend": false,
         "type": "scatter",
         "x": [
          0,
          1
         ],
         "y": [
          98,
          1257
         ]
        },
        {
         "line": {
          "shape": "spline"
         },
         "mode": "lines",
         "showlegend": false,
         "type": "scatter",
         "x": [
          0,
          1
         ],
         "y": [
          2,
          1007
         ]
        },
        {
         "line": {
          "shape": "spline"
         },
         "mode": "lines",
         "showlegend": false,
         "type": "scatter",
         "x": [
          0,
          1
         ],
         "y": [
          41,
          923
         ]
        },
        {
         "line": {
          "shape": "spline"
         },
         "mode": "lines",
         "showlegend": false,
         "type": "scatter",
         "x": [
          0,
          1
         ],
         "y": [
          421,
          198
         ]
        },
        {
         "line": {
          "shape": "spline"
         },
         "mode": "lines",
         "showlegend": false,
         "type": "scatter",
         "x": [
          0,
          1
         ],
         "y": [
          56,
          138
         ]
        },
        {
         "line": {
          "shape": "spline"
         },
         "mode": "lines",
         "showlegend": false,
         "type": "scatter",
         "x": [
          0,
          1
         ],
         "y": [
          860,
          504
         ]
        },
        {
         "line": {
          "shape": "spline"
         },
         "mode": "lines",
         "showlegend": false,
         "type": "scatter",
         "x": [
          0,
          1
         ],
         "y": [
          273,
          689
         ]
        },
        {
         "line": {
          "shape": "spline"
         },
         "mode": "lines",
         "showlegend": false,
         "type": "scatter",
         "x": [
          0,
          1
         ],
         "y": [
          382,
          128
         ]
        },
        {
         "line": {
          "shape": "spline"
         },
         "mode": "lines",
         "showlegend": false,
         "type": "scatter",
         "x": [
          0,
          1
         ],
         "y": [
          1259,
          895
         ]
        },
        {
         "line": {
          "shape": "spline"
         },
         "mode": "lines",
         "showlegend": false,
         "type": "scatter",
         "x": [
          0,
          1
         ],
         "y": [
          826,
          1259
         ]
        },
        {
         "line": {
          "shape": "spline"
         },
         "mode": "lines",
         "showlegend": false,
         "type": "scatter",
         "x": [
          0,
          1
         ],
         "y": [
          861,
          1102
         ]
        },
        {
         "line": {
          "shape": "spline"
         },
         "mode": "lines",
         "showlegend": false,
         "type": "scatter",
         "x": [
          0,
          1
         ],
         "y": [
          865,
          56
         ]
        },
        {
         "line": {
          "shape": "spline"
         },
         "mode": "lines",
         "showlegend": false,
         "type": "scatter",
         "x": [
          0,
          1
         ],
         "y": [
          1001,
          209
         ]
        },
        {
         "line": {
          "shape": "spline"
         },
         "mode": "lines",
         "showlegend": false,
         "type": "scatter",
         "x": [
          0,
          1
         ],
         "y": [
          6,
          483
         ]
        },
        {
         "line": {
          "shape": "spline"
         },
         "mode": "lines",
         "showlegend": false,
         "type": "scatter",
         "x": [
          0,
          1
         ],
         "y": [
          944,
          502
         ]
        },
        {
         "line": {
          "shape": "spline"
         },
         "mode": "lines",
         "showlegend": false,
         "type": "scatter",
         "x": [
          0,
          1
         ],
         "y": [
          1067,
          497
         ]
        },
        {
         "line": {
          "shape": "spline"
         },
         "mode": "lines",
         "showlegend": false,
         "type": "scatter",
         "x": [
          0,
          1
         ],
         "y": [
          1199,
          359
         ]
        },
        {
         "line": {
          "shape": "spline"
         },
         "mode": "lines",
         "showlegend": false,
         "type": "scatter",
         "x": [
          0,
          1
         ],
         "y": [
          738,
          12
         ]
        },
        {
         "line": {
          "shape": "spline"
         },
         "mode": "lines",
         "showlegend": false,
         "type": "scatter",
         "x": [
          0,
          1
         ],
         "y": [
          694,
          256
         ]
        },
        {
         "line": {
          "shape": "spline"
         },
         "mode": "lines",
         "showlegend": false,
         "type": "scatter",
         "x": [
          0,
          1
         ],
         "y": [
          1185,
          345
         ]
        },
        {
         "line": {
          "shape": "spline"
         },
         "mode": "lines",
         "showlegend": false,
         "type": "scatter",
         "x": [
          0,
          1
         ],
         "y": [
          677,
          1239
         ]
        },
        {
         "line": {
          "shape": "spline"
         },
         "mode": "lines",
         "showlegend": false,
         "type": "scatter",
         "x": [
          0,
          1
         ],
         "y": [
          946,
          69
         ]
        },
        {
         "line": {
          "shape": "spline"
         },
         "mode": "lines",
         "showlegend": false,
         "type": "scatter",
         "x": [
          0,
          1
         ],
         "y": [
          1118,
          805
         ]
        },
        {
         "line": {
          "shape": "spline"
         },
         "mode": "lines",
         "showlegend": false,
         "type": "scatter",
         "x": [
          0,
          1
         ],
         "y": [
          554,
          717
         ]
        },
        {
         "line": {
          "shape": "spline"
         },
         "mode": "lines",
         "showlegend": false,
         "type": "scatter",
         "x": [
          0,
          1
         ],
         "y": [
          724,
          188
         ]
        },
        {
         "line": {
          "shape": "spline"
         },
         "mode": "lines",
         "showlegend": false,
         "type": "scatter",
         "x": [
          0,
          1
         ],
         "y": [
          447,
          864
         ]
        },
        {
         "line": {
          "shape": "spline"
         },
         "mode": "lines",
         "showlegend": false,
         "type": "scatter",
         "x": [
          0,
          1
         ],
         "y": [
          462,
          1224
         ]
        },
        {
         "line": {
          "shape": "spline"
         },
         "mode": "lines",
         "showlegend": false,
         "type": "scatter",
         "x": [
          0,
          1
         ],
         "y": [
          251,
          300
         ]
        },
        {
         "line": {
          "shape": "spline"
         },
         "mode": "lines",
         "showlegend": false,
         "type": "scatter",
         "x": [
          0,
          1
         ],
         "y": [
          164,
          594
         ]
        },
        {
         "line": {
          "shape": "spline"
         },
         "mode": "lines",
         "showlegend": false,
         "type": "scatter",
         "x": [
          0,
          1
         ],
         "y": [
          820,
          1261
         ]
        },
        {
         "line": {
          "shape": "spline"
         },
         "mode": "lines",
         "showlegend": false,
         "type": "scatter",
         "x": [
          0,
          1
         ],
         "y": [
          1103,
          220
         ]
        },
        {
         "line": {
          "shape": "spline"
         },
         "mode": "lines",
         "showlegend": false,
         "type": "scatter",
         "x": [
          0,
          1
         ],
         "y": [
          277,
          939
         ]
        },
        {
         "line": {
          "shape": "spline"
         },
         "mode": "lines",
         "showlegend": false,
         "type": "scatter",
         "x": [
          0,
          1
         ],
         "y": [
          1060,
          862
         ]
        },
        {
         "line": {
          "shape": "spline"
         },
         "mode": "lines",
         "showlegend": false,
         "type": "scatter",
         "x": [
          0,
          1
         ],
         "y": [
          887,
          128
         ]
        },
        {
         "line": {
          "shape": "spline"
         },
         "mode": "lines",
         "showlegend": false,
         "type": "scatter",
         "x": [
          0,
          1
         ],
         "y": [
          1037,
          1012
         ]
        },
        {
         "line": {
          "shape": "spline"
         },
         "mode": "lines",
         "showlegend": false,
         "type": "scatter",
         "x": [
          0,
          1
         ],
         "y": [
          1148,
          402
         ]
        },
        {
         "line": {
          "shape": "spline"
         },
         "mode": "lines",
         "showlegend": false,
         "type": "scatter",
         "x": [
          0,
          1
         ],
         "y": [
          350,
          1036
         ]
        },
        {
         "line": {
          "shape": "spline"
         },
         "mode": "lines",
         "showlegend": false,
         "type": "scatter",
         "x": [
          0,
          1
         ],
         "y": [
          1237,
          991
         ]
        },
        {
         "line": {
          "shape": "spline"
         },
         "mode": "lines",
         "showlegend": false,
         "type": "scatter",
         "x": [
          0,
          1
         ],
         "y": [
          242,
          270
         ]
        },
        {
         "line": {
          "shape": "spline"
         },
         "mode": "lines",
         "showlegend": false,
         "type": "scatter",
         "x": [
          0,
          1
         ],
         "y": [
          675,
          331
         ]
        },
        {
         "line": {
          "shape": "spline"
         },
         "mode": "lines",
         "showlegend": false,
         "type": "scatter",
         "x": [
          0,
          1
         ],
         "y": [
          723,
          639
         ]
        },
        {
         "line": {
          "shape": "spline"
         },
         "mode": "lines",
         "showlegend": false,
         "type": "scatter",
         "x": [
          0,
          1
         ],
         "y": [
          1253,
          928
         ]
        },
        {
         "line": {
          "shape": "spline"
         },
         "mode": "lines",
         "showlegend": false,
         "type": "scatter",
         "x": [
          0,
          1
         ],
         "y": [
          826,
          664
         ]
        },
        {
         "line": {
          "shape": "spline"
         },
         "mode": "lines",
         "showlegend": false,
         "type": "scatter",
         "x": [
          0,
          1
         ],
         "y": [
          547,
          797
         ]
        },
        {
         "line": {
          "shape": "spline"
         },
         "mode": "lines",
         "showlegend": false,
         "type": "scatter",
         "x": [
          0,
          1
         ],
         "y": [
          1085,
          487
         ]
        },
        {
         "line": {
          "shape": "spline"
         },
         "mode": "lines",
         "showlegend": false,
         "type": "scatter",
         "x": [
          0,
          1
         ],
         "y": [
          676,
          595
         ]
        },
        {
         "line": {
          "shape": "spline"
         },
         "mode": "lines",
         "showlegend": false,
         "type": "scatter",
         "x": [
          0,
          1
         ],
         "y": [
          155,
          311
         ]
        },
        {
         "line": {
          "shape": "spline"
         },
         "mode": "lines",
         "showlegend": false,
         "type": "scatter",
         "x": [
          0,
          1
         ],
         "y": [
          1042,
          967
         ]
        },
        {
         "line": {
          "shape": "spline"
         },
         "mode": "lines",
         "showlegend": false,
         "type": "scatter",
         "x": [
          0,
          1
         ],
         "y": [
          281,
          1052
         ]
        },
        {
         "line": {
          "shape": "spline"
         },
         "mode": "lines",
         "showlegend": false,
         "type": "scatter",
         "x": [
          0,
          1
         ],
         "y": [
          969,
          947
         ]
        },
        {
         "line": {
          "shape": "spline"
         },
         "mode": "lines",
         "showlegend": false,
         "type": "scatter",
         "x": [
          0,
          1
         ],
         "y": [
          820,
          1221
         ]
        },
        {
         "line": {
          "shape": "spline"
         },
         "mode": "lines",
         "showlegend": false,
         "type": "scatter",
         "x": [
          0,
          1
         ],
         "y": [
          963,
          8
         ]
        },
        {
         "line": {
          "shape": "spline"
         },
         "mode": "lines",
         "showlegend": false,
         "type": "scatter",
         "x": [
          0,
          1
         ],
         "y": [
          966,
          785
         ]
        },
        {
         "line": {
          "shape": "spline"
         },
         "mode": "lines",
         "showlegend": false,
         "type": "scatter",
         "x": [
          0,
          1
         ],
         "y": [
          933,
          1052
         ]
        },
        {
         "line": {
          "shape": "spline"
         },
         "mode": "lines",
         "showlegend": false,
         "type": "scatter",
         "x": [
          0,
          1
         ],
         "y": [
          2,
          803
         ]
        },
        {
         "line": {
          "shape": "spline"
         },
         "mode": "lines",
         "showlegend": false,
         "type": "scatter",
         "x": [
          0,
          1
         ],
         "y": [
          558,
          53
         ]
        },
        {
         "line": {
          "shape": "spline"
         },
         "mode": "lines",
         "showlegend": false,
         "type": "scatter",
         "x": [
          0,
          1
         ],
         "y": [
          108,
          806
         ]
        },
        {
         "line": {
          "shape": "spline"
         },
         "mode": "lines",
         "showlegend": false,
         "type": "scatter",
         "x": [
          0,
          1
         ],
         "y": [
          921,
          423
         ]
        },
        {
         "line": {
          "shape": "spline"
         },
         "mode": "lines",
         "showlegend": false,
         "type": "scatter",
         "x": [
          0,
          1
         ],
         "y": [
          371,
          996
         ]
        },
        {
         "line": {
          "shape": "spline"
         },
         "mode": "lines",
         "showlegend": false,
         "type": "scatter",
         "x": [
          0,
          1
         ],
         "y": [
          927,
          1129
         ]
        },
        {
         "line": {
          "shape": "spline"
         },
         "mode": "lines",
         "showlegend": false,
         "type": "scatter",
         "x": [
          0,
          1
         ],
         "y": [
          1091,
          5
         ]
        },
        {
         "line": {
          "shape": "spline"
         },
         "mode": "lines",
         "showlegend": false,
         "type": "scatter",
         "x": [
          0,
          1
         ],
         "y": [
          944,
          74
         ]
        },
        {
         "line": {
          "shape": "spline"
         },
         "mode": "lines",
         "showlegend": false,
         "type": "scatter",
         "x": [
          0,
          1
         ],
         "y": [
          116,
          989
         ]
        },
        {
         "line": {
          "shape": "spline"
         },
         "mode": "lines",
         "showlegend": false,
         "type": "scatter",
         "x": [
          0,
          1
         ],
         "y": [
          1140,
          36
         ]
        },
        {
         "line": {
          "shape": "spline"
         },
         "mode": "lines",
         "showlegend": false,
         "type": "scatter",
         "x": [
          0,
          1
         ],
         "y": [
          990,
          406
         ]
        },
        {
         "line": {
          "shape": "spline"
         },
         "mode": "lines",
         "showlegend": false,
         "type": "scatter",
         "x": [
          0,
          1
         ],
         "y": [
          704,
          1115
         ]
        },
        {
         "line": {
          "shape": "spline"
         },
         "mode": "lines",
         "showlegend": false,
         "type": "scatter",
         "x": [
          0,
          1
         ],
         "y": [
          1164,
          1005
         ]
        },
        {
         "line": {
          "shape": "spline"
         },
         "mode": "lines",
         "showlegend": false,
         "type": "scatter",
         "x": [
          0,
          1
         ],
         "y": [
          27,
          35
         ]
        },
        {
         "line": {
          "shape": "spline"
         },
         "mode": "lines",
         "showlegend": false,
         "type": "scatter",
         "x": [
          0,
          1
         ],
         "y": [
          1264,
          426
         ]
        },
        {
         "line": {
          "shape": "spline"
         },
         "mode": "lines",
         "showlegend": false,
         "type": "scatter",
         "x": [
          0,
          1
         ],
         "y": [
          321,
          872
         ]
        },
        {
         "line": {
          "shape": "spline"
         },
         "mode": "lines",
         "showlegend": false,
         "type": "scatter",
         "x": [
          0,
          1
         ],
         "y": [
          1138,
          1048
         ]
        },
        {
         "line": {
          "shape": "spline"
         },
         "mode": "lines",
         "showlegend": false,
         "type": "scatter",
         "x": [
          0,
          1
         ],
         "y": [
          1087,
          1272
         ]
        },
        {
         "line": {
          "shape": "spline"
         },
         "mode": "lines",
         "showlegend": false,
         "type": "scatter",
         "x": [
          0,
          1
         ],
         "y": [
          669,
          737
         ]
        },
        {
         "line": {
          "shape": "spline"
         },
         "mode": "lines",
         "showlegend": false,
         "type": "scatter",
         "x": [
          0,
          1
         ],
         "y": [
          143,
          1141
         ]
        },
        {
         "line": {
          "shape": "spline"
         },
         "mode": "lines",
         "showlegend": false,
         "type": "scatter",
         "x": [
          0,
          1
         ],
         "y": [
          618,
          62
         ]
        },
        {
         "line": {
          "shape": "spline"
         },
         "mode": "lines",
         "showlegend": false,
         "type": "scatter",
         "x": [
          0,
          1
         ],
         "y": [
          695,
          432
         ]
        },
        {
         "line": {
          "shape": "spline"
         },
         "mode": "lines",
         "showlegend": false,
         "type": "scatter",
         "x": [
          0,
          1
         ],
         "y": [
          906,
          813
         ]
        },
        {
         "line": {
          "shape": "spline"
         },
         "mode": "lines",
         "showlegend": false,
         "type": "scatter",
         "x": [
          0,
          1
         ],
         "y": [
          231,
          167
         ]
        },
        {
         "line": {
          "shape": "spline"
         },
         "mode": "lines",
         "showlegend": false,
         "type": "scatter",
         "x": [
          0,
          1
         ],
         "y": [
          863,
          640
         ]
        },
        {
         "line": {
          "shape": "spline"
         },
         "mode": "lines",
         "showlegend": false,
         "type": "scatter",
         "x": [
          0,
          1
         ],
         "y": [
          41,
          743
         ]
        },
        {
         "line": {
          "shape": "spline"
         },
         "mode": "lines",
         "showlegend": false,
         "type": "scatter",
         "x": [
          0,
          1
         ],
         "y": [
          62,
          726
         ]
        },
        {
         "line": {
          "shape": "spline"
         },
         "mode": "lines",
         "showlegend": false,
         "type": "scatter",
         "x": [
          0,
          1
         ],
         "y": [
          515,
          1110
         ]
        },
        {
         "line": {
          "shape": "spline"
         },
         "mode": "lines",
         "showlegend": false,
         "type": "scatter",
         "x": [
          0,
          1
         ],
         "y": [
          710,
          514
         ]
        },
        {
         "line": {
          "shape": "spline"
         },
         "mode": "lines",
         "showlegend": false,
         "type": "scatter",
         "x": [
          0,
          1
         ],
         "y": [
          480,
          527
         ]
        },
        {
         "line": {
          "shape": "spline"
         },
         "mode": "lines",
         "showlegend": false,
         "type": "scatter",
         "x": [
          0,
          1
         ],
         "y": [
          1080,
          1184
         ]
        },
        {
         "line": {
          "shape": "spline"
         },
         "mode": "lines",
         "showlegend": false,
         "type": "scatter",
         "x": [
          0,
          1
         ],
         "y": [
          753,
          42
         ]
        },
        {
         "line": {
          "shape": "spline"
         },
         "mode": "lines",
         "showlegend": false,
         "type": "scatter",
         "x": [
          0,
          1
         ],
         "y": [
          530,
          1221
         ]
        },
        {
         "line": {
          "shape": "spline"
         },
         "mode": "lines",
         "showlegend": false,
         "type": "scatter",
         "x": [
          0,
          1
         ],
         "y": [
          1210,
          25
         ]
        },
        {
         "line": {
          "shape": "spline"
         },
         "mode": "lines",
         "showlegend": false,
         "type": "scatter",
         "x": [
          0,
          1
         ],
         "y": [
          1226,
          768
         ]
        },
        {
         "line": {
          "shape": "spline"
         },
         "mode": "lines",
         "showlegend": false,
         "type": "scatter",
         "x": [
          0,
          1
         ],
         "y": [
          738,
          589
         ]
        },
        {
         "line": {
          "shape": "spline"
         },
         "mode": "lines",
         "showlegend": false,
         "type": "scatter",
         "x": [
          0,
          1
         ],
         "y": [
          646,
          1241
         ]
        },
        {
         "line": {
          "shape": "spline"
         },
         "mode": "lines",
         "showlegend": false,
         "type": "scatter",
         "x": [
          0,
          1
         ],
         "y": [
          1041,
          1116
         ]
        },
        {
         "line": {
          "shape": "spline"
         },
         "mode": "lines",
         "showlegend": false,
         "type": "scatter",
         "x": [
          0,
          1
         ],
         "y": [
          789,
          1178
         ]
        },
        {
         "line": {
          "shape": "spline"
         },
         "mode": "lines",
         "showlegend": false,
         "type": "scatter",
         "x": [
          0,
          1
         ],
         "y": [
          936,
          276
         ]
        },
        {
         "line": {
          "shape": "spline"
         },
         "mode": "lines",
         "showlegend": false,
         "type": "scatter",
         "x": [
          0,
          1
         ],
         "y": [
          312,
          788
         ]
        },
        {
         "line": {
          "shape": "spline"
         },
         "mode": "lines",
         "showlegend": false,
         "type": "scatter",
         "x": [
          0,
          1
         ],
         "y": [
          727,
          943
         ]
        },
        {
         "line": {
          "shape": "spline"
         },
         "mode": "lines",
         "showlegend": false,
         "type": "scatter",
         "x": [
          0,
          1
         ],
         "y": [
          686,
          1048
         ]
        },
        {
         "line": {
          "shape": "spline"
         },
         "mode": "lines",
         "showlegend": false,
         "type": "scatter",
         "x": [
          0,
          1
         ],
         "y": [
          864,
          733
         ]
        },
        {
         "line": {
          "shape": "spline"
         },
         "mode": "lines",
         "showlegend": false,
         "type": "scatter",
         "x": [
          0,
          1
         ],
         "y": [
          277,
          63
         ]
        },
        {
         "line": {
          "shape": "spline"
         },
         "mode": "lines",
         "showlegend": false,
         "type": "scatter",
         "x": [
          0,
          1
         ],
         "y": [
          262,
          158
         ]
        },
        {
         "line": {
          "shape": "spline"
         },
         "mode": "lines",
         "showlegend": false,
         "type": "scatter",
         "x": [
          0,
          1
         ],
         "y": [
          602,
          1237
         ]
        },
        {
         "line": {
          "shape": "spline"
         },
         "mode": "lines",
         "showlegend": false,
         "type": "scatter",
         "x": [
          0,
          1
         ],
         "y": [
          1019,
          1152
         ]
        },
        {
         "line": {
          "shape": "spline"
         },
         "mode": "lines",
         "showlegend": false,
         "type": "scatter",
         "x": [
          0,
          1
         ],
         "y": [
          894,
          797
         ]
        },
        {
         "line": {
          "shape": "spline"
         },
         "mode": "lines",
         "showlegend": false,
         "type": "scatter",
         "x": [
          0,
          1
         ],
         "y": [
          16,
          161
         ]
        },
        {
         "line": {
          "shape": "spline"
         },
         "mode": "lines",
         "showlegend": false,
         "type": "scatter",
         "x": [
          0,
          1
         ],
         "y": [
          795,
          1243
         ]
        },
        {
         "line": {
          "shape": "spline"
         },
         "mode": "lines",
         "showlegend": false,
         "type": "scatter",
         "x": [
          0,
          1
         ],
         "y": [
          929,
          683
         ]
        },
        {
         "line": {
          "shape": "spline"
         },
         "mode": "lines",
         "showlegend": false,
         "type": "scatter",
         "x": [
          0,
          1
         ],
         "y": [
          970,
          1108
         ]
        },
        {
         "line": {
          "shape": "spline"
         },
         "mode": "lines",
         "showlegend": false,
         "type": "scatter",
         "x": [
          0,
          1
         ],
         "y": [
          752,
          841
         ]
        },
        {
         "line": {
          "shape": "spline"
         },
         "mode": "lines",
         "showlegend": false,
         "type": "scatter",
         "x": [
          0,
          1
         ],
         "y": [
          992,
          1148
         ]
        },
        {
         "line": {
          "shape": "spline"
         },
         "mode": "lines",
         "showlegend": false,
         "type": "scatter",
         "x": [
          0,
          1
         ],
         "y": [
          218,
          1025
         ]
        },
        {
         "line": {
          "shape": "spline"
         },
         "mode": "lines",
         "showlegend": false,
         "type": "scatter",
         "x": [
          0,
          1
         ],
         "y": [
          650,
          1135
         ]
        },
        {
         "line": {
          "shape": "spline"
         },
         "mode": "lines",
         "showlegend": false,
         "type": "scatter",
         "x": [
          0,
          1
         ],
         "y": [
          317,
          715
         ]
        },
        {
         "line": {
          "shape": "spline"
         },
         "mode": "lines",
         "showlegend": false,
         "type": "scatter",
         "x": [
          0,
          1
         ],
         "y": [
          930,
          477
         ]
        },
        {
         "line": {
          "shape": "spline"
         },
         "mode": "lines",
         "showlegend": false,
         "type": "scatter",
         "x": [
          0,
          1
         ],
         "y": [
          500,
          792
         ]
        },
        {
         "line": {
          "shape": "spline"
         },
         "mode": "lines",
         "showlegend": false,
         "type": "scatter",
         "x": [
          0,
          1
         ],
         "y": [
          62,
          525
         ]
        },
        {
         "line": {
          "shape": "spline"
         },
         "mode": "lines",
         "showlegend": false,
         "type": "scatter",
         "x": [
          0,
          1
         ],
         "y": [
          1137,
          309
         ]
        },
        {
         "line": {
          "shape": "spline"
         },
         "mode": "lines",
         "showlegend": false,
         "type": "scatter",
         "x": [
          0,
          1
         ],
         "y": [
          152,
          88
         ]
        },
        {
         "line": {
          "shape": "spline"
         },
         "mode": "lines",
         "showlegend": false,
         "type": "scatter",
         "x": [
          0,
          1
         ],
         "y": [
          1218,
          1266
         ]
        },
        {
         "line": {
          "shape": "spline"
         },
         "mode": "lines",
         "showlegend": false,
         "type": "scatter",
         "x": [
          0,
          1
         ],
         "y": [
          1119,
          311
         ]
        },
        {
         "line": {
          "shape": "spline"
         },
         "mode": "lines",
         "showlegend": false,
         "type": "scatter",
         "x": [
          0,
          1
         ],
         "y": [
          996,
          726
         ]
        },
        {
         "line": {
          "shape": "spline"
         },
         "mode": "lines",
         "showlegend": false,
         "type": "scatter",
         "x": [
          0,
          1
         ],
         "y": [
          696,
          274
         ]
        },
        {
         "line": {
          "shape": "spline"
         },
         "mode": "lines",
         "showlegend": false,
         "type": "scatter",
         "x": [
          0,
          1
         ],
         "y": [
          872,
          763
         ]
        },
        {
         "line": {
          "shape": "spline"
         },
         "mode": "lines",
         "showlegend": false,
         "type": "scatter",
         "x": [
          0,
          1
         ],
         "y": [
          628,
          1202
         ]
        },
        {
         "line": {
          "shape": "spline"
         },
         "mode": "lines",
         "showlegend": false,
         "type": "scatter",
         "x": [
          0,
          1
         ],
         "y": [
          247,
          471
         ]
        },
        {
         "line": {
          "shape": "spline"
         },
         "mode": "lines",
         "showlegend": false,
         "type": "scatter",
         "x": [
          0,
          1
         ],
         "y": [
          7,
          272
         ]
        },
        {
         "line": {
          "shape": "spline"
         },
         "mode": "lines",
         "showlegend": false,
         "type": "scatter",
         "x": [
          0,
          1
         ],
         "y": [
          737,
          824
         ]
        },
        {
         "line": {
          "shape": "spline"
         },
         "mode": "lines",
         "showlegend": false,
         "type": "scatter",
         "x": [
          0,
          1
         ],
         "y": [
          662,
          868
         ]
        },
        {
         "line": {
          "shape": "spline"
         },
         "mode": "lines",
         "showlegend": false,
         "type": "scatter",
         "x": [
          0,
          1
         ],
         "y": [
          998,
          617
         ]
        },
        {
         "line": {
          "shape": "spline"
         },
         "mode": "lines",
         "showlegend": false,
         "type": "scatter",
         "x": [
          0,
          1
         ],
         "y": [
          381,
          261
         ]
        },
        {
         "line": {
          "shape": "spline"
         },
         "mode": "lines",
         "showlegend": false,
         "type": "scatter",
         "x": [
          0,
          1
         ],
         "y": [
          350,
          13
         ]
        },
        {
         "line": {
          "shape": "spline"
         },
         "mode": "lines",
         "showlegend": false,
         "type": "scatter",
         "x": [
          0,
          1
         ],
         "y": [
          582,
          570
         ]
        },
        {
         "line": {
          "shape": "spline"
         },
         "mode": "lines",
         "showlegend": false,
         "type": "scatter",
         "x": [
          0,
          1
         ],
         "y": [
          1006,
          1274
         ]
        },
        {
         "line": {
          "shape": "spline"
         },
         "mode": "lines",
         "showlegend": false,
         "type": "scatter",
         "x": [
          0,
          1
         ],
         "y": [
          568,
          690
         ]
        },
        {
         "line": {
          "shape": "spline"
         },
         "mode": "lines",
         "showlegend": false,
         "type": "scatter",
         "x": [
          0,
          1
         ],
         "y": [
          142,
          716
         ]
        },
        {
         "line": {
          "shape": "spline"
         },
         "mode": "lines",
         "showlegend": false,
         "type": "scatter",
         "x": [
          0,
          1
         ],
         "y": [
          951,
          217
         ]
        },
        {
         "line": {
          "shape": "spline"
         },
         "mode": "lines",
         "showlegend": false,
         "type": "scatter",
         "x": [
          0,
          1
         ],
         "y": [
          402,
          484
         ]
        },
        {
         "line": {
          "shape": "spline"
         },
         "mode": "lines",
         "showlegend": false,
         "type": "scatter",
         "x": [
          0,
          1
         ],
         "y": [
          360,
          1078
         ]
        },
        {
         "line": {
          "shape": "spline"
         },
         "mode": "lines",
         "showlegend": false,
         "type": "scatter",
         "x": [
          0,
          1
         ],
         "y": [
          1129,
          163
         ]
        },
        {
         "line": {
          "shape": "spline"
         },
         "mode": "lines",
         "showlegend": false,
         "type": "scatter",
         "x": [
          0,
          1
         ],
         "y": [
          1008,
          498
         ]
        },
        {
         "line": {
          "shape": "spline"
         },
         "mode": "lines",
         "showlegend": false,
         "type": "scatter",
         "x": [
          0,
          1
         ],
         "y": [
          699,
          402
         ]
        },
        {
         "line": {
          "shape": "spline"
         },
         "mode": "lines",
         "showlegend": false,
         "type": "scatter",
         "x": [
          0,
          1
         ],
         "y": [
          1053,
          501
         ]
        },
        {
         "line": {
          "shape": "spline"
         },
         "mode": "lines",
         "showlegend": false,
         "type": "scatter",
         "x": [
          0,
          1
         ],
         "y": [
          1085,
          1134
         ]
        },
        {
         "line": {
          "shape": "spline"
         },
         "mode": "lines",
         "showlegend": false,
         "type": "scatter",
         "x": [
          0,
          1
         ],
         "y": [
          996,
          961
         ]
        },
        {
         "line": {
          "shape": "spline"
         },
         "mode": "lines",
         "showlegend": false,
         "type": "scatter",
         "x": [
          0,
          1
         ],
         "y": [
          199,
          790
         ]
        },
        {
         "line": {
          "shape": "spline"
         },
         "mode": "lines",
         "showlegend": false,
         "type": "scatter",
         "x": [
          0,
          1
         ],
         "y": [
          555,
          741
         ]
        },
        {
         "line": {
          "shape": "spline"
         },
         "mode": "lines",
         "showlegend": false,
         "type": "scatter",
         "x": [
          0,
          1
         ],
         "y": [
          600,
          504
         ]
        },
        {
         "line": {
          "shape": "spline"
         },
         "mode": "lines",
         "showlegend": false,
         "type": "scatter",
         "x": [
          0,
          1
         ],
         "y": [
          861,
          1269
         ]
        },
        {
         "line": {
          "shape": "spline"
         },
         "mode": "lines",
         "showlegend": false,
         "type": "scatter",
         "x": [
          0,
          1
         ],
         "y": [
          1116,
          830
         ]
        },
        {
         "line": {
          "shape": "spline"
         },
         "mode": "lines",
         "showlegend": false,
         "type": "scatter",
         "x": [
          0,
          1
         ],
         "y": [
          481,
          281
         ]
        },
        {
         "line": {
          "shape": "spline"
         },
         "mode": "lines",
         "showlegend": false,
         "type": "scatter",
         "x": [
          0,
          1
         ],
         "y": [
          1045,
          1231
         ]
        },
        {
         "line": {
          "shape": "spline"
         },
         "mode": "lines",
         "showlegend": false,
         "type": "scatter",
         "x": [
          0,
          1
         ],
         "y": [
          746,
          1076
         ]
        },
        {
         "line": {
          "shape": "spline"
         },
         "mode": "lines",
         "showlegend": false,
         "type": "scatter",
         "x": [
          0,
          1
         ],
         "y": [
          471,
          1105
         ]
        },
        {
         "line": {
          "shape": "spline"
         },
         "mode": "lines",
         "showlegend": false,
         "type": "scatter",
         "x": [
          0,
          1
         ],
         "y": [
          653,
          931
         ]
        },
        {
         "line": {
          "shape": "spline"
         },
         "mode": "lines",
         "showlegend": false,
         "type": "scatter",
         "x": [
          0,
          1
         ],
         "y": [
          984,
          593
         ]
        },
        {
         "line": {
          "shape": "spline"
         },
         "mode": "lines",
         "showlegend": false,
         "type": "scatter",
         "x": [
          0,
          1
         ],
         "y": [
          1110,
          781
         ]
        },
        {
         "line": {
          "shape": "spline"
         },
         "mode": "lines",
         "showlegend": false,
         "type": "scatter",
         "x": [
          0,
          1
         ],
         "y": [
          1267,
          866
         ]
        },
        {
         "line": {
          "shape": "spline"
         },
         "mode": "lines",
         "showlegend": false,
         "type": "scatter",
         "x": [
          0,
          1
         ],
         "y": [
          463,
          679
         ]
        },
        {
         "line": {
          "shape": "spline"
         },
         "mode": "lines",
         "showlegend": false,
         "type": "scatter",
         "x": [
          0,
          1
         ],
         "y": [
          968,
          1180
         ]
        },
        {
         "line": {
          "shape": "spline"
         },
         "mode": "lines",
         "showlegend": false,
         "type": "scatter",
         "x": [
          0,
          1
         ],
         "y": [
          785,
          595
         ]
        },
        {
         "line": {
          "shape": "spline"
         },
         "mode": "lines",
         "showlegend": false,
         "type": "scatter",
         "x": [
          0,
          1
         ],
         "y": [
          740,
          111
         ]
        },
        {
         "line": {
          "shape": "spline"
         },
         "mode": "lines",
         "showlegend": false,
         "type": "scatter",
         "x": [
          0,
          1
         ],
         "y": [
          599,
          609
         ]
        },
        {
         "line": {
          "shape": "spline"
         },
         "mode": "lines",
         "showlegend": false,
         "type": "scatter",
         "x": [
          0,
          1
         ],
         "y": [
          658,
          923
         ]
        },
        {
         "line": {
          "shape": "spline"
         },
         "mode": "lines",
         "showlegend": false,
         "type": "scatter",
         "x": [
          0,
          1
         ],
         "y": [
          239,
          931
         ]
        },
        {
         "line": {
          "shape": "spline"
         },
         "mode": "lines",
         "showlegend": false,
         "type": "scatter",
         "x": [
          0,
          1
         ],
         "y": [
          1041,
          1136
         ]
        },
        {
         "line": {
          "shape": "spline"
         },
         "mode": "lines",
         "showlegend": false,
         "type": "scatter",
         "x": [
          0,
          1
         ],
         "y": [
          1278,
          373
         ]
        },
        {
         "line": {
          "shape": "spline"
         },
         "mode": "lines",
         "showlegend": false,
         "type": "scatter",
         "x": [
          0,
          1
         ],
         "y": [
          1124,
          448
         ]
        },
        {
         "line": {
          "shape": "spline"
         },
         "mode": "lines",
         "showlegend": false,
         "type": "scatter",
         "x": [
          0,
          1
         ],
         "y": [
          223,
          695
         ]
        },
        {
         "line": {
          "shape": "spline"
         },
         "mode": "lines",
         "showlegend": false,
         "type": "scatter",
         "x": [
          0,
          1
         ],
         "y": [
          362,
          790
         ]
        },
        {
         "line": {
          "shape": "spline"
         },
         "mode": "lines",
         "showlegend": false,
         "type": "scatter",
         "x": [
          0,
          1
         ],
         "y": [
          269,
          711
         ]
        },
        {
         "line": {
          "shape": "spline"
         },
         "mode": "lines",
         "showlegend": false,
         "type": "scatter",
         "x": [
          0,
          1
         ],
         "y": [
          289,
          1258
         ]
        },
        {
         "line": {
          "shape": "spline"
         },
         "mode": "lines",
         "showlegend": false,
         "type": "scatter",
         "x": [
          0,
          1
         ],
         "y": [
          703,
          645
         ]
        },
        {
         "line": {
          "shape": "spline"
         },
         "mode": "lines",
         "showlegend": false,
         "type": "scatter",
         "x": [
          0,
          1
         ],
         "y": [
          959,
          868
         ]
        },
        {
         "line": {
          "shape": "spline"
         },
         "mode": "lines",
         "showlegend": false,
         "type": "scatter",
         "x": [
          0,
          1
         ],
         "y": [
          335,
          284
         ]
        },
        {
         "line": {
          "shape": "spline"
         },
         "mode": "lines",
         "showlegend": false,
         "type": "scatter",
         "x": [
          0,
          1
         ],
         "y": [
          365,
          635
         ]
        },
        {
         "line": {
          "shape": "spline"
         },
         "mode": "lines",
         "showlegend": false,
         "type": "scatter",
         "x": [
          0,
          1
         ],
         "y": [
          659,
          817
         ]
        },
        {
         "line": {
          "shape": "spline"
         },
         "mode": "lines",
         "showlegend": false,
         "type": "scatter",
         "x": [
          0,
          1
         ],
         "y": [
          393,
          16
         ]
        },
        {
         "line": {
          "shape": "spline"
         },
         "mode": "lines",
         "showlegend": false,
         "type": "scatter",
         "x": [
          0,
          1
         ],
         "y": [
          1164,
          761
         ]
        },
        {
         "line": {
          "shape": "spline"
         },
         "mode": "lines",
         "showlegend": false,
         "type": "scatter",
         "x": [
          0,
          1
         ],
         "y": [
          624,
          831
         ]
        },
        {
         "line": {
          "shape": "spline"
         },
         "mode": "lines",
         "showlegend": false,
         "type": "scatter",
         "x": [
          0,
          1
         ],
         "y": [
          669,
          386
         ]
        },
        {
         "line": {
          "shape": "spline"
         },
         "mode": "lines",
         "showlegend": false,
         "type": "scatter",
         "x": [
          0,
          1
         ],
         "y": [
          750,
          724
         ]
        },
        {
         "line": {
          "shape": "spline"
         },
         "mode": "lines",
         "showlegend": false,
         "type": "scatter",
         "x": [
          0,
          1
         ],
         "y": [
          849,
          327
         ]
        },
        {
         "line": {
          "shape": "spline"
         },
         "mode": "lines",
         "showlegend": false,
         "type": "scatter",
         "x": [
          0,
          1
         ],
         "y": [
          46,
          1266
         ]
        },
        {
         "line": {
          "shape": "spline"
         },
         "mode": "lines",
         "showlegend": false,
         "type": "scatter",
         "x": [
          0,
          1
         ],
         "y": [
          885,
          941
         ]
        },
        {
         "line": {
          "shape": "spline"
         },
         "mode": "lines",
         "showlegend": false,
         "type": "scatter",
         "x": [
          0,
          1
         ],
         "y": [
          102,
          197
         ]
        },
        {
         "line": {
          "shape": "spline"
         },
         "mode": "lines",
         "showlegend": false,
         "type": "scatter",
         "x": [
          0,
          1
         ],
         "y": [
          543,
          87
         ]
        },
        {
         "line": {
          "shape": "spline"
         },
         "mode": "lines",
         "showlegend": false,
         "type": "scatter",
         "x": [
          0,
          1
         ],
         "y": [
          134,
          697
         ]
        },
        {
         "line": {
          "shape": "spline"
         },
         "mode": "lines",
         "showlegend": false,
         "type": "scatter",
         "x": [
          0,
          1
         ],
         "y": [
          520,
          29
         ]
        },
        {
         "line": {
          "shape": "spline"
         },
         "mode": "lines",
         "showlegend": false,
         "type": "scatter",
         "x": [
          0,
          1
         ],
         "y": [
          302,
          744
         ]
        },
        {
         "line": {
          "shape": "spline"
         },
         "mode": "lines",
         "showlegend": false,
         "type": "scatter",
         "x": [
          0,
          1
         ],
         "y": [
          1215,
          601
         ]
        },
        {
         "line": {
          "shape": "spline"
         },
         "mode": "lines",
         "showlegend": false,
         "type": "scatter",
         "x": [
          0,
          1
         ],
         "y": [
          58,
          312
         ]
        },
        {
         "line": {
          "shape": "spline"
         },
         "mode": "lines",
         "showlegend": false,
         "type": "scatter",
         "x": [
          0,
          1
         ],
         "y": [
          1029,
          576
         ]
        },
        {
         "line": {
          "shape": "spline"
         },
         "mode": "lines",
         "showlegend": false,
         "type": "scatter",
         "x": [
          0,
          1
         ],
         "y": [
          492,
          530
         ]
        },
        {
         "line": {
          "shape": "spline"
         },
         "mode": "lines",
         "showlegend": false,
         "type": "scatter",
         "x": [
          0,
          1
         ],
         "y": [
          26,
          44
         ]
        },
        {
         "line": {
          "shape": "spline"
         },
         "mode": "lines",
         "showlegend": false,
         "type": "scatter",
         "x": [
          0,
          1
         ],
         "y": [
          1047,
          498
         ]
        },
        {
         "line": {
          "shape": "spline"
         },
         "mode": "lines",
         "showlegend": false,
         "type": "scatter",
         "x": [
          0,
          1
         ],
         "y": [
          85,
          945
         ]
        },
        {
         "line": {
          "shape": "spline"
         },
         "mode": "lines",
         "showlegend": false,
         "type": "scatter",
         "x": [
          0,
          1
         ],
         "y": [
          440,
          963
         ]
        },
        {
         "line": {
          "shape": "spline"
         },
         "mode": "lines",
         "showlegend": false,
         "type": "scatter",
         "x": [
          0,
          1
         ],
         "y": [
          1001,
          1231
         ]
        },
        {
         "line": {
          "shape": "spline"
         },
         "mode": "lines",
         "showlegend": false,
         "type": "scatter",
         "x": [
          0,
          1
         ],
         "y": [
          210,
          801
         ]
        },
        {
         "line": {
          "shape": "spline"
         },
         "mode": "lines",
         "showlegend": false,
         "type": "scatter",
         "x": [
          0,
          1
         ],
         "y": [
          1254,
          1040
         ]
        },
        {
         "line": {
          "shape": "spline"
         },
         "mode": "lines",
         "showlegend": false,
         "type": "scatter",
         "x": [
          0,
          1
         ],
         "y": [
          152,
          681
         ]
        },
        {
         "line": {
          "shape": "spline"
         },
         "mode": "lines",
         "showlegend": false,
         "type": "scatter",
         "x": [
          0,
          1
         ],
         "y": [
          181,
          577
         ]
        },
        {
         "line": {
          "shape": "spline"
         },
         "mode": "lines",
         "showlegend": false,
         "type": "scatter",
         "x": [
          0,
          1
         ],
         "y": [
          962,
          479
         ]
        },
        {
         "line": {
          "shape": "spline"
         },
         "mode": "lines",
         "showlegend": false,
         "type": "scatter",
         "x": [
          0,
          1
         ],
         "y": [
          1176,
          339
         ]
        },
        {
         "line": {
          "shape": "spline"
         },
         "mode": "lines",
         "showlegend": false,
         "type": "scatter",
         "x": [
          0,
          1
         ],
         "y": [
          303,
          850
         ]
        },
        {
         "line": {
          "shape": "spline"
         },
         "mode": "lines",
         "showlegend": false,
         "type": "scatter",
         "x": [
          0,
          1
         ],
         "y": [
          381,
          892
         ]
        },
        {
         "line": {
          "shape": "spline"
         },
         "mode": "lines",
         "showlegend": false,
         "type": "scatter",
         "x": [
          0,
          1
         ],
         "y": [
          1110,
          1114
         ]
        },
        {
         "line": {
          "shape": "spline"
         },
         "mode": "lines",
         "showlegend": false,
         "type": "scatter",
         "x": [
          0,
          1
         ],
         "y": [
          193,
          792
         ]
        },
        {
         "line": {
          "shape": "spline"
         },
         "mode": "lines",
         "showlegend": false,
         "type": "scatter",
         "x": [
          0,
          1
         ],
         "y": [
          825,
          560
         ]
        },
        {
         "line": {
          "shape": "spline"
         },
         "mode": "lines",
         "showlegend": false,
         "type": "scatter",
         "x": [
          0,
          1
         ],
         "y": [
          962,
          785
         ]
        },
        {
         "line": {
          "shape": "spline"
         },
         "mode": "lines",
         "showlegend": false,
         "type": "scatter",
         "x": [
          0,
          1
         ],
         "y": [
          43,
          993
         ]
        },
        {
         "line": {
          "shape": "spline"
         },
         "mode": "lines",
         "showlegend": false,
         "type": "scatter",
         "x": [
          0,
          1
         ],
         "y": [
          365,
          246
         ]
        },
        {
         "line": {
          "shape": "spline"
         },
         "mode": "lines",
         "showlegend": false,
         "type": "scatter",
         "x": [
          0,
          1
         ],
         "y": [
          946,
          1109
         ]
        },
        {
         "line": {
          "shape": "spline"
         },
         "mode": "lines",
         "showlegend": false,
         "type": "scatter",
         "x": [
          0,
          1
         ],
         "y": [
          571,
          1123
         ]
        },
        {
         "line": {
          "shape": "spline"
         },
         "mode": "lines",
         "showlegend": false,
         "type": "scatter",
         "x": [
          0,
          1
         ],
         "y": [
          7,
          1124
         ]
        },
        {
         "line": {
          "shape": "spline"
         },
         "mode": "lines",
         "showlegend": false,
         "type": "scatter",
         "x": [
          0,
          1
         ],
         "y": [
          113,
          600
         ]
        },
        {
         "line": {
          "shape": "spline"
         },
         "mode": "lines",
         "showlegend": false,
         "type": "scatter",
         "x": [
          0,
          1
         ],
         "y": [
          465,
          359
         ]
        },
        {
         "line": {
          "shape": "spline"
         },
         "mode": "lines",
         "showlegend": false,
         "type": "scatter",
         "x": [
          0,
          1
         ],
         "y": [
          383,
          1113
         ]
        },
        {
         "line": {
          "shape": "spline"
         },
         "mode": "lines",
         "showlegend": false,
         "type": "scatter",
         "x": [
          0,
          1
         ],
         "y": [
          659,
          634
         ]
        },
        {
         "line": {
          "shape": "spline"
         },
         "mode": "lines",
         "showlegend": false,
         "type": "scatter",
         "x": [
          0,
          1
         ],
         "y": [
          531,
          9
         ]
        },
        {
         "line": {
          "shape": "spline"
         },
         "mode": "lines",
         "showlegend": false,
         "type": "scatter",
         "x": [
          0,
          1
         ],
         "y": [
          1271,
          817
         ]
        },
        {
         "line": {
          "shape": "spline"
         },
         "mode": "lines",
         "showlegend": false,
         "type": "scatter",
         "x": [
          0,
          1
         ],
         "y": [
          664,
          51
         ]
        },
        {
         "line": {
          "shape": "spline"
         },
         "mode": "lines",
         "showlegend": false,
         "type": "scatter",
         "x": [
          0,
          1
         ],
         "y": [
          1085,
          392
         ]
        },
        {
         "line": {
          "shape": "spline"
         },
         "mode": "lines",
         "showlegend": false,
         "type": "scatter",
         "x": [
          0,
          1
         ],
         "y": [
          723,
          917
         ]
        },
        {
         "line": {
          "shape": "spline"
         },
         "mode": "lines",
         "showlegend": false,
         "type": "scatter",
         "x": [
          0,
          1
         ],
         "y": [
          843,
          38
         ]
        },
        {
         "line": {
          "shape": "spline"
         },
         "mode": "lines",
         "showlegend": false,
         "type": "scatter",
         "x": [
          0,
          1
         ],
         "y": [
          739,
          1277
         ]
        },
        {
         "line": {
          "shape": "spline"
         },
         "mode": "lines",
         "showlegend": false,
         "type": "scatter",
         "x": [
          0,
          1
         ],
         "y": [
          1041,
          924
         ]
        },
        {
         "line": {
          "shape": "spline"
         },
         "mode": "lines",
         "showlegend": false,
         "type": "scatter",
         "x": [
          0,
          1
         ],
         "y": [
          739,
          750
         ]
        },
        {
         "line": {
          "shape": "spline"
         },
         "mode": "lines",
         "showlegend": false,
         "type": "scatter",
         "x": [
          0,
          1
         ],
         "y": [
          1095,
          138
         ]
        },
        {
         "line": {
          "shape": "spline"
         },
         "mode": "lines",
         "showlegend": false,
         "type": "scatter",
         "x": [
          0,
          1
         ],
         "y": [
          1115,
          307
         ]
        },
        {
         "line": {
          "shape": "spline"
         },
         "mode": "lines",
         "showlegend": false,
         "type": "scatter",
         "x": [
          0,
          1
         ],
         "y": [
          208,
          119
         ]
        },
        {
         "line": {
          "shape": "spline"
         },
         "mode": "lines",
         "showlegend": false,
         "type": "scatter",
         "x": [
          0,
          1
         ],
         "y": [
          1076,
          372
         ]
        },
        {
         "line": {
          "shape": "spline"
         },
         "mode": "lines",
         "showlegend": false,
         "type": "scatter",
         "x": [
          0,
          1
         ],
         "y": [
          78,
          887
         ]
        },
        {
         "line": {
          "shape": "spline"
         },
         "mode": "lines",
         "showlegend": false,
         "type": "scatter",
         "x": [
          0,
          1
         ],
         "y": [
          419,
          331
         ]
        },
        {
         "line": {
          "shape": "spline"
         },
         "mode": "lines",
         "showlegend": false,
         "type": "scatter",
         "x": [
          0,
          1
         ],
         "y": [
          943,
          751
         ]
        },
        {
         "line": {
          "shape": "spline"
         },
         "mode": "lines",
         "showlegend": false,
         "type": "scatter",
         "x": [
          0,
          1
         ],
         "y": [
          174,
          1210
         ]
        },
        {
         "line": {
          "shape": "spline"
         },
         "mode": "lines",
         "showlegend": false,
         "type": "scatter",
         "x": [
          0,
          1
         ],
         "y": [
          83,
          1141
         ]
        },
        {
         "line": {
          "shape": "spline"
         },
         "mode": "lines",
         "showlegend": false,
         "type": "scatter",
         "x": [
          0,
          1
         ],
         "y": [
          807,
          489
         ]
        },
        {
         "line": {
          "shape": "spline"
         },
         "mode": "lines",
         "showlegend": false,
         "type": "scatter",
         "x": [
          0,
          1
         ],
         "y": [
          1123,
          1264
         ]
        },
        {
         "line": {
          "shape": "spline"
         },
         "mode": "lines",
         "showlegend": false,
         "type": "scatter",
         "x": [
          0,
          1
         ],
         "y": [
          1035,
          875
         ]
        },
        {
         "line": {
          "shape": "spline"
         },
         "mode": "lines",
         "showlegend": false,
         "type": "scatter",
         "x": [
          0,
          1
         ],
         "y": [
          1095,
          1155
         ]
        },
        {
         "line": {
          "shape": "spline"
         },
         "mode": "lines",
         "showlegend": false,
         "type": "scatter",
         "x": [
          0,
          1
         ],
         "y": [
          839,
          685
         ]
        },
        {
         "line": {
          "shape": "spline"
         },
         "mode": "lines",
         "showlegend": false,
         "type": "scatter",
         "x": [
          0,
          1
         ],
         "y": [
          996,
          1271
         ]
        },
        {
         "line": {
          "shape": "spline"
         },
         "mode": "lines",
         "showlegend": false,
         "type": "scatter",
         "x": [
          0,
          1
         ],
         "y": [
          314,
          286
         ]
        },
        {
         "line": {
          "shape": "spline"
         },
         "mode": "lines",
         "showlegend": false,
         "type": "scatter",
         "x": [
          0,
          1
         ],
         "y": [
          394,
          812
         ]
        },
        {
         "line": {
          "shape": "spline"
         },
         "mode": "lines",
         "showlegend": false,
         "type": "scatter",
         "x": [
          0,
          1
         ],
         "y": [
          434,
          820
         ]
        },
        {
         "line": {
          "shape": "spline"
         },
         "mode": "lines",
         "showlegend": false,
         "type": "scatter",
         "x": [
          0,
          1
         ],
         "y": [
          605,
          404
         ]
        },
        {
         "line": {
          "shape": "spline"
         },
         "mode": "lines",
         "showlegend": false,
         "type": "scatter",
         "x": [
          0,
          1
         ],
         "y": [
          1058,
          461
         ]
        },
        {
         "line": {
          "shape": "spline"
         },
         "mode": "lines",
         "showlegend": false,
         "type": "scatter",
         "x": [
          0,
          1
         ],
         "y": [
          716,
          245
         ]
        },
        {
         "line": {
          "shape": "spline"
         },
         "mode": "lines",
         "showlegend": false,
         "type": "scatter",
         "x": [
          0,
          1
         ],
         "y": [
          161,
          1017
         ]
        },
        {
         "line": {
          "shape": "spline"
         },
         "mode": "lines",
         "showlegend": false,
         "type": "scatter",
         "x": [
          0,
          1
         ],
         "y": [
          540,
          1105
         ]
        },
        {
         "line": {
          "shape": "spline"
         },
         "mode": "lines",
         "showlegend": false,
         "type": "scatter",
         "x": [
          0,
          1
         ],
         "y": [
          1018,
          965
         ]
        },
        {
         "line": {
          "shape": "spline"
         },
         "mode": "lines",
         "showlegend": false,
         "type": "scatter",
         "x": [
          0,
          1
         ],
         "y": [
          662,
          318
         ]
        },
        {
         "line": {
          "shape": "spline"
         },
         "mode": "lines",
         "showlegend": false,
         "type": "scatter",
         "x": [
          0,
          1
         ],
         "y": [
          1180,
          119
         ]
        },
        {
         "line": {
          "shape": "spline"
         },
         "mode": "lines",
         "showlegend": false,
         "type": "scatter",
         "x": [
          0,
          1
         ],
         "y": [
          85,
          187
         ]
        },
        {
         "line": {
          "shape": "spline"
         },
         "mode": "lines",
         "showlegend": false,
         "type": "scatter",
         "x": [
          0,
          1
         ],
         "y": [
          1047,
          627
         ]
        },
        {
         "line": {
          "shape": "spline"
         },
         "mode": "lines",
         "showlegend": false,
         "type": "scatter",
         "x": [
          0,
          1
         ],
         "y": [
          324,
          626
         ]
        },
        {
         "line": {
          "shape": "spline"
         },
         "mode": "lines",
         "showlegend": false,
         "type": "scatter",
         "x": [
          0,
          1
         ],
         "y": [
          755,
          938
         ]
        },
        {
         "line": {
          "shape": "spline"
         },
         "mode": "lines",
         "showlegend": false,
         "type": "scatter",
         "x": [
          0,
          1
         ],
         "y": [
          211,
          225
         ]
        },
        {
         "line": {
          "shape": "spline"
         },
         "mode": "lines",
         "showlegend": false,
         "type": "scatter",
         "x": [
          0,
          1
         ],
         "y": [
          91,
          217
         ]
        },
        {
         "line": {
          "shape": "spline"
         },
         "mode": "lines",
         "showlegend": false,
         "type": "scatter",
         "x": [
          0,
          1
         ],
         "y": [
          298,
          663
         ]
        },
        {
         "line": {
          "shape": "spline"
         },
         "mode": "lines",
         "showlegend": false,
         "type": "scatter",
         "x": [
          0,
          1
         ],
         "y": [
          952,
          815
         ]
        },
        {
         "line": {
          "shape": "spline"
         },
         "mode": "lines",
         "showlegend": false,
         "type": "scatter",
         "x": [
          0,
          1
         ],
         "y": [
          1248,
          193
         ]
        },
        {
         "line": {
          "shape": "spline"
         },
         "mode": "lines",
         "showlegend": false,
         "type": "scatter",
         "x": [
          0,
          1
         ],
         "y": [
          231,
          531
         ]
        },
        {
         "line": {
          "shape": "spline"
         },
         "mode": "lines",
         "showlegend": false,
         "type": "scatter",
         "x": [
          0,
          1
         ],
         "y": [
          970,
          651
         ]
        },
        {
         "line": {
          "shape": "spline"
         },
         "mode": "lines",
         "showlegend": false,
         "type": "scatter",
         "x": [
          0,
          1
         ],
         "y": [
          177,
          804
         ]
        },
        {
         "line": {
          "shape": "spline"
         },
         "mode": "lines",
         "showlegend": false,
         "type": "scatter",
         "x": [
          0,
          1
         ],
         "y": [
          875,
          408
         ]
        },
        {
         "line": {
          "shape": "spline"
         },
         "mode": "lines",
         "showlegend": false,
         "type": "scatter",
         "x": [
          0,
          1
         ],
         "y": [
          970,
          564
         ]
        },
        {
         "line": {
          "shape": "spline"
         },
         "mode": "lines",
         "showlegend": false,
         "type": "scatter",
         "x": [
          0,
          1
         ],
         "y": [
          967,
          891
         ]
        },
        {
         "line": {
          "shape": "spline"
         },
         "mode": "lines",
         "showlegend": false,
         "type": "scatter",
         "x": [
          0,
          1
         ],
         "y": [
          28,
          595
         ]
        },
        {
         "line": {
          "shape": "spline"
         },
         "mode": "lines",
         "showlegend": false,
         "type": "scatter",
         "x": [
          0,
          1
         ],
         "y": [
          888,
          514
         ]
        },
        {
         "line": {
          "shape": "spline"
         },
         "mode": "lines",
         "showlegend": false,
         "type": "scatter",
         "x": [
          0,
          1
         ],
         "y": [
          47,
          1038
         ]
        },
        {
         "line": {
          "shape": "spline"
         },
         "mode": "lines",
         "showlegend": false,
         "type": "scatter",
         "x": [
          0,
          1
         ],
         "y": [
          231,
          1109
         ]
        },
        {
         "line": {
          "shape": "spline"
         },
         "mode": "lines",
         "showlegend": false,
         "type": "scatter",
         "x": [
          0,
          1
         ],
         "y": [
          658,
          237
         ]
        },
        {
         "line": {
          "shape": "spline"
         },
         "mode": "lines",
         "showlegend": false,
         "type": "scatter",
         "x": [
          0,
          1
         ],
         "y": [
          319,
          42
         ]
        },
        {
         "line": {
          "shape": "spline"
         },
         "mode": "lines",
         "showlegend": false,
         "type": "scatter",
         "x": [
          0,
          1
         ],
         "y": [
          229,
          59
         ]
        },
        {
         "line": {
          "shape": "spline"
         },
         "mode": "lines",
         "showlegend": false,
         "type": "scatter",
         "x": [
          0,
          1
         ],
         "y": [
          980,
          1240
         ]
        },
        {
         "line": {
          "shape": "spline"
         },
         "mode": "lines",
         "showlegend": false,
         "type": "scatter",
         "x": [
          0,
          1
         ],
         "y": [
          480,
          837
         ]
        },
        {
         "line": {
          "shape": "spline"
         },
         "mode": "lines",
         "showlegend": false,
         "type": "scatter",
         "x": [
          0,
          1
         ],
         "y": [
          805,
          1106
         ]
        },
        {
         "line": {
          "shape": "spline"
         },
         "mode": "lines",
         "showlegend": false,
         "type": "scatter",
         "x": [
          0,
          1
         ],
         "y": [
          506,
          302
         ]
        },
        {
         "line": {
          "shape": "spline"
         },
         "mode": "lines",
         "showlegend": false,
         "type": "scatter",
         "x": [
          0,
          1
         ],
         "y": [
          169,
          541
         ]
        },
        {
         "line": {
          "shape": "spline"
         },
         "mode": "lines",
         "showlegend": false,
         "type": "scatter",
         "x": [
          0,
          1
         ],
         "y": [
          1214,
          668
         ]
        },
        {
         "line": {
          "shape": "spline"
         },
         "mode": "lines",
         "showlegend": false,
         "type": "scatter",
         "x": [
          0,
          1
         ],
         "y": [
          1183,
          1106
         ]
        },
        {
         "line": {
          "shape": "spline"
         },
         "mode": "lines",
         "showlegend": false,
         "type": "scatter",
         "x": [
          0,
          1
         ],
         "y": [
          180,
          1232
         ]
        },
        {
         "line": {
          "shape": "spline"
         },
         "mode": "lines",
         "showlegend": false,
         "type": "scatter",
         "x": [
          0,
          1
         ],
         "y": [
          735,
          301
         ]
        },
        {
         "line": {
          "shape": "spline"
         },
         "mode": "lines",
         "showlegend": false,
         "type": "scatter",
         "x": [
          0,
          1
         ],
         "y": [
          1077,
          520
         ]
        },
        {
         "line": {
          "shape": "spline"
         },
         "mode": "lines",
         "showlegend": false,
         "type": "scatter",
         "x": [
          0,
          1
         ],
         "y": [
          337,
          98
         ]
        },
        {
         "line": {
          "shape": "spline"
         },
         "mode": "lines",
         "showlegend": false,
         "type": "scatter",
         "x": [
          0,
          1
         ],
         "y": [
          1122,
          59
         ]
        },
        {
         "line": {
          "shape": "spline"
         },
         "mode": "lines",
         "showlegend": false,
         "type": "scatter",
         "x": [
          0,
          1
         ],
         "y": [
          630,
          231
         ]
        },
        {
         "line": {
          "shape": "spline"
         },
         "mode": "lines",
         "showlegend": false,
         "type": "scatter",
         "x": [
          0,
          1
         ],
         "y": [
          207,
          891
         ]
        },
        {
         "line": {
          "shape": "spline"
         },
         "mode": "lines",
         "showlegend": false,
         "type": "scatter",
         "x": [
          0,
          1
         ],
         "y": [
          1087,
          534
         ]
        },
        {
         "line": {
          "shape": "spline"
         },
         "mode": "lines",
         "showlegend": false,
         "type": "scatter",
         "x": [
          0,
          1
         ],
         "y": [
          1171,
          476
         ]
        },
        {
         "line": {
          "shape": "spline"
         },
         "mode": "lines",
         "showlegend": false,
         "type": "scatter",
         "x": [
          0,
          1
         ],
         "y": [
          327,
          947
         ]
        },
        {
         "line": {
          "shape": "spline"
         },
         "mode": "lines",
         "showlegend": false,
         "type": "scatter",
         "x": [
          0,
          1
         ],
         "y": [
          450,
          355
         ]
        },
        {
         "line": {
          "shape": "spline"
         },
         "mode": "lines",
         "showlegend": false,
         "type": "scatter",
         "x": [
          0,
          1
         ],
         "y": [
          1229,
          535
         ]
        },
        {
         "line": {
          "shape": "spline"
         },
         "mode": "lines",
         "showlegend": false,
         "type": "scatter",
         "x": [
          0,
          1
         ],
         "y": [
          902,
          1074
         ]
        },
        {
         "line": {
          "shape": "spline"
         },
         "mode": "lines",
         "showlegend": false,
         "type": "scatter",
         "x": [
          0,
          1
         ],
         "y": [
          635,
          1
         ]
        },
        {
         "line": {
          "shape": "spline"
         },
         "mode": "lines",
         "showlegend": false,
         "type": "scatter",
         "x": [
          0,
          1
         ],
         "y": [
          871,
          639
         ]
        },
        {
         "line": {
          "shape": "spline"
         },
         "mode": "lines",
         "showlegend": false,
         "type": "scatter",
         "x": [
          0,
          1
         ],
         "y": [
          1274,
          83
         ]
        },
        {
         "line": {
          "shape": "spline"
         },
         "mode": "lines",
         "showlegend": false,
         "type": "scatter",
         "x": [
          0,
          1
         ],
         "y": [
          631,
          429
         ]
        },
        {
         "line": {
          "shape": "spline"
         },
         "mode": "lines",
         "showlegend": false,
         "type": "scatter",
         "x": [
          0,
          1
         ],
         "y": [
          624,
          141
         ]
        },
        {
         "line": {
          "shape": "spline"
         },
         "mode": "lines",
         "showlegend": false,
         "type": "scatter",
         "x": [
          0,
          1
         ],
         "y": [
          633,
          53
         ]
        },
        {
         "line": {
          "shape": "spline"
         },
         "mode": "lines",
         "showlegend": false,
         "type": "scatter",
         "x": [
          0,
          1
         ],
         "y": [
          209,
          1130
         ]
        },
        {
         "line": {
          "shape": "spline"
         },
         "mode": "lines",
         "showlegend": false,
         "type": "scatter",
         "x": [
          0,
          1
         ],
         "y": [
          496,
          471
         ]
        },
        {
         "line": {
          "shape": "spline"
         },
         "mode": "lines",
         "showlegend": false,
         "type": "scatter",
         "x": [
          0,
          1
         ],
         "y": [
          46,
          432
         ]
        },
        {
         "line": {
          "shape": "spline"
         },
         "mode": "lines",
         "showlegend": false,
         "type": "scatter",
         "x": [
          0,
          1
         ],
         "y": [
          330,
          731
         ]
        },
        {
         "line": {
          "shape": "spline"
         },
         "mode": "lines",
         "showlegend": false,
         "type": "scatter",
         "x": [
          0,
          1
         ],
         "y": [
          434,
          612
         ]
        },
        {
         "line": {
          "shape": "spline"
         },
         "mode": "lines",
         "showlegend": false,
         "type": "scatter",
         "x": [
          0,
          1
         ],
         "y": [
          356,
          712
         ]
        },
        {
         "line": {
          "shape": "spline"
         },
         "mode": "lines",
         "showlegend": false,
         "type": "scatter",
         "x": [
          0,
          1
         ],
         "y": [
          568,
          175
         ]
        },
        {
         "line": {
          "shape": "spline"
         },
         "mode": "lines",
         "showlegend": false,
         "type": "scatter",
         "x": [
          0,
          1
         ],
         "y": [
          292,
          617
         ]
        },
        {
         "line": {
          "shape": "spline"
         },
         "mode": "lines",
         "showlegend": false,
         "type": "scatter",
         "x": [
          0,
          1
         ],
         "y": [
          975,
          613
         ]
        },
        {
         "line": {
          "shape": "spline"
         },
         "mode": "lines",
         "showlegend": false,
         "type": "scatter",
         "x": [
          0,
          1
         ],
         "y": [
          893,
          717
         ]
        },
        {
         "line": {
          "shape": "spline"
         },
         "mode": "lines",
         "showlegend": false,
         "type": "scatter",
         "x": [
          0,
          1
         ],
         "y": [
          180,
          693
         ]
        },
        {
         "line": {
          "shape": "spline"
         },
         "mode": "lines",
         "showlegend": false,
         "type": "scatter",
         "x": [
          0,
          1
         ],
         "y": [
          2,
          1077
         ]
        },
        {
         "line": {
          "shape": "spline"
         },
         "mode": "lines",
         "showlegend": false,
         "type": "scatter",
         "x": [
          0,
          1
         ],
         "y": [
          11,
          323
         ]
        },
        {
         "line": {
          "shape": "spline"
         },
         "mode": "lines",
         "showlegend": false,
         "type": "scatter",
         "x": [
          0,
          1
         ],
         "y": [
          310,
          805
         ]
        },
        {
         "line": {
          "shape": "spline"
         },
         "mode": "lines",
         "showlegend": false,
         "type": "scatter",
         "x": [
          0,
          1
         ],
         "y": [
          171,
          285
         ]
        },
        {
         "line": {
          "shape": "spline"
         },
         "mode": "lines",
         "showlegend": false,
         "type": "scatter",
         "x": [
          0,
          1
         ],
         "y": [
          514,
          564
         ]
        },
        {
         "line": {
          "shape": "spline"
         },
         "mode": "lines",
         "showlegend": false,
         "type": "scatter",
         "x": [
          0,
          1
         ],
         "y": [
          33,
          350
         ]
        },
        {
         "line": {
          "shape": "spline"
         },
         "mode": "lines",
         "showlegend": false,
         "type": "scatter",
         "x": [
          0,
          1
         ],
         "y": [
          348,
          580
         ]
        },
        {
         "line": {
          "shape": "spline"
         },
         "mode": "lines",
         "showlegend": false,
         "type": "scatter",
         "x": [
          0,
          1
         ],
         "y": [
          756,
          227
         ]
        },
        {
         "line": {
          "shape": "spline"
         },
         "mode": "lines",
         "showlegend": false,
         "type": "scatter",
         "x": [
          0,
          1
         ],
         "y": [
          448,
          1131
         ]
        },
        {
         "line": {
          "shape": "spline"
         },
         "mode": "lines",
         "showlegend": false,
         "type": "scatter",
         "x": [
          0,
          1
         ],
         "y": [
          330,
          1019
         ]
        },
        {
         "line": {
          "shape": "spline"
         },
         "mode": "lines",
         "showlegend": false,
         "type": "scatter",
         "x": [
          0,
          1
         ],
         "y": [
          838,
          964
         ]
        },
        {
         "line": {
          "shape": "spline"
         },
         "mode": "lines",
         "showlegend": false,
         "type": "scatter",
         "x": [
          0,
          1
         ],
         "y": [
          759,
          290
         ]
        },
        {
         "line": {
          "shape": "spline"
         },
         "mode": "lines",
         "showlegend": false,
         "type": "scatter",
         "x": [
          0,
          1
         ],
         "y": [
          477,
          383
         ]
        },
        {
         "line": {
          "shape": "spline"
         },
         "mode": "lines",
         "showlegend": false,
         "type": "scatter",
         "x": [
          0,
          1
         ],
         "y": [
          670,
          255
         ]
        },
        {
         "line": {
          "shape": "spline"
         },
         "mode": "lines",
         "showlegend": false,
         "type": "scatter",
         "x": [
          0,
          1
         ],
         "y": [
          913,
          923
         ]
        },
        {
         "line": {
          "shape": "spline"
         },
         "mode": "lines",
         "showlegend": false,
         "type": "scatter",
         "x": [
          0,
          1
         ],
         "y": [
          33,
          630
         ]
        },
        {
         "line": {
          "shape": "spline"
         },
         "mode": "lines",
         "showlegend": false,
         "type": "scatter",
         "x": [
          0,
          1
         ],
         "y": [
          143,
          165
         ]
        },
        {
         "line": {
          "shape": "spline"
         },
         "mode": "lines",
         "showlegend": false,
         "type": "scatter",
         "x": [
          0,
          1
         ],
         "y": [
          147,
          1072
         ]
        },
        {
         "line": {
          "shape": "spline"
         },
         "mode": "lines",
         "showlegend": false,
         "type": "scatter",
         "x": [
          0,
          1
         ],
         "y": [
          978,
          32
         ]
        },
        {
         "line": {
          "shape": "spline"
         },
         "mode": "lines",
         "showlegend": false,
         "type": "scatter",
         "x": [
          0,
          1
         ],
         "y": [
          365,
          348
         ]
        },
        {
         "line": {
          "shape": "spline"
         },
         "mode": "lines",
         "showlegend": false,
         "type": "scatter",
         "x": [
          0,
          1
         ],
         "y": [
          277,
          187
         ]
        },
        {
         "line": {
          "shape": "spline"
         },
         "mode": "lines",
         "showlegend": false,
         "type": "scatter",
         "x": [
          0,
          1
         ],
         "y": [
          490,
          1074
         ]
        },
        {
         "line": {
          "shape": "spline"
         },
         "mode": "lines",
         "showlegend": false,
         "type": "scatter",
         "x": [
          0,
          1
         ],
         "y": [
          1161,
          470
         ]
        },
        {
         "line": {
          "shape": "spline"
         },
         "mode": "lines",
         "showlegend": false,
         "type": "scatter",
         "x": [
          0,
          1
         ],
         "y": [
          658,
          648
         ]
        },
        {
         "line": {
          "shape": "spline"
         },
         "mode": "lines",
         "showlegend": false,
         "type": "scatter",
         "x": [
          0,
          1
         ],
         "y": [
          1063,
          604
         ]
        },
        {
         "line": {
          "shape": "spline"
         },
         "mode": "lines",
         "showlegend": false,
         "type": "scatter",
         "x": [
          0,
          1
         ],
         "y": [
          891,
          137
         ]
        },
        {
         "line": {
          "shape": "spline"
         },
         "mode": "lines",
         "showlegend": false,
         "type": "scatter",
         "x": [
          0,
          1
         ],
         "y": [
          664,
          114
         ]
        },
        {
         "line": {
          "shape": "spline"
         },
         "mode": "lines",
         "showlegend": false,
         "type": "scatter",
         "x": [
          0,
          1
         ],
         "y": [
          79,
          931
         ]
        },
        {
         "line": {
          "shape": "spline"
         },
         "mode": "lines",
         "showlegend": false,
         "type": "scatter",
         "x": [
          0,
          1
         ],
         "y": [
          456,
          118
         ]
        },
        {
         "line": {
          "shape": "spline"
         },
         "mode": "lines",
         "showlegend": false,
         "type": "scatter",
         "x": [
          0,
          1
         ],
         "y": [
          987,
          942
         ]
        },
        {
         "line": {
          "shape": "spline"
         },
         "mode": "lines",
         "showlegend": false,
         "type": "scatter",
         "x": [
          0,
          1
         ],
         "y": [
          1113,
          150
         ]
        },
        {
         "line": {
          "shape": "spline"
         },
         "mode": "lines",
         "showlegend": false,
         "type": "scatter",
         "x": [
          0,
          1
         ],
         "y": [
          1083,
          36
         ]
        },
        {
         "line": {
          "shape": "spline"
         },
         "mode": "lines",
         "showlegend": false,
         "type": "scatter",
         "x": [
          0,
          1
         ],
         "y": [
          713,
          763
         ]
        },
        {
         "line": {
          "shape": "spline"
         },
         "mode": "lines",
         "showlegend": false,
         "type": "scatter",
         "x": [
          0,
          1
         ],
         "y": [
          676,
          216
         ]
        }
       ],
       "layout": {
        "template": {
         "data": {
          "bar": [
           {
            "error_x": {
             "color": "#2a3f5f"
            },
            "error_y": {
             "color": "#2a3f5f"
            },
            "marker": {
             "line": {
              "color": "#E5ECF6",
              "width": 0.5
             }
            },
            "type": "bar"
           }
          ],
          "barpolar": [
           {
            "marker": {
             "line": {
              "color": "#E5ECF6",
              "width": 0.5
             }
            },
            "type": "barpolar"
           }
          ],
          "carpet": [
           {
            "aaxis": {
             "endlinecolor": "#2a3f5f",
             "gridcolor": "white",
             "linecolor": "white",
             "minorgridcolor": "white",
             "startlinecolor": "#2a3f5f"
            },
            "baxis": {
             "endlinecolor": "#2a3f5f",
             "gridcolor": "white",
             "linecolor": "white",
             "minorgridcolor": "white",
             "startlinecolor": "#2a3f5f"
            },
            "type": "carpet"
           }
          ],
          "choropleth": [
           {
            "colorbar": {
             "outlinewidth": 0,
             "ticks": ""
            },
            "type": "choropleth"
           }
          ],
          "contour": [
           {
            "colorbar": {
             "outlinewidth": 0,
             "ticks": ""
            },
            "colorscale": [
             [
              0,
              "#0d0887"
             ],
             [
              0.1111111111111111,
              "#46039f"
             ],
             [
              0.2222222222222222,
              "#7201a8"
             ],
             [
              0.3333333333333333,
              "#9c179e"
             ],
             [
              0.4444444444444444,
              "#bd3786"
             ],
             [
              0.5555555555555556,
              "#d8576b"
             ],
             [
              0.6666666666666666,
              "#ed7953"
             ],
             [
              0.7777777777777778,
              "#fb9f3a"
             ],
             [
              0.8888888888888888,
              "#fdca26"
             ],
             [
              1,
              "#f0f921"
             ]
            ],
            "type": "contour"
           }
          ],
          "contourcarpet": [
           {
            "colorbar": {
             "outlinewidth": 0,
             "ticks": ""
            },
            "type": "contourcarpet"
           }
          ],
          "heatmap": [
           {
            "colorbar": {
             "outlinewidth": 0,
             "ticks": ""
            },
            "colorscale": [
             [
              0,
              "#0d0887"
             ],
             [
              0.1111111111111111,
              "#46039f"
             ],
             [
              0.2222222222222222,
              "#7201a8"
             ],
             [
              0.3333333333333333,
              "#9c179e"
             ],
             [
              0.4444444444444444,
              "#bd3786"
             ],
             [
              0.5555555555555556,
              "#d8576b"
             ],
             [
              0.6666666666666666,
              "#ed7953"
             ],
             [
              0.7777777777777778,
              "#fb9f3a"
             ],
             [
              0.8888888888888888,
              "#fdca26"
             ],
             [
              1,
              "#f0f921"
             ]
            ],
            "type": "heatmap"
           }
          ],
          "heatmapgl": [
           {
            "colorbar": {
             "outlinewidth": 0,
             "ticks": ""
            },
            "colorscale": [
             [
              0,
              "#0d0887"
             ],
             [
              0.1111111111111111,
              "#46039f"
             ],
             [
              0.2222222222222222,
              "#7201a8"
             ],
             [
              0.3333333333333333,
              "#9c179e"
             ],
             [
              0.4444444444444444,
              "#bd3786"
             ],
             [
              0.5555555555555556,
              "#d8576b"
             ],
             [
              0.6666666666666666,
              "#ed7953"
             ],
             [
              0.7777777777777778,
              "#fb9f3a"
             ],
             [
              0.8888888888888888,
              "#fdca26"
             ],
             [
              1,
              "#f0f921"
             ]
            ],
            "type": "heatmapgl"
           }
          ],
          "histogram": [
           {
            "marker": {
             "colorbar": {
              "outlinewidth": 0,
              "ticks": ""
             }
            },
            "type": "histogram"
           }
          ],
          "histogram2d": [
           {
            "colorbar": {
             "outlinewidth": 0,
             "ticks": ""
            },
            "colorscale": [
             [
              0,
              "#0d0887"
             ],
             [
              0.1111111111111111,
              "#46039f"
             ],
             [
              0.2222222222222222,
              "#7201a8"
             ],
             [
              0.3333333333333333,
              "#9c179e"
             ],
             [
              0.4444444444444444,
              "#bd3786"
             ],
             [
              0.5555555555555556,
              "#d8576b"
             ],
             [
              0.6666666666666666,
              "#ed7953"
             ],
             [
              0.7777777777777778,
              "#fb9f3a"
             ],
             [
              0.8888888888888888,
              "#fdca26"
             ],
             [
              1,
              "#f0f921"
             ]
            ],
            "type": "histogram2d"
           }
          ],
          "histogram2dcontour": [
           {
            "colorbar": {
             "outlinewidth": 0,
             "ticks": ""
            },
            "colorscale": [
             [
              0,
              "#0d0887"
             ],
             [
              0.1111111111111111,
              "#46039f"
             ],
             [
              0.2222222222222222,
              "#7201a8"
             ],
             [
              0.3333333333333333,
              "#9c179e"
             ],
             [
              0.4444444444444444,
              "#bd3786"
             ],
             [
              0.5555555555555556,
              "#d8576b"
             ],
             [
              0.6666666666666666,
              "#ed7953"
             ],
             [
              0.7777777777777778,
              "#fb9f3a"
             ],
             [
              0.8888888888888888,
              "#fdca26"
             ],
             [
              1,
              "#f0f921"
             ]
            ],
            "type": "histogram2dcontour"
           }
          ],
          "mesh3d": [
           {
            "colorbar": {
             "outlinewidth": 0,
             "ticks": ""
            },
            "type": "mesh3d"
           }
          ],
          "parcoords": [
           {
            "line": {
             "colorbar": {
              "outlinewidth": 0,
              "ticks": ""
             }
            },
            "type": "parcoords"
           }
          ],
          "pie": [
           {
            "automargin": true,
            "type": "pie"
           }
          ],
          "scatter": [
           {
            "marker": {
             "colorbar": {
              "outlinewidth": 0,
              "ticks": ""
             }
            },
            "type": "scatter"
           }
          ],
          "scatter3d": [
           {
            "line": {
             "colorbar": {
              "outlinewidth": 0,
              "ticks": ""
             }
            },
            "marker": {
             "colorbar": {
              "outlinewidth": 0,
              "ticks": ""
             }
            },
            "type": "scatter3d"
           }
          ],
          "scattercarpet": [
           {
            "marker": {
             "colorbar": {
              "outlinewidth": 0,
              "ticks": ""
             }
            },
            "type": "scattercarpet"
           }
          ],
          "scattergeo": [
           {
            "marker": {
             "colorbar": {
              "outlinewidth": 0,
              "ticks": ""
             }
            },
            "type": "scattergeo"
           }
          ],
          "scattergl": [
           {
            "marker": {
             "colorbar": {
              "outlinewidth": 0,
              "ticks": ""
             }
            },
            "type": "scattergl"
           }
          ],
          "scattermapbox": [
           {
            "marker": {
             "colorbar": {
              "outlinewidth": 0,
              "ticks": ""
             }
            },
            "type": "scattermapbox"
           }
          ],
          "scatterpolar": [
           {
            "marker": {
             "colorbar": {
              "outlinewidth": 0,
              "ticks": ""
             }
            },
            "type": "scatterpolar"
           }
          ],
          "scatterpolargl": [
           {
            "marker": {
             "colorbar": {
              "outlinewidth": 0,
              "ticks": ""
             }
            },
            "type": "scatterpolargl"
           }
          ],
          "scatterternary": [
           {
            "marker": {
             "colorbar": {
              "outlinewidth": 0,
              "ticks": ""
             }
            },
            "type": "scatterternary"
           }
          ],
          "surface": [
           {
            "colorbar": {
             "outlinewidth": 0,
             "ticks": ""
            },
            "colorscale": [
             [
              0,
              "#0d0887"
             ],
             [
              0.1111111111111111,
              "#46039f"
             ],
             [
              0.2222222222222222,
              "#7201a8"
             ],
             [
              0.3333333333333333,
              "#9c179e"
             ],
             [
              0.4444444444444444,
              "#bd3786"
             ],
             [
              0.5555555555555556,
              "#d8576b"
             ],
             [
              0.6666666666666666,
              "#ed7953"
             ],
             [
              0.7777777777777778,
              "#fb9f3a"
             ],
             [
              0.8888888888888888,
              "#fdca26"
             ],
             [
              1,
              "#f0f921"
             ]
            ],
            "type": "surface"
           }
          ],
          "table": [
           {
            "cells": {
             "fill": {
              "color": "#EBF0F8"
             },
             "line": {
              "color": "white"
             }
            },
            "header": {
             "fill": {
              "color": "#C8D4E3"
             },
             "line": {
              "color": "white"
             }
            },
            "type": "table"
           }
          ]
         },
         "layout": {
          "annotationdefaults": {
           "arrowcolor": "#2a3f5f",
           "arrowhead": 0,
           "arrowwidth": 1
          },
          "coloraxis": {
           "colorbar": {
            "outlinewidth": 0,
            "ticks": ""
           }
          },
          "colorscale": {
           "diverging": [
            [
             0,
             "#8e0152"
            ],
            [
             0.1,
             "#c51b7d"
            ],
            [
             0.2,
             "#de77ae"
            ],
            [
             0.3,
             "#f1b6da"
            ],
            [
             0.4,
             "#fde0ef"
            ],
            [
             0.5,
             "#f7f7f7"
            ],
            [
             0.6,
             "#e6f5d0"
            ],
            [
             0.7,
             "#b8e186"
            ],
            [
             0.8,
             "#7fbc41"
            ],
            [
             0.9,
             "#4d9221"
            ],
            [
             1,
             "#276419"
            ]
           ],
           "sequential": [
            [
             0,
             "#0d0887"
            ],
            [
             0.1111111111111111,
             "#46039f"
            ],
            [
             0.2222222222222222,
             "#7201a8"
            ],
            [
             0.3333333333333333,
             "#9c179e"
            ],
            [
             0.4444444444444444,
             "#bd3786"
            ],
            [
             0.5555555555555556,
             "#d8576b"
            ],
            [
             0.6666666666666666,
             "#ed7953"
            ],
            [
             0.7777777777777778,
             "#fb9f3a"
            ],
            [
             0.8888888888888888,
             "#fdca26"
            ],
            [
             1,
             "#f0f921"
            ]
           ],
           "sequentialminus": [
            [
             0,
             "#0d0887"
            ],
            [
             0.1111111111111111,
             "#46039f"
            ],
            [
             0.2222222222222222,
             "#7201a8"
            ],
            [
             0.3333333333333333,
             "#9c179e"
            ],
            [
             0.4444444444444444,
             "#bd3786"
            ],
            [
             0.5555555555555556,
             "#d8576b"
            ],
            [
             0.6666666666666666,
             "#ed7953"
            ],
            [
             0.7777777777777778,
             "#fb9f3a"
            ],
            [
             0.8888888888888888,
             "#fdca26"
            ],
            [
             1,
             "#f0f921"
            ]
           ]
          },
          "colorway": [
           "#636efa",
           "#EF553B",
           "#00cc96",
           "#ab63fa",
           "#FFA15A",
           "#19d3f3",
           "#FF6692",
           "#B6E880",
           "#FF97FF",
           "#FECB52"
          ],
          "font": {
           "color": "#2a3f5f"
          },
          "geo": {
           "bgcolor": "white",
           "lakecolor": "white",
           "landcolor": "#E5ECF6",
           "showlakes": true,
           "showland": true,
           "subunitcolor": "white"
          },
          "hoverlabel": {
           "align": "left"
          },
          "hovermode": "closest",
          "mapbox": {
           "style": "light"
          },
          "paper_bgcolor": "white",
          "plot_bgcolor": "#E5ECF6",
          "polar": {
           "angularaxis": {
            "gridcolor": "white",
            "linecolor": "white",
            "ticks": ""
           },
           "bgcolor": "#E5ECF6",
           "radialaxis": {
            "gridcolor": "white",
            "linecolor": "white",
            "ticks": ""
           }
          },
          "scene": {
           "xaxis": {
            "backgroundcolor": "#E5ECF6",
            "gridcolor": "white",
            "gridwidth": 2,
            "linecolor": "white",
            "showbackground": true,
            "ticks": "",
            "zerolinecolor": "white"
           },
           "yaxis": {
            "backgroundcolor": "#E5ECF6",
            "gridcolor": "white",
            "gridwidth": 2,
            "linecolor": "white",
            "showbackground": true,
            "ticks": "",
            "zerolinecolor": "white"
           },
           "zaxis": {
            "backgroundcolor": "#E5ECF6",
            "gridcolor": "white",
            "gridwidth": 2,
            "linecolor": "white",
            "showbackground": true,
            "ticks": "",
            "zerolinecolor": "white"
           }
          },
          "shapedefaults": {
           "line": {
            "color": "#2a3f5f"
           }
          },
          "ternary": {
           "aaxis": {
            "gridcolor": "white",
            "linecolor": "white",
            "ticks": ""
           },
           "baxis": {
            "gridcolor": "white",
            "linecolor": "white",
            "ticks": ""
           },
           "bgcolor": "#E5ECF6",
           "caxis": {
            "gridcolor": "white",
            "linecolor": "white",
            "ticks": ""
           }
          },
          "title": {
           "x": 0.05
          },
          "xaxis": {
           "automargin": true,
           "gridcolor": "white",
           "linecolor": "white",
           "ticks": "",
           "title": {
            "standoff": 15
           },
           "zerolinecolor": "white",
           "zerolinewidth": 2
          },
          "yaxis": {
           "automargin": true,
           "gridcolor": "white",
           "linecolor": "white",
           "ticks": "",
           "title": {
            "standoff": 15
           },
           "zerolinecolor": "white",
           "zerolinewidth": 2
          }
         }
        }
       }
      },
      "text/html": [
       "<div>\n",
       "        \n",
       "        \n",
       "            <div id=\"0588770b-f1e3-495b-a07b-0fedfbc913c1\" class=\"plotly-graph-div\" style=\"height:525px; width:100%;\"></div>\n",
       "            <script type=\"text/javascript\">\n",
       "                require([\"plotly\"], function(Plotly) {\n",
       "                    window.PLOTLYENV=window.PLOTLYENV || {};\n",
       "                    \n",
       "                if (document.getElementById(\"0588770b-f1e3-495b-a07b-0fedfbc913c1\")) {\n",
       "                    Plotly.newPlot(\n",
       "                        '0588770b-f1e3-495b-a07b-0fedfbc913c1',\n",
       "                        [{\"line\": {\"shape\": \"spline\"}, \"mode\": \"lines\", \"showlegend\": false, \"type\": \"scatter\", \"x\": [0, 1], \"y\": [229, 1031]}, {\"line\": {\"shape\": \"spline\"}, \"mode\": \"lines\", \"showlegend\": false, \"type\": \"scatter\", \"x\": [0, 1], \"y\": [470, 38]}, {\"line\": {\"shape\": \"spline\"}, \"mode\": \"lines\", \"showlegend\": false, \"type\": \"scatter\", \"x\": [0, 1], \"y\": [1105, 559]}, {\"line\": {\"shape\": \"spline\"}, \"mode\": \"lines\", \"showlegend\": false, \"type\": \"scatter\", \"x\": [0, 1], \"y\": [1041, 107]}, {\"line\": {\"shape\": \"spline\"}, \"mode\": \"lines\", \"showlegend\": false, \"type\": \"scatter\", \"x\": [0, 1], \"y\": [578, 688]}, {\"line\": {\"shape\": \"spline\"}, \"mode\": \"lines\", \"showlegend\": false, \"type\": \"scatter\", \"x\": [0, 1], \"y\": [654, 36]}, {\"line\": {\"shape\": \"spline\"}, \"mode\": \"lines\", \"showlegend\": false, \"type\": \"scatter\", \"x\": [0, 1], \"y\": [915, 67]}, {\"line\": {\"shape\": \"spline\"}, \"mode\": \"lines\", \"showlegend\": false, \"type\": \"scatter\", \"x\": [0, 1], \"y\": [41, 310]}, {\"line\": {\"shape\": \"spline\"}, \"mode\": \"lines\", \"showlegend\": false, \"type\": \"scatter\", \"x\": [0, 1], \"y\": [1194, 218]}, {\"line\": {\"shape\": \"spline\"}, \"mode\": \"lines\", \"showlegend\": false, \"type\": \"scatter\", \"x\": [0, 1], \"y\": [928, 1076]}, {\"line\": {\"shape\": \"spline\"}, \"mode\": \"lines\", \"showlegend\": false, \"type\": \"scatter\", \"x\": [0, 1], \"y\": [272, 0]}, {\"line\": {\"shape\": \"spline\"}, \"mode\": \"lines\", \"showlegend\": false, \"type\": \"scatter\", \"x\": [0, 1], \"y\": [1241, 1041]}, {\"line\": {\"shape\": \"spline\"}, \"mode\": \"lines\", \"showlegend\": false, \"type\": \"scatter\", \"x\": [0, 1], \"y\": [37, 145]}, {\"line\": {\"shape\": \"spline\"}, \"mode\": \"lines\", \"showlegend\": false, \"type\": \"scatter\", \"x\": [0, 1], \"y\": [1193, 655]}, {\"line\": {\"shape\": \"spline\"}, \"mode\": \"lines\", \"showlegend\": false, \"type\": \"scatter\", \"x\": [0, 1], \"y\": [1265, 400]}, {\"line\": {\"shape\": \"spline\"}, \"mode\": \"lines\", \"showlegend\": false, \"type\": \"scatter\", \"x\": [0, 1], \"y\": [1082, 406]}, {\"line\": {\"shape\": \"spline\"}, \"mode\": \"lines\", \"showlegend\": false, \"type\": \"scatter\", \"x\": [0, 1], \"y\": [985, 132]}, {\"line\": {\"shape\": \"spline\"}, \"mode\": \"lines\", \"showlegend\": false, \"type\": \"scatter\", \"x\": [0, 1], \"y\": [1256, 780]}, {\"line\": {\"shape\": \"spline\"}, \"mode\": \"lines\", \"showlegend\": false, \"type\": \"scatter\", \"x\": [0, 1], \"y\": [410, 928]}, {\"line\": {\"shape\": \"spline\"}, \"mode\": \"lines\", \"showlegend\": false, \"type\": \"scatter\", \"x\": [0, 1], \"y\": [514, 1270]}, {\"line\": {\"shape\": \"spline\"}, \"mode\": \"lines\", \"showlegend\": false, \"type\": \"scatter\", \"x\": [0, 1], \"y\": [157, 1263]}, {\"line\": {\"shape\": \"spline\"}, \"mode\": \"lines\", \"showlegend\": false, \"type\": \"scatter\", \"x\": [0, 1], \"y\": [1080, 647]}, {\"line\": {\"shape\": \"spline\"}, \"mode\": \"lines\", \"showlegend\": false, \"type\": \"scatter\", \"x\": [0, 1], \"y\": [74, 1229]}, {\"line\": {\"shape\": \"spline\"}, \"mode\": \"lines\", \"showlegend\": false, \"type\": \"scatter\", \"x\": [0, 1], \"y\": [68, 1162]}, {\"line\": {\"shape\": \"spline\"}, \"mode\": \"lines\", \"showlegend\": false, \"type\": \"scatter\", \"x\": [0, 1], \"y\": [982, 1271]}, {\"line\": {\"shape\": \"spline\"}, \"mode\": \"lines\", \"showlegend\": false, \"type\": \"scatter\", \"x\": [0, 1], \"y\": [895, 910]}, {\"line\": {\"shape\": \"spline\"}, \"mode\": \"lines\", \"showlegend\": false, \"type\": \"scatter\", \"x\": [0, 1], \"y\": [175, 1217]}, {\"line\": {\"shape\": \"spline\"}, \"mode\": \"lines\", \"showlegend\": false, \"type\": \"scatter\", \"x\": [0, 1], \"y\": [393, 489]}, {\"line\": {\"shape\": \"spline\"}, \"mode\": \"lines\", \"showlegend\": false, \"type\": \"scatter\", \"x\": [0, 1], \"y\": [76, 754]}, {\"line\": {\"shape\": \"spline\"}, \"mode\": \"lines\", \"showlegend\": false, \"type\": \"scatter\", \"x\": [0, 1], \"y\": [78, 322]}, {\"line\": {\"shape\": \"spline\"}, \"mode\": \"lines\", \"showlegend\": false, \"type\": \"scatter\", \"x\": [0, 1], \"y\": [1015, 215]}, {\"line\": {\"shape\": \"spline\"}, \"mode\": \"lines\", \"showlegend\": false, \"type\": \"scatter\", \"x\": [0, 1], \"y\": [70, 705]}, {\"line\": {\"shape\": \"spline\"}, \"mode\": \"lines\", \"showlegend\": false, \"type\": \"scatter\", \"x\": [0, 1], \"y\": [188, 692]}, {\"line\": {\"shape\": \"spline\"}, \"mode\": \"lines\", \"showlegend\": false, \"type\": \"scatter\", \"x\": [0, 1], \"y\": [675, 1153]}, {\"line\": {\"shape\": \"spline\"}, \"mode\": \"lines\", \"showlegend\": false, \"type\": \"scatter\", \"x\": [0, 1], \"y\": [779, 934]}, {\"line\": {\"shape\": \"spline\"}, \"mode\": \"lines\", \"showlegend\": false, \"type\": \"scatter\", \"x\": [0, 1], \"y\": [595, 873]}, {\"line\": {\"shape\": \"spline\"}, \"mode\": \"lines\", \"showlegend\": false, \"type\": \"scatter\", \"x\": [0, 1], \"y\": [349, 897]}, {\"line\": {\"shape\": \"spline\"}, \"mode\": \"lines\", \"showlegend\": false, \"type\": \"scatter\", \"x\": [0, 1], \"y\": [1233, 829]}, {\"line\": {\"shape\": \"spline\"}, \"mode\": \"lines\", \"showlegend\": false, \"type\": \"scatter\", \"x\": [0, 1], \"y\": [88, 633]}, {\"line\": {\"shape\": \"spline\"}, \"mode\": \"lines\", \"showlegend\": false, \"type\": \"scatter\", \"x\": [0, 1], \"y\": [433, 589]}, {\"line\": {\"shape\": \"spline\"}, \"mode\": \"lines\", \"showlegend\": false, \"type\": \"scatter\", \"x\": [0, 1], \"y\": [1003, 444]}, {\"line\": {\"shape\": \"spline\"}, \"mode\": \"lines\", \"showlegend\": false, \"type\": \"scatter\", \"x\": [0, 1], \"y\": [927, 111]}, {\"line\": {\"shape\": \"spline\"}, \"mode\": \"lines\", \"showlegend\": false, \"type\": \"scatter\", \"x\": [0, 1], \"y\": [625, 234]}, {\"line\": {\"shape\": \"spline\"}, \"mode\": \"lines\", \"showlegend\": false, \"type\": \"scatter\", \"x\": [0, 1], \"y\": [721, 153]}, {\"line\": {\"shape\": \"spline\"}, \"mode\": \"lines\", \"showlegend\": false, \"type\": \"scatter\", \"x\": [0, 1], \"y\": [454, 662]}, {\"line\": {\"shape\": \"spline\"}, \"mode\": \"lines\", \"showlegend\": false, \"type\": \"scatter\", \"x\": [0, 1], \"y\": [985, 54]}, {\"line\": {\"shape\": \"spline\"}, \"mode\": \"lines\", \"showlegend\": false, \"type\": \"scatter\", \"x\": [0, 1], \"y\": [528, 477]}, {\"line\": {\"shape\": \"spline\"}, \"mode\": \"lines\", \"showlegend\": false, \"type\": \"scatter\", \"x\": [0, 1], \"y\": [364, 312]}, {\"line\": {\"shape\": \"spline\"}, \"mode\": \"lines\", \"showlegend\": false, \"type\": \"scatter\", \"x\": [0, 1], \"y\": [942, 425]}, {\"line\": {\"shape\": \"spline\"}, \"mode\": \"lines\", \"showlegend\": false, \"type\": \"scatter\", \"x\": [0, 1], \"y\": [374, 345]}, {\"line\": {\"shape\": \"spline\"}, \"mode\": \"lines\", \"showlegend\": false, \"type\": \"scatter\", \"x\": [0, 1], \"y\": [711, 200]}, {\"line\": {\"shape\": \"spline\"}, \"mode\": \"lines\", \"showlegend\": false, \"type\": \"scatter\", \"x\": [0, 1], \"y\": [680, 284]}, {\"line\": {\"shape\": \"spline\"}, \"mode\": \"lines\", \"showlegend\": false, \"type\": \"scatter\", \"x\": [0, 1], \"y\": [851, 101]}, {\"line\": {\"shape\": \"spline\"}, \"mode\": \"lines\", \"showlegend\": false, \"type\": \"scatter\", \"x\": [0, 1], \"y\": [877, 52]}, {\"line\": {\"shape\": \"spline\"}, \"mode\": \"lines\", \"showlegend\": false, \"type\": \"scatter\", \"x\": [0, 1], \"y\": [985, 384]}, {\"line\": {\"shape\": \"spline\"}, \"mode\": \"lines\", \"showlegend\": false, \"type\": \"scatter\", \"x\": [0, 1], \"y\": [1192, 1205]}, {\"line\": {\"shape\": \"spline\"}, \"mode\": \"lines\", \"showlegend\": false, \"type\": \"scatter\", \"x\": [0, 1], \"y\": [338, 388]}, {\"line\": {\"shape\": \"spline\"}, \"mode\": \"lines\", \"showlegend\": false, \"type\": \"scatter\", \"x\": [0, 1], \"y\": [936, 851]}, {\"line\": {\"shape\": \"spline\"}, \"mode\": \"lines\", \"showlegend\": false, \"type\": \"scatter\", \"x\": [0, 1], \"y\": [989, 457]}, {\"line\": {\"shape\": \"spline\"}, \"mode\": \"lines\", \"showlegend\": false, \"type\": \"scatter\", \"x\": [0, 1], \"y\": [261, 1081]}, {\"line\": {\"shape\": \"spline\"}, \"mode\": \"lines\", \"showlegend\": false, \"type\": \"scatter\", \"x\": [0, 1], \"y\": [358, 634]}, {\"line\": {\"shape\": \"spline\"}, \"mode\": \"lines\", \"showlegend\": false, \"type\": \"scatter\", \"x\": [0, 1], \"y\": [1169, 688]}, {\"line\": {\"shape\": \"spline\"}, \"mode\": \"lines\", \"showlegend\": false, \"type\": \"scatter\", \"x\": [0, 1], \"y\": [1228, 259]}, {\"line\": {\"shape\": \"spline\"}, \"mode\": \"lines\", \"showlegend\": false, \"type\": \"scatter\", \"x\": [0, 1], \"y\": [799, 1204]}, {\"line\": {\"shape\": \"spline\"}, \"mode\": \"lines\", \"showlegend\": false, \"type\": \"scatter\", \"x\": [0, 1], \"y\": [814, 83]}, {\"line\": {\"shape\": \"spline\"}, \"mode\": \"lines\", \"showlegend\": false, \"type\": \"scatter\", \"x\": [0, 1], \"y\": [268, 494]}, {\"line\": {\"shape\": \"spline\"}, \"mode\": \"lines\", \"showlegend\": false, \"type\": \"scatter\", \"x\": [0, 1], \"y\": [1194, 974]}, {\"line\": {\"shape\": \"spline\"}, \"mode\": \"lines\", \"showlegend\": false, \"type\": \"scatter\", \"x\": [0, 1], \"y\": [606, 790]}, {\"line\": {\"shape\": \"spline\"}, \"mode\": \"lines\", \"showlegend\": false, \"type\": \"scatter\", \"x\": [0, 1], \"y\": [437, 667]}, {\"line\": {\"shape\": \"spline\"}, \"mode\": \"lines\", \"showlegend\": false, \"type\": \"scatter\", \"x\": [0, 1], \"y\": [1008, 1114]}, {\"line\": {\"shape\": \"spline\"}, \"mode\": \"lines\", \"showlegend\": false, \"type\": \"scatter\", \"x\": [0, 1], \"y\": [909, 1053]}, {\"line\": {\"shape\": \"spline\"}, \"mode\": \"lines\", \"showlegend\": false, \"type\": \"scatter\", \"x\": [0, 1], \"y\": [1037, 1218]}, {\"line\": {\"shape\": \"spline\"}, \"mode\": \"lines\", \"showlegend\": false, \"type\": \"scatter\", \"x\": [0, 1], \"y\": [387, 576]}, {\"line\": {\"shape\": \"spline\"}, \"mode\": \"lines\", \"showlegend\": false, \"type\": \"scatter\", \"x\": [0, 1], \"y\": [289, 844]}, {\"line\": {\"shape\": \"spline\"}, \"mode\": \"lines\", \"showlegend\": false, \"type\": \"scatter\", \"x\": [0, 1], \"y\": [293, 1128]}, {\"line\": {\"shape\": \"spline\"}, \"mode\": \"lines\", \"showlegend\": false, \"type\": \"scatter\", \"x\": [0, 1], \"y\": [642, 1076]}, {\"line\": {\"shape\": \"spline\"}, \"mode\": \"lines\", \"showlegend\": false, \"type\": \"scatter\", \"x\": [0, 1], \"y\": [682, 180]}, {\"line\": {\"shape\": \"spline\"}, \"mode\": \"lines\", \"showlegend\": false, \"type\": \"scatter\", \"x\": [0, 1], \"y\": [608, 927]}, {\"line\": {\"shape\": \"spline\"}, \"mode\": \"lines\", \"showlegend\": false, \"type\": \"scatter\", \"x\": [0, 1], \"y\": [644, 924]}, {\"line\": {\"shape\": \"spline\"}, \"mode\": \"lines\", \"showlegend\": false, \"type\": \"scatter\", \"x\": [0, 1], \"y\": [851, 1237]}, {\"line\": {\"shape\": \"spline\"}, \"mode\": \"lines\", \"showlegend\": false, \"type\": \"scatter\", \"x\": [0, 1], \"y\": [1005, 1244]}, {\"line\": {\"shape\": \"spline\"}, \"mode\": \"lines\", \"showlegend\": false, \"type\": \"scatter\", \"x\": [0, 1], \"y\": [912, 758]}, {\"line\": {\"shape\": \"spline\"}, \"mode\": \"lines\", \"showlegend\": false, \"type\": \"scatter\", \"x\": [0, 1], \"y\": [1205, 284]}, {\"line\": {\"shape\": \"spline\"}, \"mode\": \"lines\", \"showlegend\": false, \"type\": \"scatter\", \"x\": [0, 1], \"y\": [309, 543]}, {\"line\": {\"shape\": \"spline\"}, \"mode\": \"lines\", \"showlegend\": false, \"type\": \"scatter\", \"x\": [0, 1], \"y\": [831, 107]}, {\"line\": {\"shape\": \"spline\"}, \"mode\": \"lines\", \"showlegend\": false, \"type\": \"scatter\", \"x\": [0, 1], \"y\": [436, 918]}, {\"line\": {\"shape\": \"spline\"}, \"mode\": \"lines\", \"showlegend\": false, \"type\": \"scatter\", \"x\": [0, 1], \"y\": [969, 429]}, {\"line\": {\"shape\": \"spline\"}, \"mode\": \"lines\", \"showlegend\": false, \"type\": \"scatter\", \"x\": [0, 1], \"y\": [509, 1147]}, {\"line\": {\"shape\": \"spline\"}, \"mode\": \"lines\", \"showlegend\": false, \"type\": \"scatter\", \"x\": [0, 1], \"y\": [677, 441]}, {\"line\": {\"shape\": \"spline\"}, \"mode\": \"lines\", \"showlegend\": false, \"type\": \"scatter\", \"x\": [0, 1], \"y\": [472, 642]}, {\"line\": {\"shape\": \"spline\"}, \"mode\": \"lines\", \"showlegend\": false, \"type\": \"scatter\", \"x\": [0, 1], \"y\": [25, 250]}, {\"line\": {\"shape\": \"spline\"}, \"mode\": \"lines\", \"showlegend\": false, \"type\": \"scatter\", \"x\": [0, 1], \"y\": [114, 1031]}, {\"line\": {\"shape\": \"spline\"}, \"mode\": \"lines\", \"showlegend\": false, \"type\": \"scatter\", \"x\": [0, 1], \"y\": [219, 1048]}, {\"line\": {\"shape\": \"spline\"}, \"mode\": \"lines\", \"showlegend\": false, \"type\": \"scatter\", \"x\": [0, 1], \"y\": [168, 892]}, {\"line\": {\"shape\": \"spline\"}, \"mode\": \"lines\", \"showlegend\": false, \"type\": \"scatter\", \"x\": [0, 1], \"y\": [144, 449]}, {\"line\": {\"shape\": \"spline\"}, \"mode\": \"lines\", \"showlegend\": false, \"type\": \"scatter\", \"x\": [0, 1], \"y\": [680, 1150]}, {\"line\": {\"shape\": \"spline\"}, \"mode\": \"lines\", \"showlegend\": false, \"type\": \"scatter\", \"x\": [0, 1], \"y\": [209, 494]}, {\"line\": {\"shape\": \"spline\"}, \"mode\": \"lines\", \"showlegend\": false, \"type\": \"scatter\", \"x\": [0, 1], \"y\": [1117, 149]}, {\"line\": {\"shape\": \"spline\"}, \"mode\": \"lines\", \"showlegend\": false, \"type\": \"scatter\", \"x\": [0, 1], \"y\": [726, 1239]}, {\"line\": {\"shape\": \"spline\"}, \"mode\": \"lines\", \"showlegend\": false, \"type\": \"scatter\", \"x\": [0, 1], \"y\": [410, 661]}, {\"line\": {\"shape\": \"spline\"}, \"mode\": \"lines\", \"showlegend\": false, \"type\": \"scatter\", \"x\": [0, 1], \"y\": [272, 171]}, {\"line\": {\"shape\": \"spline\"}, \"mode\": \"lines\", \"showlegend\": false, \"type\": \"scatter\", \"x\": [0, 1], \"y\": [532, 102]}, {\"line\": {\"shape\": \"spline\"}, \"mode\": \"lines\", \"showlegend\": false, \"type\": \"scatter\", \"x\": [0, 1], \"y\": [1098, 1250]}, {\"line\": {\"shape\": \"spline\"}, \"mode\": \"lines\", \"showlegend\": false, \"type\": \"scatter\", \"x\": [0, 1], \"y\": [380, 1214]}, {\"line\": {\"shape\": \"spline\"}, \"mode\": \"lines\", \"showlegend\": false, \"type\": \"scatter\", \"x\": [0, 1], \"y\": [721, 822]}, {\"line\": {\"shape\": \"spline\"}, \"mode\": \"lines\", \"showlegend\": false, \"type\": \"scatter\", \"x\": [0, 1], \"y\": [1094, 237]}, {\"line\": {\"shape\": \"spline\"}, \"mode\": \"lines\", \"showlegend\": false, \"type\": \"scatter\", \"x\": [0, 1], \"y\": [810, 314]}, {\"line\": {\"shape\": \"spline\"}, \"mode\": \"lines\", \"showlegend\": false, \"type\": \"scatter\", \"x\": [0, 1], \"y\": [15, 440]}, {\"line\": {\"shape\": \"spline\"}, \"mode\": \"lines\", \"showlegend\": false, \"type\": \"scatter\", \"x\": [0, 1], \"y\": [748, 339]}, {\"line\": {\"shape\": \"spline\"}, \"mode\": \"lines\", \"showlegend\": false, \"type\": \"scatter\", \"x\": [0, 1], \"y\": [299, 788]}, {\"line\": {\"shape\": \"spline\"}, \"mode\": \"lines\", \"showlegend\": false, \"type\": \"scatter\", \"x\": [0, 1], \"y\": [1014, 213]}, {\"line\": {\"shape\": \"spline\"}, \"mode\": \"lines\", \"showlegend\": false, \"type\": \"scatter\", \"x\": [0, 1], \"y\": [764, 9]}, {\"line\": {\"shape\": \"spline\"}, \"mode\": \"lines\", \"showlegend\": false, \"type\": \"scatter\", \"x\": [0, 1], \"y\": [27, 567]}, {\"line\": {\"shape\": \"spline\"}, \"mode\": \"lines\", \"showlegend\": false, \"type\": \"scatter\", \"x\": [0, 1], \"y\": [696, 703]}, {\"line\": {\"shape\": \"spline\"}, \"mode\": \"lines\", \"showlegend\": false, \"type\": \"scatter\", \"x\": [0, 1], \"y\": [1130, 212]}, {\"line\": {\"shape\": \"spline\"}, \"mode\": \"lines\", \"showlegend\": false, \"type\": \"scatter\", \"x\": [0, 1], \"y\": [70, 1084]}, {\"line\": {\"shape\": \"spline\"}, \"mode\": \"lines\", \"showlegend\": false, \"type\": \"scatter\", \"x\": [0, 1], \"y\": [665, 843]}, {\"line\": {\"shape\": \"spline\"}, \"mode\": \"lines\", \"showlegend\": false, \"type\": \"scatter\", \"x\": [0, 1], \"y\": [99, 1105]}, {\"line\": {\"shape\": \"spline\"}, \"mode\": \"lines\", \"showlegend\": false, \"type\": \"scatter\", \"x\": [0, 1], \"y\": [161, 962]}, {\"line\": {\"shape\": \"spline\"}, \"mode\": \"lines\", \"showlegend\": false, \"type\": \"scatter\", \"x\": [0, 1], \"y\": [213, 1152]}, {\"line\": {\"shape\": \"spline\"}, \"mode\": \"lines\", \"showlegend\": false, \"type\": \"scatter\", \"x\": [0, 1], \"y\": [240, 157]}, {\"line\": {\"shape\": \"spline\"}, \"mode\": \"lines\", \"showlegend\": false, \"type\": \"scatter\", \"x\": [0, 1], \"y\": [1268, 233]}, {\"line\": {\"shape\": \"spline\"}, \"mode\": \"lines\", \"showlegend\": false, \"type\": \"scatter\", \"x\": [0, 1], \"y\": [938, 262]}, {\"line\": {\"shape\": \"spline\"}, \"mode\": \"lines\", \"showlegend\": false, \"type\": \"scatter\", \"x\": [0, 1], \"y\": [135, 549]}, {\"line\": {\"shape\": \"spline\"}, \"mode\": \"lines\", \"showlegend\": false, \"type\": \"scatter\", \"x\": [0, 1], \"y\": [459, 266]}, {\"line\": {\"shape\": \"spline\"}, \"mode\": \"lines\", \"showlegend\": false, \"type\": \"scatter\", \"x\": [0, 1], \"y\": [1119, 1042]}, {\"line\": {\"shape\": \"spline\"}, \"mode\": \"lines\", \"showlegend\": false, \"type\": \"scatter\", \"x\": [0, 1], \"y\": [1134, 217]}, {\"line\": {\"shape\": \"spline\"}, \"mode\": \"lines\", \"showlegend\": false, \"type\": \"scatter\", \"x\": [0, 1], \"y\": [745, 895]}, {\"line\": {\"shape\": \"spline\"}, \"mode\": \"lines\", \"showlegend\": false, \"type\": \"scatter\", \"x\": [0, 1], \"y\": [313, 1228]}, {\"line\": {\"shape\": \"spline\"}, \"mode\": \"lines\", \"showlegend\": false, \"type\": \"scatter\", \"x\": [0, 1], \"y\": [235, 538]}, {\"line\": {\"shape\": \"spline\"}, \"mode\": \"lines\", \"showlegend\": false, \"type\": \"scatter\", \"x\": [0, 1], \"y\": [647, 729]}, {\"line\": {\"shape\": \"spline\"}, \"mode\": \"lines\", \"showlegend\": false, \"type\": \"scatter\", \"x\": [0, 1], \"y\": [46, 1023]}, {\"line\": {\"shape\": \"spline\"}, \"mode\": \"lines\", \"showlegend\": false, \"type\": \"scatter\", \"x\": [0, 1], \"y\": [667, 220]}, {\"line\": {\"shape\": \"spline\"}, \"mode\": \"lines\", \"showlegend\": false, \"type\": \"scatter\", \"x\": [0, 1], \"y\": [1045, 832]}, {\"line\": {\"shape\": \"spline\"}, \"mode\": \"lines\", \"showlegend\": false, \"type\": \"scatter\", \"x\": [0, 1], \"y\": [69, 1164]}, {\"line\": {\"shape\": \"spline\"}, \"mode\": \"lines\", \"showlegend\": false, \"type\": \"scatter\", \"x\": [0, 1], \"y\": [900, 855]}, {\"line\": {\"shape\": \"spline\"}, \"mode\": \"lines\", \"showlegend\": false, \"type\": \"scatter\", \"x\": [0, 1], \"y\": [314, 801]}, {\"line\": {\"shape\": \"spline\"}, \"mode\": \"lines\", \"showlegend\": false, \"type\": \"scatter\", \"x\": [0, 1], \"y\": [588, 742]}, {\"line\": {\"shape\": \"spline\"}, \"mode\": \"lines\", \"showlegend\": false, \"type\": \"scatter\", \"x\": [0, 1], \"y\": [982, 246]}, {\"line\": {\"shape\": \"spline\"}, \"mode\": \"lines\", \"showlegend\": false, \"type\": \"scatter\", \"x\": [0, 1], \"y\": [102, 50]}, {\"line\": {\"shape\": \"spline\"}, \"mode\": \"lines\", \"showlegend\": false, \"type\": \"scatter\", \"x\": [0, 1], \"y\": [99, 939]}, {\"line\": {\"shape\": \"spline\"}, \"mode\": \"lines\", \"showlegend\": false, \"type\": \"scatter\", \"x\": [0, 1], \"y\": [114, 930]}, {\"line\": {\"shape\": \"spline\"}, \"mode\": \"lines\", \"showlegend\": false, \"type\": \"scatter\", \"x\": [0, 1], \"y\": [554, 4]}, {\"line\": {\"shape\": \"spline\"}, \"mode\": \"lines\", \"showlegend\": false, \"type\": \"scatter\", \"x\": [0, 1], \"y\": [533, 257]}, {\"line\": {\"shape\": \"spline\"}, \"mode\": \"lines\", \"showlegend\": false, \"type\": \"scatter\", \"x\": [0, 1], \"y\": [187, 141]}, {\"line\": {\"shape\": \"spline\"}, \"mode\": \"lines\", \"showlegend\": false, \"type\": \"scatter\", \"x\": [0, 1], \"y\": [928, 1080]}, {\"line\": {\"shape\": \"spline\"}, \"mode\": \"lines\", \"showlegend\": false, \"type\": \"scatter\", \"x\": [0, 1], \"y\": [856, 1041]}, {\"line\": {\"shape\": \"spline\"}, \"mode\": \"lines\", \"showlegend\": false, \"type\": \"scatter\", \"x\": [0, 1], \"y\": [1274, 1090]}, {\"line\": {\"shape\": \"spline\"}, \"mode\": \"lines\", \"showlegend\": false, \"type\": \"scatter\", \"x\": [0, 1], \"y\": [355, 1]}, {\"line\": {\"shape\": \"spline\"}, \"mode\": \"lines\", \"showlegend\": false, \"type\": \"scatter\", \"x\": [0, 1], \"y\": [1085, 214]}, {\"line\": {\"shape\": \"spline\"}, \"mode\": \"lines\", \"showlegend\": false, \"type\": \"scatter\", \"x\": [0, 1], \"y\": [110, 21]}, {\"line\": {\"shape\": \"spline\"}, \"mode\": \"lines\", \"showlegend\": false, \"type\": \"scatter\", \"x\": [0, 1], \"y\": [965, 802]}, {\"line\": {\"shape\": \"spline\"}, \"mode\": \"lines\", \"showlegend\": false, \"type\": \"scatter\", \"x\": [0, 1], \"y\": [972, 426]}, {\"line\": {\"shape\": \"spline\"}, \"mode\": \"lines\", \"showlegend\": false, \"type\": \"scatter\", \"x\": [0, 1], \"y\": [1098, 758]}, {\"line\": {\"shape\": \"spline\"}, \"mode\": \"lines\", \"showlegend\": false, \"type\": \"scatter\", \"x\": [0, 1], \"y\": [172, 853]}, {\"line\": {\"shape\": \"spline\"}, \"mode\": \"lines\", \"showlegend\": false, \"type\": \"scatter\", \"x\": [0, 1], \"y\": [133, 726]}, {\"line\": {\"shape\": \"spline\"}, \"mode\": \"lines\", \"showlegend\": false, \"type\": \"scatter\", \"x\": [0, 1], \"y\": [1085, 1267]}, {\"line\": {\"shape\": \"spline\"}, \"mode\": \"lines\", \"showlegend\": false, \"type\": \"scatter\", \"x\": [0, 1], \"y\": [902, 1278]}, {\"line\": {\"shape\": \"spline\"}, \"mode\": \"lines\", \"showlegend\": false, \"type\": \"scatter\", \"x\": [0, 1], \"y\": [724, 739]}, {\"line\": {\"shape\": \"spline\"}, \"mode\": \"lines\", \"showlegend\": false, \"type\": \"scatter\", \"x\": [0, 1], \"y\": [323, 183]}, {\"line\": {\"shape\": \"spline\"}, \"mode\": \"lines\", \"showlegend\": false, \"type\": \"scatter\", \"x\": [0, 1], \"y\": [1185, 63]}, {\"line\": {\"shape\": \"spline\"}, \"mode\": \"lines\", \"showlegend\": false, \"type\": \"scatter\", \"x\": [0, 1], \"y\": [316, 884]}, {\"line\": {\"shape\": \"spline\"}, \"mode\": \"lines\", \"showlegend\": false, \"type\": \"scatter\", \"x\": [0, 1], \"y\": [1, 800]}, {\"line\": {\"shape\": \"spline\"}, \"mode\": \"lines\", \"showlegend\": false, \"type\": \"scatter\", \"x\": [0, 1], \"y\": [78, 846]}, {\"line\": {\"shape\": \"spline\"}, \"mode\": \"lines\", \"showlegend\": false, \"type\": \"scatter\", \"x\": [0, 1], \"y\": [1162, 865]}, {\"line\": {\"shape\": \"spline\"}, \"mode\": \"lines\", \"showlegend\": false, \"type\": \"scatter\", \"x\": [0, 1], \"y\": [505, 1184]}, {\"line\": {\"shape\": \"spline\"}, \"mode\": \"lines\", \"showlegend\": false, \"type\": \"scatter\", \"x\": [0, 1], \"y\": [482, 714]}, {\"line\": {\"shape\": \"spline\"}, \"mode\": \"lines\", \"showlegend\": false, \"type\": \"scatter\", \"x\": [0, 1], \"y\": [89, 1040]}, {\"line\": {\"shape\": \"spline\"}, \"mode\": \"lines\", \"showlegend\": false, \"type\": \"scatter\", \"x\": [0, 1], \"y\": [1253, 73]}, {\"line\": {\"shape\": \"spline\"}, \"mode\": \"lines\", \"showlegend\": false, \"type\": \"scatter\", \"x\": [0, 1], \"y\": [701, 164]}, {\"line\": {\"shape\": \"spline\"}, \"mode\": \"lines\", \"showlegend\": false, \"type\": \"scatter\", \"x\": [0, 1], \"y\": [590, 680]}, {\"line\": {\"shape\": \"spline\"}, \"mode\": \"lines\", \"showlegend\": false, \"type\": \"scatter\", \"x\": [0, 1], \"y\": [1188, 1124]}, {\"line\": {\"shape\": \"spline\"}, \"mode\": \"lines\", \"showlegend\": false, \"type\": \"scatter\", \"x\": [0, 1], \"y\": [109, 65]}, {\"line\": {\"shape\": \"spline\"}, \"mode\": \"lines\", \"showlegend\": false, \"type\": \"scatter\", \"x\": [0, 1], \"y\": [521, 770]}, {\"line\": {\"shape\": \"spline\"}, \"mode\": \"lines\", \"showlegend\": false, \"type\": \"scatter\", \"x\": [0, 1], \"y\": [211, 293]}, {\"line\": {\"shape\": \"spline\"}, \"mode\": \"lines\", \"showlegend\": false, \"type\": \"scatter\", \"x\": [0, 1], \"y\": [788, 799]}, {\"line\": {\"shape\": \"spline\"}, \"mode\": \"lines\", \"showlegend\": false, \"type\": \"scatter\", \"x\": [0, 1], \"y\": [771, 830]}, {\"line\": {\"shape\": \"spline\"}, \"mode\": \"lines\", \"showlegend\": false, \"type\": \"scatter\", \"x\": [0, 1], \"y\": [387, 59]}, {\"line\": {\"shape\": \"spline\"}, \"mode\": \"lines\", \"showlegend\": false, \"type\": \"scatter\", \"x\": [0, 1], \"y\": [1167, 402]}, {\"line\": {\"shape\": \"spline\"}, \"mode\": \"lines\", \"showlegend\": false, \"type\": \"scatter\", \"x\": [0, 1], \"y\": [505, 797]}, {\"line\": {\"shape\": \"spline\"}, \"mode\": \"lines\", \"showlegend\": false, \"type\": \"scatter\", \"x\": [0, 1], \"y\": [318, 687]}, {\"line\": {\"shape\": \"spline\"}, \"mode\": \"lines\", \"showlegend\": false, \"type\": \"scatter\", \"x\": [0, 1], \"y\": [741, 662]}, {\"line\": {\"shape\": \"spline\"}, \"mode\": \"lines\", \"showlegend\": false, \"type\": \"scatter\", \"x\": [0, 1], \"y\": [1250, 363]}, {\"line\": {\"shape\": \"spline\"}, \"mode\": \"lines\", \"showlegend\": false, \"type\": \"scatter\", \"x\": [0, 1], \"y\": [984, 860]}, {\"line\": {\"shape\": \"spline\"}, \"mode\": \"lines\", \"showlegend\": false, \"type\": \"scatter\", \"x\": [0, 1], \"y\": [1255, 160]}, {\"line\": {\"shape\": \"spline\"}, \"mode\": \"lines\", \"showlegend\": false, \"type\": \"scatter\", \"x\": [0, 1], \"y\": [856, 398]}, {\"line\": {\"shape\": \"spline\"}, \"mode\": \"lines\", \"showlegend\": false, \"type\": \"scatter\", \"x\": [0, 1], \"y\": [993, 750]}, {\"line\": {\"shape\": \"spline\"}, \"mode\": \"lines\", \"showlegend\": false, \"type\": \"scatter\", \"x\": [0, 1], \"y\": [1113, 842]}, {\"line\": {\"shape\": \"spline\"}, \"mode\": \"lines\", \"showlegend\": false, \"type\": \"scatter\", \"x\": [0, 1], \"y\": [745, 420]}, {\"line\": {\"shape\": \"spline\"}, \"mode\": \"lines\", \"showlegend\": false, \"type\": \"scatter\", \"x\": [0, 1], \"y\": [219, 765]}, {\"line\": {\"shape\": \"spline\"}, \"mode\": \"lines\", \"showlegend\": false, \"type\": \"scatter\", \"x\": [0, 1], \"y\": [687, 126]}, {\"line\": {\"shape\": \"spline\"}, \"mode\": \"lines\", \"showlegend\": false, \"type\": \"scatter\", \"x\": [0, 1], \"y\": [740, 210]}, {\"line\": {\"shape\": \"spline\"}, \"mode\": \"lines\", \"showlegend\": false, \"type\": \"scatter\", \"x\": [0, 1], \"y\": [390, 98]}, {\"line\": {\"shape\": \"spline\"}, \"mode\": \"lines\", \"showlegend\": false, \"type\": \"scatter\", \"x\": [0, 1], \"y\": [1227, 1226]}, {\"line\": {\"shape\": \"spline\"}, \"mode\": \"lines\", \"showlegend\": false, \"type\": \"scatter\", \"x\": [0, 1], \"y\": [618, 142]}, {\"line\": {\"shape\": \"spline\"}, \"mode\": \"lines\", \"showlegend\": false, \"type\": \"scatter\", \"x\": [0, 1], \"y\": [875, 666]}, {\"line\": {\"shape\": \"spline\"}, \"mode\": \"lines\", \"showlegend\": false, \"type\": \"scatter\", \"x\": [0, 1], \"y\": [932, 128]}, {\"line\": {\"shape\": \"spline\"}, \"mode\": \"lines\", \"showlegend\": false, \"type\": \"scatter\", \"x\": [0, 1], \"y\": [635, 481]}, {\"line\": {\"shape\": \"spline\"}, \"mode\": \"lines\", \"showlegend\": false, \"type\": \"scatter\", \"x\": [0, 1], \"y\": [1141, 188]}, {\"line\": {\"shape\": \"spline\"}, \"mode\": \"lines\", \"showlegend\": false, \"type\": \"scatter\", \"x\": [0, 1], \"y\": [1072, 1216]}, {\"line\": {\"shape\": \"spline\"}, \"mode\": \"lines\", \"showlegend\": false, \"type\": \"scatter\", \"x\": [0, 1], \"y\": [684, 837]}, {\"line\": {\"shape\": \"spline\"}, \"mode\": \"lines\", \"showlegend\": false, \"type\": \"scatter\", \"x\": [0, 1], \"y\": [332, 1130]}, {\"line\": {\"shape\": \"spline\"}, \"mode\": \"lines\", \"showlegend\": false, \"type\": \"scatter\", \"x\": [0, 1], \"y\": [528, 741]}, {\"line\": {\"shape\": \"spline\"}, \"mode\": \"lines\", \"showlegend\": false, \"type\": \"scatter\", \"x\": [0, 1], \"y\": [1226, 217]}, {\"line\": {\"shape\": \"spline\"}, \"mode\": \"lines\", \"showlegend\": false, \"type\": \"scatter\", \"x\": [0, 1], \"y\": [707, 913]}, {\"line\": {\"shape\": \"spline\"}, \"mode\": \"lines\", \"showlegend\": false, \"type\": \"scatter\", \"x\": [0, 1], \"y\": [973, 138]}, {\"line\": {\"shape\": \"spline\"}, \"mode\": \"lines\", \"showlegend\": false, \"type\": \"scatter\", \"x\": [0, 1], \"y\": [128, 760]}, {\"line\": {\"shape\": \"spline\"}, \"mode\": \"lines\", \"showlegend\": false, \"type\": \"scatter\", \"x\": [0, 1], \"y\": [692, 1110]}, {\"line\": {\"shape\": \"spline\"}, \"mode\": \"lines\", \"showlegend\": false, \"type\": \"scatter\", \"x\": [0, 1], \"y\": [1112, 1217]}, {\"line\": {\"shape\": \"spline\"}, \"mode\": \"lines\", \"showlegend\": false, \"type\": \"scatter\", \"x\": [0, 1], \"y\": [1039, 117]}, {\"line\": {\"shape\": \"spline\"}, \"mode\": \"lines\", \"showlegend\": false, \"type\": \"scatter\", \"x\": [0, 1], \"y\": [1272, 969]}, {\"line\": {\"shape\": \"spline\"}, \"mode\": \"lines\", \"showlegend\": false, \"type\": \"scatter\", \"x\": [0, 1], \"y\": [1089, 572]}, {\"line\": {\"shape\": \"spline\"}, \"mode\": \"lines\", \"showlegend\": false, \"type\": \"scatter\", \"x\": [0, 1], \"y\": [197, 1226]}, {\"line\": {\"shape\": \"spline\"}, \"mode\": \"lines\", \"showlegend\": false, \"type\": \"scatter\", \"x\": [0, 1], \"y\": [1183, 1120]}, {\"line\": {\"shape\": \"spline\"}, \"mode\": \"lines\", \"showlegend\": false, \"type\": \"scatter\", \"x\": [0, 1], \"y\": [219, 1145]}, {\"line\": {\"shape\": \"spline\"}, \"mode\": \"lines\", \"showlegend\": false, \"type\": \"scatter\", \"x\": [0, 1], \"y\": [830, 127]}, {\"line\": {\"shape\": \"spline\"}, \"mode\": \"lines\", \"showlegend\": false, \"type\": \"scatter\", \"x\": [0, 1], \"y\": [897, 390]}, {\"line\": {\"shape\": \"spline\"}, \"mode\": \"lines\", \"showlegend\": false, \"type\": \"scatter\", \"x\": [0, 1], \"y\": [909, 1086]}, {\"line\": {\"shape\": \"spline\"}, \"mode\": \"lines\", \"showlegend\": false, \"type\": \"scatter\", \"x\": [0, 1], \"y\": [1221, 54]}, {\"line\": {\"shape\": \"spline\"}, \"mode\": \"lines\", \"showlegend\": false, \"type\": \"scatter\", \"x\": [0, 1], \"y\": [132, 548]}, {\"line\": {\"shape\": \"spline\"}, \"mode\": \"lines\", \"showlegend\": false, \"type\": \"scatter\", \"x\": [0, 1], \"y\": [540, 325]}, {\"line\": {\"shape\": \"spline\"}, \"mode\": \"lines\", \"showlegend\": false, \"type\": \"scatter\", \"x\": [0, 1], \"y\": [1042, 166]}, {\"line\": {\"shape\": \"spline\"}, \"mode\": \"lines\", \"showlegend\": false, \"type\": \"scatter\", \"x\": [0, 1], \"y\": [158, 119]}, {\"line\": {\"shape\": \"spline\"}, \"mode\": \"lines\", \"showlegend\": false, \"type\": \"scatter\", \"x\": [0, 1], \"y\": [1046, 77]}, {\"line\": {\"shape\": \"spline\"}, \"mode\": \"lines\", \"showlegend\": false, \"type\": \"scatter\", \"x\": [0, 1], \"y\": [512, 1260]}, {\"line\": {\"shape\": \"spline\"}, \"mode\": \"lines\", \"showlegend\": false, \"type\": \"scatter\", \"x\": [0, 1], \"y\": [616, 393]}, {\"line\": {\"shape\": \"spline\"}, \"mode\": \"lines\", \"showlegend\": false, \"type\": \"scatter\", \"x\": [0, 1], \"y\": [839, 370]}, {\"line\": {\"shape\": \"spline\"}, \"mode\": \"lines\", \"showlegend\": false, \"type\": \"scatter\", \"x\": [0, 1], \"y\": [1279, 48]}, {\"line\": {\"shape\": \"spline\"}, \"mode\": \"lines\", \"showlegend\": false, \"type\": \"scatter\", \"x\": [0, 1], \"y\": [534, 61]}, {\"line\": {\"shape\": \"spline\"}, \"mode\": \"lines\", \"showlegend\": false, \"type\": \"scatter\", \"x\": [0, 1], \"y\": [931, 887]}, {\"line\": {\"shape\": \"spline\"}, \"mode\": \"lines\", \"showlegend\": false, \"type\": \"scatter\", \"x\": [0, 1], \"y\": [951, 722]}, {\"line\": {\"shape\": \"spline\"}, \"mode\": \"lines\", \"showlegend\": false, \"type\": \"scatter\", \"x\": [0, 1], \"y\": [470, 474]}, {\"line\": {\"shape\": \"spline\"}, \"mode\": \"lines\", \"showlegend\": false, \"type\": \"scatter\", \"x\": [0, 1], \"y\": [387, 267]}, {\"line\": {\"shape\": \"spline\"}, \"mode\": \"lines\", \"showlegend\": false, \"type\": \"scatter\", \"x\": [0, 1], \"y\": [1183, 1144]}, {\"line\": {\"shape\": \"spline\"}, \"mode\": \"lines\", \"showlegend\": false, \"type\": \"scatter\", \"x\": [0, 1], \"y\": [1227, 979]}, {\"line\": {\"shape\": \"spline\"}, \"mode\": \"lines\", \"showlegend\": false, \"type\": \"scatter\", \"x\": [0, 1], \"y\": [60, 78]}, {\"line\": {\"shape\": \"spline\"}, \"mode\": \"lines\", \"showlegend\": false, \"type\": \"scatter\", \"x\": [0, 1], \"y\": [700, 281]}, {\"line\": {\"shape\": \"spline\"}, \"mode\": \"lines\", \"showlegend\": false, \"type\": \"scatter\", \"x\": [0, 1], \"y\": [638, 495]}, {\"line\": {\"shape\": \"spline\"}, \"mode\": \"lines\", \"showlegend\": false, \"type\": \"scatter\", \"x\": [0, 1], \"y\": [212, 171]}, {\"line\": {\"shape\": \"spline\"}, \"mode\": \"lines\", \"showlegend\": false, \"type\": \"scatter\", \"x\": [0, 1], \"y\": [48, 952]}, {\"line\": {\"shape\": \"spline\"}, \"mode\": \"lines\", \"showlegend\": false, \"type\": \"scatter\", \"x\": [0, 1], \"y\": [12, 76]}, {\"line\": {\"shape\": \"spline\"}, \"mode\": \"lines\", \"showlegend\": false, \"type\": \"scatter\", \"x\": [0, 1], \"y\": [550, 1049]}, {\"line\": {\"shape\": \"spline\"}, \"mode\": \"lines\", \"showlegend\": false, \"type\": \"scatter\", \"x\": [0, 1], \"y\": [839, 652]}, {\"line\": {\"shape\": \"spline\"}, \"mode\": \"lines\", \"showlegend\": false, \"type\": \"scatter\", \"x\": [0, 1], \"y\": [1199, 383]}, {\"line\": {\"shape\": \"spline\"}, \"mode\": \"lines\", \"showlegend\": false, \"type\": \"scatter\", \"x\": [0, 1], \"y\": [755, 46]}, {\"line\": {\"shape\": \"spline\"}, \"mode\": \"lines\", \"showlegend\": false, \"type\": \"scatter\", \"x\": [0, 1], \"y\": [952, 685]}, {\"line\": {\"shape\": \"spline\"}, \"mode\": \"lines\", \"showlegend\": false, \"type\": \"scatter\", \"x\": [0, 1], \"y\": [466, 811]}, {\"line\": {\"shape\": \"spline\"}, \"mode\": \"lines\", \"showlegend\": false, \"type\": \"scatter\", \"x\": [0, 1], \"y\": [703, 979]}, {\"line\": {\"shape\": \"spline\"}, \"mode\": \"lines\", \"showlegend\": false, \"type\": \"scatter\", \"x\": [0, 1], \"y\": [312, 1189]}, {\"line\": {\"shape\": \"spline\"}, \"mode\": \"lines\", \"showlegend\": false, \"type\": \"scatter\", \"x\": [0, 1], \"y\": [9, 873]}, {\"line\": {\"shape\": \"spline\"}, \"mode\": \"lines\", \"showlegend\": false, \"type\": \"scatter\", \"x\": [0, 1], \"y\": [120, 731]}, {\"line\": {\"shape\": \"spline\"}, \"mode\": \"lines\", \"showlegend\": false, \"type\": \"scatter\", \"x\": [0, 1], \"y\": [199, 299]}, {\"line\": {\"shape\": \"spline\"}, \"mode\": \"lines\", \"showlegend\": false, \"type\": \"scatter\", \"x\": [0, 1], \"y\": [1157, 621]}, {\"line\": {\"shape\": \"spline\"}, \"mode\": \"lines\", \"showlegend\": false, \"type\": \"scatter\", \"x\": [0, 1], \"y\": [29, 854]}, {\"line\": {\"shape\": \"spline\"}, \"mode\": \"lines\", \"showlegend\": false, \"type\": \"scatter\", \"x\": [0, 1], \"y\": [323, 362]}, {\"line\": {\"shape\": \"spline\"}, \"mode\": \"lines\", \"showlegend\": false, \"type\": \"scatter\", \"x\": [0, 1], \"y\": [368, 375]}, {\"line\": {\"shape\": \"spline\"}, \"mode\": \"lines\", \"showlegend\": false, \"type\": \"scatter\", \"x\": [0, 1], \"y\": [529, 835]}, {\"line\": {\"shape\": \"spline\"}, \"mode\": \"lines\", \"showlegend\": false, \"type\": \"scatter\", \"x\": [0, 1], \"y\": [1177, 861]}, {\"line\": {\"shape\": \"spline\"}, \"mode\": \"lines\", \"showlegend\": false, \"type\": \"scatter\", \"x\": [0, 1], \"y\": [2, 26]}, {\"line\": {\"shape\": \"spline\"}, \"mode\": \"lines\", \"showlegend\": false, \"type\": \"scatter\", \"x\": [0, 1], \"y\": [1156, 507]}, {\"line\": {\"shape\": \"spline\"}, \"mode\": \"lines\", \"showlegend\": false, \"type\": \"scatter\", \"x\": [0, 1], \"y\": [94, 334]}, {\"line\": {\"shape\": \"spline\"}, \"mode\": \"lines\", \"showlegend\": false, \"type\": \"scatter\", \"x\": [0, 1], \"y\": [412, 209]}, {\"line\": {\"shape\": \"spline\"}, \"mode\": \"lines\", \"showlegend\": false, \"type\": \"scatter\", \"x\": [0, 1], \"y\": [473, 358]}, {\"line\": {\"shape\": \"spline\"}, \"mode\": \"lines\", \"showlegend\": false, \"type\": \"scatter\", \"x\": [0, 1], \"y\": [245, 1110]}, {\"line\": {\"shape\": \"spline\"}, \"mode\": \"lines\", \"showlegend\": false, \"type\": \"scatter\", \"x\": [0, 1], \"y\": [484, 719]}, {\"line\": {\"shape\": \"spline\"}, \"mode\": \"lines\", \"showlegend\": false, \"type\": \"scatter\", \"x\": [0, 1], \"y\": [18, 57]}, {\"line\": {\"shape\": \"spline\"}, \"mode\": \"lines\", \"showlegend\": false, \"type\": \"scatter\", \"x\": [0, 1], \"y\": [360, 862]}, {\"line\": {\"shape\": \"spline\"}, \"mode\": \"lines\", \"showlegend\": false, \"type\": \"scatter\", \"x\": [0, 1], \"y\": [126, 536]}, {\"line\": {\"shape\": \"spline\"}, \"mode\": \"lines\", \"showlegend\": false, \"type\": \"scatter\", \"x\": [0, 1], \"y\": [1125, 67]}, {\"line\": {\"shape\": \"spline\"}, \"mode\": \"lines\", \"showlegend\": false, \"type\": \"scatter\", \"x\": [0, 1], \"y\": [42, 583]}, {\"line\": {\"shape\": \"spline\"}, \"mode\": \"lines\", \"showlegend\": false, \"type\": \"scatter\", \"x\": [0, 1], \"y\": [572, 698]}, {\"line\": {\"shape\": \"spline\"}, \"mode\": \"lines\", \"showlegend\": false, \"type\": \"scatter\", \"x\": [0, 1], \"y\": [1000, 836]}, {\"line\": {\"shape\": \"spline\"}, \"mode\": \"lines\", \"showlegend\": false, \"type\": \"scatter\", \"x\": [0, 1], \"y\": [931, 71]}, {\"line\": {\"shape\": \"spline\"}, \"mode\": \"lines\", \"showlegend\": false, \"type\": \"scatter\", \"x\": [0, 1], \"y\": [532, 173]}, {\"line\": {\"shape\": \"spline\"}, \"mode\": \"lines\", \"showlegend\": false, \"type\": \"scatter\", \"x\": [0, 1], \"y\": [103, 588]}, {\"line\": {\"shape\": \"spline\"}, \"mode\": \"lines\", \"showlegend\": false, \"type\": \"scatter\", \"x\": [0, 1], \"y\": [120, 458]}, {\"line\": {\"shape\": \"spline\"}, \"mode\": \"lines\", \"showlegend\": false, \"type\": \"scatter\", \"x\": [0, 1], \"y\": [260, 1246]}, {\"line\": {\"shape\": \"spline\"}, \"mode\": \"lines\", \"showlegend\": false, \"type\": \"scatter\", \"x\": [0, 1], \"y\": [751, 586]}, {\"line\": {\"shape\": \"spline\"}, \"mode\": \"lines\", \"showlegend\": false, \"type\": \"scatter\", \"x\": [0, 1], \"y\": [900, 109]}, {\"line\": {\"shape\": \"spline\"}, \"mode\": \"lines\", \"showlegend\": false, \"type\": \"scatter\", \"x\": [0, 1], \"y\": [603, 117]}, {\"line\": {\"shape\": \"spline\"}, \"mode\": \"lines\", \"showlegend\": false, \"type\": \"scatter\", \"x\": [0, 1], \"y\": [1198, 1009]}, {\"line\": {\"shape\": \"spline\"}, \"mode\": \"lines\", \"showlegend\": false, \"type\": \"scatter\", \"x\": [0, 1], \"y\": [782, 215]}, {\"line\": {\"shape\": \"spline\"}, \"mode\": \"lines\", \"showlegend\": false, \"type\": \"scatter\", \"x\": [0, 1], \"y\": [923, 107]}, {\"line\": {\"shape\": \"spline\"}, \"mode\": \"lines\", \"showlegend\": false, \"type\": \"scatter\", \"x\": [0, 1], \"y\": [464, 41]}, {\"line\": {\"shape\": \"spline\"}, \"mode\": \"lines\", \"showlegend\": false, \"type\": \"scatter\", \"x\": [0, 1], \"y\": [359, 988]}, {\"line\": {\"shape\": \"spline\"}, \"mode\": \"lines\", \"showlegend\": false, \"type\": \"scatter\", \"x\": [0, 1], \"y\": [1132, 480]}, {\"line\": {\"shape\": \"spline\"}, \"mode\": \"lines\", \"showlegend\": false, \"type\": \"scatter\", \"x\": [0, 1], \"y\": [1007, 1226]}, {\"line\": {\"shape\": \"spline\"}, \"mode\": \"lines\", \"showlegend\": false, \"type\": \"scatter\", \"x\": [0, 1], \"y\": [887, 800]}, {\"line\": {\"shape\": \"spline\"}, \"mode\": \"lines\", \"showlegend\": false, \"type\": \"scatter\", \"x\": [0, 1], \"y\": [506, 452]}, {\"line\": {\"shape\": \"spline\"}, \"mode\": \"lines\", \"showlegend\": false, \"type\": \"scatter\", \"x\": [0, 1], \"y\": [66, 585]}, {\"line\": {\"shape\": \"spline\"}, \"mode\": \"lines\", \"showlegend\": false, \"type\": \"scatter\", \"x\": [0, 1], \"y\": [1127, 150]}, {\"line\": {\"shape\": \"spline\"}, \"mode\": \"lines\", \"showlegend\": false, \"type\": \"scatter\", \"x\": [0, 1], \"y\": [549, 865]}, {\"line\": {\"shape\": \"spline\"}, \"mode\": \"lines\", \"showlegend\": false, \"type\": \"scatter\", \"x\": [0, 1], \"y\": [646, 661]}, {\"line\": {\"shape\": \"spline\"}, \"mode\": \"lines\", \"showlegend\": false, \"type\": \"scatter\", \"x\": [0, 1], \"y\": [1048, 1061]}, {\"line\": {\"shape\": \"spline\"}, \"mode\": \"lines\", \"showlegend\": false, \"type\": \"scatter\", \"x\": [0, 1], \"y\": [98, 1257]}, {\"line\": {\"shape\": \"spline\"}, \"mode\": \"lines\", \"showlegend\": false, \"type\": \"scatter\", \"x\": [0, 1], \"y\": [2, 1007]}, {\"line\": {\"shape\": \"spline\"}, \"mode\": \"lines\", \"showlegend\": false, \"type\": \"scatter\", \"x\": [0, 1], \"y\": [41, 923]}, {\"line\": {\"shape\": \"spline\"}, \"mode\": \"lines\", \"showlegend\": false, \"type\": \"scatter\", \"x\": [0, 1], \"y\": [421, 198]}, {\"line\": {\"shape\": \"spline\"}, \"mode\": \"lines\", \"showlegend\": false, \"type\": \"scatter\", \"x\": [0, 1], \"y\": [56, 138]}, {\"line\": {\"shape\": \"spline\"}, \"mode\": \"lines\", \"showlegend\": false, \"type\": \"scatter\", \"x\": [0, 1], \"y\": [860, 504]}, {\"line\": {\"shape\": \"spline\"}, \"mode\": \"lines\", \"showlegend\": false, \"type\": \"scatter\", \"x\": [0, 1], \"y\": [273, 689]}, {\"line\": {\"shape\": \"spline\"}, \"mode\": \"lines\", \"showlegend\": false, \"type\": \"scatter\", \"x\": [0, 1], \"y\": [382, 128]}, {\"line\": {\"shape\": \"spline\"}, \"mode\": \"lines\", \"showlegend\": false, \"type\": \"scatter\", \"x\": [0, 1], \"y\": [1259, 895]}, {\"line\": {\"shape\": \"spline\"}, \"mode\": \"lines\", \"showlegend\": false, \"type\": \"scatter\", \"x\": [0, 1], \"y\": [826, 1259]}, {\"line\": {\"shape\": \"spline\"}, \"mode\": \"lines\", \"showlegend\": false, \"type\": \"scatter\", \"x\": [0, 1], \"y\": [861, 1102]}, {\"line\": {\"shape\": \"spline\"}, \"mode\": \"lines\", \"showlegend\": false, \"type\": \"scatter\", \"x\": [0, 1], \"y\": [865, 56]}, {\"line\": {\"shape\": \"spline\"}, \"mode\": \"lines\", \"showlegend\": false, \"type\": \"scatter\", \"x\": [0, 1], \"y\": [1001, 209]}, {\"line\": {\"shape\": \"spline\"}, \"mode\": \"lines\", \"showlegend\": false, \"type\": \"scatter\", \"x\": [0, 1], \"y\": [6, 483]}, {\"line\": {\"shape\": \"spline\"}, \"mode\": \"lines\", \"showlegend\": false, \"type\": \"scatter\", \"x\": [0, 1], \"y\": [944, 502]}, {\"line\": {\"shape\": \"spline\"}, \"mode\": \"lines\", \"showlegend\": false, \"type\": \"scatter\", \"x\": [0, 1], \"y\": [1067, 497]}, {\"line\": {\"shape\": \"spline\"}, \"mode\": \"lines\", \"showlegend\": false, \"type\": \"scatter\", \"x\": [0, 1], \"y\": [1199, 359]}, {\"line\": {\"shape\": \"spline\"}, \"mode\": \"lines\", \"showlegend\": false, \"type\": \"scatter\", \"x\": [0, 1], \"y\": [738, 12]}, {\"line\": {\"shape\": \"spline\"}, \"mode\": \"lines\", \"showlegend\": false, \"type\": \"scatter\", \"x\": [0, 1], \"y\": [694, 256]}, {\"line\": {\"shape\": \"spline\"}, \"mode\": \"lines\", \"showlegend\": false, \"type\": \"scatter\", \"x\": [0, 1], \"y\": [1185, 345]}, {\"line\": {\"shape\": \"spline\"}, \"mode\": \"lines\", \"showlegend\": false, \"type\": \"scatter\", \"x\": [0, 1], \"y\": [677, 1239]}, {\"line\": {\"shape\": \"spline\"}, \"mode\": \"lines\", \"showlegend\": false, \"type\": \"scatter\", \"x\": [0, 1], \"y\": [946, 69]}, {\"line\": {\"shape\": \"spline\"}, \"mode\": \"lines\", \"showlegend\": false, \"type\": \"scatter\", \"x\": [0, 1], \"y\": [1118, 805]}, {\"line\": {\"shape\": \"spline\"}, \"mode\": \"lines\", \"showlegend\": false, \"type\": \"scatter\", \"x\": [0, 1], \"y\": [554, 717]}, {\"line\": {\"shape\": \"spline\"}, \"mode\": \"lines\", \"showlegend\": false, \"type\": \"scatter\", \"x\": [0, 1], \"y\": [724, 188]}, {\"line\": {\"shape\": \"spline\"}, \"mode\": \"lines\", \"showlegend\": false, \"type\": \"scatter\", \"x\": [0, 1], \"y\": [447, 864]}, {\"line\": {\"shape\": \"spline\"}, \"mode\": \"lines\", \"showlegend\": false, \"type\": \"scatter\", \"x\": [0, 1], \"y\": [462, 1224]}, {\"line\": {\"shape\": \"spline\"}, \"mode\": \"lines\", \"showlegend\": false, \"type\": \"scatter\", \"x\": [0, 1], \"y\": [251, 300]}, {\"line\": {\"shape\": \"spline\"}, \"mode\": \"lines\", \"showlegend\": false, \"type\": \"scatter\", \"x\": [0, 1], \"y\": [164, 594]}, {\"line\": {\"shape\": \"spline\"}, \"mode\": \"lines\", \"showlegend\": false, \"type\": \"scatter\", \"x\": [0, 1], \"y\": [820, 1261]}, {\"line\": {\"shape\": \"spline\"}, \"mode\": \"lines\", \"showlegend\": false, \"type\": \"scatter\", \"x\": [0, 1], \"y\": [1103, 220]}, {\"line\": {\"shape\": \"spline\"}, \"mode\": \"lines\", \"showlegend\": false, \"type\": \"scatter\", \"x\": [0, 1], \"y\": [277, 939]}, {\"line\": {\"shape\": \"spline\"}, \"mode\": \"lines\", \"showlegend\": false, \"type\": \"scatter\", \"x\": [0, 1], \"y\": [1060, 862]}, {\"line\": {\"shape\": \"spline\"}, \"mode\": \"lines\", \"showlegend\": false, \"type\": \"scatter\", \"x\": [0, 1], \"y\": [887, 128]}, {\"line\": {\"shape\": \"spline\"}, \"mode\": \"lines\", \"showlegend\": false, \"type\": \"scatter\", \"x\": [0, 1], \"y\": [1037, 1012]}, {\"line\": {\"shape\": \"spline\"}, \"mode\": \"lines\", \"showlegend\": false, \"type\": \"scatter\", \"x\": [0, 1], \"y\": [1148, 402]}, {\"line\": {\"shape\": \"spline\"}, \"mode\": \"lines\", \"showlegend\": false, \"type\": \"scatter\", \"x\": [0, 1], \"y\": [350, 1036]}, {\"line\": {\"shape\": \"spline\"}, \"mode\": \"lines\", \"showlegend\": false, \"type\": \"scatter\", \"x\": [0, 1], \"y\": [1237, 991]}, {\"line\": {\"shape\": \"spline\"}, \"mode\": \"lines\", \"showlegend\": false, \"type\": \"scatter\", \"x\": [0, 1], \"y\": [242, 270]}, {\"line\": {\"shape\": \"spline\"}, \"mode\": \"lines\", \"showlegend\": false, \"type\": \"scatter\", \"x\": [0, 1], \"y\": [675, 331]}, {\"line\": {\"shape\": \"spline\"}, \"mode\": \"lines\", \"showlegend\": false, \"type\": \"scatter\", \"x\": [0, 1], \"y\": [723, 639]}, {\"line\": {\"shape\": \"spline\"}, \"mode\": \"lines\", \"showlegend\": false, \"type\": \"scatter\", \"x\": [0, 1], \"y\": [1253, 928]}, {\"line\": {\"shape\": \"spline\"}, \"mode\": \"lines\", \"showlegend\": false, \"type\": \"scatter\", \"x\": [0, 1], \"y\": [826, 664]}, {\"line\": {\"shape\": \"spline\"}, \"mode\": \"lines\", \"showlegend\": false, \"type\": \"scatter\", \"x\": [0, 1], \"y\": [547, 797]}, {\"line\": {\"shape\": \"spline\"}, \"mode\": \"lines\", \"showlegend\": false, \"type\": \"scatter\", \"x\": [0, 1], \"y\": [1085, 487]}, {\"line\": {\"shape\": \"spline\"}, \"mode\": \"lines\", \"showlegend\": false, \"type\": \"scatter\", \"x\": [0, 1], \"y\": [676, 595]}, {\"line\": {\"shape\": \"spline\"}, \"mode\": \"lines\", \"showlegend\": false, \"type\": \"scatter\", \"x\": [0, 1], \"y\": [155, 311]}, {\"line\": {\"shape\": \"spline\"}, \"mode\": \"lines\", \"showlegend\": false, \"type\": \"scatter\", \"x\": [0, 1], \"y\": [1042, 967]}, {\"line\": {\"shape\": \"spline\"}, \"mode\": \"lines\", \"showlegend\": false, \"type\": \"scatter\", \"x\": [0, 1], \"y\": [281, 1052]}, {\"line\": {\"shape\": \"spline\"}, \"mode\": \"lines\", \"showlegend\": false, \"type\": \"scatter\", \"x\": [0, 1], \"y\": [969, 947]}, {\"line\": {\"shape\": \"spline\"}, \"mode\": \"lines\", \"showlegend\": false, \"type\": \"scatter\", \"x\": [0, 1], \"y\": [820, 1221]}, {\"line\": {\"shape\": \"spline\"}, \"mode\": \"lines\", \"showlegend\": false, \"type\": \"scatter\", \"x\": [0, 1], \"y\": [963, 8]}, {\"line\": {\"shape\": \"spline\"}, \"mode\": \"lines\", \"showlegend\": false, \"type\": \"scatter\", \"x\": [0, 1], \"y\": [966, 785]}, {\"line\": {\"shape\": \"spline\"}, \"mode\": \"lines\", \"showlegend\": false, \"type\": \"scatter\", \"x\": [0, 1], \"y\": [933, 1052]}, {\"line\": {\"shape\": \"spline\"}, \"mode\": \"lines\", \"showlegend\": false, \"type\": \"scatter\", \"x\": [0, 1], \"y\": [2, 803]}, {\"line\": {\"shape\": \"spline\"}, \"mode\": \"lines\", \"showlegend\": false, \"type\": \"scatter\", \"x\": [0, 1], \"y\": [558, 53]}, {\"line\": {\"shape\": \"spline\"}, \"mode\": \"lines\", \"showlegend\": false, \"type\": \"scatter\", \"x\": [0, 1], \"y\": [108, 806]}, {\"line\": {\"shape\": \"spline\"}, \"mode\": \"lines\", \"showlegend\": false, \"type\": \"scatter\", \"x\": [0, 1], \"y\": [921, 423]}, {\"line\": {\"shape\": \"spline\"}, \"mode\": \"lines\", \"showlegend\": false, \"type\": \"scatter\", \"x\": [0, 1], \"y\": [371, 996]}, {\"line\": {\"shape\": \"spline\"}, \"mode\": \"lines\", \"showlegend\": false, \"type\": \"scatter\", \"x\": [0, 1], \"y\": [927, 1129]}, {\"line\": {\"shape\": \"spline\"}, \"mode\": \"lines\", \"showlegend\": false, \"type\": \"scatter\", \"x\": [0, 1], \"y\": [1091, 5]}, {\"line\": {\"shape\": \"spline\"}, \"mode\": \"lines\", \"showlegend\": false, \"type\": \"scatter\", \"x\": [0, 1], \"y\": [944, 74]}, {\"line\": {\"shape\": \"spline\"}, \"mode\": \"lines\", \"showlegend\": false, \"type\": \"scatter\", \"x\": [0, 1], \"y\": [116, 989]}, {\"line\": {\"shape\": \"spline\"}, \"mode\": \"lines\", \"showlegend\": false, \"type\": \"scatter\", \"x\": [0, 1], \"y\": [1140, 36]}, {\"line\": {\"shape\": \"spline\"}, \"mode\": \"lines\", \"showlegend\": false, \"type\": \"scatter\", \"x\": [0, 1], \"y\": [990, 406]}, {\"line\": {\"shape\": \"spline\"}, \"mode\": \"lines\", \"showlegend\": false, \"type\": \"scatter\", \"x\": [0, 1], \"y\": [704, 1115]}, {\"line\": {\"shape\": \"spline\"}, \"mode\": \"lines\", \"showlegend\": false, \"type\": \"scatter\", \"x\": [0, 1], \"y\": [1164, 1005]}, {\"line\": {\"shape\": \"spline\"}, \"mode\": \"lines\", \"showlegend\": false, \"type\": \"scatter\", \"x\": [0, 1], \"y\": [27, 35]}, {\"line\": {\"shape\": \"spline\"}, \"mode\": \"lines\", \"showlegend\": false, \"type\": \"scatter\", \"x\": [0, 1], \"y\": [1264, 426]}, {\"line\": {\"shape\": \"spline\"}, \"mode\": \"lines\", \"showlegend\": false, \"type\": \"scatter\", \"x\": [0, 1], \"y\": [321, 872]}, {\"line\": {\"shape\": \"spline\"}, \"mode\": \"lines\", \"showlegend\": false, \"type\": \"scatter\", \"x\": [0, 1], \"y\": [1138, 1048]}, {\"line\": {\"shape\": \"spline\"}, \"mode\": \"lines\", \"showlegend\": false, \"type\": \"scatter\", \"x\": [0, 1], \"y\": [1087, 1272]}, {\"line\": {\"shape\": \"spline\"}, \"mode\": \"lines\", \"showlegend\": false, \"type\": \"scatter\", \"x\": [0, 1], \"y\": [669, 737]}, {\"line\": {\"shape\": \"spline\"}, \"mode\": \"lines\", \"showlegend\": false, \"type\": \"scatter\", \"x\": [0, 1], \"y\": [143, 1141]}, {\"line\": {\"shape\": \"spline\"}, \"mode\": \"lines\", \"showlegend\": false, \"type\": \"scatter\", \"x\": [0, 1], \"y\": [618, 62]}, {\"line\": {\"shape\": \"spline\"}, \"mode\": \"lines\", \"showlegend\": false, \"type\": \"scatter\", \"x\": [0, 1], \"y\": [695, 432]}, {\"line\": {\"shape\": \"spline\"}, \"mode\": \"lines\", \"showlegend\": false, \"type\": \"scatter\", \"x\": [0, 1], \"y\": [906, 813]}, {\"line\": {\"shape\": \"spline\"}, \"mode\": \"lines\", \"showlegend\": false, \"type\": \"scatter\", \"x\": [0, 1], \"y\": [231, 167]}, {\"line\": {\"shape\": \"spline\"}, \"mode\": \"lines\", \"showlegend\": false, \"type\": \"scatter\", \"x\": [0, 1], \"y\": [863, 640]}, {\"line\": {\"shape\": \"spline\"}, \"mode\": \"lines\", \"showlegend\": false, \"type\": \"scatter\", \"x\": [0, 1], \"y\": [41, 743]}, {\"line\": {\"shape\": \"spline\"}, \"mode\": \"lines\", \"showlegend\": false, \"type\": \"scatter\", \"x\": [0, 1], \"y\": [62, 726]}, {\"line\": {\"shape\": \"spline\"}, \"mode\": \"lines\", \"showlegend\": false, \"type\": \"scatter\", \"x\": [0, 1], \"y\": [515, 1110]}, {\"line\": {\"shape\": \"spline\"}, \"mode\": \"lines\", \"showlegend\": false, \"type\": \"scatter\", \"x\": [0, 1], \"y\": [710, 514]}, {\"line\": {\"shape\": \"spline\"}, \"mode\": \"lines\", \"showlegend\": false, \"type\": \"scatter\", \"x\": [0, 1], \"y\": [480, 527]}, {\"line\": {\"shape\": \"spline\"}, \"mode\": \"lines\", \"showlegend\": false, \"type\": \"scatter\", \"x\": [0, 1], \"y\": [1080, 1184]}, {\"line\": {\"shape\": \"spline\"}, \"mode\": \"lines\", \"showlegend\": false, \"type\": \"scatter\", \"x\": [0, 1], \"y\": [753, 42]}, {\"line\": {\"shape\": \"spline\"}, \"mode\": \"lines\", \"showlegend\": false, \"type\": \"scatter\", \"x\": [0, 1], \"y\": [530, 1221]}, {\"line\": {\"shape\": \"spline\"}, \"mode\": \"lines\", \"showlegend\": false, \"type\": \"scatter\", \"x\": [0, 1], \"y\": [1210, 25]}, {\"line\": {\"shape\": \"spline\"}, \"mode\": \"lines\", \"showlegend\": false, \"type\": \"scatter\", \"x\": [0, 1], \"y\": [1226, 768]}, {\"line\": {\"shape\": \"spline\"}, \"mode\": \"lines\", \"showlegend\": false, \"type\": \"scatter\", \"x\": [0, 1], \"y\": [738, 589]}, {\"line\": {\"shape\": \"spline\"}, \"mode\": \"lines\", \"showlegend\": false, \"type\": \"scatter\", \"x\": [0, 1], \"y\": [646, 1241]}, {\"line\": {\"shape\": \"spline\"}, \"mode\": \"lines\", \"showlegend\": false, \"type\": \"scatter\", \"x\": [0, 1], \"y\": [1041, 1116]}, {\"line\": {\"shape\": \"spline\"}, \"mode\": \"lines\", \"showlegend\": false, \"type\": \"scatter\", \"x\": [0, 1], \"y\": [789, 1178]}, {\"line\": {\"shape\": \"spline\"}, \"mode\": \"lines\", \"showlegend\": false, \"type\": \"scatter\", \"x\": [0, 1], \"y\": [936, 276]}, {\"line\": {\"shape\": \"spline\"}, \"mode\": \"lines\", \"showlegend\": false, \"type\": \"scatter\", \"x\": [0, 1], \"y\": [312, 788]}, {\"line\": {\"shape\": \"spline\"}, \"mode\": \"lines\", \"showlegend\": false, \"type\": \"scatter\", \"x\": [0, 1], \"y\": [727, 943]}, {\"line\": {\"shape\": \"spline\"}, \"mode\": \"lines\", \"showlegend\": false, \"type\": \"scatter\", \"x\": [0, 1], \"y\": [686, 1048]}, {\"line\": {\"shape\": \"spline\"}, \"mode\": \"lines\", \"showlegend\": false, \"type\": \"scatter\", \"x\": [0, 1], \"y\": [864, 733]}, {\"line\": {\"shape\": \"spline\"}, \"mode\": \"lines\", \"showlegend\": false, \"type\": \"scatter\", \"x\": [0, 1], \"y\": [277, 63]}, {\"line\": {\"shape\": \"spline\"}, \"mode\": \"lines\", \"showlegend\": false, \"type\": \"scatter\", \"x\": [0, 1], \"y\": [262, 158]}, {\"line\": {\"shape\": \"spline\"}, \"mode\": \"lines\", \"showlegend\": false, \"type\": \"scatter\", \"x\": [0, 1], \"y\": [602, 1237]}, {\"line\": {\"shape\": \"spline\"}, \"mode\": \"lines\", \"showlegend\": false, \"type\": \"scatter\", \"x\": [0, 1], \"y\": [1019, 1152]}, {\"line\": {\"shape\": \"spline\"}, \"mode\": \"lines\", \"showlegend\": false, \"type\": \"scatter\", \"x\": [0, 1], \"y\": [894, 797]}, {\"line\": {\"shape\": \"spline\"}, \"mode\": \"lines\", \"showlegend\": false, \"type\": \"scatter\", \"x\": [0, 1], \"y\": [16, 161]}, {\"line\": {\"shape\": \"spline\"}, \"mode\": \"lines\", \"showlegend\": false, \"type\": \"scatter\", \"x\": [0, 1], \"y\": [795, 1243]}, {\"line\": {\"shape\": \"spline\"}, \"mode\": \"lines\", \"showlegend\": false, \"type\": \"scatter\", \"x\": [0, 1], \"y\": [929, 683]}, {\"line\": {\"shape\": \"spline\"}, \"mode\": \"lines\", \"showlegend\": false, \"type\": \"scatter\", \"x\": [0, 1], \"y\": [970, 1108]}, {\"line\": {\"shape\": \"spline\"}, \"mode\": \"lines\", \"showlegend\": false, \"type\": \"scatter\", \"x\": [0, 1], \"y\": [752, 841]}, {\"line\": {\"shape\": \"spline\"}, \"mode\": \"lines\", \"showlegend\": false, \"type\": \"scatter\", \"x\": [0, 1], \"y\": [992, 1148]}, {\"line\": {\"shape\": \"spline\"}, \"mode\": \"lines\", \"showlegend\": false, \"type\": \"scatter\", \"x\": [0, 1], \"y\": [218, 1025]}, {\"line\": {\"shape\": \"spline\"}, \"mode\": \"lines\", \"showlegend\": false, \"type\": \"scatter\", \"x\": [0, 1], \"y\": [650, 1135]}, {\"line\": {\"shape\": \"spline\"}, \"mode\": \"lines\", \"showlegend\": false, \"type\": \"scatter\", \"x\": [0, 1], \"y\": [317, 715]}, {\"line\": {\"shape\": \"spline\"}, \"mode\": \"lines\", \"showlegend\": false, \"type\": \"scatter\", \"x\": [0, 1], \"y\": [930, 477]}, {\"line\": {\"shape\": \"spline\"}, \"mode\": \"lines\", \"showlegend\": false, \"type\": \"scatter\", \"x\": [0, 1], \"y\": [500, 792]}, {\"line\": {\"shape\": \"spline\"}, \"mode\": \"lines\", \"showlegend\": false, \"type\": \"scatter\", \"x\": [0, 1], \"y\": [62, 525]}, {\"line\": {\"shape\": \"spline\"}, \"mode\": \"lines\", \"showlegend\": false, \"type\": \"scatter\", \"x\": [0, 1], \"y\": [1137, 309]}, {\"line\": {\"shape\": \"spline\"}, \"mode\": \"lines\", \"showlegend\": false, \"type\": \"scatter\", \"x\": [0, 1], \"y\": [152, 88]}, {\"line\": {\"shape\": \"spline\"}, \"mode\": \"lines\", \"showlegend\": false, \"type\": \"scatter\", \"x\": [0, 1], \"y\": [1218, 1266]}, {\"line\": {\"shape\": \"spline\"}, \"mode\": \"lines\", \"showlegend\": false, \"type\": \"scatter\", \"x\": [0, 1], \"y\": [1119, 311]}, {\"line\": {\"shape\": \"spline\"}, \"mode\": \"lines\", \"showlegend\": false, \"type\": \"scatter\", \"x\": [0, 1], \"y\": [996, 726]}, {\"line\": {\"shape\": \"spline\"}, \"mode\": \"lines\", \"showlegend\": false, \"type\": \"scatter\", \"x\": [0, 1], \"y\": [696, 274]}, {\"line\": {\"shape\": \"spline\"}, \"mode\": \"lines\", \"showlegend\": false, \"type\": \"scatter\", \"x\": [0, 1], \"y\": [872, 763]}, {\"line\": {\"shape\": \"spline\"}, \"mode\": \"lines\", \"showlegend\": false, \"type\": \"scatter\", \"x\": [0, 1], \"y\": [628, 1202]}, {\"line\": {\"shape\": \"spline\"}, \"mode\": \"lines\", \"showlegend\": false, \"type\": \"scatter\", \"x\": [0, 1], \"y\": [247, 471]}, {\"line\": {\"shape\": \"spline\"}, \"mode\": \"lines\", \"showlegend\": false, \"type\": \"scatter\", \"x\": [0, 1], \"y\": [7, 272]}, {\"line\": {\"shape\": \"spline\"}, \"mode\": \"lines\", \"showlegend\": false, \"type\": \"scatter\", \"x\": [0, 1], \"y\": [737, 824]}, {\"line\": {\"shape\": \"spline\"}, \"mode\": \"lines\", \"showlegend\": false, \"type\": \"scatter\", \"x\": [0, 1], \"y\": [662, 868]}, {\"line\": {\"shape\": \"spline\"}, \"mode\": \"lines\", \"showlegend\": false, \"type\": \"scatter\", \"x\": [0, 1], \"y\": [998, 617]}, {\"line\": {\"shape\": \"spline\"}, \"mode\": \"lines\", \"showlegend\": false, \"type\": \"scatter\", \"x\": [0, 1], \"y\": [381, 261]}, {\"line\": {\"shape\": \"spline\"}, \"mode\": \"lines\", \"showlegend\": false, \"type\": \"scatter\", \"x\": [0, 1], \"y\": [350, 13]}, {\"line\": {\"shape\": \"spline\"}, \"mode\": \"lines\", \"showlegend\": false, \"type\": \"scatter\", \"x\": [0, 1], \"y\": [582, 570]}, {\"line\": {\"shape\": \"spline\"}, \"mode\": \"lines\", \"showlegend\": false, \"type\": \"scatter\", \"x\": [0, 1], \"y\": [1006, 1274]}, {\"line\": {\"shape\": \"spline\"}, \"mode\": \"lines\", \"showlegend\": false, \"type\": \"scatter\", \"x\": [0, 1], \"y\": [568, 690]}, {\"line\": {\"shape\": \"spline\"}, \"mode\": \"lines\", \"showlegend\": false, \"type\": \"scatter\", \"x\": [0, 1], \"y\": [142, 716]}, {\"line\": {\"shape\": \"spline\"}, \"mode\": \"lines\", \"showlegend\": false, \"type\": \"scatter\", \"x\": [0, 1], \"y\": [951, 217]}, {\"line\": {\"shape\": \"spline\"}, \"mode\": \"lines\", \"showlegend\": false, \"type\": \"scatter\", \"x\": [0, 1], \"y\": [402, 484]}, {\"line\": {\"shape\": \"spline\"}, \"mode\": \"lines\", \"showlegend\": false, \"type\": \"scatter\", \"x\": [0, 1], \"y\": [360, 1078]}, {\"line\": {\"shape\": \"spline\"}, \"mode\": \"lines\", \"showlegend\": false, \"type\": \"scatter\", \"x\": [0, 1], \"y\": [1129, 163]}, {\"line\": {\"shape\": \"spline\"}, \"mode\": \"lines\", \"showlegend\": false, \"type\": \"scatter\", \"x\": [0, 1], \"y\": [1008, 498]}, {\"line\": {\"shape\": \"spline\"}, \"mode\": \"lines\", \"showlegend\": false, \"type\": \"scatter\", \"x\": [0, 1], \"y\": [699, 402]}, {\"line\": {\"shape\": \"spline\"}, \"mode\": \"lines\", \"showlegend\": false, \"type\": \"scatter\", \"x\": [0, 1], \"y\": [1053, 501]}, {\"line\": {\"shape\": \"spline\"}, \"mode\": \"lines\", \"showlegend\": false, \"type\": \"scatter\", \"x\": [0, 1], \"y\": [1085, 1134]}, {\"line\": {\"shape\": \"spline\"}, \"mode\": \"lines\", \"showlegend\": false, \"type\": \"scatter\", \"x\": [0, 1], \"y\": [996, 961]}, {\"line\": {\"shape\": \"spline\"}, \"mode\": \"lines\", \"showlegend\": false, \"type\": \"scatter\", \"x\": [0, 1], \"y\": [199, 790]}, {\"line\": {\"shape\": \"spline\"}, \"mode\": \"lines\", \"showlegend\": false, \"type\": \"scatter\", \"x\": [0, 1], \"y\": [555, 741]}, {\"line\": {\"shape\": \"spline\"}, \"mode\": \"lines\", \"showlegend\": false, \"type\": \"scatter\", \"x\": [0, 1], \"y\": [600, 504]}, {\"line\": {\"shape\": \"spline\"}, \"mode\": \"lines\", \"showlegend\": false, \"type\": \"scatter\", \"x\": [0, 1], \"y\": [861, 1269]}, {\"line\": {\"shape\": \"spline\"}, \"mode\": \"lines\", \"showlegend\": false, \"type\": \"scatter\", \"x\": [0, 1], \"y\": [1116, 830]}, {\"line\": {\"shape\": \"spline\"}, \"mode\": \"lines\", \"showlegend\": false, \"type\": \"scatter\", \"x\": [0, 1], \"y\": [481, 281]}, {\"line\": {\"shape\": \"spline\"}, \"mode\": \"lines\", \"showlegend\": false, \"type\": \"scatter\", \"x\": [0, 1], \"y\": [1045, 1231]}, {\"line\": {\"shape\": \"spline\"}, \"mode\": \"lines\", \"showlegend\": false, \"type\": \"scatter\", \"x\": [0, 1], \"y\": [746, 1076]}, {\"line\": {\"shape\": \"spline\"}, \"mode\": \"lines\", \"showlegend\": false, \"type\": \"scatter\", \"x\": [0, 1], \"y\": [471, 1105]}, {\"line\": {\"shape\": \"spline\"}, \"mode\": \"lines\", \"showlegend\": false, \"type\": \"scatter\", \"x\": [0, 1], \"y\": [653, 931]}, {\"line\": {\"shape\": \"spline\"}, \"mode\": \"lines\", \"showlegend\": false, \"type\": \"scatter\", \"x\": [0, 1], \"y\": [984, 593]}, {\"line\": {\"shape\": \"spline\"}, \"mode\": \"lines\", \"showlegend\": false, \"type\": \"scatter\", \"x\": [0, 1], \"y\": [1110, 781]}, {\"line\": {\"shape\": \"spline\"}, \"mode\": \"lines\", \"showlegend\": false, \"type\": \"scatter\", \"x\": [0, 1], \"y\": [1267, 866]}, {\"line\": {\"shape\": \"spline\"}, \"mode\": \"lines\", \"showlegend\": false, \"type\": \"scatter\", \"x\": [0, 1], \"y\": [463, 679]}, {\"line\": {\"shape\": \"spline\"}, \"mode\": \"lines\", \"showlegend\": false, \"type\": \"scatter\", \"x\": [0, 1], \"y\": [968, 1180]}, {\"line\": {\"shape\": \"spline\"}, \"mode\": \"lines\", \"showlegend\": false, \"type\": \"scatter\", \"x\": [0, 1], \"y\": [785, 595]}, {\"line\": {\"shape\": \"spline\"}, \"mode\": \"lines\", \"showlegend\": false, \"type\": \"scatter\", \"x\": [0, 1], \"y\": [740, 111]}, {\"line\": {\"shape\": \"spline\"}, \"mode\": \"lines\", \"showlegend\": false, \"type\": \"scatter\", \"x\": [0, 1], \"y\": [599, 609]}, {\"line\": {\"shape\": \"spline\"}, \"mode\": \"lines\", \"showlegend\": false, \"type\": \"scatter\", \"x\": [0, 1], \"y\": [658, 923]}, {\"line\": {\"shape\": \"spline\"}, \"mode\": \"lines\", \"showlegend\": false, \"type\": \"scatter\", \"x\": [0, 1], \"y\": [239, 931]}, {\"line\": {\"shape\": \"spline\"}, \"mode\": \"lines\", \"showlegend\": false, \"type\": \"scatter\", \"x\": [0, 1], \"y\": [1041, 1136]}, {\"line\": {\"shape\": \"spline\"}, \"mode\": \"lines\", \"showlegend\": false, \"type\": \"scatter\", \"x\": [0, 1], \"y\": [1278, 373]}, {\"line\": {\"shape\": \"spline\"}, \"mode\": \"lines\", \"showlegend\": false, \"type\": \"scatter\", \"x\": [0, 1], \"y\": [1124, 448]}, {\"line\": {\"shape\": \"spline\"}, \"mode\": \"lines\", \"showlegend\": false, \"type\": \"scatter\", \"x\": [0, 1], \"y\": [223, 695]}, {\"line\": {\"shape\": \"spline\"}, \"mode\": \"lines\", \"showlegend\": false, \"type\": \"scatter\", \"x\": [0, 1], \"y\": [362, 790]}, {\"line\": {\"shape\": \"spline\"}, \"mode\": \"lines\", \"showlegend\": false, \"type\": \"scatter\", \"x\": [0, 1], \"y\": [269, 711]}, {\"line\": {\"shape\": \"spline\"}, \"mode\": \"lines\", \"showlegend\": false, \"type\": \"scatter\", \"x\": [0, 1], \"y\": [289, 1258]}, {\"line\": {\"shape\": \"spline\"}, \"mode\": \"lines\", \"showlegend\": false, \"type\": \"scatter\", \"x\": [0, 1], \"y\": [703, 645]}, {\"line\": {\"shape\": \"spline\"}, \"mode\": \"lines\", \"showlegend\": false, \"type\": \"scatter\", \"x\": [0, 1], \"y\": [959, 868]}, {\"line\": {\"shape\": \"spline\"}, \"mode\": \"lines\", \"showlegend\": false, \"type\": \"scatter\", \"x\": [0, 1], \"y\": [335, 284]}, {\"line\": {\"shape\": \"spline\"}, \"mode\": \"lines\", \"showlegend\": false, \"type\": \"scatter\", \"x\": [0, 1], \"y\": [365, 635]}, {\"line\": {\"shape\": \"spline\"}, \"mode\": \"lines\", \"showlegend\": false, \"type\": \"scatter\", \"x\": [0, 1], \"y\": [659, 817]}, {\"line\": {\"shape\": \"spline\"}, \"mode\": \"lines\", \"showlegend\": false, \"type\": \"scatter\", \"x\": [0, 1], \"y\": [393, 16]}, {\"line\": {\"shape\": \"spline\"}, \"mode\": \"lines\", \"showlegend\": false, \"type\": \"scatter\", \"x\": [0, 1], \"y\": [1164, 761]}, {\"line\": {\"shape\": \"spline\"}, \"mode\": \"lines\", \"showlegend\": false, \"type\": \"scatter\", \"x\": [0, 1], \"y\": [624, 831]}, {\"line\": {\"shape\": \"spline\"}, \"mode\": \"lines\", \"showlegend\": false, \"type\": \"scatter\", \"x\": [0, 1], \"y\": [669, 386]}, {\"line\": {\"shape\": \"spline\"}, \"mode\": \"lines\", \"showlegend\": false, \"type\": \"scatter\", \"x\": [0, 1], \"y\": [750, 724]}, {\"line\": {\"shape\": \"spline\"}, \"mode\": \"lines\", \"showlegend\": false, \"type\": \"scatter\", \"x\": [0, 1], \"y\": [849, 327]}, {\"line\": {\"shape\": \"spline\"}, \"mode\": \"lines\", \"showlegend\": false, \"type\": \"scatter\", \"x\": [0, 1], \"y\": [46, 1266]}, {\"line\": {\"shape\": \"spline\"}, \"mode\": \"lines\", \"showlegend\": false, \"type\": \"scatter\", \"x\": [0, 1], \"y\": [885, 941]}, {\"line\": {\"shape\": \"spline\"}, \"mode\": \"lines\", \"showlegend\": false, \"type\": \"scatter\", \"x\": [0, 1], \"y\": [102, 197]}, {\"line\": {\"shape\": \"spline\"}, \"mode\": \"lines\", \"showlegend\": false, \"type\": \"scatter\", \"x\": [0, 1], \"y\": [543, 87]}, {\"line\": {\"shape\": \"spline\"}, \"mode\": \"lines\", \"showlegend\": false, \"type\": \"scatter\", \"x\": [0, 1], \"y\": [134, 697]}, {\"line\": {\"shape\": \"spline\"}, \"mode\": \"lines\", \"showlegend\": false, \"type\": \"scatter\", \"x\": [0, 1], \"y\": [520, 29]}, {\"line\": {\"shape\": \"spline\"}, \"mode\": \"lines\", \"showlegend\": false, \"type\": \"scatter\", \"x\": [0, 1], \"y\": [302, 744]}, {\"line\": {\"shape\": \"spline\"}, \"mode\": \"lines\", \"showlegend\": false, \"type\": \"scatter\", \"x\": [0, 1], \"y\": [1215, 601]}, {\"line\": {\"shape\": \"spline\"}, \"mode\": \"lines\", \"showlegend\": false, \"type\": \"scatter\", \"x\": [0, 1], \"y\": [58, 312]}, {\"line\": {\"shape\": \"spline\"}, \"mode\": \"lines\", \"showlegend\": false, \"type\": \"scatter\", \"x\": [0, 1], \"y\": [1029, 576]}, {\"line\": {\"shape\": \"spline\"}, \"mode\": \"lines\", \"showlegend\": false, \"type\": \"scatter\", \"x\": [0, 1], \"y\": [492, 530]}, {\"line\": {\"shape\": \"spline\"}, \"mode\": \"lines\", \"showlegend\": false, \"type\": \"scatter\", \"x\": [0, 1], \"y\": [26, 44]}, {\"line\": {\"shape\": \"spline\"}, \"mode\": \"lines\", \"showlegend\": false, \"type\": \"scatter\", \"x\": [0, 1], \"y\": [1047, 498]}, {\"line\": {\"shape\": \"spline\"}, \"mode\": \"lines\", \"showlegend\": false, \"type\": \"scatter\", \"x\": [0, 1], \"y\": [85, 945]}, {\"line\": {\"shape\": \"spline\"}, \"mode\": \"lines\", \"showlegend\": false, \"type\": \"scatter\", \"x\": [0, 1], \"y\": [440, 963]}, {\"line\": {\"shape\": \"spline\"}, \"mode\": \"lines\", \"showlegend\": false, \"type\": \"scatter\", \"x\": [0, 1], \"y\": [1001, 1231]}, {\"line\": {\"shape\": \"spline\"}, \"mode\": \"lines\", \"showlegend\": false, \"type\": \"scatter\", \"x\": [0, 1], \"y\": [210, 801]}, {\"line\": {\"shape\": \"spline\"}, \"mode\": \"lines\", \"showlegend\": false, \"type\": \"scatter\", \"x\": [0, 1], \"y\": [1254, 1040]}, {\"line\": {\"shape\": \"spline\"}, \"mode\": \"lines\", \"showlegend\": false, \"type\": \"scatter\", \"x\": [0, 1], \"y\": [152, 681]}, {\"line\": {\"shape\": \"spline\"}, \"mode\": \"lines\", \"showlegend\": false, \"type\": \"scatter\", \"x\": [0, 1], \"y\": [181, 577]}, {\"line\": {\"shape\": \"spline\"}, \"mode\": \"lines\", \"showlegend\": false, \"type\": \"scatter\", \"x\": [0, 1], \"y\": [962, 479]}, {\"line\": {\"shape\": \"spline\"}, \"mode\": \"lines\", \"showlegend\": false, \"type\": \"scatter\", \"x\": [0, 1], \"y\": [1176, 339]}, {\"line\": {\"shape\": \"spline\"}, \"mode\": \"lines\", \"showlegend\": false, \"type\": \"scatter\", \"x\": [0, 1], \"y\": [303, 850]}, {\"line\": {\"shape\": \"spline\"}, \"mode\": \"lines\", \"showlegend\": false, \"type\": \"scatter\", \"x\": [0, 1], \"y\": [381, 892]}, {\"line\": {\"shape\": \"spline\"}, \"mode\": \"lines\", \"showlegend\": false, \"type\": \"scatter\", \"x\": [0, 1], \"y\": [1110, 1114]}, {\"line\": {\"shape\": \"spline\"}, \"mode\": \"lines\", \"showlegend\": false, \"type\": \"scatter\", \"x\": [0, 1], \"y\": [193, 792]}, {\"line\": {\"shape\": \"spline\"}, \"mode\": \"lines\", \"showlegend\": false, \"type\": \"scatter\", \"x\": [0, 1], \"y\": [825, 560]}, {\"line\": {\"shape\": \"spline\"}, \"mode\": \"lines\", \"showlegend\": false, \"type\": \"scatter\", \"x\": [0, 1], \"y\": [962, 785]}, {\"line\": {\"shape\": \"spline\"}, \"mode\": \"lines\", \"showlegend\": false, \"type\": \"scatter\", \"x\": [0, 1], \"y\": [43, 993]}, {\"line\": {\"shape\": \"spline\"}, \"mode\": \"lines\", \"showlegend\": false, \"type\": \"scatter\", \"x\": [0, 1], \"y\": [365, 246]}, {\"line\": {\"shape\": \"spline\"}, \"mode\": \"lines\", \"showlegend\": false, \"type\": \"scatter\", \"x\": [0, 1], \"y\": [946, 1109]}, {\"line\": {\"shape\": \"spline\"}, \"mode\": \"lines\", \"showlegend\": false, \"type\": \"scatter\", \"x\": [0, 1], \"y\": [571, 1123]}, {\"line\": {\"shape\": \"spline\"}, \"mode\": \"lines\", \"showlegend\": false, \"type\": \"scatter\", \"x\": [0, 1], \"y\": [7, 1124]}, {\"line\": {\"shape\": \"spline\"}, \"mode\": \"lines\", \"showlegend\": false, \"type\": \"scatter\", \"x\": [0, 1], \"y\": [113, 600]}, {\"line\": {\"shape\": \"spline\"}, \"mode\": \"lines\", \"showlegend\": false, \"type\": \"scatter\", \"x\": [0, 1], \"y\": [465, 359]}, {\"line\": {\"shape\": \"spline\"}, \"mode\": \"lines\", \"showlegend\": false, \"type\": \"scatter\", \"x\": [0, 1], \"y\": [383, 1113]}, {\"line\": {\"shape\": \"spline\"}, \"mode\": \"lines\", \"showlegend\": false, \"type\": \"scatter\", \"x\": [0, 1], \"y\": [659, 634]}, {\"line\": {\"shape\": \"spline\"}, \"mode\": \"lines\", \"showlegend\": false, \"type\": \"scatter\", \"x\": [0, 1], \"y\": [531, 9]}, {\"line\": {\"shape\": \"spline\"}, \"mode\": \"lines\", \"showlegend\": false, \"type\": \"scatter\", \"x\": [0, 1], \"y\": [1271, 817]}, {\"line\": {\"shape\": \"spline\"}, \"mode\": \"lines\", \"showlegend\": false, \"type\": \"scatter\", \"x\": [0, 1], \"y\": [664, 51]}, {\"line\": {\"shape\": \"spline\"}, \"mode\": \"lines\", \"showlegend\": false, \"type\": \"scatter\", \"x\": [0, 1], \"y\": [1085, 392]}, {\"line\": {\"shape\": \"spline\"}, \"mode\": \"lines\", \"showlegend\": false, \"type\": \"scatter\", \"x\": [0, 1], \"y\": [723, 917]}, {\"line\": {\"shape\": \"spline\"}, \"mode\": \"lines\", \"showlegend\": false, \"type\": \"scatter\", \"x\": [0, 1], \"y\": [843, 38]}, {\"line\": {\"shape\": \"spline\"}, \"mode\": \"lines\", \"showlegend\": false, \"type\": \"scatter\", \"x\": [0, 1], \"y\": [739, 1277]}, {\"line\": {\"shape\": \"spline\"}, \"mode\": \"lines\", \"showlegend\": false, \"type\": \"scatter\", \"x\": [0, 1], \"y\": [1041, 924]}, {\"line\": {\"shape\": \"spline\"}, \"mode\": \"lines\", \"showlegend\": false, \"type\": \"scatter\", \"x\": [0, 1], \"y\": [739, 750]}, {\"line\": {\"shape\": \"spline\"}, \"mode\": \"lines\", \"showlegend\": false, \"type\": \"scatter\", \"x\": [0, 1], \"y\": [1095, 138]}, {\"line\": {\"shape\": \"spline\"}, \"mode\": \"lines\", \"showlegend\": false, \"type\": \"scatter\", \"x\": [0, 1], \"y\": [1115, 307]}, {\"line\": {\"shape\": \"spline\"}, \"mode\": \"lines\", \"showlegend\": false, \"type\": \"scatter\", \"x\": [0, 1], \"y\": [208, 119]}, {\"line\": {\"shape\": \"spline\"}, \"mode\": \"lines\", \"showlegend\": false, \"type\": \"scatter\", \"x\": [0, 1], \"y\": [1076, 372]}, {\"line\": {\"shape\": \"spline\"}, \"mode\": \"lines\", \"showlegend\": false, \"type\": \"scatter\", \"x\": [0, 1], \"y\": [78, 887]}, {\"line\": {\"shape\": \"spline\"}, \"mode\": \"lines\", \"showlegend\": false, \"type\": \"scatter\", \"x\": [0, 1], \"y\": [419, 331]}, {\"line\": {\"shape\": \"spline\"}, \"mode\": \"lines\", \"showlegend\": false, \"type\": \"scatter\", \"x\": [0, 1], \"y\": [943, 751]}, {\"line\": {\"shape\": \"spline\"}, \"mode\": \"lines\", \"showlegend\": false, \"type\": \"scatter\", \"x\": [0, 1], \"y\": [174, 1210]}, {\"line\": {\"shape\": \"spline\"}, \"mode\": \"lines\", \"showlegend\": false, \"type\": \"scatter\", \"x\": [0, 1], \"y\": [83, 1141]}, {\"line\": {\"shape\": \"spline\"}, \"mode\": \"lines\", \"showlegend\": false, \"type\": \"scatter\", \"x\": [0, 1], \"y\": [807, 489]}, {\"line\": {\"shape\": \"spline\"}, \"mode\": \"lines\", \"showlegend\": false, \"type\": \"scatter\", \"x\": [0, 1], \"y\": [1123, 1264]}, {\"line\": {\"shape\": \"spline\"}, \"mode\": \"lines\", \"showlegend\": false, \"type\": \"scatter\", \"x\": [0, 1], \"y\": [1035, 875]}, {\"line\": {\"shape\": \"spline\"}, \"mode\": \"lines\", \"showlegend\": false, \"type\": \"scatter\", \"x\": [0, 1], \"y\": [1095, 1155]}, {\"line\": {\"shape\": \"spline\"}, \"mode\": \"lines\", \"showlegend\": false, \"type\": \"scatter\", \"x\": [0, 1], \"y\": [839, 685]}, {\"line\": {\"shape\": \"spline\"}, \"mode\": \"lines\", \"showlegend\": false, \"type\": \"scatter\", \"x\": [0, 1], \"y\": [996, 1271]}, {\"line\": {\"shape\": \"spline\"}, \"mode\": \"lines\", \"showlegend\": false, \"type\": \"scatter\", \"x\": [0, 1], \"y\": [314, 286]}, {\"line\": {\"shape\": \"spline\"}, \"mode\": \"lines\", \"showlegend\": false, \"type\": \"scatter\", \"x\": [0, 1], \"y\": [394, 812]}, {\"line\": {\"shape\": \"spline\"}, \"mode\": \"lines\", \"showlegend\": false, \"type\": \"scatter\", \"x\": [0, 1], \"y\": [434, 820]}, {\"line\": {\"shape\": \"spline\"}, \"mode\": \"lines\", \"showlegend\": false, \"type\": \"scatter\", \"x\": [0, 1], \"y\": [605, 404]}, {\"line\": {\"shape\": \"spline\"}, \"mode\": \"lines\", \"showlegend\": false, \"type\": \"scatter\", \"x\": [0, 1], \"y\": [1058, 461]}, {\"line\": {\"shape\": \"spline\"}, \"mode\": \"lines\", \"showlegend\": false, \"type\": \"scatter\", \"x\": [0, 1], \"y\": [716, 245]}, {\"line\": {\"shape\": \"spline\"}, \"mode\": \"lines\", \"showlegend\": false, \"type\": \"scatter\", \"x\": [0, 1], \"y\": [161, 1017]}, {\"line\": {\"shape\": \"spline\"}, \"mode\": \"lines\", \"showlegend\": false, \"type\": \"scatter\", \"x\": [0, 1], \"y\": [540, 1105]}, {\"line\": {\"shape\": \"spline\"}, \"mode\": \"lines\", \"showlegend\": false, \"type\": \"scatter\", \"x\": [0, 1], \"y\": [1018, 965]}, {\"line\": {\"shape\": \"spline\"}, \"mode\": \"lines\", \"showlegend\": false, \"type\": \"scatter\", \"x\": [0, 1], \"y\": [662, 318]}, {\"line\": {\"shape\": \"spline\"}, \"mode\": \"lines\", \"showlegend\": false, \"type\": \"scatter\", \"x\": [0, 1], \"y\": [1180, 119]}, {\"line\": {\"shape\": \"spline\"}, \"mode\": \"lines\", \"showlegend\": false, \"type\": \"scatter\", \"x\": [0, 1], \"y\": [85, 187]}, {\"line\": {\"shape\": \"spline\"}, \"mode\": \"lines\", \"showlegend\": false, \"type\": \"scatter\", \"x\": [0, 1], \"y\": [1047, 627]}, {\"line\": {\"shape\": \"spline\"}, \"mode\": \"lines\", \"showlegend\": false, \"type\": \"scatter\", \"x\": [0, 1], \"y\": [324, 626]}, {\"line\": {\"shape\": \"spline\"}, \"mode\": \"lines\", \"showlegend\": false, \"type\": \"scatter\", \"x\": [0, 1], \"y\": [755, 938]}, {\"line\": {\"shape\": \"spline\"}, \"mode\": \"lines\", \"showlegend\": false, \"type\": \"scatter\", \"x\": [0, 1], \"y\": [211, 225]}, {\"line\": {\"shape\": \"spline\"}, \"mode\": \"lines\", \"showlegend\": false, \"type\": \"scatter\", \"x\": [0, 1], \"y\": [91, 217]}, {\"line\": {\"shape\": \"spline\"}, \"mode\": \"lines\", \"showlegend\": false, \"type\": \"scatter\", \"x\": [0, 1], \"y\": [298, 663]}, {\"line\": {\"shape\": \"spline\"}, \"mode\": \"lines\", \"showlegend\": false, \"type\": \"scatter\", \"x\": [0, 1], \"y\": [952, 815]}, {\"line\": {\"shape\": \"spline\"}, \"mode\": \"lines\", \"showlegend\": false, \"type\": \"scatter\", \"x\": [0, 1], \"y\": [1248, 193]}, {\"line\": {\"shape\": \"spline\"}, \"mode\": \"lines\", \"showlegend\": false, \"type\": \"scatter\", \"x\": [0, 1], \"y\": [231, 531]}, {\"line\": {\"shape\": \"spline\"}, \"mode\": \"lines\", \"showlegend\": false, \"type\": \"scatter\", \"x\": [0, 1], \"y\": [970, 651]}, {\"line\": {\"shape\": \"spline\"}, \"mode\": \"lines\", \"showlegend\": false, \"type\": \"scatter\", \"x\": [0, 1], \"y\": [177, 804]}, {\"line\": {\"shape\": \"spline\"}, \"mode\": \"lines\", \"showlegend\": false, \"type\": \"scatter\", \"x\": [0, 1], \"y\": [875, 408]}, {\"line\": {\"shape\": \"spline\"}, \"mode\": \"lines\", \"showlegend\": false, \"type\": \"scatter\", \"x\": [0, 1], \"y\": [970, 564]}, {\"line\": {\"shape\": \"spline\"}, \"mode\": \"lines\", \"showlegend\": false, \"type\": \"scatter\", \"x\": [0, 1], \"y\": [967, 891]}, {\"line\": {\"shape\": \"spline\"}, \"mode\": \"lines\", \"showlegend\": false, \"type\": \"scatter\", \"x\": [0, 1], \"y\": [28, 595]}, {\"line\": {\"shape\": \"spline\"}, \"mode\": \"lines\", \"showlegend\": false, \"type\": \"scatter\", \"x\": [0, 1], \"y\": [888, 514]}, {\"line\": {\"shape\": \"spline\"}, \"mode\": \"lines\", \"showlegend\": false, \"type\": \"scatter\", \"x\": [0, 1], \"y\": [47, 1038]}, {\"line\": {\"shape\": \"spline\"}, \"mode\": \"lines\", \"showlegend\": false, \"type\": \"scatter\", \"x\": [0, 1], \"y\": [231, 1109]}, {\"line\": {\"shape\": \"spline\"}, \"mode\": \"lines\", \"showlegend\": false, \"type\": \"scatter\", \"x\": [0, 1], \"y\": [658, 237]}, {\"line\": {\"shape\": \"spline\"}, \"mode\": \"lines\", \"showlegend\": false, \"type\": \"scatter\", \"x\": [0, 1], \"y\": [319, 42]}, {\"line\": {\"shape\": \"spline\"}, \"mode\": \"lines\", \"showlegend\": false, \"type\": \"scatter\", \"x\": [0, 1], \"y\": [229, 59]}, {\"line\": {\"shape\": \"spline\"}, \"mode\": \"lines\", \"showlegend\": false, \"type\": \"scatter\", \"x\": [0, 1], \"y\": [980, 1240]}, {\"line\": {\"shape\": \"spline\"}, \"mode\": \"lines\", \"showlegend\": false, \"type\": \"scatter\", \"x\": [0, 1], \"y\": [480, 837]}, {\"line\": {\"shape\": \"spline\"}, \"mode\": \"lines\", \"showlegend\": false, \"type\": \"scatter\", \"x\": [0, 1], \"y\": [805, 1106]}, {\"line\": {\"shape\": \"spline\"}, \"mode\": \"lines\", \"showlegend\": false, \"type\": \"scatter\", \"x\": [0, 1], \"y\": [506, 302]}, {\"line\": {\"shape\": \"spline\"}, \"mode\": \"lines\", \"showlegend\": false, \"type\": \"scatter\", \"x\": [0, 1], \"y\": [169, 541]}, {\"line\": {\"shape\": \"spline\"}, \"mode\": \"lines\", \"showlegend\": false, \"type\": \"scatter\", \"x\": [0, 1], \"y\": [1214, 668]}, {\"line\": {\"shape\": \"spline\"}, \"mode\": \"lines\", \"showlegend\": false, \"type\": \"scatter\", \"x\": [0, 1], \"y\": [1183, 1106]}, {\"line\": {\"shape\": \"spline\"}, \"mode\": \"lines\", \"showlegend\": false, \"type\": \"scatter\", \"x\": [0, 1], \"y\": [180, 1232]}, {\"line\": {\"shape\": \"spline\"}, \"mode\": \"lines\", \"showlegend\": false, \"type\": \"scatter\", \"x\": [0, 1], \"y\": [735, 301]}, {\"line\": {\"shape\": \"spline\"}, \"mode\": \"lines\", \"showlegend\": false, \"type\": \"scatter\", \"x\": [0, 1], \"y\": [1077, 520]}, {\"line\": {\"shape\": \"spline\"}, \"mode\": \"lines\", \"showlegend\": false, \"type\": \"scatter\", \"x\": [0, 1], \"y\": [337, 98]}, {\"line\": {\"shape\": \"spline\"}, \"mode\": \"lines\", \"showlegend\": false, \"type\": \"scatter\", \"x\": [0, 1], \"y\": [1122, 59]}, {\"line\": {\"shape\": \"spline\"}, \"mode\": \"lines\", \"showlegend\": false, \"type\": \"scatter\", \"x\": [0, 1], \"y\": [630, 231]}, {\"line\": {\"shape\": \"spline\"}, \"mode\": \"lines\", \"showlegend\": false, \"type\": \"scatter\", \"x\": [0, 1], \"y\": [207, 891]}, {\"line\": {\"shape\": \"spline\"}, \"mode\": \"lines\", \"showlegend\": false, \"type\": \"scatter\", \"x\": [0, 1], \"y\": [1087, 534]}, {\"line\": {\"shape\": \"spline\"}, \"mode\": \"lines\", \"showlegend\": false, \"type\": \"scatter\", \"x\": [0, 1], \"y\": [1171, 476]}, {\"line\": {\"shape\": \"spline\"}, \"mode\": \"lines\", \"showlegend\": false, \"type\": \"scatter\", \"x\": [0, 1], \"y\": [327, 947]}, {\"line\": {\"shape\": \"spline\"}, \"mode\": \"lines\", \"showlegend\": false, \"type\": \"scatter\", \"x\": [0, 1], \"y\": [450, 355]}, {\"line\": {\"shape\": \"spline\"}, \"mode\": \"lines\", \"showlegend\": false, \"type\": \"scatter\", \"x\": [0, 1], \"y\": [1229, 535]}, {\"line\": {\"shape\": \"spline\"}, \"mode\": \"lines\", \"showlegend\": false, \"type\": \"scatter\", \"x\": [0, 1], \"y\": [902, 1074]}, {\"line\": {\"shape\": \"spline\"}, \"mode\": \"lines\", \"showlegend\": false, \"type\": \"scatter\", \"x\": [0, 1], \"y\": [635, 1]}, {\"line\": {\"shape\": \"spline\"}, \"mode\": \"lines\", \"showlegend\": false, \"type\": \"scatter\", \"x\": [0, 1], \"y\": [871, 639]}, {\"line\": {\"shape\": \"spline\"}, \"mode\": \"lines\", \"showlegend\": false, \"type\": \"scatter\", \"x\": [0, 1], \"y\": [1274, 83]}, {\"line\": {\"shape\": \"spline\"}, \"mode\": \"lines\", \"showlegend\": false, \"type\": \"scatter\", \"x\": [0, 1], \"y\": [631, 429]}, {\"line\": {\"shape\": \"spline\"}, \"mode\": \"lines\", \"showlegend\": false, \"type\": \"scatter\", \"x\": [0, 1], \"y\": [624, 141]}, {\"line\": {\"shape\": \"spline\"}, \"mode\": \"lines\", \"showlegend\": false, \"type\": \"scatter\", \"x\": [0, 1], \"y\": [633, 53]}, {\"line\": {\"shape\": \"spline\"}, \"mode\": \"lines\", \"showlegend\": false, \"type\": \"scatter\", \"x\": [0, 1], \"y\": [209, 1130]}, {\"line\": {\"shape\": \"spline\"}, \"mode\": \"lines\", \"showlegend\": false, \"type\": \"scatter\", \"x\": [0, 1], \"y\": [496, 471]}, {\"line\": {\"shape\": \"spline\"}, \"mode\": \"lines\", \"showlegend\": false, \"type\": \"scatter\", \"x\": [0, 1], \"y\": [46, 432]}, {\"line\": {\"shape\": \"spline\"}, \"mode\": \"lines\", \"showlegend\": false, \"type\": \"scatter\", \"x\": [0, 1], \"y\": [330, 731]}, {\"line\": {\"shape\": \"spline\"}, \"mode\": \"lines\", \"showlegend\": false, \"type\": \"scatter\", \"x\": [0, 1], \"y\": [434, 612]}, {\"line\": {\"shape\": \"spline\"}, \"mode\": \"lines\", \"showlegend\": false, \"type\": \"scatter\", \"x\": [0, 1], \"y\": [356, 712]}, {\"line\": {\"shape\": \"spline\"}, \"mode\": \"lines\", \"showlegend\": false, \"type\": \"scatter\", \"x\": [0, 1], \"y\": [568, 175]}, {\"line\": {\"shape\": \"spline\"}, \"mode\": \"lines\", \"showlegend\": false, \"type\": \"scatter\", \"x\": [0, 1], \"y\": [292, 617]}, {\"line\": {\"shape\": \"spline\"}, \"mode\": \"lines\", \"showlegend\": false, \"type\": \"scatter\", \"x\": [0, 1], \"y\": [975, 613]}, {\"line\": {\"shape\": \"spline\"}, \"mode\": \"lines\", \"showlegend\": false, \"type\": \"scatter\", \"x\": [0, 1], \"y\": [893, 717]}, {\"line\": {\"shape\": \"spline\"}, \"mode\": \"lines\", \"showlegend\": false, \"type\": \"scatter\", \"x\": [0, 1], \"y\": [180, 693]}, {\"line\": {\"shape\": \"spline\"}, \"mode\": \"lines\", \"showlegend\": false, \"type\": \"scatter\", \"x\": [0, 1], \"y\": [2, 1077]}, {\"line\": {\"shape\": \"spline\"}, \"mode\": \"lines\", \"showlegend\": false, \"type\": \"scatter\", \"x\": [0, 1], \"y\": [11, 323]}, {\"line\": {\"shape\": \"spline\"}, \"mode\": \"lines\", \"showlegend\": false, \"type\": \"scatter\", \"x\": [0, 1], \"y\": [310, 805]}, {\"line\": {\"shape\": \"spline\"}, \"mode\": \"lines\", \"showlegend\": false, \"type\": \"scatter\", \"x\": [0, 1], \"y\": [171, 285]}, {\"line\": {\"shape\": \"spline\"}, \"mode\": \"lines\", \"showlegend\": false, \"type\": \"scatter\", \"x\": [0, 1], \"y\": [514, 564]}, {\"line\": {\"shape\": \"spline\"}, \"mode\": \"lines\", \"showlegend\": false, \"type\": \"scatter\", \"x\": [0, 1], \"y\": [33, 350]}, {\"line\": {\"shape\": \"spline\"}, \"mode\": \"lines\", \"showlegend\": false, \"type\": \"scatter\", \"x\": [0, 1], \"y\": [348, 580]}, {\"line\": {\"shape\": \"spline\"}, \"mode\": \"lines\", \"showlegend\": false, \"type\": \"scatter\", \"x\": [0, 1], \"y\": [756, 227]}, {\"line\": {\"shape\": \"spline\"}, \"mode\": \"lines\", \"showlegend\": false, \"type\": \"scatter\", \"x\": [0, 1], \"y\": [448, 1131]}, {\"line\": {\"shape\": \"spline\"}, \"mode\": \"lines\", \"showlegend\": false, \"type\": \"scatter\", \"x\": [0, 1], \"y\": [330, 1019]}, {\"line\": {\"shape\": \"spline\"}, \"mode\": \"lines\", \"showlegend\": false, \"type\": \"scatter\", \"x\": [0, 1], \"y\": [838, 964]}, {\"line\": {\"shape\": \"spline\"}, \"mode\": \"lines\", \"showlegend\": false, \"type\": \"scatter\", \"x\": [0, 1], \"y\": [759, 290]}, {\"line\": {\"shape\": \"spline\"}, \"mode\": \"lines\", \"showlegend\": false, \"type\": \"scatter\", \"x\": [0, 1], \"y\": [477, 383]}, {\"line\": {\"shape\": \"spline\"}, \"mode\": \"lines\", \"showlegend\": false, \"type\": \"scatter\", \"x\": [0, 1], \"y\": [670, 255]}, {\"line\": {\"shape\": \"spline\"}, \"mode\": \"lines\", \"showlegend\": false, \"type\": \"scatter\", \"x\": [0, 1], \"y\": [913, 923]}, {\"line\": {\"shape\": \"spline\"}, \"mode\": \"lines\", \"showlegend\": false, \"type\": \"scatter\", \"x\": [0, 1], \"y\": [33, 630]}, {\"line\": {\"shape\": \"spline\"}, \"mode\": \"lines\", \"showlegend\": false, \"type\": \"scatter\", \"x\": [0, 1], \"y\": [143, 165]}, {\"line\": {\"shape\": \"spline\"}, \"mode\": \"lines\", \"showlegend\": false, \"type\": \"scatter\", \"x\": [0, 1], \"y\": [147, 1072]}, {\"line\": {\"shape\": \"spline\"}, \"mode\": \"lines\", \"showlegend\": false, \"type\": \"scatter\", \"x\": [0, 1], \"y\": [978, 32]}, {\"line\": {\"shape\": \"spline\"}, \"mode\": \"lines\", \"showlegend\": false, \"type\": \"scatter\", \"x\": [0, 1], \"y\": [365, 348]}, {\"line\": {\"shape\": \"spline\"}, \"mode\": \"lines\", \"showlegend\": false, \"type\": \"scatter\", \"x\": [0, 1], \"y\": [277, 187]}, {\"line\": {\"shape\": \"spline\"}, \"mode\": \"lines\", \"showlegend\": false, \"type\": \"scatter\", \"x\": [0, 1], \"y\": [490, 1074]}, {\"line\": {\"shape\": \"spline\"}, \"mode\": \"lines\", \"showlegend\": false, \"type\": \"scatter\", \"x\": [0, 1], \"y\": [1161, 470]}, {\"line\": {\"shape\": \"spline\"}, \"mode\": \"lines\", \"showlegend\": false, \"type\": \"scatter\", \"x\": [0, 1], \"y\": [658, 648]}, {\"line\": {\"shape\": \"spline\"}, \"mode\": \"lines\", \"showlegend\": false, \"type\": \"scatter\", \"x\": [0, 1], \"y\": [1063, 604]}, {\"line\": {\"shape\": \"spline\"}, \"mode\": \"lines\", \"showlegend\": false, \"type\": \"scatter\", \"x\": [0, 1], \"y\": [891, 137]}, {\"line\": {\"shape\": \"spline\"}, \"mode\": \"lines\", \"showlegend\": false, \"type\": \"scatter\", \"x\": [0, 1], \"y\": [664, 114]}, {\"line\": {\"shape\": \"spline\"}, \"mode\": \"lines\", \"showlegend\": false, \"type\": \"scatter\", \"x\": [0, 1], \"y\": [79, 931]}, {\"line\": {\"shape\": \"spline\"}, \"mode\": \"lines\", \"showlegend\": false, \"type\": \"scatter\", \"x\": [0, 1], \"y\": [456, 118]}, {\"line\": {\"shape\": \"spline\"}, \"mode\": \"lines\", \"showlegend\": false, \"type\": \"scatter\", \"x\": [0, 1], \"y\": [987, 942]}, {\"line\": {\"shape\": \"spline\"}, \"mode\": \"lines\", \"showlegend\": false, \"type\": \"scatter\", \"x\": [0, 1], \"y\": [1113, 150]}, {\"line\": {\"shape\": \"spline\"}, \"mode\": \"lines\", \"showlegend\": false, \"type\": \"scatter\", \"x\": [0, 1], \"y\": [1083, 36]}, {\"line\": {\"shape\": \"spline\"}, \"mode\": \"lines\", \"showlegend\": false, \"type\": \"scatter\", \"x\": [0, 1], \"y\": [713, 763]}, {\"line\": {\"shape\": \"spline\"}, \"mode\": \"lines\", \"showlegend\": false, \"type\": \"scatter\", \"x\": [0, 1], \"y\": [676, 216]}],\n",
       "                        {\"template\": {\"data\": {\"bar\": [{\"error_x\": {\"color\": \"#2a3f5f\"}, \"error_y\": {\"color\": \"#2a3f5f\"}, \"marker\": {\"line\": {\"color\": \"#E5ECF6\", \"width\": 0.5}}, \"type\": \"bar\"}], \"barpolar\": [{\"marker\": {\"line\": {\"color\": \"#E5ECF6\", \"width\": 0.5}}, \"type\": \"barpolar\"}], \"carpet\": [{\"aaxis\": {\"endlinecolor\": \"#2a3f5f\", \"gridcolor\": \"white\", \"linecolor\": \"white\", \"minorgridcolor\": \"white\", \"startlinecolor\": \"#2a3f5f\"}, \"baxis\": {\"endlinecolor\": \"#2a3f5f\", \"gridcolor\": \"white\", \"linecolor\": \"white\", \"minorgridcolor\": \"white\", \"startlinecolor\": \"#2a3f5f\"}, \"type\": \"carpet\"}], \"choropleth\": [{\"colorbar\": {\"outlinewidth\": 0, \"ticks\": \"\"}, \"type\": \"choropleth\"}], \"contour\": [{\"colorbar\": {\"outlinewidth\": 0, \"ticks\": \"\"}, \"colorscale\": [[0.0, \"#0d0887\"], [0.1111111111111111, \"#46039f\"], [0.2222222222222222, \"#7201a8\"], [0.3333333333333333, \"#9c179e\"], [0.4444444444444444, \"#bd3786\"], [0.5555555555555556, \"#d8576b\"], [0.6666666666666666, \"#ed7953\"], [0.7777777777777778, \"#fb9f3a\"], [0.8888888888888888, \"#fdca26\"], [1.0, \"#f0f921\"]], \"type\": \"contour\"}], \"contourcarpet\": [{\"colorbar\": {\"outlinewidth\": 0, \"ticks\": \"\"}, \"type\": \"contourcarpet\"}], \"heatmap\": [{\"colorbar\": {\"outlinewidth\": 0, \"ticks\": \"\"}, \"colorscale\": [[0.0, \"#0d0887\"], [0.1111111111111111, \"#46039f\"], [0.2222222222222222, \"#7201a8\"], [0.3333333333333333, \"#9c179e\"], [0.4444444444444444, \"#bd3786\"], [0.5555555555555556, \"#d8576b\"], [0.6666666666666666, \"#ed7953\"], [0.7777777777777778, \"#fb9f3a\"], [0.8888888888888888, \"#fdca26\"], [1.0, \"#f0f921\"]], \"type\": \"heatmap\"}], \"heatmapgl\": [{\"colorbar\": {\"outlinewidth\": 0, \"ticks\": \"\"}, \"colorscale\": [[0.0, \"#0d0887\"], [0.1111111111111111, \"#46039f\"], [0.2222222222222222, \"#7201a8\"], [0.3333333333333333, \"#9c179e\"], [0.4444444444444444, \"#bd3786\"], [0.5555555555555556, \"#d8576b\"], [0.6666666666666666, \"#ed7953\"], [0.7777777777777778, \"#fb9f3a\"], [0.8888888888888888, \"#fdca26\"], [1.0, \"#f0f921\"]], \"type\": \"heatmapgl\"}], \"histogram\": [{\"marker\": {\"colorbar\": {\"outlinewidth\": 0, \"ticks\": \"\"}}, \"type\": \"histogram\"}], \"histogram2d\": [{\"colorbar\": {\"outlinewidth\": 0, \"ticks\": \"\"}, \"colorscale\": [[0.0, \"#0d0887\"], [0.1111111111111111, \"#46039f\"], [0.2222222222222222, \"#7201a8\"], [0.3333333333333333, \"#9c179e\"], [0.4444444444444444, \"#bd3786\"], [0.5555555555555556, \"#d8576b\"], [0.6666666666666666, \"#ed7953\"], [0.7777777777777778, \"#fb9f3a\"], [0.8888888888888888, \"#fdca26\"], [1.0, \"#f0f921\"]], \"type\": \"histogram2d\"}], \"histogram2dcontour\": [{\"colorbar\": {\"outlinewidth\": 0, \"ticks\": \"\"}, \"colorscale\": [[0.0, \"#0d0887\"], [0.1111111111111111, \"#46039f\"], [0.2222222222222222, \"#7201a8\"], [0.3333333333333333, \"#9c179e\"], [0.4444444444444444, \"#bd3786\"], [0.5555555555555556, \"#d8576b\"], [0.6666666666666666, \"#ed7953\"], [0.7777777777777778, \"#fb9f3a\"], [0.8888888888888888, \"#fdca26\"], [1.0, \"#f0f921\"]], \"type\": \"histogram2dcontour\"}], \"mesh3d\": [{\"colorbar\": {\"outlinewidth\": 0, \"ticks\": \"\"}, \"type\": \"mesh3d\"}], \"parcoords\": [{\"line\": {\"colorbar\": {\"outlinewidth\": 0, \"ticks\": \"\"}}, \"type\": \"parcoords\"}], \"pie\": [{\"automargin\": true, \"type\": \"pie\"}], \"scatter\": [{\"marker\": {\"colorbar\": {\"outlinewidth\": 0, \"ticks\": \"\"}}, \"type\": \"scatter\"}], \"scatter3d\": [{\"line\": {\"colorbar\": {\"outlinewidth\": 0, \"ticks\": \"\"}}, \"marker\": {\"colorbar\": {\"outlinewidth\": 0, \"ticks\": \"\"}}, \"type\": \"scatter3d\"}], \"scattercarpet\": [{\"marker\": {\"colorbar\": {\"outlinewidth\": 0, \"ticks\": \"\"}}, \"type\": \"scattercarpet\"}], \"scattergeo\": [{\"marker\": {\"colorbar\": {\"outlinewidth\": 0, \"ticks\": \"\"}}, \"type\": \"scattergeo\"}], \"scattergl\": [{\"marker\": {\"colorbar\": {\"outlinewidth\": 0, \"ticks\": \"\"}}, \"type\": \"scattergl\"}], \"scattermapbox\": [{\"marker\": {\"colorbar\": {\"outlinewidth\": 0, \"ticks\": \"\"}}, \"type\": \"scattermapbox\"}], \"scatterpolar\": [{\"marker\": {\"colorbar\": {\"outlinewidth\": 0, \"ticks\": \"\"}}, \"type\": \"scatterpolar\"}], \"scatterpolargl\": [{\"marker\": {\"colorbar\": {\"outlinewidth\": 0, \"ticks\": \"\"}}, \"type\": \"scatterpolargl\"}], \"scatterternary\": [{\"marker\": {\"colorbar\": {\"outlinewidth\": 0, \"ticks\": \"\"}}, \"type\": \"scatterternary\"}], \"surface\": [{\"colorbar\": {\"outlinewidth\": 0, \"ticks\": \"\"}, \"colorscale\": [[0.0, \"#0d0887\"], [0.1111111111111111, \"#46039f\"], [0.2222222222222222, \"#7201a8\"], [0.3333333333333333, \"#9c179e\"], [0.4444444444444444, \"#bd3786\"], [0.5555555555555556, \"#d8576b\"], [0.6666666666666666, \"#ed7953\"], [0.7777777777777778, \"#fb9f3a\"], [0.8888888888888888, \"#fdca26\"], [1.0, \"#f0f921\"]], \"type\": \"surface\"}], \"table\": [{\"cells\": {\"fill\": {\"color\": \"#EBF0F8\"}, \"line\": {\"color\": \"white\"}}, \"header\": {\"fill\": {\"color\": \"#C8D4E3\"}, \"line\": {\"color\": \"white\"}}, \"type\": \"table\"}]}, \"layout\": {\"annotationdefaults\": {\"arrowcolor\": \"#2a3f5f\", \"arrowhead\": 0, \"arrowwidth\": 1}, \"coloraxis\": {\"colorbar\": {\"outlinewidth\": 0, \"ticks\": \"\"}}, \"colorscale\": {\"diverging\": [[0, \"#8e0152\"], [0.1, \"#c51b7d\"], [0.2, \"#de77ae\"], [0.3, \"#f1b6da\"], [0.4, \"#fde0ef\"], [0.5, \"#f7f7f7\"], [0.6, \"#e6f5d0\"], [0.7, \"#b8e186\"], [0.8, \"#7fbc41\"], [0.9, \"#4d9221\"], [1, \"#276419\"]], \"sequential\": [[0.0, \"#0d0887\"], [0.1111111111111111, \"#46039f\"], [0.2222222222222222, \"#7201a8\"], [0.3333333333333333, \"#9c179e\"], [0.4444444444444444, \"#bd3786\"], [0.5555555555555556, \"#d8576b\"], [0.6666666666666666, \"#ed7953\"], [0.7777777777777778, \"#fb9f3a\"], [0.8888888888888888, \"#fdca26\"], [1.0, \"#f0f921\"]], \"sequentialminus\": [[0.0, \"#0d0887\"], [0.1111111111111111, \"#46039f\"], [0.2222222222222222, \"#7201a8\"], [0.3333333333333333, \"#9c179e\"], [0.4444444444444444, \"#bd3786\"], [0.5555555555555556, \"#d8576b\"], [0.6666666666666666, \"#ed7953\"], [0.7777777777777778, \"#fb9f3a\"], [0.8888888888888888, \"#fdca26\"], [1.0, \"#f0f921\"]]}, \"colorway\": [\"#636efa\", \"#EF553B\", \"#00cc96\", \"#ab63fa\", \"#FFA15A\", \"#19d3f3\", \"#FF6692\", \"#B6E880\", \"#FF97FF\", \"#FECB52\"], \"font\": {\"color\": \"#2a3f5f\"}, \"geo\": {\"bgcolor\": \"white\", \"lakecolor\": \"white\", \"landcolor\": \"#E5ECF6\", \"showlakes\": true, \"showland\": true, \"subunitcolor\": \"white\"}, \"hoverlabel\": {\"align\": \"left\"}, \"hovermode\": \"closest\", \"mapbox\": {\"style\": \"light\"}, \"paper_bgcolor\": \"white\", \"plot_bgcolor\": \"#E5ECF6\", \"polar\": {\"angularaxis\": {\"gridcolor\": \"white\", \"linecolor\": \"white\", \"ticks\": \"\"}, \"bgcolor\": \"#E5ECF6\", \"radialaxis\": {\"gridcolor\": \"white\", \"linecolor\": \"white\", \"ticks\": \"\"}}, \"scene\": {\"xaxis\": {\"backgroundcolor\": \"#E5ECF6\", \"gridcolor\": \"white\", \"gridwidth\": 2, \"linecolor\": \"white\", \"showbackground\": true, \"ticks\": \"\", \"zerolinecolor\": \"white\"}, \"yaxis\": {\"backgroundcolor\": \"#E5ECF6\", \"gridcolor\": \"white\", \"gridwidth\": 2, \"linecolor\": \"white\", \"showbackground\": true, \"ticks\": \"\", \"zerolinecolor\": \"white\"}, \"zaxis\": {\"backgroundcolor\": \"#E5ECF6\", \"gridcolor\": \"white\", \"gridwidth\": 2, \"linecolor\": \"white\", \"showbackground\": true, \"ticks\": \"\", \"zerolinecolor\": \"white\"}}, \"shapedefaults\": {\"line\": {\"color\": \"#2a3f5f\"}}, \"ternary\": {\"aaxis\": {\"gridcolor\": \"white\", \"linecolor\": \"white\", \"ticks\": \"\"}, \"baxis\": {\"gridcolor\": \"white\", \"linecolor\": \"white\", \"ticks\": \"\"}, \"bgcolor\": \"#E5ECF6\", \"caxis\": {\"gridcolor\": \"white\", \"linecolor\": \"white\", \"ticks\": \"\"}}, \"title\": {\"x\": 0.05}, \"xaxis\": {\"automargin\": true, \"gridcolor\": \"white\", \"linecolor\": \"white\", \"ticks\": \"\", \"title\": {\"standoff\": 15}, \"zerolinecolor\": \"white\", \"zerolinewidth\": 2}, \"yaxis\": {\"automargin\": true, \"gridcolor\": \"white\", \"linecolor\": \"white\", \"ticks\": \"\", \"title\": {\"standoff\": 15}, \"zerolinecolor\": \"white\", \"zerolinewidth\": 2}}}},\n",
       "                        {\"responsive\": true}\n",
       "                    ).then(function(){\n",
       "                            \n",
       "var gd = document.getElementById('0588770b-f1e3-495b-a07b-0fedfbc913c1');\n",
       "var x = new MutationObserver(function (mutations, observer) {{\n",
       "        var display = window.getComputedStyle(gd).display;\n",
       "        if (!display || display === 'none') {{\n",
       "            console.log([gd, 'removed!']);\n",
       "            Plotly.purge(gd);\n",
       "            observer.disconnect();\n",
       "        }}\n",
       "}});\n",
       "\n",
       "// Listen for the removal of the full notebook cells\n",
       "var notebookContainer = gd.closest('#notebook-container');\n",
       "if (notebookContainer) {{\n",
       "    x.observe(notebookContainer, {childList: true});\n",
       "}}\n",
       "\n",
       "// Listen for the clearing of the current output cell\n",
       "var outputEl = gd.closest('.output');\n",
       "if (outputEl) {{\n",
       "    x.observe(outputEl, {childList: true});\n",
       "}}\n",
       "\n",
       "                        })\n",
       "                };\n",
       "                });\n",
       "            </script>\n",
       "        </div>"
      ]
     },
     "metadata": {},
     "output_type": "display_data"
    }
   ],
   "source": [
    "import numpy as np\n",
    "connections = np.random.randint(0, 1280, (640, 2))\n",
    "\n",
    "%time go.Figure(data=[go.Scatter(x=[0, 1], y=co, mode='lines', line=dict(shape='spline'), showlegend=False) for co in connections])"
   ]
  },
  {
   "cell_type": "code",
   "execution_count": 34,
   "metadata": {},
   "outputs": [
    {
     "name": "stdout",
     "output_type": "stream",
     "text": [
      "CPU times: user 142 ms, sys: 2.54 ms, total: 145 ms\n",
      "Wall time: 145 ms\n"
     ]
    },
    {
     "data": {
      "application/vnd.plotly.v1+json": {
       "config": {
        "plotlyServerURL": "https://plot.ly"
       },
       "data": [
        {
         "type": "scatter",
         "x": [
          0,
          1
         ],
         "y": [
          0,
          1
         ]
        }
       ],
       "layout": {
        "shapes": [
         {
          "line": {
           "color": "blue",
           "width": 1.5
          },
          "opacity": 0.6,
          "path": "M 0.000000, 229.000000 C 0.200000, 229.000000 0.800000, 1031.000000 1.000000, 1031.000000",
          "type": "path"
         },
         {
          "line": {
           "color": "blue",
           "width": 1.5
          },
          "opacity": 0.6,
          "path": "M 0.000000, 470.000000 C 0.200000, 470.000000 0.800000, 38.000000 1.000000, 38.000000",
          "type": "path"
         },
         {
          "line": {
           "color": "blue",
           "width": 1.5
          },
          "opacity": 0.6,
          "path": "M 0.000000, 1105.000000 C 0.200000, 1105.000000 0.800000, 559.000000 1.000000, 559.000000",
          "type": "path"
         },
         {
          "line": {
           "color": "blue",
           "width": 1.5
          },
          "opacity": 0.6,
          "path": "M 0.000000, 1041.000000 C 0.200000, 1041.000000 0.800000, 107.000000 1.000000, 107.000000",
          "type": "path"
         },
         {
          "line": {
           "color": "blue",
           "width": 1.5
          },
          "opacity": 0.6,
          "path": "M 0.000000, 578.000000 C 0.200000, 578.000000 0.800000, 688.000000 1.000000, 688.000000",
          "type": "path"
         },
         {
          "line": {
           "color": "blue",
           "width": 1.5
          },
          "opacity": 0.6,
          "path": "M 0.000000, 654.000000 C 0.200000, 654.000000 0.800000, 36.000000 1.000000, 36.000000",
          "type": "path"
         },
         {
          "line": {
           "color": "blue",
           "width": 1.5
          },
          "opacity": 0.6,
          "path": "M 0.000000, 915.000000 C 0.200000, 915.000000 0.800000, 67.000000 1.000000, 67.000000",
          "type": "path"
         },
         {
          "line": {
           "color": "blue",
           "width": 1.5
          },
          "opacity": 0.6,
          "path": "M 0.000000, 41.000000 C 0.200000, 41.000000 0.800000, 310.000000 1.000000, 310.000000",
          "type": "path"
         },
         {
          "line": {
           "color": "blue",
           "width": 1.5
          },
          "opacity": 0.6,
          "path": "M 0.000000, 1194.000000 C 0.200000, 1194.000000 0.800000, 218.000000 1.000000, 218.000000",
          "type": "path"
         },
         {
          "line": {
           "color": "blue",
           "width": 1.5
          },
          "opacity": 0.6,
          "path": "M 0.000000, 928.000000 C 0.200000, 928.000000 0.800000, 1076.000000 1.000000, 1076.000000",
          "type": "path"
         },
         {
          "line": {
           "color": "blue",
           "width": 1.5
          },
          "opacity": 0.6,
          "path": "M 0.000000, 272.000000 C 0.200000, 272.000000 0.800000, 0.000000 1.000000, 0.000000",
          "type": "path"
         },
         {
          "line": {
           "color": "blue",
           "width": 1.5
          },
          "opacity": 0.6,
          "path": "M 0.000000, 1241.000000 C 0.200000, 1241.000000 0.800000, 1041.000000 1.000000, 1041.000000",
          "type": "path"
         },
         {
          "line": {
           "color": "blue",
           "width": 1.5
          },
          "opacity": 0.6,
          "path": "M 0.000000, 37.000000 C 0.200000, 37.000000 0.800000, 145.000000 1.000000, 145.000000",
          "type": "path"
         },
         {
          "line": {
           "color": "blue",
           "width": 1.5
          },
          "opacity": 0.6,
          "path": "M 0.000000, 1193.000000 C 0.200000, 1193.000000 0.800000, 655.000000 1.000000, 655.000000",
          "type": "path"
         },
         {
          "line": {
           "color": "blue",
           "width": 1.5
          },
          "opacity": 0.6,
          "path": "M 0.000000, 1265.000000 C 0.200000, 1265.000000 0.800000, 400.000000 1.000000, 400.000000",
          "type": "path"
         },
         {
          "line": {
           "color": "blue",
           "width": 1.5
          },
          "opacity": 0.6,
          "path": "M 0.000000, 1082.000000 C 0.200000, 1082.000000 0.800000, 406.000000 1.000000, 406.000000",
          "type": "path"
         },
         {
          "line": {
           "color": "blue",
           "width": 1.5
          },
          "opacity": 0.6,
          "path": "M 0.000000, 985.000000 C 0.200000, 985.000000 0.800000, 132.000000 1.000000, 132.000000",
          "type": "path"
         },
         {
          "line": {
           "color": "blue",
           "width": 1.5
          },
          "opacity": 0.6,
          "path": "M 0.000000, 1256.000000 C 0.200000, 1256.000000 0.800000, 780.000000 1.000000, 780.000000",
          "type": "path"
         },
         {
          "line": {
           "color": "blue",
           "width": 1.5
          },
          "opacity": 0.6,
          "path": "M 0.000000, 410.000000 C 0.200000, 410.000000 0.800000, 928.000000 1.000000, 928.000000",
          "type": "path"
         },
         {
          "line": {
           "color": "blue",
           "width": 1.5
          },
          "opacity": 0.6,
          "path": "M 0.000000, 514.000000 C 0.200000, 514.000000 0.800000, 1270.000000 1.000000, 1270.000000",
          "type": "path"
         },
         {
          "line": {
           "color": "blue",
           "width": 1.5
          },
          "opacity": 0.6,
          "path": "M 0.000000, 157.000000 C 0.200000, 157.000000 0.800000, 1263.000000 1.000000, 1263.000000",
          "type": "path"
         },
         {
          "line": {
           "color": "blue",
           "width": 1.5
          },
          "opacity": 0.6,
          "path": "M 0.000000, 1080.000000 C 0.200000, 1080.000000 0.800000, 647.000000 1.000000, 647.000000",
          "type": "path"
         },
         {
          "line": {
           "color": "blue",
           "width": 1.5
          },
          "opacity": 0.6,
          "path": "M 0.000000, 74.000000 C 0.200000, 74.000000 0.800000, 1229.000000 1.000000, 1229.000000",
          "type": "path"
         },
         {
          "line": {
           "color": "blue",
           "width": 1.5
          },
          "opacity": 0.6,
          "path": "M 0.000000, 68.000000 C 0.200000, 68.000000 0.800000, 1162.000000 1.000000, 1162.000000",
          "type": "path"
         },
         {
          "line": {
           "color": "blue",
           "width": 1.5
          },
          "opacity": 0.6,
          "path": "M 0.000000, 982.000000 C 0.200000, 982.000000 0.800000, 1271.000000 1.000000, 1271.000000",
          "type": "path"
         },
         {
          "line": {
           "color": "blue",
           "width": 1.5
          },
          "opacity": 0.6,
          "path": "M 0.000000, 895.000000 C 0.200000, 895.000000 0.800000, 910.000000 1.000000, 910.000000",
          "type": "path"
         },
         {
          "line": {
           "color": "blue",
           "width": 1.5
          },
          "opacity": 0.6,
          "path": "M 0.000000, 175.000000 C 0.200000, 175.000000 0.800000, 1217.000000 1.000000, 1217.000000",
          "type": "path"
         },
         {
          "line": {
           "color": "blue",
           "width": 1.5
          },
          "opacity": 0.6,
          "path": "M 0.000000, 393.000000 C 0.200000, 393.000000 0.800000, 489.000000 1.000000, 489.000000",
          "type": "path"
         },
         {
          "line": {
           "color": "blue",
           "width": 1.5
          },
          "opacity": 0.6,
          "path": "M 0.000000, 76.000000 C 0.200000, 76.000000 0.800000, 754.000000 1.000000, 754.000000",
          "type": "path"
         },
         {
          "line": {
           "color": "blue",
           "width": 1.5
          },
          "opacity": 0.6,
          "path": "M 0.000000, 78.000000 C 0.200000, 78.000000 0.800000, 322.000000 1.000000, 322.000000",
          "type": "path"
         },
         {
          "line": {
           "color": "blue",
           "width": 1.5
          },
          "opacity": 0.6,
          "path": "M 0.000000, 1015.000000 C 0.200000, 1015.000000 0.800000, 215.000000 1.000000, 215.000000",
          "type": "path"
         },
         {
          "line": {
           "color": "blue",
           "width": 1.5
          },
          "opacity": 0.6,
          "path": "M 0.000000, 70.000000 C 0.200000, 70.000000 0.800000, 705.000000 1.000000, 705.000000",
          "type": "path"
         },
         {
          "line": {
           "color": "blue",
           "width": 1.5
          },
          "opacity": 0.6,
          "path": "M 0.000000, 188.000000 C 0.200000, 188.000000 0.800000, 692.000000 1.000000, 692.000000",
          "type": "path"
         },
         {
          "line": {
           "color": "blue",
           "width": 1.5
          },
          "opacity": 0.6,
          "path": "M 0.000000, 675.000000 C 0.200000, 675.000000 0.800000, 1153.000000 1.000000, 1153.000000",
          "type": "path"
         },
         {
          "line": {
           "color": "blue",
           "width": 1.5
          },
          "opacity": 0.6,
          "path": "M 0.000000, 779.000000 C 0.200000, 779.000000 0.800000, 934.000000 1.000000, 934.000000",
          "type": "path"
         },
         {
          "line": {
           "color": "blue",
           "width": 1.5
          },
          "opacity": 0.6,
          "path": "M 0.000000, 595.000000 C 0.200000, 595.000000 0.800000, 873.000000 1.000000, 873.000000",
          "type": "path"
         },
         {
          "line": {
           "color": "blue",
           "width": 1.5
          },
          "opacity": 0.6,
          "path": "M 0.000000, 349.000000 C 0.200000, 349.000000 0.800000, 897.000000 1.000000, 897.000000",
          "type": "path"
         },
         {
          "line": {
           "color": "blue",
           "width": 1.5
          },
          "opacity": 0.6,
          "path": "M 0.000000, 1233.000000 C 0.200000, 1233.000000 0.800000, 829.000000 1.000000, 829.000000",
          "type": "path"
         },
         {
          "line": {
           "color": "blue",
           "width": 1.5
          },
          "opacity": 0.6,
          "path": "M 0.000000, 88.000000 C 0.200000, 88.000000 0.800000, 633.000000 1.000000, 633.000000",
          "type": "path"
         },
         {
          "line": {
           "color": "blue",
           "width": 1.5
          },
          "opacity": 0.6,
          "path": "M 0.000000, 433.000000 C 0.200000, 433.000000 0.800000, 589.000000 1.000000, 589.000000",
          "type": "path"
         },
         {
          "line": {
           "color": "blue",
           "width": 1.5
          },
          "opacity": 0.6,
          "path": "M 0.000000, 1003.000000 C 0.200000, 1003.000000 0.800000, 444.000000 1.000000, 444.000000",
          "type": "path"
         },
         {
          "line": {
           "color": "blue",
           "width": 1.5
          },
          "opacity": 0.6,
          "path": "M 0.000000, 927.000000 C 0.200000, 927.000000 0.800000, 111.000000 1.000000, 111.000000",
          "type": "path"
         },
         {
          "line": {
           "color": "blue",
           "width": 1.5
          },
          "opacity": 0.6,
          "path": "M 0.000000, 625.000000 C 0.200000, 625.000000 0.800000, 234.000000 1.000000, 234.000000",
          "type": "path"
         },
         {
          "line": {
           "color": "blue",
           "width": 1.5
          },
          "opacity": 0.6,
          "path": "M 0.000000, 721.000000 C 0.200000, 721.000000 0.800000, 153.000000 1.000000, 153.000000",
          "type": "path"
         },
         {
          "line": {
           "color": "blue",
           "width": 1.5
          },
          "opacity": 0.6,
          "path": "M 0.000000, 454.000000 C 0.200000, 454.000000 0.800000, 662.000000 1.000000, 662.000000",
          "type": "path"
         },
         {
          "line": {
           "color": "blue",
           "width": 1.5
          },
          "opacity": 0.6,
          "path": "M 0.000000, 985.000000 C 0.200000, 985.000000 0.800000, 54.000000 1.000000, 54.000000",
          "type": "path"
         },
         {
          "line": {
           "color": "blue",
           "width": 1.5
          },
          "opacity": 0.6,
          "path": "M 0.000000, 528.000000 C 0.200000, 528.000000 0.800000, 477.000000 1.000000, 477.000000",
          "type": "path"
         },
         {
          "line": {
           "color": "blue",
           "width": 1.5
          },
          "opacity": 0.6,
          "path": "M 0.000000, 364.000000 C 0.200000, 364.000000 0.800000, 312.000000 1.000000, 312.000000",
          "type": "path"
         },
         {
          "line": {
           "color": "blue",
           "width": 1.5
          },
          "opacity": 0.6,
          "path": "M 0.000000, 942.000000 C 0.200000, 942.000000 0.800000, 425.000000 1.000000, 425.000000",
          "type": "path"
         },
         {
          "line": {
           "color": "blue",
           "width": 1.5
          },
          "opacity": 0.6,
          "path": "M 0.000000, 374.000000 C 0.200000, 374.000000 0.800000, 345.000000 1.000000, 345.000000",
          "type": "path"
         },
         {
          "line": {
           "color": "blue",
           "width": 1.5
          },
          "opacity": 0.6,
          "path": "M 0.000000, 711.000000 C 0.200000, 711.000000 0.800000, 200.000000 1.000000, 200.000000",
          "type": "path"
         },
         {
          "line": {
           "color": "blue",
           "width": 1.5
          },
          "opacity": 0.6,
          "path": "M 0.000000, 680.000000 C 0.200000, 680.000000 0.800000, 284.000000 1.000000, 284.000000",
          "type": "path"
         },
         {
          "line": {
           "color": "blue",
           "width": 1.5
          },
          "opacity": 0.6,
          "path": "M 0.000000, 851.000000 C 0.200000, 851.000000 0.800000, 101.000000 1.000000, 101.000000",
          "type": "path"
         },
         {
          "line": {
           "color": "blue",
           "width": 1.5
          },
          "opacity": 0.6,
          "path": "M 0.000000, 877.000000 C 0.200000, 877.000000 0.800000, 52.000000 1.000000, 52.000000",
          "type": "path"
         },
         {
          "line": {
           "color": "blue",
           "width": 1.5
          },
          "opacity": 0.6,
          "path": "M 0.000000, 985.000000 C 0.200000, 985.000000 0.800000, 384.000000 1.000000, 384.000000",
          "type": "path"
         },
         {
          "line": {
           "color": "blue",
           "width": 1.5
          },
          "opacity": 0.6,
          "path": "M 0.000000, 1192.000000 C 0.200000, 1192.000000 0.800000, 1205.000000 1.000000, 1205.000000",
          "type": "path"
         },
         {
          "line": {
           "color": "blue",
           "width": 1.5
          },
          "opacity": 0.6,
          "path": "M 0.000000, 338.000000 C 0.200000, 338.000000 0.800000, 388.000000 1.000000, 388.000000",
          "type": "path"
         },
         {
          "line": {
           "color": "blue",
           "width": 1.5
          },
          "opacity": 0.6,
          "path": "M 0.000000, 936.000000 C 0.200000, 936.000000 0.800000, 851.000000 1.000000, 851.000000",
          "type": "path"
         },
         {
          "line": {
           "color": "blue",
           "width": 1.5
          },
          "opacity": 0.6,
          "path": "M 0.000000, 989.000000 C 0.200000, 989.000000 0.800000, 457.000000 1.000000, 457.000000",
          "type": "path"
         },
         {
          "line": {
           "color": "blue",
           "width": 1.5
          },
          "opacity": 0.6,
          "path": "M 0.000000, 261.000000 C 0.200000, 261.000000 0.800000, 1081.000000 1.000000, 1081.000000",
          "type": "path"
         },
         {
          "line": {
           "color": "blue",
           "width": 1.5
          },
          "opacity": 0.6,
          "path": "M 0.000000, 358.000000 C 0.200000, 358.000000 0.800000, 634.000000 1.000000, 634.000000",
          "type": "path"
         },
         {
          "line": {
           "color": "blue",
           "width": 1.5
          },
          "opacity": 0.6,
          "path": "M 0.000000, 1169.000000 C 0.200000, 1169.000000 0.800000, 688.000000 1.000000, 688.000000",
          "type": "path"
         },
         {
          "line": {
           "color": "blue",
           "width": 1.5
          },
          "opacity": 0.6,
          "path": "M 0.000000, 1228.000000 C 0.200000, 1228.000000 0.800000, 259.000000 1.000000, 259.000000",
          "type": "path"
         },
         {
          "line": {
           "color": "blue",
           "width": 1.5
          },
          "opacity": 0.6,
          "path": "M 0.000000, 799.000000 C 0.200000, 799.000000 0.800000, 1204.000000 1.000000, 1204.000000",
          "type": "path"
         },
         {
          "line": {
           "color": "blue",
           "width": 1.5
          },
          "opacity": 0.6,
          "path": "M 0.000000, 814.000000 C 0.200000, 814.000000 0.800000, 83.000000 1.000000, 83.000000",
          "type": "path"
         },
         {
          "line": {
           "color": "blue",
           "width": 1.5
          },
          "opacity": 0.6,
          "path": "M 0.000000, 268.000000 C 0.200000, 268.000000 0.800000, 494.000000 1.000000, 494.000000",
          "type": "path"
         },
         {
          "line": {
           "color": "blue",
           "width": 1.5
          },
          "opacity": 0.6,
          "path": "M 0.000000, 1194.000000 C 0.200000, 1194.000000 0.800000, 974.000000 1.000000, 974.000000",
          "type": "path"
         },
         {
          "line": {
           "color": "blue",
           "width": 1.5
          },
          "opacity": 0.6,
          "path": "M 0.000000, 606.000000 C 0.200000, 606.000000 0.800000, 790.000000 1.000000, 790.000000",
          "type": "path"
         },
         {
          "line": {
           "color": "blue",
           "width": 1.5
          },
          "opacity": 0.6,
          "path": "M 0.000000, 437.000000 C 0.200000, 437.000000 0.800000, 667.000000 1.000000, 667.000000",
          "type": "path"
         },
         {
          "line": {
           "color": "blue",
           "width": 1.5
          },
          "opacity": 0.6,
          "path": "M 0.000000, 1008.000000 C 0.200000, 1008.000000 0.800000, 1114.000000 1.000000, 1114.000000",
          "type": "path"
         },
         {
          "line": {
           "color": "blue",
           "width": 1.5
          },
          "opacity": 0.6,
          "path": "M 0.000000, 909.000000 C 0.200000, 909.000000 0.800000, 1053.000000 1.000000, 1053.000000",
          "type": "path"
         },
         {
          "line": {
           "color": "blue",
           "width": 1.5
          },
          "opacity": 0.6,
          "path": "M 0.000000, 1037.000000 C 0.200000, 1037.000000 0.800000, 1218.000000 1.000000, 1218.000000",
          "type": "path"
         },
         {
          "line": {
           "color": "blue",
           "width": 1.5
          },
          "opacity": 0.6,
          "path": "M 0.000000, 387.000000 C 0.200000, 387.000000 0.800000, 576.000000 1.000000, 576.000000",
          "type": "path"
         },
         {
          "line": {
           "color": "blue",
           "width": 1.5
          },
          "opacity": 0.6,
          "path": "M 0.000000, 289.000000 C 0.200000, 289.000000 0.800000, 844.000000 1.000000, 844.000000",
          "type": "path"
         },
         {
          "line": {
           "color": "blue",
           "width": 1.5
          },
          "opacity": 0.6,
          "path": "M 0.000000, 293.000000 C 0.200000, 293.000000 0.800000, 1128.000000 1.000000, 1128.000000",
          "type": "path"
         },
         {
          "line": {
           "color": "blue",
           "width": 1.5
          },
          "opacity": 0.6,
          "path": "M 0.000000, 642.000000 C 0.200000, 642.000000 0.800000, 1076.000000 1.000000, 1076.000000",
          "type": "path"
         },
         {
          "line": {
           "color": "blue",
           "width": 1.5
          },
          "opacity": 0.6,
          "path": "M 0.000000, 682.000000 C 0.200000, 682.000000 0.800000, 180.000000 1.000000, 180.000000",
          "type": "path"
         },
         {
          "line": {
           "color": "blue",
           "width": 1.5
          },
          "opacity": 0.6,
          "path": "M 0.000000, 608.000000 C 0.200000, 608.000000 0.800000, 927.000000 1.000000, 927.000000",
          "type": "path"
         },
         {
          "line": {
           "color": "blue",
           "width": 1.5
          },
          "opacity": 0.6,
          "path": "M 0.000000, 644.000000 C 0.200000, 644.000000 0.800000, 924.000000 1.000000, 924.000000",
          "type": "path"
         },
         {
          "line": {
           "color": "blue",
           "width": 1.5
          },
          "opacity": 0.6,
          "path": "M 0.000000, 851.000000 C 0.200000, 851.000000 0.800000, 1237.000000 1.000000, 1237.000000",
          "type": "path"
         },
         {
          "line": {
           "color": "blue",
           "width": 1.5
          },
          "opacity": 0.6,
          "path": "M 0.000000, 1005.000000 C 0.200000, 1005.000000 0.800000, 1244.000000 1.000000, 1244.000000",
          "type": "path"
         },
         {
          "line": {
           "color": "blue",
           "width": 1.5
          },
          "opacity": 0.6,
          "path": "M 0.000000, 912.000000 C 0.200000, 912.000000 0.800000, 758.000000 1.000000, 758.000000",
          "type": "path"
         },
         {
          "line": {
           "color": "blue",
           "width": 1.5
          },
          "opacity": 0.6,
          "path": "M 0.000000, 1205.000000 C 0.200000, 1205.000000 0.800000, 284.000000 1.000000, 284.000000",
          "type": "path"
         },
         {
          "line": {
           "color": "blue",
           "width": 1.5
          },
          "opacity": 0.6,
          "path": "M 0.000000, 309.000000 C 0.200000, 309.000000 0.800000, 543.000000 1.000000, 543.000000",
          "type": "path"
         },
         {
          "line": {
           "color": "blue",
           "width": 1.5
          },
          "opacity": 0.6,
          "path": "M 0.000000, 831.000000 C 0.200000, 831.000000 0.800000, 107.000000 1.000000, 107.000000",
          "type": "path"
         },
         {
          "line": {
           "color": "blue",
           "width": 1.5
          },
          "opacity": 0.6,
          "path": "M 0.000000, 436.000000 C 0.200000, 436.000000 0.800000, 918.000000 1.000000, 918.000000",
          "type": "path"
         },
         {
          "line": {
           "color": "blue",
           "width": 1.5
          },
          "opacity": 0.6,
          "path": "M 0.000000, 969.000000 C 0.200000, 969.000000 0.800000, 429.000000 1.000000, 429.000000",
          "type": "path"
         },
         {
          "line": {
           "color": "blue",
           "width": 1.5
          },
          "opacity": 0.6,
          "path": "M 0.000000, 509.000000 C 0.200000, 509.000000 0.800000, 1147.000000 1.000000, 1147.000000",
          "type": "path"
         },
         {
          "line": {
           "color": "blue",
           "width": 1.5
          },
          "opacity": 0.6,
          "path": "M 0.000000, 677.000000 C 0.200000, 677.000000 0.800000, 441.000000 1.000000, 441.000000",
          "type": "path"
         },
         {
          "line": {
           "color": "blue",
           "width": 1.5
          },
          "opacity": 0.6,
          "path": "M 0.000000, 472.000000 C 0.200000, 472.000000 0.800000, 642.000000 1.000000, 642.000000",
          "type": "path"
         },
         {
          "line": {
           "color": "blue",
           "width": 1.5
          },
          "opacity": 0.6,
          "path": "M 0.000000, 25.000000 C 0.200000, 25.000000 0.800000, 250.000000 1.000000, 250.000000",
          "type": "path"
         },
         {
          "line": {
           "color": "blue",
           "width": 1.5
          },
          "opacity": 0.6,
          "path": "M 0.000000, 114.000000 C 0.200000, 114.000000 0.800000, 1031.000000 1.000000, 1031.000000",
          "type": "path"
         },
         {
          "line": {
           "color": "blue",
           "width": 1.5
          },
          "opacity": 0.6,
          "path": "M 0.000000, 219.000000 C 0.200000, 219.000000 0.800000, 1048.000000 1.000000, 1048.000000",
          "type": "path"
         },
         {
          "line": {
           "color": "blue",
           "width": 1.5
          },
          "opacity": 0.6,
          "path": "M 0.000000, 168.000000 C 0.200000, 168.000000 0.800000, 892.000000 1.000000, 892.000000",
          "type": "path"
         },
         {
          "line": {
           "color": "blue",
           "width": 1.5
          },
          "opacity": 0.6,
          "path": "M 0.000000, 144.000000 C 0.200000, 144.000000 0.800000, 449.000000 1.000000, 449.000000",
          "type": "path"
         },
         {
          "line": {
           "color": "blue",
           "width": 1.5
          },
          "opacity": 0.6,
          "path": "M 0.000000, 680.000000 C 0.200000, 680.000000 0.800000, 1150.000000 1.000000, 1150.000000",
          "type": "path"
         },
         {
          "line": {
           "color": "blue",
           "width": 1.5
          },
          "opacity": 0.6,
          "path": "M 0.000000, 209.000000 C 0.200000, 209.000000 0.800000, 494.000000 1.000000, 494.000000",
          "type": "path"
         },
         {
          "line": {
           "color": "blue",
           "width": 1.5
          },
          "opacity": 0.6,
          "path": "M 0.000000, 1117.000000 C 0.200000, 1117.000000 0.800000, 149.000000 1.000000, 149.000000",
          "type": "path"
         },
         {
          "line": {
           "color": "blue",
           "width": 1.5
          },
          "opacity": 0.6,
          "path": "M 0.000000, 726.000000 C 0.200000, 726.000000 0.800000, 1239.000000 1.000000, 1239.000000",
          "type": "path"
         },
         {
          "line": {
           "color": "blue",
           "width": 1.5
          },
          "opacity": 0.6,
          "path": "M 0.000000, 410.000000 C 0.200000, 410.000000 0.800000, 661.000000 1.000000, 661.000000",
          "type": "path"
         },
         {
          "line": {
           "color": "blue",
           "width": 1.5
          },
          "opacity": 0.6,
          "path": "M 0.000000, 272.000000 C 0.200000, 272.000000 0.800000, 171.000000 1.000000, 171.000000",
          "type": "path"
         },
         {
          "line": {
           "color": "blue",
           "width": 1.5
          },
          "opacity": 0.6,
          "path": "M 0.000000, 532.000000 C 0.200000, 532.000000 0.800000, 102.000000 1.000000, 102.000000",
          "type": "path"
         },
         {
          "line": {
           "color": "blue",
           "width": 1.5
          },
          "opacity": 0.6,
          "path": "M 0.000000, 1098.000000 C 0.200000, 1098.000000 0.800000, 1250.000000 1.000000, 1250.000000",
          "type": "path"
         },
         {
          "line": {
           "color": "blue",
           "width": 1.5
          },
          "opacity": 0.6,
          "path": "M 0.000000, 380.000000 C 0.200000, 380.000000 0.800000, 1214.000000 1.000000, 1214.000000",
          "type": "path"
         },
         {
          "line": {
           "color": "blue",
           "width": 1.5
          },
          "opacity": 0.6,
          "path": "M 0.000000, 721.000000 C 0.200000, 721.000000 0.800000, 822.000000 1.000000, 822.000000",
          "type": "path"
         },
         {
          "line": {
           "color": "blue",
           "width": 1.5
          },
          "opacity": 0.6,
          "path": "M 0.000000, 1094.000000 C 0.200000, 1094.000000 0.800000, 237.000000 1.000000, 237.000000",
          "type": "path"
         },
         {
          "line": {
           "color": "blue",
           "width": 1.5
          },
          "opacity": 0.6,
          "path": "M 0.000000, 810.000000 C 0.200000, 810.000000 0.800000, 314.000000 1.000000, 314.000000",
          "type": "path"
         },
         {
          "line": {
           "color": "blue",
           "width": 1.5
          },
          "opacity": 0.6,
          "path": "M 0.000000, 15.000000 C 0.200000, 15.000000 0.800000, 440.000000 1.000000, 440.000000",
          "type": "path"
         },
         {
          "line": {
           "color": "blue",
           "width": 1.5
          },
          "opacity": 0.6,
          "path": "M 0.000000, 748.000000 C 0.200000, 748.000000 0.800000, 339.000000 1.000000, 339.000000",
          "type": "path"
         },
         {
          "line": {
           "color": "blue",
           "width": 1.5
          },
          "opacity": 0.6,
          "path": "M 0.000000, 299.000000 C 0.200000, 299.000000 0.800000, 788.000000 1.000000, 788.000000",
          "type": "path"
         },
         {
          "line": {
           "color": "blue",
           "width": 1.5
          },
          "opacity": 0.6,
          "path": "M 0.000000, 1014.000000 C 0.200000, 1014.000000 0.800000, 213.000000 1.000000, 213.000000",
          "type": "path"
         },
         {
          "line": {
           "color": "blue",
           "width": 1.5
          },
          "opacity": 0.6,
          "path": "M 0.000000, 764.000000 C 0.200000, 764.000000 0.800000, 9.000000 1.000000, 9.000000",
          "type": "path"
         },
         {
          "line": {
           "color": "blue",
           "width": 1.5
          },
          "opacity": 0.6,
          "path": "M 0.000000, 27.000000 C 0.200000, 27.000000 0.800000, 567.000000 1.000000, 567.000000",
          "type": "path"
         },
         {
          "line": {
           "color": "blue",
           "width": 1.5
          },
          "opacity": 0.6,
          "path": "M 0.000000, 696.000000 C 0.200000, 696.000000 0.800000, 703.000000 1.000000, 703.000000",
          "type": "path"
         },
         {
          "line": {
           "color": "blue",
           "width": 1.5
          },
          "opacity": 0.6,
          "path": "M 0.000000, 1130.000000 C 0.200000, 1130.000000 0.800000, 212.000000 1.000000, 212.000000",
          "type": "path"
         },
         {
          "line": {
           "color": "blue",
           "width": 1.5
          },
          "opacity": 0.6,
          "path": "M 0.000000, 70.000000 C 0.200000, 70.000000 0.800000, 1084.000000 1.000000, 1084.000000",
          "type": "path"
         },
         {
          "line": {
           "color": "blue",
           "width": 1.5
          },
          "opacity": 0.6,
          "path": "M 0.000000, 665.000000 C 0.200000, 665.000000 0.800000, 843.000000 1.000000, 843.000000",
          "type": "path"
         },
         {
          "line": {
           "color": "blue",
           "width": 1.5
          },
          "opacity": 0.6,
          "path": "M 0.000000, 99.000000 C 0.200000, 99.000000 0.800000, 1105.000000 1.000000, 1105.000000",
          "type": "path"
         },
         {
          "line": {
           "color": "blue",
           "width": 1.5
          },
          "opacity": 0.6,
          "path": "M 0.000000, 161.000000 C 0.200000, 161.000000 0.800000, 962.000000 1.000000, 962.000000",
          "type": "path"
         },
         {
          "line": {
           "color": "blue",
           "width": 1.5
          },
          "opacity": 0.6,
          "path": "M 0.000000, 213.000000 C 0.200000, 213.000000 0.800000, 1152.000000 1.000000, 1152.000000",
          "type": "path"
         },
         {
          "line": {
           "color": "blue",
           "width": 1.5
          },
          "opacity": 0.6,
          "path": "M 0.000000, 240.000000 C 0.200000, 240.000000 0.800000, 157.000000 1.000000, 157.000000",
          "type": "path"
         },
         {
          "line": {
           "color": "blue",
           "width": 1.5
          },
          "opacity": 0.6,
          "path": "M 0.000000, 1268.000000 C 0.200000, 1268.000000 0.800000, 233.000000 1.000000, 233.000000",
          "type": "path"
         },
         {
          "line": {
           "color": "blue",
           "width": 1.5
          },
          "opacity": 0.6,
          "path": "M 0.000000, 938.000000 C 0.200000, 938.000000 0.800000, 262.000000 1.000000, 262.000000",
          "type": "path"
         },
         {
          "line": {
           "color": "blue",
           "width": 1.5
          },
          "opacity": 0.6,
          "path": "M 0.000000, 135.000000 C 0.200000, 135.000000 0.800000, 549.000000 1.000000, 549.000000",
          "type": "path"
         },
         {
          "line": {
           "color": "blue",
           "width": 1.5
          },
          "opacity": 0.6,
          "path": "M 0.000000, 459.000000 C 0.200000, 459.000000 0.800000, 266.000000 1.000000, 266.000000",
          "type": "path"
         },
         {
          "line": {
           "color": "blue",
           "width": 1.5
          },
          "opacity": 0.6,
          "path": "M 0.000000, 1119.000000 C 0.200000, 1119.000000 0.800000, 1042.000000 1.000000, 1042.000000",
          "type": "path"
         },
         {
          "line": {
           "color": "blue",
           "width": 1.5
          },
          "opacity": 0.6,
          "path": "M 0.000000, 1134.000000 C 0.200000, 1134.000000 0.800000, 217.000000 1.000000, 217.000000",
          "type": "path"
         },
         {
          "line": {
           "color": "blue",
           "width": 1.5
          },
          "opacity": 0.6,
          "path": "M 0.000000, 745.000000 C 0.200000, 745.000000 0.800000, 895.000000 1.000000, 895.000000",
          "type": "path"
         },
         {
          "line": {
           "color": "blue",
           "width": 1.5
          },
          "opacity": 0.6,
          "path": "M 0.000000, 313.000000 C 0.200000, 313.000000 0.800000, 1228.000000 1.000000, 1228.000000",
          "type": "path"
         },
         {
          "line": {
           "color": "blue",
           "width": 1.5
          },
          "opacity": 0.6,
          "path": "M 0.000000, 235.000000 C 0.200000, 235.000000 0.800000, 538.000000 1.000000, 538.000000",
          "type": "path"
         },
         {
          "line": {
           "color": "blue",
           "width": 1.5
          },
          "opacity": 0.6,
          "path": "M 0.000000, 647.000000 C 0.200000, 647.000000 0.800000, 729.000000 1.000000, 729.000000",
          "type": "path"
         },
         {
          "line": {
           "color": "blue",
           "width": 1.5
          },
          "opacity": 0.6,
          "path": "M 0.000000, 46.000000 C 0.200000, 46.000000 0.800000, 1023.000000 1.000000, 1023.000000",
          "type": "path"
         },
         {
          "line": {
           "color": "blue",
           "width": 1.5
          },
          "opacity": 0.6,
          "path": "M 0.000000, 667.000000 C 0.200000, 667.000000 0.800000, 220.000000 1.000000, 220.000000",
          "type": "path"
         },
         {
          "line": {
           "color": "blue",
           "width": 1.5
          },
          "opacity": 0.6,
          "path": "M 0.000000, 1045.000000 C 0.200000, 1045.000000 0.800000, 832.000000 1.000000, 832.000000",
          "type": "path"
         },
         {
          "line": {
           "color": "blue",
           "width": 1.5
          },
          "opacity": 0.6,
          "path": "M 0.000000, 69.000000 C 0.200000, 69.000000 0.800000, 1164.000000 1.000000, 1164.000000",
          "type": "path"
         },
         {
          "line": {
           "color": "blue",
           "width": 1.5
          },
          "opacity": 0.6,
          "path": "M 0.000000, 900.000000 C 0.200000, 900.000000 0.800000, 855.000000 1.000000, 855.000000",
          "type": "path"
         },
         {
          "line": {
           "color": "blue",
           "width": 1.5
          },
          "opacity": 0.6,
          "path": "M 0.000000, 314.000000 C 0.200000, 314.000000 0.800000, 801.000000 1.000000, 801.000000",
          "type": "path"
         },
         {
          "line": {
           "color": "blue",
           "width": 1.5
          },
          "opacity": 0.6,
          "path": "M 0.000000, 588.000000 C 0.200000, 588.000000 0.800000, 742.000000 1.000000, 742.000000",
          "type": "path"
         },
         {
          "line": {
           "color": "blue",
           "width": 1.5
          },
          "opacity": 0.6,
          "path": "M 0.000000, 982.000000 C 0.200000, 982.000000 0.800000, 246.000000 1.000000, 246.000000",
          "type": "path"
         },
         {
          "line": {
           "color": "blue",
           "width": 1.5
          },
          "opacity": 0.6,
          "path": "M 0.000000, 102.000000 C 0.200000, 102.000000 0.800000, 50.000000 1.000000, 50.000000",
          "type": "path"
         },
         {
          "line": {
           "color": "blue",
           "width": 1.5
          },
          "opacity": 0.6,
          "path": "M 0.000000, 99.000000 C 0.200000, 99.000000 0.800000, 939.000000 1.000000, 939.000000",
          "type": "path"
         },
         {
          "line": {
           "color": "blue",
           "width": 1.5
          },
          "opacity": 0.6,
          "path": "M 0.000000, 114.000000 C 0.200000, 114.000000 0.800000, 930.000000 1.000000, 930.000000",
          "type": "path"
         },
         {
          "line": {
           "color": "blue",
           "width": 1.5
          },
          "opacity": 0.6,
          "path": "M 0.000000, 554.000000 C 0.200000, 554.000000 0.800000, 4.000000 1.000000, 4.000000",
          "type": "path"
         },
         {
          "line": {
           "color": "blue",
           "width": 1.5
          },
          "opacity": 0.6,
          "path": "M 0.000000, 533.000000 C 0.200000, 533.000000 0.800000, 257.000000 1.000000, 257.000000",
          "type": "path"
         },
         {
          "line": {
           "color": "blue",
           "width": 1.5
          },
          "opacity": 0.6,
          "path": "M 0.000000, 187.000000 C 0.200000, 187.000000 0.800000, 141.000000 1.000000, 141.000000",
          "type": "path"
         },
         {
          "line": {
           "color": "blue",
           "width": 1.5
          },
          "opacity": 0.6,
          "path": "M 0.000000, 928.000000 C 0.200000, 928.000000 0.800000, 1080.000000 1.000000, 1080.000000",
          "type": "path"
         },
         {
          "line": {
           "color": "blue",
           "width": 1.5
          },
          "opacity": 0.6,
          "path": "M 0.000000, 856.000000 C 0.200000, 856.000000 0.800000, 1041.000000 1.000000, 1041.000000",
          "type": "path"
         },
         {
          "line": {
           "color": "blue",
           "width": 1.5
          },
          "opacity": 0.6,
          "path": "M 0.000000, 1274.000000 C 0.200000, 1274.000000 0.800000, 1090.000000 1.000000, 1090.000000",
          "type": "path"
         },
         {
          "line": {
           "color": "blue",
           "width": 1.5
          },
          "opacity": 0.6,
          "path": "M 0.000000, 355.000000 C 0.200000, 355.000000 0.800000, 1.000000 1.000000, 1.000000",
          "type": "path"
         },
         {
          "line": {
           "color": "blue",
           "width": 1.5
          },
          "opacity": 0.6,
          "path": "M 0.000000, 1085.000000 C 0.200000, 1085.000000 0.800000, 214.000000 1.000000, 214.000000",
          "type": "path"
         },
         {
          "line": {
           "color": "blue",
           "width": 1.5
          },
          "opacity": 0.6,
          "path": "M 0.000000, 110.000000 C 0.200000, 110.000000 0.800000, 21.000000 1.000000, 21.000000",
          "type": "path"
         },
         {
          "line": {
           "color": "blue",
           "width": 1.5
          },
          "opacity": 0.6,
          "path": "M 0.000000, 965.000000 C 0.200000, 965.000000 0.800000, 802.000000 1.000000, 802.000000",
          "type": "path"
         },
         {
          "line": {
           "color": "blue",
           "width": 1.5
          },
          "opacity": 0.6,
          "path": "M 0.000000, 972.000000 C 0.200000, 972.000000 0.800000, 426.000000 1.000000, 426.000000",
          "type": "path"
         },
         {
          "line": {
           "color": "blue",
           "width": 1.5
          },
          "opacity": 0.6,
          "path": "M 0.000000, 1098.000000 C 0.200000, 1098.000000 0.800000, 758.000000 1.000000, 758.000000",
          "type": "path"
         },
         {
          "line": {
           "color": "blue",
           "width": 1.5
          },
          "opacity": 0.6,
          "path": "M 0.000000, 172.000000 C 0.200000, 172.000000 0.800000, 853.000000 1.000000, 853.000000",
          "type": "path"
         },
         {
          "line": {
           "color": "blue",
           "width": 1.5
          },
          "opacity": 0.6,
          "path": "M 0.000000, 133.000000 C 0.200000, 133.000000 0.800000, 726.000000 1.000000, 726.000000",
          "type": "path"
         },
         {
          "line": {
           "color": "blue",
           "width": 1.5
          },
          "opacity": 0.6,
          "path": "M 0.000000, 1085.000000 C 0.200000, 1085.000000 0.800000, 1267.000000 1.000000, 1267.000000",
          "type": "path"
         },
         {
          "line": {
           "color": "blue",
           "width": 1.5
          },
          "opacity": 0.6,
          "path": "M 0.000000, 902.000000 C 0.200000, 902.000000 0.800000, 1278.000000 1.000000, 1278.000000",
          "type": "path"
         },
         {
          "line": {
           "color": "blue",
           "width": 1.5
          },
          "opacity": 0.6,
          "path": "M 0.000000, 724.000000 C 0.200000, 724.000000 0.800000, 739.000000 1.000000, 739.000000",
          "type": "path"
         },
         {
          "line": {
           "color": "blue",
           "width": 1.5
          },
          "opacity": 0.6,
          "path": "M 0.000000, 323.000000 C 0.200000, 323.000000 0.800000, 183.000000 1.000000, 183.000000",
          "type": "path"
         },
         {
          "line": {
           "color": "blue",
           "width": 1.5
          },
          "opacity": 0.6,
          "path": "M 0.000000, 1185.000000 C 0.200000, 1185.000000 0.800000, 63.000000 1.000000, 63.000000",
          "type": "path"
         },
         {
          "line": {
           "color": "blue",
           "width": 1.5
          },
          "opacity": 0.6,
          "path": "M 0.000000, 316.000000 C 0.200000, 316.000000 0.800000, 884.000000 1.000000, 884.000000",
          "type": "path"
         },
         {
          "line": {
           "color": "blue",
           "width": 1.5
          },
          "opacity": 0.6,
          "path": "M 0.000000, 1.000000 C 0.200000, 1.000000 0.800000, 800.000000 1.000000, 800.000000",
          "type": "path"
         },
         {
          "line": {
           "color": "blue",
           "width": 1.5
          },
          "opacity": 0.6,
          "path": "M 0.000000, 78.000000 C 0.200000, 78.000000 0.800000, 846.000000 1.000000, 846.000000",
          "type": "path"
         },
         {
          "line": {
           "color": "blue",
           "width": 1.5
          },
          "opacity": 0.6,
          "path": "M 0.000000, 1162.000000 C 0.200000, 1162.000000 0.800000, 865.000000 1.000000, 865.000000",
          "type": "path"
         },
         {
          "line": {
           "color": "blue",
           "width": 1.5
          },
          "opacity": 0.6,
          "path": "M 0.000000, 505.000000 C 0.200000, 505.000000 0.800000, 1184.000000 1.000000, 1184.000000",
          "type": "path"
         },
         {
          "line": {
           "color": "blue",
           "width": 1.5
          },
          "opacity": 0.6,
          "path": "M 0.000000, 482.000000 C 0.200000, 482.000000 0.800000, 714.000000 1.000000, 714.000000",
          "type": "path"
         },
         {
          "line": {
           "color": "blue",
           "width": 1.5
          },
          "opacity": 0.6,
          "path": "M 0.000000, 89.000000 C 0.200000, 89.000000 0.800000, 1040.000000 1.000000, 1040.000000",
          "type": "path"
         },
         {
          "line": {
           "color": "blue",
           "width": 1.5
          },
          "opacity": 0.6,
          "path": "M 0.000000, 1253.000000 C 0.200000, 1253.000000 0.800000, 73.000000 1.000000, 73.000000",
          "type": "path"
         },
         {
          "line": {
           "color": "blue",
           "width": 1.5
          },
          "opacity": 0.6,
          "path": "M 0.000000, 701.000000 C 0.200000, 701.000000 0.800000, 164.000000 1.000000, 164.000000",
          "type": "path"
         },
         {
          "line": {
           "color": "blue",
           "width": 1.5
          },
          "opacity": 0.6,
          "path": "M 0.000000, 590.000000 C 0.200000, 590.000000 0.800000, 680.000000 1.000000, 680.000000",
          "type": "path"
         },
         {
          "line": {
           "color": "blue",
           "width": 1.5
          },
          "opacity": 0.6,
          "path": "M 0.000000, 1188.000000 C 0.200000, 1188.000000 0.800000, 1124.000000 1.000000, 1124.000000",
          "type": "path"
         },
         {
          "line": {
           "color": "blue",
           "width": 1.5
          },
          "opacity": 0.6,
          "path": "M 0.000000, 109.000000 C 0.200000, 109.000000 0.800000, 65.000000 1.000000, 65.000000",
          "type": "path"
         },
         {
          "line": {
           "color": "blue",
           "width": 1.5
          },
          "opacity": 0.6,
          "path": "M 0.000000, 521.000000 C 0.200000, 521.000000 0.800000, 770.000000 1.000000, 770.000000",
          "type": "path"
         },
         {
          "line": {
           "color": "blue",
           "width": 1.5
          },
          "opacity": 0.6,
          "path": "M 0.000000, 211.000000 C 0.200000, 211.000000 0.800000, 293.000000 1.000000, 293.000000",
          "type": "path"
         },
         {
          "line": {
           "color": "blue",
           "width": 1.5
          },
          "opacity": 0.6,
          "path": "M 0.000000, 788.000000 C 0.200000, 788.000000 0.800000, 799.000000 1.000000, 799.000000",
          "type": "path"
         },
         {
          "line": {
           "color": "blue",
           "width": 1.5
          },
          "opacity": 0.6,
          "path": "M 0.000000, 771.000000 C 0.200000, 771.000000 0.800000, 830.000000 1.000000, 830.000000",
          "type": "path"
         },
         {
          "line": {
           "color": "blue",
           "width": 1.5
          },
          "opacity": 0.6,
          "path": "M 0.000000, 387.000000 C 0.200000, 387.000000 0.800000, 59.000000 1.000000, 59.000000",
          "type": "path"
         },
         {
          "line": {
           "color": "blue",
           "width": 1.5
          },
          "opacity": 0.6,
          "path": "M 0.000000, 1167.000000 C 0.200000, 1167.000000 0.800000, 402.000000 1.000000, 402.000000",
          "type": "path"
         },
         {
          "line": {
           "color": "blue",
           "width": 1.5
          },
          "opacity": 0.6,
          "path": "M 0.000000, 505.000000 C 0.200000, 505.000000 0.800000, 797.000000 1.000000, 797.000000",
          "type": "path"
         },
         {
          "line": {
           "color": "blue",
           "width": 1.5
          },
          "opacity": 0.6,
          "path": "M 0.000000, 318.000000 C 0.200000, 318.000000 0.800000, 687.000000 1.000000, 687.000000",
          "type": "path"
         },
         {
          "line": {
           "color": "blue",
           "width": 1.5
          },
          "opacity": 0.6,
          "path": "M 0.000000, 741.000000 C 0.200000, 741.000000 0.800000, 662.000000 1.000000, 662.000000",
          "type": "path"
         },
         {
          "line": {
           "color": "blue",
           "width": 1.5
          },
          "opacity": 0.6,
          "path": "M 0.000000, 1250.000000 C 0.200000, 1250.000000 0.800000, 363.000000 1.000000, 363.000000",
          "type": "path"
         },
         {
          "line": {
           "color": "blue",
           "width": 1.5
          },
          "opacity": 0.6,
          "path": "M 0.000000, 984.000000 C 0.200000, 984.000000 0.800000, 860.000000 1.000000, 860.000000",
          "type": "path"
         },
         {
          "line": {
           "color": "blue",
           "width": 1.5
          },
          "opacity": 0.6,
          "path": "M 0.000000, 1255.000000 C 0.200000, 1255.000000 0.800000, 160.000000 1.000000, 160.000000",
          "type": "path"
         },
         {
          "line": {
           "color": "blue",
           "width": 1.5
          },
          "opacity": 0.6,
          "path": "M 0.000000, 856.000000 C 0.200000, 856.000000 0.800000, 398.000000 1.000000, 398.000000",
          "type": "path"
         },
         {
          "line": {
           "color": "blue",
           "width": 1.5
          },
          "opacity": 0.6,
          "path": "M 0.000000, 993.000000 C 0.200000, 993.000000 0.800000, 750.000000 1.000000, 750.000000",
          "type": "path"
         },
         {
          "line": {
           "color": "blue",
           "width": 1.5
          },
          "opacity": 0.6,
          "path": "M 0.000000, 1113.000000 C 0.200000, 1113.000000 0.800000, 842.000000 1.000000, 842.000000",
          "type": "path"
         },
         {
          "line": {
           "color": "blue",
           "width": 1.5
          },
          "opacity": 0.6,
          "path": "M 0.000000, 745.000000 C 0.200000, 745.000000 0.800000, 420.000000 1.000000, 420.000000",
          "type": "path"
         },
         {
          "line": {
           "color": "blue",
           "width": 1.5
          },
          "opacity": 0.6,
          "path": "M 0.000000, 219.000000 C 0.200000, 219.000000 0.800000, 765.000000 1.000000, 765.000000",
          "type": "path"
         },
         {
          "line": {
           "color": "blue",
           "width": 1.5
          },
          "opacity": 0.6,
          "path": "M 0.000000, 687.000000 C 0.200000, 687.000000 0.800000, 126.000000 1.000000, 126.000000",
          "type": "path"
         },
         {
          "line": {
           "color": "blue",
           "width": 1.5
          },
          "opacity": 0.6,
          "path": "M 0.000000, 740.000000 C 0.200000, 740.000000 0.800000, 210.000000 1.000000, 210.000000",
          "type": "path"
         },
         {
          "line": {
           "color": "blue",
           "width": 1.5
          },
          "opacity": 0.6,
          "path": "M 0.000000, 390.000000 C 0.200000, 390.000000 0.800000, 98.000000 1.000000, 98.000000",
          "type": "path"
         },
         {
          "line": {
           "color": "blue",
           "width": 1.5
          },
          "opacity": 0.6,
          "path": "M 0.000000, 1227.000000 C 0.200000, 1227.000000 0.800000, 1226.000000 1.000000, 1226.000000",
          "type": "path"
         },
         {
          "line": {
           "color": "blue",
           "width": 1.5
          },
          "opacity": 0.6,
          "path": "M 0.000000, 618.000000 C 0.200000, 618.000000 0.800000, 142.000000 1.000000, 142.000000",
          "type": "path"
         },
         {
          "line": {
           "color": "blue",
           "width": 1.5
          },
          "opacity": 0.6,
          "path": "M 0.000000, 875.000000 C 0.200000, 875.000000 0.800000, 666.000000 1.000000, 666.000000",
          "type": "path"
         },
         {
          "line": {
           "color": "blue",
           "width": 1.5
          },
          "opacity": 0.6,
          "path": "M 0.000000, 932.000000 C 0.200000, 932.000000 0.800000, 128.000000 1.000000, 128.000000",
          "type": "path"
         },
         {
          "line": {
           "color": "blue",
           "width": 1.5
          },
          "opacity": 0.6,
          "path": "M 0.000000, 635.000000 C 0.200000, 635.000000 0.800000, 481.000000 1.000000, 481.000000",
          "type": "path"
         },
         {
          "line": {
           "color": "blue",
           "width": 1.5
          },
          "opacity": 0.6,
          "path": "M 0.000000, 1141.000000 C 0.200000, 1141.000000 0.800000, 188.000000 1.000000, 188.000000",
          "type": "path"
         },
         {
          "line": {
           "color": "blue",
           "width": 1.5
          },
          "opacity": 0.6,
          "path": "M 0.000000, 1072.000000 C 0.200000, 1072.000000 0.800000, 1216.000000 1.000000, 1216.000000",
          "type": "path"
         },
         {
          "line": {
           "color": "blue",
           "width": 1.5
          },
          "opacity": 0.6,
          "path": "M 0.000000, 684.000000 C 0.200000, 684.000000 0.800000, 837.000000 1.000000, 837.000000",
          "type": "path"
         },
         {
          "line": {
           "color": "blue",
           "width": 1.5
          },
          "opacity": 0.6,
          "path": "M 0.000000, 332.000000 C 0.200000, 332.000000 0.800000, 1130.000000 1.000000, 1130.000000",
          "type": "path"
         },
         {
          "line": {
           "color": "blue",
           "width": 1.5
          },
          "opacity": 0.6,
          "path": "M 0.000000, 528.000000 C 0.200000, 528.000000 0.800000, 741.000000 1.000000, 741.000000",
          "type": "path"
         },
         {
          "line": {
           "color": "blue",
           "width": 1.5
          },
          "opacity": 0.6,
          "path": "M 0.000000, 1226.000000 C 0.200000, 1226.000000 0.800000, 217.000000 1.000000, 217.000000",
          "type": "path"
         },
         {
          "line": {
           "color": "blue",
           "width": 1.5
          },
          "opacity": 0.6,
          "path": "M 0.000000, 707.000000 C 0.200000, 707.000000 0.800000, 913.000000 1.000000, 913.000000",
          "type": "path"
         },
         {
          "line": {
           "color": "blue",
           "width": 1.5
          },
          "opacity": 0.6,
          "path": "M 0.000000, 973.000000 C 0.200000, 973.000000 0.800000, 138.000000 1.000000, 138.000000",
          "type": "path"
         },
         {
          "line": {
           "color": "blue",
           "width": 1.5
          },
          "opacity": 0.6,
          "path": "M 0.000000, 128.000000 C 0.200000, 128.000000 0.800000, 760.000000 1.000000, 760.000000",
          "type": "path"
         },
         {
          "line": {
           "color": "blue",
           "width": 1.5
          },
          "opacity": 0.6,
          "path": "M 0.000000, 692.000000 C 0.200000, 692.000000 0.800000, 1110.000000 1.000000, 1110.000000",
          "type": "path"
         },
         {
          "line": {
           "color": "blue",
           "width": 1.5
          },
          "opacity": 0.6,
          "path": "M 0.000000, 1112.000000 C 0.200000, 1112.000000 0.800000, 1217.000000 1.000000, 1217.000000",
          "type": "path"
         },
         {
          "line": {
           "color": "blue",
           "width": 1.5
          },
          "opacity": 0.6,
          "path": "M 0.000000, 1039.000000 C 0.200000, 1039.000000 0.800000, 117.000000 1.000000, 117.000000",
          "type": "path"
         },
         {
          "line": {
           "color": "blue",
           "width": 1.5
          },
          "opacity": 0.6,
          "path": "M 0.000000, 1272.000000 C 0.200000, 1272.000000 0.800000, 969.000000 1.000000, 969.000000",
          "type": "path"
         },
         {
          "line": {
           "color": "blue",
           "width": 1.5
          },
          "opacity": 0.6,
          "path": "M 0.000000, 1089.000000 C 0.200000, 1089.000000 0.800000, 572.000000 1.000000, 572.000000",
          "type": "path"
         },
         {
          "line": {
           "color": "blue",
           "width": 1.5
          },
          "opacity": 0.6,
          "path": "M 0.000000, 197.000000 C 0.200000, 197.000000 0.800000, 1226.000000 1.000000, 1226.000000",
          "type": "path"
         },
         {
          "line": {
           "color": "blue",
           "width": 1.5
          },
          "opacity": 0.6,
          "path": "M 0.000000, 1183.000000 C 0.200000, 1183.000000 0.800000, 1120.000000 1.000000, 1120.000000",
          "type": "path"
         },
         {
          "line": {
           "color": "blue",
           "width": 1.5
          },
          "opacity": 0.6,
          "path": "M 0.000000, 219.000000 C 0.200000, 219.000000 0.800000, 1145.000000 1.000000, 1145.000000",
          "type": "path"
         },
         {
          "line": {
           "color": "blue",
           "width": 1.5
          },
          "opacity": 0.6,
          "path": "M 0.000000, 830.000000 C 0.200000, 830.000000 0.800000, 127.000000 1.000000, 127.000000",
          "type": "path"
         },
         {
          "line": {
           "color": "blue",
           "width": 1.5
          },
          "opacity": 0.6,
          "path": "M 0.000000, 897.000000 C 0.200000, 897.000000 0.800000, 390.000000 1.000000, 390.000000",
          "type": "path"
         },
         {
          "line": {
           "color": "blue",
           "width": 1.5
          },
          "opacity": 0.6,
          "path": "M 0.000000, 909.000000 C 0.200000, 909.000000 0.800000, 1086.000000 1.000000, 1086.000000",
          "type": "path"
         },
         {
          "line": {
           "color": "blue",
           "width": 1.5
          },
          "opacity": 0.6,
          "path": "M 0.000000, 1221.000000 C 0.200000, 1221.000000 0.800000, 54.000000 1.000000, 54.000000",
          "type": "path"
         },
         {
          "line": {
           "color": "blue",
           "width": 1.5
          },
          "opacity": 0.6,
          "path": "M 0.000000, 132.000000 C 0.200000, 132.000000 0.800000, 548.000000 1.000000, 548.000000",
          "type": "path"
         },
         {
          "line": {
           "color": "blue",
           "width": 1.5
          },
          "opacity": 0.6,
          "path": "M 0.000000, 540.000000 C 0.200000, 540.000000 0.800000, 325.000000 1.000000, 325.000000",
          "type": "path"
         },
         {
          "line": {
           "color": "blue",
           "width": 1.5
          },
          "opacity": 0.6,
          "path": "M 0.000000, 1042.000000 C 0.200000, 1042.000000 0.800000, 166.000000 1.000000, 166.000000",
          "type": "path"
         },
         {
          "line": {
           "color": "blue",
           "width": 1.5
          },
          "opacity": 0.6,
          "path": "M 0.000000, 158.000000 C 0.200000, 158.000000 0.800000, 119.000000 1.000000, 119.000000",
          "type": "path"
         },
         {
          "line": {
           "color": "blue",
           "width": 1.5
          },
          "opacity": 0.6,
          "path": "M 0.000000, 1046.000000 C 0.200000, 1046.000000 0.800000, 77.000000 1.000000, 77.000000",
          "type": "path"
         },
         {
          "line": {
           "color": "blue",
           "width": 1.5
          },
          "opacity": 0.6,
          "path": "M 0.000000, 512.000000 C 0.200000, 512.000000 0.800000, 1260.000000 1.000000, 1260.000000",
          "type": "path"
         },
         {
          "line": {
           "color": "blue",
           "width": 1.5
          },
          "opacity": 0.6,
          "path": "M 0.000000, 616.000000 C 0.200000, 616.000000 0.800000, 393.000000 1.000000, 393.000000",
          "type": "path"
         },
         {
          "line": {
           "color": "blue",
           "width": 1.5
          },
          "opacity": 0.6,
          "path": "M 0.000000, 839.000000 C 0.200000, 839.000000 0.800000, 370.000000 1.000000, 370.000000",
          "type": "path"
         },
         {
          "line": {
           "color": "blue",
           "width": 1.5
          },
          "opacity": 0.6,
          "path": "M 0.000000, 1279.000000 C 0.200000, 1279.000000 0.800000, 48.000000 1.000000, 48.000000",
          "type": "path"
         },
         {
          "line": {
           "color": "blue",
           "width": 1.5
          },
          "opacity": 0.6,
          "path": "M 0.000000, 534.000000 C 0.200000, 534.000000 0.800000, 61.000000 1.000000, 61.000000",
          "type": "path"
         },
         {
          "line": {
           "color": "blue",
           "width": 1.5
          },
          "opacity": 0.6,
          "path": "M 0.000000, 931.000000 C 0.200000, 931.000000 0.800000, 887.000000 1.000000, 887.000000",
          "type": "path"
         },
         {
          "line": {
           "color": "blue",
           "width": 1.5
          },
          "opacity": 0.6,
          "path": "M 0.000000, 951.000000 C 0.200000, 951.000000 0.800000, 722.000000 1.000000, 722.000000",
          "type": "path"
         },
         {
          "line": {
           "color": "blue",
           "width": 1.5
          },
          "opacity": 0.6,
          "path": "M 0.000000, 470.000000 C 0.200000, 470.000000 0.800000, 474.000000 1.000000, 474.000000",
          "type": "path"
         },
         {
          "line": {
           "color": "blue",
           "width": 1.5
          },
          "opacity": 0.6,
          "path": "M 0.000000, 387.000000 C 0.200000, 387.000000 0.800000, 267.000000 1.000000, 267.000000",
          "type": "path"
         },
         {
          "line": {
           "color": "blue",
           "width": 1.5
          },
          "opacity": 0.6,
          "path": "M 0.000000, 1183.000000 C 0.200000, 1183.000000 0.800000, 1144.000000 1.000000, 1144.000000",
          "type": "path"
         },
         {
          "line": {
           "color": "blue",
           "width": 1.5
          },
          "opacity": 0.6,
          "path": "M 0.000000, 1227.000000 C 0.200000, 1227.000000 0.800000, 979.000000 1.000000, 979.000000",
          "type": "path"
         },
         {
          "line": {
           "color": "blue",
           "width": 1.5
          },
          "opacity": 0.6,
          "path": "M 0.000000, 60.000000 C 0.200000, 60.000000 0.800000, 78.000000 1.000000, 78.000000",
          "type": "path"
         },
         {
          "line": {
           "color": "blue",
           "width": 1.5
          },
          "opacity": 0.6,
          "path": "M 0.000000, 700.000000 C 0.200000, 700.000000 0.800000, 281.000000 1.000000, 281.000000",
          "type": "path"
         },
         {
          "line": {
           "color": "blue",
           "width": 1.5
          },
          "opacity": 0.6,
          "path": "M 0.000000, 638.000000 C 0.200000, 638.000000 0.800000, 495.000000 1.000000, 495.000000",
          "type": "path"
         },
         {
          "line": {
           "color": "blue",
           "width": 1.5
          },
          "opacity": 0.6,
          "path": "M 0.000000, 212.000000 C 0.200000, 212.000000 0.800000, 171.000000 1.000000, 171.000000",
          "type": "path"
         },
         {
          "line": {
           "color": "blue",
           "width": 1.5
          },
          "opacity": 0.6,
          "path": "M 0.000000, 48.000000 C 0.200000, 48.000000 0.800000, 952.000000 1.000000, 952.000000",
          "type": "path"
         },
         {
          "line": {
           "color": "blue",
           "width": 1.5
          },
          "opacity": 0.6,
          "path": "M 0.000000, 12.000000 C 0.200000, 12.000000 0.800000, 76.000000 1.000000, 76.000000",
          "type": "path"
         },
         {
          "line": {
           "color": "blue",
           "width": 1.5
          },
          "opacity": 0.6,
          "path": "M 0.000000, 550.000000 C 0.200000, 550.000000 0.800000, 1049.000000 1.000000, 1049.000000",
          "type": "path"
         },
         {
          "line": {
           "color": "blue",
           "width": 1.5
          },
          "opacity": 0.6,
          "path": "M 0.000000, 839.000000 C 0.200000, 839.000000 0.800000, 652.000000 1.000000, 652.000000",
          "type": "path"
         },
         {
          "line": {
           "color": "blue",
           "width": 1.5
          },
          "opacity": 0.6,
          "path": "M 0.000000, 1199.000000 C 0.200000, 1199.000000 0.800000, 383.000000 1.000000, 383.000000",
          "type": "path"
         },
         {
          "line": {
           "color": "blue",
           "width": 1.5
          },
          "opacity": 0.6,
          "path": "M 0.000000, 755.000000 C 0.200000, 755.000000 0.800000, 46.000000 1.000000, 46.000000",
          "type": "path"
         },
         {
          "line": {
           "color": "blue",
           "width": 1.5
          },
          "opacity": 0.6,
          "path": "M 0.000000, 952.000000 C 0.200000, 952.000000 0.800000, 685.000000 1.000000, 685.000000",
          "type": "path"
         },
         {
          "line": {
           "color": "blue",
           "width": 1.5
          },
          "opacity": 0.6,
          "path": "M 0.000000, 466.000000 C 0.200000, 466.000000 0.800000, 811.000000 1.000000, 811.000000",
          "type": "path"
         },
         {
          "line": {
           "color": "blue",
           "width": 1.5
          },
          "opacity": 0.6,
          "path": "M 0.000000, 703.000000 C 0.200000, 703.000000 0.800000, 979.000000 1.000000, 979.000000",
          "type": "path"
         },
         {
          "line": {
           "color": "blue",
           "width": 1.5
          },
          "opacity": 0.6,
          "path": "M 0.000000, 312.000000 C 0.200000, 312.000000 0.800000, 1189.000000 1.000000, 1189.000000",
          "type": "path"
         },
         {
          "line": {
           "color": "blue",
           "width": 1.5
          },
          "opacity": 0.6,
          "path": "M 0.000000, 9.000000 C 0.200000, 9.000000 0.800000, 873.000000 1.000000, 873.000000",
          "type": "path"
         },
         {
          "line": {
           "color": "blue",
           "width": 1.5
          },
          "opacity": 0.6,
          "path": "M 0.000000, 120.000000 C 0.200000, 120.000000 0.800000, 731.000000 1.000000, 731.000000",
          "type": "path"
         },
         {
          "line": {
           "color": "blue",
           "width": 1.5
          },
          "opacity": 0.6,
          "path": "M 0.000000, 199.000000 C 0.200000, 199.000000 0.800000, 299.000000 1.000000, 299.000000",
          "type": "path"
         },
         {
          "line": {
           "color": "blue",
           "width": 1.5
          },
          "opacity": 0.6,
          "path": "M 0.000000, 1157.000000 C 0.200000, 1157.000000 0.800000, 621.000000 1.000000, 621.000000",
          "type": "path"
         },
         {
          "line": {
           "color": "blue",
           "width": 1.5
          },
          "opacity": 0.6,
          "path": "M 0.000000, 29.000000 C 0.200000, 29.000000 0.800000, 854.000000 1.000000, 854.000000",
          "type": "path"
         },
         {
          "line": {
           "color": "blue",
           "width": 1.5
          },
          "opacity": 0.6,
          "path": "M 0.000000, 323.000000 C 0.200000, 323.000000 0.800000, 362.000000 1.000000, 362.000000",
          "type": "path"
         },
         {
          "line": {
           "color": "blue",
           "width": 1.5
          },
          "opacity": 0.6,
          "path": "M 0.000000, 368.000000 C 0.200000, 368.000000 0.800000, 375.000000 1.000000, 375.000000",
          "type": "path"
         },
         {
          "line": {
           "color": "blue",
           "width": 1.5
          },
          "opacity": 0.6,
          "path": "M 0.000000, 529.000000 C 0.200000, 529.000000 0.800000, 835.000000 1.000000, 835.000000",
          "type": "path"
         },
         {
          "line": {
           "color": "blue",
           "width": 1.5
          },
          "opacity": 0.6,
          "path": "M 0.000000, 1177.000000 C 0.200000, 1177.000000 0.800000, 861.000000 1.000000, 861.000000",
          "type": "path"
         },
         {
          "line": {
           "color": "blue",
           "width": 1.5
          },
          "opacity": 0.6,
          "path": "M 0.000000, 2.000000 C 0.200000, 2.000000 0.800000, 26.000000 1.000000, 26.000000",
          "type": "path"
         },
         {
          "line": {
           "color": "blue",
           "width": 1.5
          },
          "opacity": 0.6,
          "path": "M 0.000000, 1156.000000 C 0.200000, 1156.000000 0.800000, 507.000000 1.000000, 507.000000",
          "type": "path"
         },
         {
          "line": {
           "color": "blue",
           "width": 1.5
          },
          "opacity": 0.6,
          "path": "M 0.000000, 94.000000 C 0.200000, 94.000000 0.800000, 334.000000 1.000000, 334.000000",
          "type": "path"
         },
         {
          "line": {
           "color": "blue",
           "width": 1.5
          },
          "opacity": 0.6,
          "path": "M 0.000000, 412.000000 C 0.200000, 412.000000 0.800000, 209.000000 1.000000, 209.000000",
          "type": "path"
         },
         {
          "line": {
           "color": "blue",
           "width": 1.5
          },
          "opacity": 0.6,
          "path": "M 0.000000, 473.000000 C 0.200000, 473.000000 0.800000, 358.000000 1.000000, 358.000000",
          "type": "path"
         },
         {
          "line": {
           "color": "blue",
           "width": 1.5
          },
          "opacity": 0.6,
          "path": "M 0.000000, 245.000000 C 0.200000, 245.000000 0.800000, 1110.000000 1.000000, 1110.000000",
          "type": "path"
         },
         {
          "line": {
           "color": "blue",
           "width": 1.5
          },
          "opacity": 0.6,
          "path": "M 0.000000, 484.000000 C 0.200000, 484.000000 0.800000, 719.000000 1.000000, 719.000000",
          "type": "path"
         },
         {
          "line": {
           "color": "blue",
           "width": 1.5
          },
          "opacity": 0.6,
          "path": "M 0.000000, 18.000000 C 0.200000, 18.000000 0.800000, 57.000000 1.000000, 57.000000",
          "type": "path"
         },
         {
          "line": {
           "color": "blue",
           "width": 1.5
          },
          "opacity": 0.6,
          "path": "M 0.000000, 360.000000 C 0.200000, 360.000000 0.800000, 862.000000 1.000000, 862.000000",
          "type": "path"
         },
         {
          "line": {
           "color": "blue",
           "width": 1.5
          },
          "opacity": 0.6,
          "path": "M 0.000000, 126.000000 C 0.200000, 126.000000 0.800000, 536.000000 1.000000, 536.000000",
          "type": "path"
         },
         {
          "line": {
           "color": "blue",
           "width": 1.5
          },
          "opacity": 0.6,
          "path": "M 0.000000, 1125.000000 C 0.200000, 1125.000000 0.800000, 67.000000 1.000000, 67.000000",
          "type": "path"
         },
         {
          "line": {
           "color": "blue",
           "width": 1.5
          },
          "opacity": 0.6,
          "path": "M 0.000000, 42.000000 C 0.200000, 42.000000 0.800000, 583.000000 1.000000, 583.000000",
          "type": "path"
         },
         {
          "line": {
           "color": "blue",
           "width": 1.5
          },
          "opacity": 0.6,
          "path": "M 0.000000, 572.000000 C 0.200000, 572.000000 0.800000, 698.000000 1.000000, 698.000000",
          "type": "path"
         },
         {
          "line": {
           "color": "blue",
           "width": 1.5
          },
          "opacity": 0.6,
          "path": "M 0.000000, 1000.000000 C 0.200000, 1000.000000 0.800000, 836.000000 1.000000, 836.000000",
          "type": "path"
         },
         {
          "line": {
           "color": "blue",
           "width": 1.5
          },
          "opacity": 0.6,
          "path": "M 0.000000, 931.000000 C 0.200000, 931.000000 0.800000, 71.000000 1.000000, 71.000000",
          "type": "path"
         },
         {
          "line": {
           "color": "blue",
           "width": 1.5
          },
          "opacity": 0.6,
          "path": "M 0.000000, 532.000000 C 0.200000, 532.000000 0.800000, 173.000000 1.000000, 173.000000",
          "type": "path"
         },
         {
          "line": {
           "color": "blue",
           "width": 1.5
          },
          "opacity": 0.6,
          "path": "M 0.000000, 103.000000 C 0.200000, 103.000000 0.800000, 588.000000 1.000000, 588.000000",
          "type": "path"
         },
         {
          "line": {
           "color": "blue",
           "width": 1.5
          },
          "opacity": 0.6,
          "path": "M 0.000000, 120.000000 C 0.200000, 120.000000 0.800000, 458.000000 1.000000, 458.000000",
          "type": "path"
         },
         {
          "line": {
           "color": "blue",
           "width": 1.5
          },
          "opacity": 0.6,
          "path": "M 0.000000, 260.000000 C 0.200000, 260.000000 0.800000, 1246.000000 1.000000, 1246.000000",
          "type": "path"
         },
         {
          "line": {
           "color": "blue",
           "width": 1.5
          },
          "opacity": 0.6,
          "path": "M 0.000000, 751.000000 C 0.200000, 751.000000 0.800000, 586.000000 1.000000, 586.000000",
          "type": "path"
         },
         {
          "line": {
           "color": "blue",
           "width": 1.5
          },
          "opacity": 0.6,
          "path": "M 0.000000, 900.000000 C 0.200000, 900.000000 0.800000, 109.000000 1.000000, 109.000000",
          "type": "path"
         },
         {
          "line": {
           "color": "blue",
           "width": 1.5
          },
          "opacity": 0.6,
          "path": "M 0.000000, 603.000000 C 0.200000, 603.000000 0.800000, 117.000000 1.000000, 117.000000",
          "type": "path"
         },
         {
          "line": {
           "color": "blue",
           "width": 1.5
          },
          "opacity": 0.6,
          "path": "M 0.000000, 1198.000000 C 0.200000, 1198.000000 0.800000, 1009.000000 1.000000, 1009.000000",
          "type": "path"
         },
         {
          "line": {
           "color": "blue",
           "width": 1.5
          },
          "opacity": 0.6,
          "path": "M 0.000000, 782.000000 C 0.200000, 782.000000 0.800000, 215.000000 1.000000, 215.000000",
          "type": "path"
         },
         {
          "line": {
           "color": "blue",
           "width": 1.5
          },
          "opacity": 0.6,
          "path": "M 0.000000, 923.000000 C 0.200000, 923.000000 0.800000, 107.000000 1.000000, 107.000000",
          "type": "path"
         },
         {
          "line": {
           "color": "blue",
           "width": 1.5
          },
          "opacity": 0.6,
          "path": "M 0.000000, 464.000000 C 0.200000, 464.000000 0.800000, 41.000000 1.000000, 41.000000",
          "type": "path"
         },
         {
          "line": {
           "color": "blue",
           "width": 1.5
          },
          "opacity": 0.6,
          "path": "M 0.000000, 359.000000 C 0.200000, 359.000000 0.800000, 988.000000 1.000000, 988.000000",
          "type": "path"
         },
         {
          "line": {
           "color": "blue",
           "width": 1.5
          },
          "opacity": 0.6,
          "path": "M 0.000000, 1132.000000 C 0.200000, 1132.000000 0.800000, 480.000000 1.000000, 480.000000",
          "type": "path"
         },
         {
          "line": {
           "color": "blue",
           "width": 1.5
          },
          "opacity": 0.6,
          "path": "M 0.000000, 1007.000000 C 0.200000, 1007.000000 0.800000, 1226.000000 1.000000, 1226.000000",
          "type": "path"
         },
         {
          "line": {
           "color": "blue",
           "width": 1.5
          },
          "opacity": 0.6,
          "path": "M 0.000000, 887.000000 C 0.200000, 887.000000 0.800000, 800.000000 1.000000, 800.000000",
          "type": "path"
         },
         {
          "line": {
           "color": "blue",
           "width": 1.5
          },
          "opacity": 0.6,
          "path": "M 0.000000, 506.000000 C 0.200000, 506.000000 0.800000, 452.000000 1.000000, 452.000000",
          "type": "path"
         },
         {
          "line": {
           "color": "blue",
           "width": 1.5
          },
          "opacity": 0.6,
          "path": "M 0.000000, 66.000000 C 0.200000, 66.000000 0.800000, 585.000000 1.000000, 585.000000",
          "type": "path"
         },
         {
          "line": {
           "color": "blue",
           "width": 1.5
          },
          "opacity": 0.6,
          "path": "M 0.000000, 1127.000000 C 0.200000, 1127.000000 0.800000, 150.000000 1.000000, 150.000000",
          "type": "path"
         },
         {
          "line": {
           "color": "blue",
           "width": 1.5
          },
          "opacity": 0.6,
          "path": "M 0.000000, 549.000000 C 0.200000, 549.000000 0.800000, 865.000000 1.000000, 865.000000",
          "type": "path"
         },
         {
          "line": {
           "color": "blue",
           "width": 1.5
          },
          "opacity": 0.6,
          "path": "M 0.000000, 646.000000 C 0.200000, 646.000000 0.800000, 661.000000 1.000000, 661.000000",
          "type": "path"
         },
         {
          "line": {
           "color": "blue",
           "width": 1.5
          },
          "opacity": 0.6,
          "path": "M 0.000000, 1048.000000 C 0.200000, 1048.000000 0.800000, 1061.000000 1.000000, 1061.000000",
          "type": "path"
         },
         {
          "line": {
           "color": "blue",
           "width": 1.5
          },
          "opacity": 0.6,
          "path": "M 0.000000, 98.000000 C 0.200000, 98.000000 0.800000, 1257.000000 1.000000, 1257.000000",
          "type": "path"
         },
         {
          "line": {
           "color": "blue",
           "width": 1.5
          },
          "opacity": 0.6,
          "path": "M 0.000000, 2.000000 C 0.200000, 2.000000 0.800000, 1007.000000 1.000000, 1007.000000",
          "type": "path"
         },
         {
          "line": {
           "color": "blue",
           "width": 1.5
          },
          "opacity": 0.6,
          "path": "M 0.000000, 41.000000 C 0.200000, 41.000000 0.800000, 923.000000 1.000000, 923.000000",
          "type": "path"
         },
         {
          "line": {
           "color": "blue",
           "width": 1.5
          },
          "opacity": 0.6,
          "path": "M 0.000000, 421.000000 C 0.200000, 421.000000 0.800000, 198.000000 1.000000, 198.000000",
          "type": "path"
         },
         {
          "line": {
           "color": "blue",
           "width": 1.5
          },
          "opacity": 0.6,
          "path": "M 0.000000, 56.000000 C 0.200000, 56.000000 0.800000, 138.000000 1.000000, 138.000000",
          "type": "path"
         },
         {
          "line": {
           "color": "blue",
           "width": 1.5
          },
          "opacity": 0.6,
          "path": "M 0.000000, 860.000000 C 0.200000, 860.000000 0.800000, 504.000000 1.000000, 504.000000",
          "type": "path"
         },
         {
          "line": {
           "color": "blue",
           "width": 1.5
          },
          "opacity": 0.6,
          "path": "M 0.000000, 273.000000 C 0.200000, 273.000000 0.800000, 689.000000 1.000000, 689.000000",
          "type": "path"
         },
         {
          "line": {
           "color": "blue",
           "width": 1.5
          },
          "opacity": 0.6,
          "path": "M 0.000000, 382.000000 C 0.200000, 382.000000 0.800000, 128.000000 1.000000, 128.000000",
          "type": "path"
         },
         {
          "line": {
           "color": "blue",
           "width": 1.5
          },
          "opacity": 0.6,
          "path": "M 0.000000, 1259.000000 C 0.200000, 1259.000000 0.800000, 895.000000 1.000000, 895.000000",
          "type": "path"
         },
         {
          "line": {
           "color": "blue",
           "width": 1.5
          },
          "opacity": 0.6,
          "path": "M 0.000000, 826.000000 C 0.200000, 826.000000 0.800000, 1259.000000 1.000000, 1259.000000",
          "type": "path"
         },
         {
          "line": {
           "color": "blue",
           "width": 1.5
          },
          "opacity": 0.6,
          "path": "M 0.000000, 861.000000 C 0.200000, 861.000000 0.800000, 1102.000000 1.000000, 1102.000000",
          "type": "path"
         },
         {
          "line": {
           "color": "blue",
           "width": 1.5
          },
          "opacity": 0.6,
          "path": "M 0.000000, 865.000000 C 0.200000, 865.000000 0.800000, 56.000000 1.000000, 56.000000",
          "type": "path"
         },
         {
          "line": {
           "color": "blue",
           "width": 1.5
          },
          "opacity": 0.6,
          "path": "M 0.000000, 1001.000000 C 0.200000, 1001.000000 0.800000, 209.000000 1.000000, 209.000000",
          "type": "path"
         },
         {
          "line": {
           "color": "blue",
           "width": 1.5
          },
          "opacity": 0.6,
          "path": "M 0.000000, 6.000000 C 0.200000, 6.000000 0.800000, 483.000000 1.000000, 483.000000",
          "type": "path"
         },
         {
          "line": {
           "color": "blue",
           "width": 1.5
          },
          "opacity": 0.6,
          "path": "M 0.000000, 944.000000 C 0.200000, 944.000000 0.800000, 502.000000 1.000000, 502.000000",
          "type": "path"
         },
         {
          "line": {
           "color": "blue",
           "width": 1.5
          },
          "opacity": 0.6,
          "path": "M 0.000000, 1067.000000 C 0.200000, 1067.000000 0.800000, 497.000000 1.000000, 497.000000",
          "type": "path"
         },
         {
          "line": {
           "color": "blue",
           "width": 1.5
          },
          "opacity": 0.6,
          "path": "M 0.000000, 1199.000000 C 0.200000, 1199.000000 0.800000, 359.000000 1.000000, 359.000000",
          "type": "path"
         },
         {
          "line": {
           "color": "blue",
           "width": 1.5
          },
          "opacity": 0.6,
          "path": "M 0.000000, 738.000000 C 0.200000, 738.000000 0.800000, 12.000000 1.000000, 12.000000",
          "type": "path"
         },
         {
          "line": {
           "color": "blue",
           "width": 1.5
          },
          "opacity": 0.6,
          "path": "M 0.000000, 694.000000 C 0.200000, 694.000000 0.800000, 256.000000 1.000000, 256.000000",
          "type": "path"
         },
         {
          "line": {
           "color": "blue",
           "width": 1.5
          },
          "opacity": 0.6,
          "path": "M 0.000000, 1185.000000 C 0.200000, 1185.000000 0.800000, 345.000000 1.000000, 345.000000",
          "type": "path"
         },
         {
          "line": {
           "color": "blue",
           "width": 1.5
          },
          "opacity": 0.6,
          "path": "M 0.000000, 677.000000 C 0.200000, 677.000000 0.800000, 1239.000000 1.000000, 1239.000000",
          "type": "path"
         },
         {
          "line": {
           "color": "blue",
           "width": 1.5
          },
          "opacity": 0.6,
          "path": "M 0.000000, 946.000000 C 0.200000, 946.000000 0.800000, 69.000000 1.000000, 69.000000",
          "type": "path"
         },
         {
          "line": {
           "color": "blue",
           "width": 1.5
          },
          "opacity": 0.6,
          "path": "M 0.000000, 1118.000000 C 0.200000, 1118.000000 0.800000, 805.000000 1.000000, 805.000000",
          "type": "path"
         },
         {
          "line": {
           "color": "blue",
           "width": 1.5
          },
          "opacity": 0.6,
          "path": "M 0.000000, 554.000000 C 0.200000, 554.000000 0.800000, 717.000000 1.000000, 717.000000",
          "type": "path"
         },
         {
          "line": {
           "color": "blue",
           "width": 1.5
          },
          "opacity": 0.6,
          "path": "M 0.000000, 724.000000 C 0.200000, 724.000000 0.800000, 188.000000 1.000000, 188.000000",
          "type": "path"
         },
         {
          "line": {
           "color": "blue",
           "width": 1.5
          },
          "opacity": 0.6,
          "path": "M 0.000000, 447.000000 C 0.200000, 447.000000 0.800000, 864.000000 1.000000, 864.000000",
          "type": "path"
         },
         {
          "line": {
           "color": "blue",
           "width": 1.5
          },
          "opacity": 0.6,
          "path": "M 0.000000, 462.000000 C 0.200000, 462.000000 0.800000, 1224.000000 1.000000, 1224.000000",
          "type": "path"
         },
         {
          "line": {
           "color": "blue",
           "width": 1.5
          },
          "opacity": 0.6,
          "path": "M 0.000000, 251.000000 C 0.200000, 251.000000 0.800000, 300.000000 1.000000, 300.000000",
          "type": "path"
         },
         {
          "line": {
           "color": "blue",
           "width": 1.5
          },
          "opacity": 0.6,
          "path": "M 0.000000, 164.000000 C 0.200000, 164.000000 0.800000, 594.000000 1.000000, 594.000000",
          "type": "path"
         },
         {
          "line": {
           "color": "blue",
           "width": 1.5
          },
          "opacity": 0.6,
          "path": "M 0.000000, 820.000000 C 0.200000, 820.000000 0.800000, 1261.000000 1.000000, 1261.000000",
          "type": "path"
         },
         {
          "line": {
           "color": "blue",
           "width": 1.5
          },
          "opacity": 0.6,
          "path": "M 0.000000, 1103.000000 C 0.200000, 1103.000000 0.800000, 220.000000 1.000000, 220.000000",
          "type": "path"
         },
         {
          "line": {
           "color": "blue",
           "width": 1.5
          },
          "opacity": 0.6,
          "path": "M 0.000000, 277.000000 C 0.200000, 277.000000 0.800000, 939.000000 1.000000, 939.000000",
          "type": "path"
         },
         {
          "line": {
           "color": "blue",
           "width": 1.5
          },
          "opacity": 0.6,
          "path": "M 0.000000, 1060.000000 C 0.200000, 1060.000000 0.800000, 862.000000 1.000000, 862.000000",
          "type": "path"
         },
         {
          "line": {
           "color": "blue",
           "width": 1.5
          },
          "opacity": 0.6,
          "path": "M 0.000000, 887.000000 C 0.200000, 887.000000 0.800000, 128.000000 1.000000, 128.000000",
          "type": "path"
         },
         {
          "line": {
           "color": "blue",
           "width": 1.5
          },
          "opacity": 0.6,
          "path": "M 0.000000, 1037.000000 C 0.200000, 1037.000000 0.800000, 1012.000000 1.000000, 1012.000000",
          "type": "path"
         },
         {
          "line": {
           "color": "blue",
           "width": 1.5
          },
          "opacity": 0.6,
          "path": "M 0.000000, 1148.000000 C 0.200000, 1148.000000 0.800000, 402.000000 1.000000, 402.000000",
          "type": "path"
         },
         {
          "line": {
           "color": "blue",
           "width": 1.5
          },
          "opacity": 0.6,
          "path": "M 0.000000, 350.000000 C 0.200000, 350.000000 0.800000, 1036.000000 1.000000, 1036.000000",
          "type": "path"
         },
         {
          "line": {
           "color": "blue",
           "width": 1.5
          },
          "opacity": 0.6,
          "path": "M 0.000000, 1237.000000 C 0.200000, 1237.000000 0.800000, 991.000000 1.000000, 991.000000",
          "type": "path"
         },
         {
          "line": {
           "color": "blue",
           "width": 1.5
          },
          "opacity": 0.6,
          "path": "M 0.000000, 242.000000 C 0.200000, 242.000000 0.800000, 270.000000 1.000000, 270.000000",
          "type": "path"
         },
         {
          "line": {
           "color": "blue",
           "width": 1.5
          },
          "opacity": 0.6,
          "path": "M 0.000000, 675.000000 C 0.200000, 675.000000 0.800000, 331.000000 1.000000, 331.000000",
          "type": "path"
         },
         {
          "line": {
           "color": "blue",
           "width": 1.5
          },
          "opacity": 0.6,
          "path": "M 0.000000, 723.000000 C 0.200000, 723.000000 0.800000, 639.000000 1.000000, 639.000000",
          "type": "path"
         },
         {
          "line": {
           "color": "blue",
           "width": 1.5
          },
          "opacity": 0.6,
          "path": "M 0.000000, 1253.000000 C 0.200000, 1253.000000 0.800000, 928.000000 1.000000, 928.000000",
          "type": "path"
         },
         {
          "line": {
           "color": "blue",
           "width": 1.5
          },
          "opacity": 0.6,
          "path": "M 0.000000, 826.000000 C 0.200000, 826.000000 0.800000, 664.000000 1.000000, 664.000000",
          "type": "path"
         },
         {
          "line": {
           "color": "blue",
           "width": 1.5
          },
          "opacity": 0.6,
          "path": "M 0.000000, 547.000000 C 0.200000, 547.000000 0.800000, 797.000000 1.000000, 797.000000",
          "type": "path"
         },
         {
          "line": {
           "color": "blue",
           "width": 1.5
          },
          "opacity": 0.6,
          "path": "M 0.000000, 1085.000000 C 0.200000, 1085.000000 0.800000, 487.000000 1.000000, 487.000000",
          "type": "path"
         },
         {
          "line": {
           "color": "blue",
           "width": 1.5
          },
          "opacity": 0.6,
          "path": "M 0.000000, 676.000000 C 0.200000, 676.000000 0.800000, 595.000000 1.000000, 595.000000",
          "type": "path"
         },
         {
          "line": {
           "color": "blue",
           "width": 1.5
          },
          "opacity": 0.6,
          "path": "M 0.000000, 155.000000 C 0.200000, 155.000000 0.800000, 311.000000 1.000000, 311.000000",
          "type": "path"
         },
         {
          "line": {
           "color": "blue",
           "width": 1.5
          },
          "opacity": 0.6,
          "path": "M 0.000000, 1042.000000 C 0.200000, 1042.000000 0.800000, 967.000000 1.000000, 967.000000",
          "type": "path"
         },
         {
          "line": {
           "color": "blue",
           "width": 1.5
          },
          "opacity": 0.6,
          "path": "M 0.000000, 281.000000 C 0.200000, 281.000000 0.800000, 1052.000000 1.000000, 1052.000000",
          "type": "path"
         },
         {
          "line": {
           "color": "blue",
           "width": 1.5
          },
          "opacity": 0.6,
          "path": "M 0.000000, 969.000000 C 0.200000, 969.000000 0.800000, 947.000000 1.000000, 947.000000",
          "type": "path"
         },
         {
          "line": {
           "color": "blue",
           "width": 1.5
          },
          "opacity": 0.6,
          "path": "M 0.000000, 820.000000 C 0.200000, 820.000000 0.800000, 1221.000000 1.000000, 1221.000000",
          "type": "path"
         },
         {
          "line": {
           "color": "blue",
           "width": 1.5
          },
          "opacity": 0.6,
          "path": "M 0.000000, 963.000000 C 0.200000, 963.000000 0.800000, 8.000000 1.000000, 8.000000",
          "type": "path"
         },
         {
          "line": {
           "color": "blue",
           "width": 1.5
          },
          "opacity": 0.6,
          "path": "M 0.000000, 966.000000 C 0.200000, 966.000000 0.800000, 785.000000 1.000000, 785.000000",
          "type": "path"
         },
         {
          "line": {
           "color": "blue",
           "width": 1.5
          },
          "opacity": 0.6,
          "path": "M 0.000000, 933.000000 C 0.200000, 933.000000 0.800000, 1052.000000 1.000000, 1052.000000",
          "type": "path"
         },
         {
          "line": {
           "color": "blue",
           "width": 1.5
          },
          "opacity": 0.6,
          "path": "M 0.000000, 2.000000 C 0.200000, 2.000000 0.800000, 803.000000 1.000000, 803.000000",
          "type": "path"
         },
         {
          "line": {
           "color": "blue",
           "width": 1.5
          },
          "opacity": 0.6,
          "path": "M 0.000000, 558.000000 C 0.200000, 558.000000 0.800000, 53.000000 1.000000, 53.000000",
          "type": "path"
         },
         {
          "line": {
           "color": "blue",
           "width": 1.5
          },
          "opacity": 0.6,
          "path": "M 0.000000, 108.000000 C 0.200000, 108.000000 0.800000, 806.000000 1.000000, 806.000000",
          "type": "path"
         },
         {
          "line": {
           "color": "blue",
           "width": 1.5
          },
          "opacity": 0.6,
          "path": "M 0.000000, 921.000000 C 0.200000, 921.000000 0.800000, 423.000000 1.000000, 423.000000",
          "type": "path"
         },
         {
          "line": {
           "color": "blue",
           "width": 1.5
          },
          "opacity": 0.6,
          "path": "M 0.000000, 371.000000 C 0.200000, 371.000000 0.800000, 996.000000 1.000000, 996.000000",
          "type": "path"
         },
         {
          "line": {
           "color": "blue",
           "width": 1.5
          },
          "opacity": 0.6,
          "path": "M 0.000000, 927.000000 C 0.200000, 927.000000 0.800000, 1129.000000 1.000000, 1129.000000",
          "type": "path"
         },
         {
          "line": {
           "color": "blue",
           "width": 1.5
          },
          "opacity": 0.6,
          "path": "M 0.000000, 1091.000000 C 0.200000, 1091.000000 0.800000, 5.000000 1.000000, 5.000000",
          "type": "path"
         },
         {
          "line": {
           "color": "blue",
           "width": 1.5
          },
          "opacity": 0.6,
          "path": "M 0.000000, 944.000000 C 0.200000, 944.000000 0.800000, 74.000000 1.000000, 74.000000",
          "type": "path"
         },
         {
          "line": {
           "color": "blue",
           "width": 1.5
          },
          "opacity": 0.6,
          "path": "M 0.000000, 116.000000 C 0.200000, 116.000000 0.800000, 989.000000 1.000000, 989.000000",
          "type": "path"
         },
         {
          "line": {
           "color": "blue",
           "width": 1.5
          },
          "opacity": 0.6,
          "path": "M 0.000000, 1140.000000 C 0.200000, 1140.000000 0.800000, 36.000000 1.000000, 36.000000",
          "type": "path"
         },
         {
          "line": {
           "color": "blue",
           "width": 1.5
          },
          "opacity": 0.6,
          "path": "M 0.000000, 990.000000 C 0.200000, 990.000000 0.800000, 406.000000 1.000000, 406.000000",
          "type": "path"
         },
         {
          "line": {
           "color": "blue",
           "width": 1.5
          },
          "opacity": 0.6,
          "path": "M 0.000000, 704.000000 C 0.200000, 704.000000 0.800000, 1115.000000 1.000000, 1115.000000",
          "type": "path"
         },
         {
          "line": {
           "color": "blue",
           "width": 1.5
          },
          "opacity": 0.6,
          "path": "M 0.000000, 1164.000000 C 0.200000, 1164.000000 0.800000, 1005.000000 1.000000, 1005.000000",
          "type": "path"
         },
         {
          "line": {
           "color": "blue",
           "width": 1.5
          },
          "opacity": 0.6,
          "path": "M 0.000000, 27.000000 C 0.200000, 27.000000 0.800000, 35.000000 1.000000, 35.000000",
          "type": "path"
         },
         {
          "line": {
           "color": "blue",
           "width": 1.5
          },
          "opacity": 0.6,
          "path": "M 0.000000, 1264.000000 C 0.200000, 1264.000000 0.800000, 426.000000 1.000000, 426.000000",
          "type": "path"
         },
         {
          "line": {
           "color": "blue",
           "width": 1.5
          },
          "opacity": 0.6,
          "path": "M 0.000000, 321.000000 C 0.200000, 321.000000 0.800000, 872.000000 1.000000, 872.000000",
          "type": "path"
         },
         {
          "line": {
           "color": "blue",
           "width": 1.5
          },
          "opacity": 0.6,
          "path": "M 0.000000, 1138.000000 C 0.200000, 1138.000000 0.800000, 1048.000000 1.000000, 1048.000000",
          "type": "path"
         },
         {
          "line": {
           "color": "blue",
           "width": 1.5
          },
          "opacity": 0.6,
          "path": "M 0.000000, 1087.000000 C 0.200000, 1087.000000 0.800000, 1272.000000 1.000000, 1272.000000",
          "type": "path"
         },
         {
          "line": {
           "color": "blue",
           "width": 1.5
          },
          "opacity": 0.6,
          "path": "M 0.000000, 669.000000 C 0.200000, 669.000000 0.800000, 737.000000 1.000000, 737.000000",
          "type": "path"
         },
         {
          "line": {
           "color": "blue",
           "width": 1.5
          },
          "opacity": 0.6,
          "path": "M 0.000000, 143.000000 C 0.200000, 143.000000 0.800000, 1141.000000 1.000000, 1141.000000",
          "type": "path"
         },
         {
          "line": {
           "color": "blue",
           "width": 1.5
          },
          "opacity": 0.6,
          "path": "M 0.000000, 618.000000 C 0.200000, 618.000000 0.800000, 62.000000 1.000000, 62.000000",
          "type": "path"
         },
         {
          "line": {
           "color": "blue",
           "width": 1.5
          },
          "opacity": 0.6,
          "path": "M 0.000000, 695.000000 C 0.200000, 695.000000 0.800000, 432.000000 1.000000, 432.000000",
          "type": "path"
         },
         {
          "line": {
           "color": "blue",
           "width": 1.5
          },
          "opacity": 0.6,
          "path": "M 0.000000, 906.000000 C 0.200000, 906.000000 0.800000, 813.000000 1.000000, 813.000000",
          "type": "path"
         },
         {
          "line": {
           "color": "blue",
           "width": 1.5
          },
          "opacity": 0.6,
          "path": "M 0.000000, 231.000000 C 0.200000, 231.000000 0.800000, 167.000000 1.000000, 167.000000",
          "type": "path"
         },
         {
          "line": {
           "color": "blue",
           "width": 1.5
          },
          "opacity": 0.6,
          "path": "M 0.000000, 863.000000 C 0.200000, 863.000000 0.800000, 640.000000 1.000000, 640.000000",
          "type": "path"
         },
         {
          "line": {
           "color": "blue",
           "width": 1.5
          },
          "opacity": 0.6,
          "path": "M 0.000000, 41.000000 C 0.200000, 41.000000 0.800000, 743.000000 1.000000, 743.000000",
          "type": "path"
         },
         {
          "line": {
           "color": "blue",
           "width": 1.5
          },
          "opacity": 0.6,
          "path": "M 0.000000, 62.000000 C 0.200000, 62.000000 0.800000, 726.000000 1.000000, 726.000000",
          "type": "path"
         },
         {
          "line": {
           "color": "blue",
           "width": 1.5
          },
          "opacity": 0.6,
          "path": "M 0.000000, 515.000000 C 0.200000, 515.000000 0.800000, 1110.000000 1.000000, 1110.000000",
          "type": "path"
         },
         {
          "line": {
           "color": "blue",
           "width": 1.5
          },
          "opacity": 0.6,
          "path": "M 0.000000, 710.000000 C 0.200000, 710.000000 0.800000, 514.000000 1.000000, 514.000000",
          "type": "path"
         },
         {
          "line": {
           "color": "blue",
           "width": 1.5
          },
          "opacity": 0.6,
          "path": "M 0.000000, 480.000000 C 0.200000, 480.000000 0.800000, 527.000000 1.000000, 527.000000",
          "type": "path"
         },
         {
          "line": {
           "color": "blue",
           "width": 1.5
          },
          "opacity": 0.6,
          "path": "M 0.000000, 1080.000000 C 0.200000, 1080.000000 0.800000, 1184.000000 1.000000, 1184.000000",
          "type": "path"
         },
         {
          "line": {
           "color": "blue",
           "width": 1.5
          },
          "opacity": 0.6,
          "path": "M 0.000000, 753.000000 C 0.200000, 753.000000 0.800000, 42.000000 1.000000, 42.000000",
          "type": "path"
         },
         {
          "line": {
           "color": "blue",
           "width": 1.5
          },
          "opacity": 0.6,
          "path": "M 0.000000, 530.000000 C 0.200000, 530.000000 0.800000, 1221.000000 1.000000, 1221.000000",
          "type": "path"
         },
         {
          "line": {
           "color": "blue",
           "width": 1.5
          },
          "opacity": 0.6,
          "path": "M 0.000000, 1210.000000 C 0.200000, 1210.000000 0.800000, 25.000000 1.000000, 25.000000",
          "type": "path"
         },
         {
          "line": {
           "color": "blue",
           "width": 1.5
          },
          "opacity": 0.6,
          "path": "M 0.000000, 1226.000000 C 0.200000, 1226.000000 0.800000, 768.000000 1.000000, 768.000000",
          "type": "path"
         },
         {
          "line": {
           "color": "blue",
           "width": 1.5
          },
          "opacity": 0.6,
          "path": "M 0.000000, 738.000000 C 0.200000, 738.000000 0.800000, 589.000000 1.000000, 589.000000",
          "type": "path"
         },
         {
          "line": {
           "color": "blue",
           "width": 1.5
          },
          "opacity": 0.6,
          "path": "M 0.000000, 646.000000 C 0.200000, 646.000000 0.800000, 1241.000000 1.000000, 1241.000000",
          "type": "path"
         },
         {
          "line": {
           "color": "blue",
           "width": 1.5
          },
          "opacity": 0.6,
          "path": "M 0.000000, 1041.000000 C 0.200000, 1041.000000 0.800000, 1116.000000 1.000000, 1116.000000",
          "type": "path"
         },
         {
          "line": {
           "color": "blue",
           "width": 1.5
          },
          "opacity": 0.6,
          "path": "M 0.000000, 789.000000 C 0.200000, 789.000000 0.800000, 1178.000000 1.000000, 1178.000000",
          "type": "path"
         },
         {
          "line": {
           "color": "blue",
           "width": 1.5
          },
          "opacity": 0.6,
          "path": "M 0.000000, 936.000000 C 0.200000, 936.000000 0.800000, 276.000000 1.000000, 276.000000",
          "type": "path"
         },
         {
          "line": {
           "color": "blue",
           "width": 1.5
          },
          "opacity": 0.6,
          "path": "M 0.000000, 312.000000 C 0.200000, 312.000000 0.800000, 788.000000 1.000000, 788.000000",
          "type": "path"
         },
         {
          "line": {
           "color": "blue",
           "width": 1.5
          },
          "opacity": 0.6,
          "path": "M 0.000000, 727.000000 C 0.200000, 727.000000 0.800000, 943.000000 1.000000, 943.000000",
          "type": "path"
         },
         {
          "line": {
           "color": "blue",
           "width": 1.5
          },
          "opacity": 0.6,
          "path": "M 0.000000, 686.000000 C 0.200000, 686.000000 0.800000, 1048.000000 1.000000, 1048.000000",
          "type": "path"
         },
         {
          "line": {
           "color": "blue",
           "width": 1.5
          },
          "opacity": 0.6,
          "path": "M 0.000000, 864.000000 C 0.200000, 864.000000 0.800000, 733.000000 1.000000, 733.000000",
          "type": "path"
         },
         {
          "line": {
           "color": "blue",
           "width": 1.5
          },
          "opacity": 0.6,
          "path": "M 0.000000, 277.000000 C 0.200000, 277.000000 0.800000, 63.000000 1.000000, 63.000000",
          "type": "path"
         },
         {
          "line": {
           "color": "blue",
           "width": 1.5
          },
          "opacity": 0.6,
          "path": "M 0.000000, 262.000000 C 0.200000, 262.000000 0.800000, 158.000000 1.000000, 158.000000",
          "type": "path"
         },
         {
          "line": {
           "color": "blue",
           "width": 1.5
          },
          "opacity": 0.6,
          "path": "M 0.000000, 602.000000 C 0.200000, 602.000000 0.800000, 1237.000000 1.000000, 1237.000000",
          "type": "path"
         },
         {
          "line": {
           "color": "blue",
           "width": 1.5
          },
          "opacity": 0.6,
          "path": "M 0.000000, 1019.000000 C 0.200000, 1019.000000 0.800000, 1152.000000 1.000000, 1152.000000",
          "type": "path"
         },
         {
          "line": {
           "color": "blue",
           "width": 1.5
          },
          "opacity": 0.6,
          "path": "M 0.000000, 894.000000 C 0.200000, 894.000000 0.800000, 797.000000 1.000000, 797.000000",
          "type": "path"
         },
         {
          "line": {
           "color": "blue",
           "width": 1.5
          },
          "opacity": 0.6,
          "path": "M 0.000000, 16.000000 C 0.200000, 16.000000 0.800000, 161.000000 1.000000, 161.000000",
          "type": "path"
         },
         {
          "line": {
           "color": "blue",
           "width": 1.5
          },
          "opacity": 0.6,
          "path": "M 0.000000, 795.000000 C 0.200000, 795.000000 0.800000, 1243.000000 1.000000, 1243.000000",
          "type": "path"
         },
         {
          "line": {
           "color": "blue",
           "width": 1.5
          },
          "opacity": 0.6,
          "path": "M 0.000000, 929.000000 C 0.200000, 929.000000 0.800000, 683.000000 1.000000, 683.000000",
          "type": "path"
         },
         {
          "line": {
           "color": "blue",
           "width": 1.5
          },
          "opacity": 0.6,
          "path": "M 0.000000, 970.000000 C 0.200000, 970.000000 0.800000, 1108.000000 1.000000, 1108.000000",
          "type": "path"
         },
         {
          "line": {
           "color": "blue",
           "width": 1.5
          },
          "opacity": 0.6,
          "path": "M 0.000000, 752.000000 C 0.200000, 752.000000 0.800000, 841.000000 1.000000, 841.000000",
          "type": "path"
         },
         {
          "line": {
           "color": "blue",
           "width": 1.5
          },
          "opacity": 0.6,
          "path": "M 0.000000, 992.000000 C 0.200000, 992.000000 0.800000, 1148.000000 1.000000, 1148.000000",
          "type": "path"
         },
         {
          "line": {
           "color": "blue",
           "width": 1.5
          },
          "opacity": 0.6,
          "path": "M 0.000000, 218.000000 C 0.200000, 218.000000 0.800000, 1025.000000 1.000000, 1025.000000",
          "type": "path"
         },
         {
          "line": {
           "color": "blue",
           "width": 1.5
          },
          "opacity": 0.6,
          "path": "M 0.000000, 650.000000 C 0.200000, 650.000000 0.800000, 1135.000000 1.000000, 1135.000000",
          "type": "path"
         },
         {
          "line": {
           "color": "blue",
           "width": 1.5
          },
          "opacity": 0.6,
          "path": "M 0.000000, 317.000000 C 0.200000, 317.000000 0.800000, 715.000000 1.000000, 715.000000",
          "type": "path"
         },
         {
          "line": {
           "color": "blue",
           "width": 1.5
          },
          "opacity": 0.6,
          "path": "M 0.000000, 930.000000 C 0.200000, 930.000000 0.800000, 477.000000 1.000000, 477.000000",
          "type": "path"
         },
         {
          "line": {
           "color": "blue",
           "width": 1.5
          },
          "opacity": 0.6,
          "path": "M 0.000000, 500.000000 C 0.200000, 500.000000 0.800000, 792.000000 1.000000, 792.000000",
          "type": "path"
         },
         {
          "line": {
           "color": "blue",
           "width": 1.5
          },
          "opacity": 0.6,
          "path": "M 0.000000, 62.000000 C 0.200000, 62.000000 0.800000, 525.000000 1.000000, 525.000000",
          "type": "path"
         },
         {
          "line": {
           "color": "blue",
           "width": 1.5
          },
          "opacity": 0.6,
          "path": "M 0.000000, 1137.000000 C 0.200000, 1137.000000 0.800000, 309.000000 1.000000, 309.000000",
          "type": "path"
         },
         {
          "line": {
           "color": "blue",
           "width": 1.5
          },
          "opacity": 0.6,
          "path": "M 0.000000, 152.000000 C 0.200000, 152.000000 0.800000, 88.000000 1.000000, 88.000000",
          "type": "path"
         },
         {
          "line": {
           "color": "blue",
           "width": 1.5
          },
          "opacity": 0.6,
          "path": "M 0.000000, 1218.000000 C 0.200000, 1218.000000 0.800000, 1266.000000 1.000000, 1266.000000",
          "type": "path"
         },
         {
          "line": {
           "color": "blue",
           "width": 1.5
          },
          "opacity": 0.6,
          "path": "M 0.000000, 1119.000000 C 0.200000, 1119.000000 0.800000, 311.000000 1.000000, 311.000000",
          "type": "path"
         },
         {
          "line": {
           "color": "blue",
           "width": 1.5
          },
          "opacity": 0.6,
          "path": "M 0.000000, 996.000000 C 0.200000, 996.000000 0.800000, 726.000000 1.000000, 726.000000",
          "type": "path"
         },
         {
          "line": {
           "color": "blue",
           "width": 1.5
          },
          "opacity": 0.6,
          "path": "M 0.000000, 696.000000 C 0.200000, 696.000000 0.800000, 274.000000 1.000000, 274.000000",
          "type": "path"
         },
         {
          "line": {
           "color": "blue",
           "width": 1.5
          },
          "opacity": 0.6,
          "path": "M 0.000000, 872.000000 C 0.200000, 872.000000 0.800000, 763.000000 1.000000, 763.000000",
          "type": "path"
         },
         {
          "line": {
           "color": "blue",
           "width": 1.5
          },
          "opacity": 0.6,
          "path": "M 0.000000, 628.000000 C 0.200000, 628.000000 0.800000, 1202.000000 1.000000, 1202.000000",
          "type": "path"
         },
         {
          "line": {
           "color": "blue",
           "width": 1.5
          },
          "opacity": 0.6,
          "path": "M 0.000000, 247.000000 C 0.200000, 247.000000 0.800000, 471.000000 1.000000, 471.000000",
          "type": "path"
         },
         {
          "line": {
           "color": "blue",
           "width": 1.5
          },
          "opacity": 0.6,
          "path": "M 0.000000, 7.000000 C 0.200000, 7.000000 0.800000, 272.000000 1.000000, 272.000000",
          "type": "path"
         },
         {
          "line": {
           "color": "blue",
           "width": 1.5
          },
          "opacity": 0.6,
          "path": "M 0.000000, 737.000000 C 0.200000, 737.000000 0.800000, 824.000000 1.000000, 824.000000",
          "type": "path"
         },
         {
          "line": {
           "color": "blue",
           "width": 1.5
          },
          "opacity": 0.6,
          "path": "M 0.000000, 662.000000 C 0.200000, 662.000000 0.800000, 868.000000 1.000000, 868.000000",
          "type": "path"
         },
         {
          "line": {
           "color": "blue",
           "width": 1.5
          },
          "opacity": 0.6,
          "path": "M 0.000000, 998.000000 C 0.200000, 998.000000 0.800000, 617.000000 1.000000, 617.000000",
          "type": "path"
         },
         {
          "line": {
           "color": "blue",
           "width": 1.5
          },
          "opacity": 0.6,
          "path": "M 0.000000, 381.000000 C 0.200000, 381.000000 0.800000, 261.000000 1.000000, 261.000000",
          "type": "path"
         },
         {
          "line": {
           "color": "blue",
           "width": 1.5
          },
          "opacity": 0.6,
          "path": "M 0.000000, 350.000000 C 0.200000, 350.000000 0.800000, 13.000000 1.000000, 13.000000",
          "type": "path"
         },
         {
          "line": {
           "color": "blue",
           "width": 1.5
          },
          "opacity": 0.6,
          "path": "M 0.000000, 582.000000 C 0.200000, 582.000000 0.800000, 570.000000 1.000000, 570.000000",
          "type": "path"
         },
         {
          "line": {
           "color": "blue",
           "width": 1.5
          },
          "opacity": 0.6,
          "path": "M 0.000000, 1006.000000 C 0.200000, 1006.000000 0.800000, 1274.000000 1.000000, 1274.000000",
          "type": "path"
         },
         {
          "line": {
           "color": "blue",
           "width": 1.5
          },
          "opacity": 0.6,
          "path": "M 0.000000, 568.000000 C 0.200000, 568.000000 0.800000, 690.000000 1.000000, 690.000000",
          "type": "path"
         },
         {
          "line": {
           "color": "blue",
           "width": 1.5
          },
          "opacity": 0.6,
          "path": "M 0.000000, 142.000000 C 0.200000, 142.000000 0.800000, 716.000000 1.000000, 716.000000",
          "type": "path"
         },
         {
          "line": {
           "color": "blue",
           "width": 1.5
          },
          "opacity": 0.6,
          "path": "M 0.000000, 951.000000 C 0.200000, 951.000000 0.800000, 217.000000 1.000000, 217.000000",
          "type": "path"
         },
         {
          "line": {
           "color": "blue",
           "width": 1.5
          },
          "opacity": 0.6,
          "path": "M 0.000000, 402.000000 C 0.200000, 402.000000 0.800000, 484.000000 1.000000, 484.000000",
          "type": "path"
         },
         {
          "line": {
           "color": "blue",
           "width": 1.5
          },
          "opacity": 0.6,
          "path": "M 0.000000, 360.000000 C 0.200000, 360.000000 0.800000, 1078.000000 1.000000, 1078.000000",
          "type": "path"
         },
         {
          "line": {
           "color": "blue",
           "width": 1.5
          },
          "opacity": 0.6,
          "path": "M 0.000000, 1129.000000 C 0.200000, 1129.000000 0.800000, 163.000000 1.000000, 163.000000",
          "type": "path"
         },
         {
          "line": {
           "color": "blue",
           "width": 1.5
          },
          "opacity": 0.6,
          "path": "M 0.000000, 1008.000000 C 0.200000, 1008.000000 0.800000, 498.000000 1.000000, 498.000000",
          "type": "path"
         },
         {
          "line": {
           "color": "blue",
           "width": 1.5
          },
          "opacity": 0.6,
          "path": "M 0.000000, 699.000000 C 0.200000, 699.000000 0.800000, 402.000000 1.000000, 402.000000",
          "type": "path"
         },
         {
          "line": {
           "color": "blue",
           "width": 1.5
          },
          "opacity": 0.6,
          "path": "M 0.000000, 1053.000000 C 0.200000, 1053.000000 0.800000, 501.000000 1.000000, 501.000000",
          "type": "path"
         },
         {
          "line": {
           "color": "blue",
           "width": 1.5
          },
          "opacity": 0.6,
          "path": "M 0.000000, 1085.000000 C 0.200000, 1085.000000 0.800000, 1134.000000 1.000000, 1134.000000",
          "type": "path"
         },
         {
          "line": {
           "color": "blue",
           "width": 1.5
          },
          "opacity": 0.6,
          "path": "M 0.000000, 996.000000 C 0.200000, 996.000000 0.800000, 961.000000 1.000000, 961.000000",
          "type": "path"
         },
         {
          "line": {
           "color": "blue",
           "width": 1.5
          },
          "opacity": 0.6,
          "path": "M 0.000000, 199.000000 C 0.200000, 199.000000 0.800000, 790.000000 1.000000, 790.000000",
          "type": "path"
         },
         {
          "line": {
           "color": "blue",
           "width": 1.5
          },
          "opacity": 0.6,
          "path": "M 0.000000, 555.000000 C 0.200000, 555.000000 0.800000, 741.000000 1.000000, 741.000000",
          "type": "path"
         },
         {
          "line": {
           "color": "blue",
           "width": 1.5
          },
          "opacity": 0.6,
          "path": "M 0.000000, 600.000000 C 0.200000, 600.000000 0.800000, 504.000000 1.000000, 504.000000",
          "type": "path"
         },
         {
          "line": {
           "color": "blue",
           "width": 1.5
          },
          "opacity": 0.6,
          "path": "M 0.000000, 861.000000 C 0.200000, 861.000000 0.800000, 1269.000000 1.000000, 1269.000000",
          "type": "path"
         },
         {
          "line": {
           "color": "blue",
           "width": 1.5
          },
          "opacity": 0.6,
          "path": "M 0.000000, 1116.000000 C 0.200000, 1116.000000 0.800000, 830.000000 1.000000, 830.000000",
          "type": "path"
         },
         {
          "line": {
           "color": "blue",
           "width": 1.5
          },
          "opacity": 0.6,
          "path": "M 0.000000, 481.000000 C 0.200000, 481.000000 0.800000, 281.000000 1.000000, 281.000000",
          "type": "path"
         },
         {
          "line": {
           "color": "blue",
           "width": 1.5
          },
          "opacity": 0.6,
          "path": "M 0.000000, 1045.000000 C 0.200000, 1045.000000 0.800000, 1231.000000 1.000000, 1231.000000",
          "type": "path"
         },
         {
          "line": {
           "color": "blue",
           "width": 1.5
          },
          "opacity": 0.6,
          "path": "M 0.000000, 746.000000 C 0.200000, 746.000000 0.800000, 1076.000000 1.000000, 1076.000000",
          "type": "path"
         },
         {
          "line": {
           "color": "blue",
           "width": 1.5
          },
          "opacity": 0.6,
          "path": "M 0.000000, 471.000000 C 0.200000, 471.000000 0.800000, 1105.000000 1.000000, 1105.000000",
          "type": "path"
         },
         {
          "line": {
           "color": "blue",
           "width": 1.5
          },
          "opacity": 0.6,
          "path": "M 0.000000, 653.000000 C 0.200000, 653.000000 0.800000, 931.000000 1.000000, 931.000000",
          "type": "path"
         },
         {
          "line": {
           "color": "blue",
           "width": 1.5
          },
          "opacity": 0.6,
          "path": "M 0.000000, 984.000000 C 0.200000, 984.000000 0.800000, 593.000000 1.000000, 593.000000",
          "type": "path"
         },
         {
          "line": {
           "color": "blue",
           "width": 1.5
          },
          "opacity": 0.6,
          "path": "M 0.000000, 1110.000000 C 0.200000, 1110.000000 0.800000, 781.000000 1.000000, 781.000000",
          "type": "path"
         },
         {
          "line": {
           "color": "blue",
           "width": 1.5
          },
          "opacity": 0.6,
          "path": "M 0.000000, 1267.000000 C 0.200000, 1267.000000 0.800000, 866.000000 1.000000, 866.000000",
          "type": "path"
         },
         {
          "line": {
           "color": "blue",
           "width": 1.5
          },
          "opacity": 0.6,
          "path": "M 0.000000, 463.000000 C 0.200000, 463.000000 0.800000, 679.000000 1.000000, 679.000000",
          "type": "path"
         },
         {
          "line": {
           "color": "blue",
           "width": 1.5
          },
          "opacity": 0.6,
          "path": "M 0.000000, 968.000000 C 0.200000, 968.000000 0.800000, 1180.000000 1.000000, 1180.000000",
          "type": "path"
         },
         {
          "line": {
           "color": "blue",
           "width": 1.5
          },
          "opacity": 0.6,
          "path": "M 0.000000, 785.000000 C 0.200000, 785.000000 0.800000, 595.000000 1.000000, 595.000000",
          "type": "path"
         },
         {
          "line": {
           "color": "blue",
           "width": 1.5
          },
          "opacity": 0.6,
          "path": "M 0.000000, 740.000000 C 0.200000, 740.000000 0.800000, 111.000000 1.000000, 111.000000",
          "type": "path"
         },
         {
          "line": {
           "color": "blue",
           "width": 1.5
          },
          "opacity": 0.6,
          "path": "M 0.000000, 599.000000 C 0.200000, 599.000000 0.800000, 609.000000 1.000000, 609.000000",
          "type": "path"
         },
         {
          "line": {
           "color": "blue",
           "width": 1.5
          },
          "opacity": 0.6,
          "path": "M 0.000000, 658.000000 C 0.200000, 658.000000 0.800000, 923.000000 1.000000, 923.000000",
          "type": "path"
         },
         {
          "line": {
           "color": "blue",
           "width": 1.5
          },
          "opacity": 0.6,
          "path": "M 0.000000, 239.000000 C 0.200000, 239.000000 0.800000, 931.000000 1.000000, 931.000000",
          "type": "path"
         },
         {
          "line": {
           "color": "blue",
           "width": 1.5
          },
          "opacity": 0.6,
          "path": "M 0.000000, 1041.000000 C 0.200000, 1041.000000 0.800000, 1136.000000 1.000000, 1136.000000",
          "type": "path"
         },
         {
          "line": {
           "color": "blue",
           "width": 1.5
          },
          "opacity": 0.6,
          "path": "M 0.000000, 1278.000000 C 0.200000, 1278.000000 0.800000, 373.000000 1.000000, 373.000000",
          "type": "path"
         },
         {
          "line": {
           "color": "blue",
           "width": 1.5
          },
          "opacity": 0.6,
          "path": "M 0.000000, 1124.000000 C 0.200000, 1124.000000 0.800000, 448.000000 1.000000, 448.000000",
          "type": "path"
         },
         {
          "line": {
           "color": "blue",
           "width": 1.5
          },
          "opacity": 0.6,
          "path": "M 0.000000, 223.000000 C 0.200000, 223.000000 0.800000, 695.000000 1.000000, 695.000000",
          "type": "path"
         },
         {
          "line": {
           "color": "blue",
           "width": 1.5
          },
          "opacity": 0.6,
          "path": "M 0.000000, 362.000000 C 0.200000, 362.000000 0.800000, 790.000000 1.000000, 790.000000",
          "type": "path"
         },
         {
          "line": {
           "color": "blue",
           "width": 1.5
          },
          "opacity": 0.6,
          "path": "M 0.000000, 269.000000 C 0.200000, 269.000000 0.800000, 711.000000 1.000000, 711.000000",
          "type": "path"
         },
         {
          "line": {
           "color": "blue",
           "width": 1.5
          },
          "opacity": 0.6,
          "path": "M 0.000000, 289.000000 C 0.200000, 289.000000 0.800000, 1258.000000 1.000000, 1258.000000",
          "type": "path"
         },
         {
          "line": {
           "color": "blue",
           "width": 1.5
          },
          "opacity": 0.6,
          "path": "M 0.000000, 703.000000 C 0.200000, 703.000000 0.800000, 645.000000 1.000000, 645.000000",
          "type": "path"
         },
         {
          "line": {
           "color": "blue",
           "width": 1.5
          },
          "opacity": 0.6,
          "path": "M 0.000000, 959.000000 C 0.200000, 959.000000 0.800000, 868.000000 1.000000, 868.000000",
          "type": "path"
         },
         {
          "line": {
           "color": "blue",
           "width": 1.5
          },
          "opacity": 0.6,
          "path": "M 0.000000, 335.000000 C 0.200000, 335.000000 0.800000, 284.000000 1.000000, 284.000000",
          "type": "path"
         },
         {
          "line": {
           "color": "blue",
           "width": 1.5
          },
          "opacity": 0.6,
          "path": "M 0.000000, 365.000000 C 0.200000, 365.000000 0.800000, 635.000000 1.000000, 635.000000",
          "type": "path"
         },
         {
          "line": {
           "color": "blue",
           "width": 1.5
          },
          "opacity": 0.6,
          "path": "M 0.000000, 659.000000 C 0.200000, 659.000000 0.800000, 817.000000 1.000000, 817.000000",
          "type": "path"
         },
         {
          "line": {
           "color": "blue",
           "width": 1.5
          },
          "opacity": 0.6,
          "path": "M 0.000000, 393.000000 C 0.200000, 393.000000 0.800000, 16.000000 1.000000, 16.000000",
          "type": "path"
         },
         {
          "line": {
           "color": "blue",
           "width": 1.5
          },
          "opacity": 0.6,
          "path": "M 0.000000, 1164.000000 C 0.200000, 1164.000000 0.800000, 761.000000 1.000000, 761.000000",
          "type": "path"
         },
         {
          "line": {
           "color": "blue",
           "width": 1.5
          },
          "opacity": 0.6,
          "path": "M 0.000000, 624.000000 C 0.200000, 624.000000 0.800000, 831.000000 1.000000, 831.000000",
          "type": "path"
         },
         {
          "line": {
           "color": "blue",
           "width": 1.5
          },
          "opacity": 0.6,
          "path": "M 0.000000, 669.000000 C 0.200000, 669.000000 0.800000, 386.000000 1.000000, 386.000000",
          "type": "path"
         },
         {
          "line": {
           "color": "blue",
           "width": 1.5
          },
          "opacity": 0.6,
          "path": "M 0.000000, 750.000000 C 0.200000, 750.000000 0.800000, 724.000000 1.000000, 724.000000",
          "type": "path"
         },
         {
          "line": {
           "color": "blue",
           "width": 1.5
          },
          "opacity": 0.6,
          "path": "M 0.000000, 849.000000 C 0.200000, 849.000000 0.800000, 327.000000 1.000000, 327.000000",
          "type": "path"
         },
         {
          "line": {
           "color": "blue",
           "width": 1.5
          },
          "opacity": 0.6,
          "path": "M 0.000000, 46.000000 C 0.200000, 46.000000 0.800000, 1266.000000 1.000000, 1266.000000",
          "type": "path"
         },
         {
          "line": {
           "color": "blue",
           "width": 1.5
          },
          "opacity": 0.6,
          "path": "M 0.000000, 885.000000 C 0.200000, 885.000000 0.800000, 941.000000 1.000000, 941.000000",
          "type": "path"
         },
         {
          "line": {
           "color": "blue",
           "width": 1.5
          },
          "opacity": 0.6,
          "path": "M 0.000000, 102.000000 C 0.200000, 102.000000 0.800000, 197.000000 1.000000, 197.000000",
          "type": "path"
         },
         {
          "line": {
           "color": "blue",
           "width": 1.5
          },
          "opacity": 0.6,
          "path": "M 0.000000, 543.000000 C 0.200000, 543.000000 0.800000, 87.000000 1.000000, 87.000000",
          "type": "path"
         },
         {
          "line": {
           "color": "blue",
           "width": 1.5
          },
          "opacity": 0.6,
          "path": "M 0.000000, 134.000000 C 0.200000, 134.000000 0.800000, 697.000000 1.000000, 697.000000",
          "type": "path"
         },
         {
          "line": {
           "color": "blue",
           "width": 1.5
          },
          "opacity": 0.6,
          "path": "M 0.000000, 520.000000 C 0.200000, 520.000000 0.800000, 29.000000 1.000000, 29.000000",
          "type": "path"
         },
         {
          "line": {
           "color": "blue",
           "width": 1.5
          },
          "opacity": 0.6,
          "path": "M 0.000000, 302.000000 C 0.200000, 302.000000 0.800000, 744.000000 1.000000, 744.000000",
          "type": "path"
         },
         {
          "line": {
           "color": "blue",
           "width": 1.5
          },
          "opacity": 0.6,
          "path": "M 0.000000, 1215.000000 C 0.200000, 1215.000000 0.800000, 601.000000 1.000000, 601.000000",
          "type": "path"
         },
         {
          "line": {
           "color": "blue",
           "width": 1.5
          },
          "opacity": 0.6,
          "path": "M 0.000000, 58.000000 C 0.200000, 58.000000 0.800000, 312.000000 1.000000, 312.000000",
          "type": "path"
         },
         {
          "line": {
           "color": "blue",
           "width": 1.5
          },
          "opacity": 0.6,
          "path": "M 0.000000, 1029.000000 C 0.200000, 1029.000000 0.800000, 576.000000 1.000000, 576.000000",
          "type": "path"
         },
         {
          "line": {
           "color": "blue",
           "width": 1.5
          },
          "opacity": 0.6,
          "path": "M 0.000000, 492.000000 C 0.200000, 492.000000 0.800000, 530.000000 1.000000, 530.000000",
          "type": "path"
         },
         {
          "line": {
           "color": "blue",
           "width": 1.5
          },
          "opacity": 0.6,
          "path": "M 0.000000, 26.000000 C 0.200000, 26.000000 0.800000, 44.000000 1.000000, 44.000000",
          "type": "path"
         },
         {
          "line": {
           "color": "blue",
           "width": 1.5
          },
          "opacity": 0.6,
          "path": "M 0.000000, 1047.000000 C 0.200000, 1047.000000 0.800000, 498.000000 1.000000, 498.000000",
          "type": "path"
         },
         {
          "line": {
           "color": "blue",
           "width": 1.5
          },
          "opacity": 0.6,
          "path": "M 0.000000, 85.000000 C 0.200000, 85.000000 0.800000, 945.000000 1.000000, 945.000000",
          "type": "path"
         },
         {
          "line": {
           "color": "blue",
           "width": 1.5
          },
          "opacity": 0.6,
          "path": "M 0.000000, 440.000000 C 0.200000, 440.000000 0.800000, 963.000000 1.000000, 963.000000",
          "type": "path"
         },
         {
          "line": {
           "color": "blue",
           "width": 1.5
          },
          "opacity": 0.6,
          "path": "M 0.000000, 1001.000000 C 0.200000, 1001.000000 0.800000, 1231.000000 1.000000, 1231.000000",
          "type": "path"
         },
         {
          "line": {
           "color": "blue",
           "width": 1.5
          },
          "opacity": 0.6,
          "path": "M 0.000000, 210.000000 C 0.200000, 210.000000 0.800000, 801.000000 1.000000, 801.000000",
          "type": "path"
         },
         {
          "line": {
           "color": "blue",
           "width": 1.5
          },
          "opacity": 0.6,
          "path": "M 0.000000, 1254.000000 C 0.200000, 1254.000000 0.800000, 1040.000000 1.000000, 1040.000000",
          "type": "path"
         },
         {
          "line": {
           "color": "blue",
           "width": 1.5
          },
          "opacity": 0.6,
          "path": "M 0.000000, 152.000000 C 0.200000, 152.000000 0.800000, 681.000000 1.000000, 681.000000",
          "type": "path"
         },
         {
          "line": {
           "color": "blue",
           "width": 1.5
          },
          "opacity": 0.6,
          "path": "M 0.000000, 181.000000 C 0.200000, 181.000000 0.800000, 577.000000 1.000000, 577.000000",
          "type": "path"
         },
         {
          "line": {
           "color": "blue",
           "width": 1.5
          },
          "opacity": 0.6,
          "path": "M 0.000000, 962.000000 C 0.200000, 962.000000 0.800000, 479.000000 1.000000, 479.000000",
          "type": "path"
         },
         {
          "line": {
           "color": "blue",
           "width": 1.5
          },
          "opacity": 0.6,
          "path": "M 0.000000, 1176.000000 C 0.200000, 1176.000000 0.800000, 339.000000 1.000000, 339.000000",
          "type": "path"
         },
         {
          "line": {
           "color": "blue",
           "width": 1.5
          },
          "opacity": 0.6,
          "path": "M 0.000000, 303.000000 C 0.200000, 303.000000 0.800000, 850.000000 1.000000, 850.000000",
          "type": "path"
         },
         {
          "line": {
           "color": "blue",
           "width": 1.5
          },
          "opacity": 0.6,
          "path": "M 0.000000, 381.000000 C 0.200000, 381.000000 0.800000, 892.000000 1.000000, 892.000000",
          "type": "path"
         },
         {
          "line": {
           "color": "blue",
           "width": 1.5
          },
          "opacity": 0.6,
          "path": "M 0.000000, 1110.000000 C 0.200000, 1110.000000 0.800000, 1114.000000 1.000000, 1114.000000",
          "type": "path"
         },
         {
          "line": {
           "color": "blue",
           "width": 1.5
          },
          "opacity": 0.6,
          "path": "M 0.000000, 193.000000 C 0.200000, 193.000000 0.800000, 792.000000 1.000000, 792.000000",
          "type": "path"
         },
         {
          "line": {
           "color": "blue",
           "width": 1.5
          },
          "opacity": 0.6,
          "path": "M 0.000000, 825.000000 C 0.200000, 825.000000 0.800000, 560.000000 1.000000, 560.000000",
          "type": "path"
         },
         {
          "line": {
           "color": "blue",
           "width": 1.5
          },
          "opacity": 0.6,
          "path": "M 0.000000, 962.000000 C 0.200000, 962.000000 0.800000, 785.000000 1.000000, 785.000000",
          "type": "path"
         },
         {
          "line": {
           "color": "blue",
           "width": 1.5
          },
          "opacity": 0.6,
          "path": "M 0.000000, 43.000000 C 0.200000, 43.000000 0.800000, 993.000000 1.000000, 993.000000",
          "type": "path"
         },
         {
          "line": {
           "color": "blue",
           "width": 1.5
          },
          "opacity": 0.6,
          "path": "M 0.000000, 365.000000 C 0.200000, 365.000000 0.800000, 246.000000 1.000000, 246.000000",
          "type": "path"
         },
         {
          "line": {
           "color": "blue",
           "width": 1.5
          },
          "opacity": 0.6,
          "path": "M 0.000000, 946.000000 C 0.200000, 946.000000 0.800000, 1109.000000 1.000000, 1109.000000",
          "type": "path"
         },
         {
          "line": {
           "color": "blue",
           "width": 1.5
          },
          "opacity": 0.6,
          "path": "M 0.000000, 571.000000 C 0.200000, 571.000000 0.800000, 1123.000000 1.000000, 1123.000000",
          "type": "path"
         },
         {
          "line": {
           "color": "blue",
           "width": 1.5
          },
          "opacity": 0.6,
          "path": "M 0.000000, 7.000000 C 0.200000, 7.000000 0.800000, 1124.000000 1.000000, 1124.000000",
          "type": "path"
         },
         {
          "line": {
           "color": "blue",
           "width": 1.5
          },
          "opacity": 0.6,
          "path": "M 0.000000, 113.000000 C 0.200000, 113.000000 0.800000, 600.000000 1.000000, 600.000000",
          "type": "path"
         },
         {
          "line": {
           "color": "blue",
           "width": 1.5
          },
          "opacity": 0.6,
          "path": "M 0.000000, 465.000000 C 0.200000, 465.000000 0.800000, 359.000000 1.000000, 359.000000",
          "type": "path"
         },
         {
          "line": {
           "color": "blue",
           "width": 1.5
          },
          "opacity": 0.6,
          "path": "M 0.000000, 383.000000 C 0.200000, 383.000000 0.800000, 1113.000000 1.000000, 1113.000000",
          "type": "path"
         },
         {
          "line": {
           "color": "blue",
           "width": 1.5
          },
          "opacity": 0.6,
          "path": "M 0.000000, 659.000000 C 0.200000, 659.000000 0.800000, 634.000000 1.000000, 634.000000",
          "type": "path"
         },
         {
          "line": {
           "color": "blue",
           "width": 1.5
          },
          "opacity": 0.6,
          "path": "M 0.000000, 531.000000 C 0.200000, 531.000000 0.800000, 9.000000 1.000000, 9.000000",
          "type": "path"
         },
         {
          "line": {
           "color": "blue",
           "width": 1.5
          },
          "opacity": 0.6,
          "path": "M 0.000000, 1271.000000 C 0.200000, 1271.000000 0.800000, 817.000000 1.000000, 817.000000",
          "type": "path"
         },
         {
          "line": {
           "color": "blue",
           "width": 1.5
          },
          "opacity": 0.6,
          "path": "M 0.000000, 664.000000 C 0.200000, 664.000000 0.800000, 51.000000 1.000000, 51.000000",
          "type": "path"
         },
         {
          "line": {
           "color": "blue",
           "width": 1.5
          },
          "opacity": 0.6,
          "path": "M 0.000000, 1085.000000 C 0.200000, 1085.000000 0.800000, 392.000000 1.000000, 392.000000",
          "type": "path"
         },
         {
          "line": {
           "color": "blue",
           "width": 1.5
          },
          "opacity": 0.6,
          "path": "M 0.000000, 723.000000 C 0.200000, 723.000000 0.800000, 917.000000 1.000000, 917.000000",
          "type": "path"
         },
         {
          "line": {
           "color": "blue",
           "width": 1.5
          },
          "opacity": 0.6,
          "path": "M 0.000000, 843.000000 C 0.200000, 843.000000 0.800000, 38.000000 1.000000, 38.000000",
          "type": "path"
         },
         {
          "line": {
           "color": "blue",
           "width": 1.5
          },
          "opacity": 0.6,
          "path": "M 0.000000, 739.000000 C 0.200000, 739.000000 0.800000, 1277.000000 1.000000, 1277.000000",
          "type": "path"
         },
         {
          "line": {
           "color": "blue",
           "width": 1.5
          },
          "opacity": 0.6,
          "path": "M 0.000000, 1041.000000 C 0.200000, 1041.000000 0.800000, 924.000000 1.000000, 924.000000",
          "type": "path"
         },
         {
          "line": {
           "color": "blue",
           "width": 1.5
          },
          "opacity": 0.6,
          "path": "M 0.000000, 739.000000 C 0.200000, 739.000000 0.800000, 750.000000 1.000000, 750.000000",
          "type": "path"
         },
         {
          "line": {
           "color": "blue",
           "width": 1.5
          },
          "opacity": 0.6,
          "path": "M 0.000000, 1095.000000 C 0.200000, 1095.000000 0.800000, 138.000000 1.000000, 138.000000",
          "type": "path"
         },
         {
          "line": {
           "color": "blue",
           "width": 1.5
          },
          "opacity": 0.6,
          "path": "M 0.000000, 1115.000000 C 0.200000, 1115.000000 0.800000, 307.000000 1.000000, 307.000000",
          "type": "path"
         },
         {
          "line": {
           "color": "blue",
           "width": 1.5
          },
          "opacity": 0.6,
          "path": "M 0.000000, 208.000000 C 0.200000, 208.000000 0.800000, 119.000000 1.000000, 119.000000",
          "type": "path"
         },
         {
          "line": {
           "color": "blue",
           "width": 1.5
          },
          "opacity": 0.6,
          "path": "M 0.000000, 1076.000000 C 0.200000, 1076.000000 0.800000, 372.000000 1.000000, 372.000000",
          "type": "path"
         },
         {
          "line": {
           "color": "blue",
           "width": 1.5
          },
          "opacity": 0.6,
          "path": "M 0.000000, 78.000000 C 0.200000, 78.000000 0.800000, 887.000000 1.000000, 887.000000",
          "type": "path"
         },
         {
          "line": {
           "color": "blue",
           "width": 1.5
          },
          "opacity": 0.6,
          "path": "M 0.000000, 419.000000 C 0.200000, 419.000000 0.800000, 331.000000 1.000000, 331.000000",
          "type": "path"
         },
         {
          "line": {
           "color": "blue",
           "width": 1.5
          },
          "opacity": 0.6,
          "path": "M 0.000000, 943.000000 C 0.200000, 943.000000 0.800000, 751.000000 1.000000, 751.000000",
          "type": "path"
         },
         {
          "line": {
           "color": "blue",
           "width": 1.5
          },
          "opacity": 0.6,
          "path": "M 0.000000, 174.000000 C 0.200000, 174.000000 0.800000, 1210.000000 1.000000, 1210.000000",
          "type": "path"
         },
         {
          "line": {
           "color": "blue",
           "width": 1.5
          },
          "opacity": 0.6,
          "path": "M 0.000000, 83.000000 C 0.200000, 83.000000 0.800000, 1141.000000 1.000000, 1141.000000",
          "type": "path"
         },
         {
          "line": {
           "color": "blue",
           "width": 1.5
          },
          "opacity": 0.6,
          "path": "M 0.000000, 807.000000 C 0.200000, 807.000000 0.800000, 489.000000 1.000000, 489.000000",
          "type": "path"
         },
         {
          "line": {
           "color": "blue",
           "width": 1.5
          },
          "opacity": 0.6,
          "path": "M 0.000000, 1123.000000 C 0.200000, 1123.000000 0.800000, 1264.000000 1.000000, 1264.000000",
          "type": "path"
         },
         {
          "line": {
           "color": "blue",
           "width": 1.5
          },
          "opacity": 0.6,
          "path": "M 0.000000, 1035.000000 C 0.200000, 1035.000000 0.800000, 875.000000 1.000000, 875.000000",
          "type": "path"
         },
         {
          "line": {
           "color": "blue",
           "width": 1.5
          },
          "opacity": 0.6,
          "path": "M 0.000000, 1095.000000 C 0.200000, 1095.000000 0.800000, 1155.000000 1.000000, 1155.000000",
          "type": "path"
         },
         {
          "line": {
           "color": "blue",
           "width": 1.5
          },
          "opacity": 0.6,
          "path": "M 0.000000, 839.000000 C 0.200000, 839.000000 0.800000, 685.000000 1.000000, 685.000000",
          "type": "path"
         },
         {
          "line": {
           "color": "blue",
           "width": 1.5
          },
          "opacity": 0.6,
          "path": "M 0.000000, 996.000000 C 0.200000, 996.000000 0.800000, 1271.000000 1.000000, 1271.000000",
          "type": "path"
         },
         {
          "line": {
           "color": "blue",
           "width": 1.5
          },
          "opacity": 0.6,
          "path": "M 0.000000, 314.000000 C 0.200000, 314.000000 0.800000, 286.000000 1.000000, 286.000000",
          "type": "path"
         },
         {
          "line": {
           "color": "blue",
           "width": 1.5
          },
          "opacity": 0.6,
          "path": "M 0.000000, 394.000000 C 0.200000, 394.000000 0.800000, 812.000000 1.000000, 812.000000",
          "type": "path"
         },
         {
          "line": {
           "color": "blue",
           "width": 1.5
          },
          "opacity": 0.6,
          "path": "M 0.000000, 434.000000 C 0.200000, 434.000000 0.800000, 820.000000 1.000000, 820.000000",
          "type": "path"
         },
         {
          "line": {
           "color": "blue",
           "width": 1.5
          },
          "opacity": 0.6,
          "path": "M 0.000000, 605.000000 C 0.200000, 605.000000 0.800000, 404.000000 1.000000, 404.000000",
          "type": "path"
         },
         {
          "line": {
           "color": "blue",
           "width": 1.5
          },
          "opacity": 0.6,
          "path": "M 0.000000, 1058.000000 C 0.200000, 1058.000000 0.800000, 461.000000 1.000000, 461.000000",
          "type": "path"
         },
         {
          "line": {
           "color": "blue",
           "width": 1.5
          },
          "opacity": 0.6,
          "path": "M 0.000000, 716.000000 C 0.200000, 716.000000 0.800000, 245.000000 1.000000, 245.000000",
          "type": "path"
         },
         {
          "line": {
           "color": "blue",
           "width": 1.5
          },
          "opacity": 0.6,
          "path": "M 0.000000, 161.000000 C 0.200000, 161.000000 0.800000, 1017.000000 1.000000, 1017.000000",
          "type": "path"
         },
         {
          "line": {
           "color": "blue",
           "width": 1.5
          },
          "opacity": 0.6,
          "path": "M 0.000000, 540.000000 C 0.200000, 540.000000 0.800000, 1105.000000 1.000000, 1105.000000",
          "type": "path"
         },
         {
          "line": {
           "color": "blue",
           "width": 1.5
          },
          "opacity": 0.6,
          "path": "M 0.000000, 1018.000000 C 0.200000, 1018.000000 0.800000, 965.000000 1.000000, 965.000000",
          "type": "path"
         },
         {
          "line": {
           "color": "blue",
           "width": 1.5
          },
          "opacity": 0.6,
          "path": "M 0.000000, 662.000000 C 0.200000, 662.000000 0.800000, 318.000000 1.000000, 318.000000",
          "type": "path"
         },
         {
          "line": {
           "color": "blue",
           "width": 1.5
          },
          "opacity": 0.6,
          "path": "M 0.000000, 1180.000000 C 0.200000, 1180.000000 0.800000, 119.000000 1.000000, 119.000000",
          "type": "path"
         },
         {
          "line": {
           "color": "blue",
           "width": 1.5
          },
          "opacity": 0.6,
          "path": "M 0.000000, 85.000000 C 0.200000, 85.000000 0.800000, 187.000000 1.000000, 187.000000",
          "type": "path"
         },
         {
          "line": {
           "color": "blue",
           "width": 1.5
          },
          "opacity": 0.6,
          "path": "M 0.000000, 1047.000000 C 0.200000, 1047.000000 0.800000, 627.000000 1.000000, 627.000000",
          "type": "path"
         },
         {
          "line": {
           "color": "blue",
           "width": 1.5
          },
          "opacity": 0.6,
          "path": "M 0.000000, 324.000000 C 0.200000, 324.000000 0.800000, 626.000000 1.000000, 626.000000",
          "type": "path"
         },
         {
          "line": {
           "color": "blue",
           "width": 1.5
          },
          "opacity": 0.6,
          "path": "M 0.000000, 755.000000 C 0.200000, 755.000000 0.800000, 938.000000 1.000000, 938.000000",
          "type": "path"
         },
         {
          "line": {
           "color": "blue",
           "width": 1.5
          },
          "opacity": 0.6,
          "path": "M 0.000000, 211.000000 C 0.200000, 211.000000 0.800000, 225.000000 1.000000, 225.000000",
          "type": "path"
         },
         {
          "line": {
           "color": "blue",
           "width": 1.5
          },
          "opacity": 0.6,
          "path": "M 0.000000, 91.000000 C 0.200000, 91.000000 0.800000, 217.000000 1.000000, 217.000000",
          "type": "path"
         },
         {
          "line": {
           "color": "blue",
           "width": 1.5
          },
          "opacity": 0.6,
          "path": "M 0.000000, 298.000000 C 0.200000, 298.000000 0.800000, 663.000000 1.000000, 663.000000",
          "type": "path"
         },
         {
          "line": {
           "color": "blue",
           "width": 1.5
          },
          "opacity": 0.6,
          "path": "M 0.000000, 952.000000 C 0.200000, 952.000000 0.800000, 815.000000 1.000000, 815.000000",
          "type": "path"
         },
         {
          "line": {
           "color": "blue",
           "width": 1.5
          },
          "opacity": 0.6,
          "path": "M 0.000000, 1248.000000 C 0.200000, 1248.000000 0.800000, 193.000000 1.000000, 193.000000",
          "type": "path"
         },
         {
          "line": {
           "color": "blue",
           "width": 1.5
          },
          "opacity": 0.6,
          "path": "M 0.000000, 231.000000 C 0.200000, 231.000000 0.800000, 531.000000 1.000000, 531.000000",
          "type": "path"
         },
         {
          "line": {
           "color": "blue",
           "width": 1.5
          },
          "opacity": 0.6,
          "path": "M 0.000000, 970.000000 C 0.200000, 970.000000 0.800000, 651.000000 1.000000, 651.000000",
          "type": "path"
         },
         {
          "line": {
           "color": "blue",
           "width": 1.5
          },
          "opacity": 0.6,
          "path": "M 0.000000, 177.000000 C 0.200000, 177.000000 0.800000, 804.000000 1.000000, 804.000000",
          "type": "path"
         },
         {
          "line": {
           "color": "blue",
           "width": 1.5
          },
          "opacity": 0.6,
          "path": "M 0.000000, 875.000000 C 0.200000, 875.000000 0.800000, 408.000000 1.000000, 408.000000",
          "type": "path"
         },
         {
          "line": {
           "color": "blue",
           "width": 1.5
          },
          "opacity": 0.6,
          "path": "M 0.000000, 970.000000 C 0.200000, 970.000000 0.800000, 564.000000 1.000000, 564.000000",
          "type": "path"
         },
         {
          "line": {
           "color": "blue",
           "width": 1.5
          },
          "opacity": 0.6,
          "path": "M 0.000000, 967.000000 C 0.200000, 967.000000 0.800000, 891.000000 1.000000, 891.000000",
          "type": "path"
         },
         {
          "line": {
           "color": "blue",
           "width": 1.5
          },
          "opacity": 0.6,
          "path": "M 0.000000, 28.000000 C 0.200000, 28.000000 0.800000, 595.000000 1.000000, 595.000000",
          "type": "path"
         },
         {
          "line": {
           "color": "blue",
           "width": 1.5
          },
          "opacity": 0.6,
          "path": "M 0.000000, 888.000000 C 0.200000, 888.000000 0.800000, 514.000000 1.000000, 514.000000",
          "type": "path"
         },
         {
          "line": {
           "color": "blue",
           "width": 1.5
          },
          "opacity": 0.6,
          "path": "M 0.000000, 47.000000 C 0.200000, 47.000000 0.800000, 1038.000000 1.000000, 1038.000000",
          "type": "path"
         },
         {
          "line": {
           "color": "blue",
           "width": 1.5
          },
          "opacity": 0.6,
          "path": "M 0.000000, 231.000000 C 0.200000, 231.000000 0.800000, 1109.000000 1.000000, 1109.000000",
          "type": "path"
         },
         {
          "line": {
           "color": "blue",
           "width": 1.5
          },
          "opacity": 0.6,
          "path": "M 0.000000, 658.000000 C 0.200000, 658.000000 0.800000, 237.000000 1.000000, 237.000000",
          "type": "path"
         },
         {
          "line": {
           "color": "blue",
           "width": 1.5
          },
          "opacity": 0.6,
          "path": "M 0.000000, 319.000000 C 0.200000, 319.000000 0.800000, 42.000000 1.000000, 42.000000",
          "type": "path"
         },
         {
          "line": {
           "color": "blue",
           "width": 1.5
          },
          "opacity": 0.6,
          "path": "M 0.000000, 229.000000 C 0.200000, 229.000000 0.800000, 59.000000 1.000000, 59.000000",
          "type": "path"
         },
         {
          "line": {
           "color": "blue",
           "width": 1.5
          },
          "opacity": 0.6,
          "path": "M 0.000000, 980.000000 C 0.200000, 980.000000 0.800000, 1240.000000 1.000000, 1240.000000",
          "type": "path"
         },
         {
          "line": {
           "color": "blue",
           "width": 1.5
          },
          "opacity": 0.6,
          "path": "M 0.000000, 480.000000 C 0.200000, 480.000000 0.800000, 837.000000 1.000000, 837.000000",
          "type": "path"
         },
         {
          "line": {
           "color": "blue",
           "width": 1.5
          },
          "opacity": 0.6,
          "path": "M 0.000000, 805.000000 C 0.200000, 805.000000 0.800000, 1106.000000 1.000000, 1106.000000",
          "type": "path"
         },
         {
          "line": {
           "color": "blue",
           "width": 1.5
          },
          "opacity": 0.6,
          "path": "M 0.000000, 506.000000 C 0.200000, 506.000000 0.800000, 302.000000 1.000000, 302.000000",
          "type": "path"
         },
         {
          "line": {
           "color": "blue",
           "width": 1.5
          },
          "opacity": 0.6,
          "path": "M 0.000000, 169.000000 C 0.200000, 169.000000 0.800000, 541.000000 1.000000, 541.000000",
          "type": "path"
         },
         {
          "line": {
           "color": "blue",
           "width": 1.5
          },
          "opacity": 0.6,
          "path": "M 0.000000, 1214.000000 C 0.200000, 1214.000000 0.800000, 668.000000 1.000000, 668.000000",
          "type": "path"
         },
         {
          "line": {
           "color": "blue",
           "width": 1.5
          },
          "opacity": 0.6,
          "path": "M 0.000000, 1183.000000 C 0.200000, 1183.000000 0.800000, 1106.000000 1.000000, 1106.000000",
          "type": "path"
         },
         {
          "line": {
           "color": "blue",
           "width": 1.5
          },
          "opacity": 0.6,
          "path": "M 0.000000, 180.000000 C 0.200000, 180.000000 0.800000, 1232.000000 1.000000, 1232.000000",
          "type": "path"
         },
         {
          "line": {
           "color": "blue",
           "width": 1.5
          },
          "opacity": 0.6,
          "path": "M 0.000000, 735.000000 C 0.200000, 735.000000 0.800000, 301.000000 1.000000, 301.000000",
          "type": "path"
         },
         {
          "line": {
           "color": "blue",
           "width": 1.5
          },
          "opacity": 0.6,
          "path": "M 0.000000, 1077.000000 C 0.200000, 1077.000000 0.800000, 520.000000 1.000000, 520.000000",
          "type": "path"
         },
         {
          "line": {
           "color": "blue",
           "width": 1.5
          },
          "opacity": 0.6,
          "path": "M 0.000000, 337.000000 C 0.200000, 337.000000 0.800000, 98.000000 1.000000, 98.000000",
          "type": "path"
         },
         {
          "line": {
           "color": "blue",
           "width": 1.5
          },
          "opacity": 0.6,
          "path": "M 0.000000, 1122.000000 C 0.200000, 1122.000000 0.800000, 59.000000 1.000000, 59.000000",
          "type": "path"
         },
         {
          "line": {
           "color": "blue",
           "width": 1.5
          },
          "opacity": 0.6,
          "path": "M 0.000000, 630.000000 C 0.200000, 630.000000 0.800000, 231.000000 1.000000, 231.000000",
          "type": "path"
         },
         {
          "line": {
           "color": "blue",
           "width": 1.5
          },
          "opacity": 0.6,
          "path": "M 0.000000, 207.000000 C 0.200000, 207.000000 0.800000, 891.000000 1.000000, 891.000000",
          "type": "path"
         },
         {
          "line": {
           "color": "blue",
           "width": 1.5
          },
          "opacity": 0.6,
          "path": "M 0.000000, 1087.000000 C 0.200000, 1087.000000 0.800000, 534.000000 1.000000, 534.000000",
          "type": "path"
         },
         {
          "line": {
           "color": "blue",
           "width": 1.5
          },
          "opacity": 0.6,
          "path": "M 0.000000, 1171.000000 C 0.200000, 1171.000000 0.800000, 476.000000 1.000000, 476.000000",
          "type": "path"
         },
         {
          "line": {
           "color": "blue",
           "width": 1.5
          },
          "opacity": 0.6,
          "path": "M 0.000000, 327.000000 C 0.200000, 327.000000 0.800000, 947.000000 1.000000, 947.000000",
          "type": "path"
         },
         {
          "line": {
           "color": "blue",
           "width": 1.5
          },
          "opacity": 0.6,
          "path": "M 0.000000, 450.000000 C 0.200000, 450.000000 0.800000, 355.000000 1.000000, 355.000000",
          "type": "path"
         },
         {
          "line": {
           "color": "blue",
           "width": 1.5
          },
          "opacity": 0.6,
          "path": "M 0.000000, 1229.000000 C 0.200000, 1229.000000 0.800000, 535.000000 1.000000, 535.000000",
          "type": "path"
         },
         {
          "line": {
           "color": "blue",
           "width": 1.5
          },
          "opacity": 0.6,
          "path": "M 0.000000, 902.000000 C 0.200000, 902.000000 0.800000, 1074.000000 1.000000, 1074.000000",
          "type": "path"
         },
         {
          "line": {
           "color": "blue",
           "width": 1.5
          },
          "opacity": 0.6,
          "path": "M 0.000000, 635.000000 C 0.200000, 635.000000 0.800000, 1.000000 1.000000, 1.000000",
          "type": "path"
         },
         {
          "line": {
           "color": "blue",
           "width": 1.5
          },
          "opacity": 0.6,
          "path": "M 0.000000, 871.000000 C 0.200000, 871.000000 0.800000, 639.000000 1.000000, 639.000000",
          "type": "path"
         },
         {
          "line": {
           "color": "blue",
           "width": 1.5
          },
          "opacity": 0.6,
          "path": "M 0.000000, 1274.000000 C 0.200000, 1274.000000 0.800000, 83.000000 1.000000, 83.000000",
          "type": "path"
         },
         {
          "line": {
           "color": "blue",
           "width": 1.5
          },
          "opacity": 0.6,
          "path": "M 0.000000, 631.000000 C 0.200000, 631.000000 0.800000, 429.000000 1.000000, 429.000000",
          "type": "path"
         },
         {
          "line": {
           "color": "blue",
           "width": 1.5
          },
          "opacity": 0.6,
          "path": "M 0.000000, 624.000000 C 0.200000, 624.000000 0.800000, 141.000000 1.000000, 141.000000",
          "type": "path"
         },
         {
          "line": {
           "color": "blue",
           "width": 1.5
          },
          "opacity": 0.6,
          "path": "M 0.000000, 633.000000 C 0.200000, 633.000000 0.800000, 53.000000 1.000000, 53.000000",
          "type": "path"
         },
         {
          "line": {
           "color": "blue",
           "width": 1.5
          },
          "opacity": 0.6,
          "path": "M 0.000000, 209.000000 C 0.200000, 209.000000 0.800000, 1130.000000 1.000000, 1130.000000",
          "type": "path"
         },
         {
          "line": {
           "color": "blue",
           "width": 1.5
          },
          "opacity": 0.6,
          "path": "M 0.000000, 496.000000 C 0.200000, 496.000000 0.800000, 471.000000 1.000000, 471.000000",
          "type": "path"
         },
         {
          "line": {
           "color": "blue",
           "width": 1.5
          },
          "opacity": 0.6,
          "path": "M 0.000000, 46.000000 C 0.200000, 46.000000 0.800000, 432.000000 1.000000, 432.000000",
          "type": "path"
         },
         {
          "line": {
           "color": "blue",
           "width": 1.5
          },
          "opacity": 0.6,
          "path": "M 0.000000, 330.000000 C 0.200000, 330.000000 0.800000, 731.000000 1.000000, 731.000000",
          "type": "path"
         },
         {
          "line": {
           "color": "blue",
           "width": 1.5
          },
          "opacity": 0.6,
          "path": "M 0.000000, 434.000000 C 0.200000, 434.000000 0.800000, 612.000000 1.000000, 612.000000",
          "type": "path"
         },
         {
          "line": {
           "color": "blue",
           "width": 1.5
          },
          "opacity": 0.6,
          "path": "M 0.000000, 356.000000 C 0.200000, 356.000000 0.800000, 712.000000 1.000000, 712.000000",
          "type": "path"
         },
         {
          "line": {
           "color": "blue",
           "width": 1.5
          },
          "opacity": 0.6,
          "path": "M 0.000000, 568.000000 C 0.200000, 568.000000 0.800000, 175.000000 1.000000, 175.000000",
          "type": "path"
         },
         {
          "line": {
           "color": "blue",
           "width": 1.5
          },
          "opacity": 0.6,
          "path": "M 0.000000, 292.000000 C 0.200000, 292.000000 0.800000, 617.000000 1.000000, 617.000000",
          "type": "path"
         },
         {
          "line": {
           "color": "blue",
           "width": 1.5
          },
          "opacity": 0.6,
          "path": "M 0.000000, 975.000000 C 0.200000, 975.000000 0.800000, 613.000000 1.000000, 613.000000",
          "type": "path"
         },
         {
          "line": {
           "color": "blue",
           "width": 1.5
          },
          "opacity": 0.6,
          "path": "M 0.000000, 893.000000 C 0.200000, 893.000000 0.800000, 717.000000 1.000000, 717.000000",
          "type": "path"
         },
         {
          "line": {
           "color": "blue",
           "width": 1.5
          },
          "opacity": 0.6,
          "path": "M 0.000000, 180.000000 C 0.200000, 180.000000 0.800000, 693.000000 1.000000, 693.000000",
          "type": "path"
         },
         {
          "line": {
           "color": "blue",
           "width": 1.5
          },
          "opacity": 0.6,
          "path": "M 0.000000, 2.000000 C 0.200000, 2.000000 0.800000, 1077.000000 1.000000, 1077.000000",
          "type": "path"
         },
         {
          "line": {
           "color": "blue",
           "width": 1.5
          },
          "opacity": 0.6,
          "path": "M 0.000000, 11.000000 C 0.200000, 11.000000 0.800000, 323.000000 1.000000, 323.000000",
          "type": "path"
         },
         {
          "line": {
           "color": "blue",
           "width": 1.5
          },
          "opacity": 0.6,
          "path": "M 0.000000, 310.000000 C 0.200000, 310.000000 0.800000, 805.000000 1.000000, 805.000000",
          "type": "path"
         },
         {
          "line": {
           "color": "blue",
           "width": 1.5
          },
          "opacity": 0.6,
          "path": "M 0.000000, 171.000000 C 0.200000, 171.000000 0.800000, 285.000000 1.000000, 285.000000",
          "type": "path"
         },
         {
          "line": {
           "color": "blue",
           "width": 1.5
          },
          "opacity": 0.6,
          "path": "M 0.000000, 514.000000 C 0.200000, 514.000000 0.800000, 564.000000 1.000000, 564.000000",
          "type": "path"
         },
         {
          "line": {
           "color": "blue",
           "width": 1.5
          },
          "opacity": 0.6,
          "path": "M 0.000000, 33.000000 C 0.200000, 33.000000 0.800000, 350.000000 1.000000, 350.000000",
          "type": "path"
         },
         {
          "line": {
           "color": "blue",
           "width": 1.5
          },
          "opacity": 0.6,
          "path": "M 0.000000, 348.000000 C 0.200000, 348.000000 0.800000, 580.000000 1.000000, 580.000000",
          "type": "path"
         },
         {
          "line": {
           "color": "blue",
           "width": 1.5
          },
          "opacity": 0.6,
          "path": "M 0.000000, 756.000000 C 0.200000, 756.000000 0.800000, 227.000000 1.000000, 227.000000",
          "type": "path"
         },
         {
          "line": {
           "color": "blue",
           "width": 1.5
          },
          "opacity": 0.6,
          "path": "M 0.000000, 448.000000 C 0.200000, 448.000000 0.800000, 1131.000000 1.000000, 1131.000000",
          "type": "path"
         },
         {
          "line": {
           "color": "blue",
           "width": 1.5
          },
          "opacity": 0.6,
          "path": "M 0.000000, 330.000000 C 0.200000, 330.000000 0.800000, 1019.000000 1.000000, 1019.000000",
          "type": "path"
         },
         {
          "line": {
           "color": "blue",
           "width": 1.5
          },
          "opacity": 0.6,
          "path": "M 0.000000, 838.000000 C 0.200000, 838.000000 0.800000, 964.000000 1.000000, 964.000000",
          "type": "path"
         },
         {
          "line": {
           "color": "blue",
           "width": 1.5
          },
          "opacity": 0.6,
          "path": "M 0.000000, 759.000000 C 0.200000, 759.000000 0.800000, 290.000000 1.000000, 290.000000",
          "type": "path"
         },
         {
          "line": {
           "color": "blue",
           "width": 1.5
          },
          "opacity": 0.6,
          "path": "M 0.000000, 477.000000 C 0.200000, 477.000000 0.800000, 383.000000 1.000000, 383.000000",
          "type": "path"
         },
         {
          "line": {
           "color": "blue",
           "width": 1.5
          },
          "opacity": 0.6,
          "path": "M 0.000000, 670.000000 C 0.200000, 670.000000 0.800000, 255.000000 1.000000, 255.000000",
          "type": "path"
         },
         {
          "line": {
           "color": "blue",
           "width": 1.5
          },
          "opacity": 0.6,
          "path": "M 0.000000, 913.000000 C 0.200000, 913.000000 0.800000, 923.000000 1.000000, 923.000000",
          "type": "path"
         },
         {
          "line": {
           "color": "blue",
           "width": 1.5
          },
          "opacity": 0.6,
          "path": "M 0.000000, 33.000000 C 0.200000, 33.000000 0.800000, 630.000000 1.000000, 630.000000",
          "type": "path"
         },
         {
          "line": {
           "color": "blue",
           "width": 1.5
          },
          "opacity": 0.6,
          "path": "M 0.000000, 143.000000 C 0.200000, 143.000000 0.800000, 165.000000 1.000000, 165.000000",
          "type": "path"
         },
         {
          "line": {
           "color": "blue",
           "width": 1.5
          },
          "opacity": 0.6,
          "path": "M 0.000000, 147.000000 C 0.200000, 147.000000 0.800000, 1072.000000 1.000000, 1072.000000",
          "type": "path"
         },
         {
          "line": {
           "color": "blue",
           "width": 1.5
          },
          "opacity": 0.6,
          "path": "M 0.000000, 978.000000 C 0.200000, 978.000000 0.800000, 32.000000 1.000000, 32.000000",
          "type": "path"
         },
         {
          "line": {
           "color": "blue",
           "width": 1.5
          },
          "opacity": 0.6,
          "path": "M 0.000000, 365.000000 C 0.200000, 365.000000 0.800000, 348.000000 1.000000, 348.000000",
          "type": "path"
         },
         {
          "line": {
           "color": "blue",
           "width": 1.5
          },
          "opacity": 0.6,
          "path": "M 0.000000, 277.000000 C 0.200000, 277.000000 0.800000, 187.000000 1.000000, 187.000000",
          "type": "path"
         },
         {
          "line": {
           "color": "blue",
           "width": 1.5
          },
          "opacity": 0.6,
          "path": "M 0.000000, 490.000000 C 0.200000, 490.000000 0.800000, 1074.000000 1.000000, 1074.000000",
          "type": "path"
         },
         {
          "line": {
           "color": "blue",
           "width": 1.5
          },
          "opacity": 0.6,
          "path": "M 0.000000, 1161.000000 C 0.200000, 1161.000000 0.800000, 470.000000 1.000000, 470.000000",
          "type": "path"
         },
         {
          "line": {
           "color": "blue",
           "width": 1.5
          },
          "opacity": 0.6,
          "path": "M 0.000000, 658.000000 C 0.200000, 658.000000 0.800000, 648.000000 1.000000, 648.000000",
          "type": "path"
         },
         {
          "line": {
           "color": "blue",
           "width": 1.5
          },
          "opacity": 0.6,
          "path": "M 0.000000, 1063.000000 C 0.200000, 1063.000000 0.800000, 604.000000 1.000000, 604.000000",
          "type": "path"
         },
         {
          "line": {
           "color": "blue",
           "width": 1.5
          },
          "opacity": 0.6,
          "path": "M 0.000000, 891.000000 C 0.200000, 891.000000 0.800000, 137.000000 1.000000, 137.000000",
          "type": "path"
         },
         {
          "line": {
           "color": "blue",
           "width": 1.5
          },
          "opacity": 0.6,
          "path": "M 0.000000, 664.000000 C 0.200000, 664.000000 0.800000, 114.000000 1.000000, 114.000000",
          "type": "path"
         },
         {
          "line": {
           "color": "blue",
           "width": 1.5
          },
          "opacity": 0.6,
          "path": "M 0.000000, 79.000000 C 0.200000, 79.000000 0.800000, 931.000000 1.000000, 931.000000",
          "type": "path"
         },
         {
          "line": {
           "color": "blue",
           "width": 1.5
          },
          "opacity": 0.6,
          "path": "M 0.000000, 456.000000 C 0.200000, 456.000000 0.800000, 118.000000 1.000000, 118.000000",
          "type": "path"
         },
         {
          "line": {
           "color": "blue",
           "width": 1.5
          },
          "opacity": 0.6,
          "path": "M 0.000000, 987.000000 C 0.200000, 987.000000 0.800000, 942.000000 1.000000, 942.000000",
          "type": "path"
         },
         {
          "line": {
           "color": "blue",
           "width": 1.5
          },
          "opacity": 0.6,
          "path": "M 0.000000, 1113.000000 C 0.200000, 1113.000000 0.800000, 150.000000 1.000000, 150.000000",
          "type": "path"
         },
         {
          "line": {
           "color": "blue",
           "width": 1.5
          },
          "opacity": 0.6,
          "path": "M 0.000000, 1083.000000 C 0.200000, 1083.000000 0.800000, 36.000000 1.000000, 36.000000",
          "type": "path"
         },
         {
          "line": {
           "color": "blue",
           "width": 1.5
          },
          "opacity": 0.6,
          "path": "M 0.000000, 713.000000 C 0.200000, 713.000000 0.800000, 763.000000 1.000000, 763.000000",
          "type": "path"
         },
         {
          "line": {
           "color": "blue",
           "width": 1.5
          },
          "opacity": 0.6,
          "path": "M 0.000000, 676.000000 C 0.200000, 676.000000 0.800000, 216.000000 1.000000, 216.000000",
          "type": "path"
         }
        ],
        "template": {
         "data": {
          "bar": [
           {
            "error_x": {
             "color": "#2a3f5f"
            },
            "error_y": {
             "color": "#2a3f5f"
            },
            "marker": {
             "line": {
              "color": "#E5ECF6",
              "width": 0.5
             }
            },
            "type": "bar"
           }
          ],
          "barpolar": [
           {
            "marker": {
             "line": {
              "color": "#E5ECF6",
              "width": 0.5
             }
            },
            "type": "barpolar"
           }
          ],
          "carpet": [
           {
            "aaxis": {
             "endlinecolor": "#2a3f5f",
             "gridcolor": "white",
             "linecolor": "white",
             "minorgridcolor": "white",
             "startlinecolor": "#2a3f5f"
            },
            "baxis": {
             "endlinecolor": "#2a3f5f",
             "gridcolor": "white",
             "linecolor": "white",
             "minorgridcolor": "white",
             "startlinecolor": "#2a3f5f"
            },
            "type": "carpet"
           }
          ],
          "choropleth": [
           {
            "colorbar": {
             "outlinewidth": 0,
             "ticks": ""
            },
            "type": "choropleth"
           }
          ],
          "contour": [
           {
            "colorbar": {
             "outlinewidth": 0,
             "ticks": ""
            },
            "colorscale": [
             [
              0,
              "#0d0887"
             ],
             [
              0.1111111111111111,
              "#46039f"
             ],
             [
              0.2222222222222222,
              "#7201a8"
             ],
             [
              0.3333333333333333,
              "#9c179e"
             ],
             [
              0.4444444444444444,
              "#bd3786"
             ],
             [
              0.5555555555555556,
              "#d8576b"
             ],
             [
              0.6666666666666666,
              "#ed7953"
             ],
             [
              0.7777777777777778,
              "#fb9f3a"
             ],
             [
              0.8888888888888888,
              "#fdca26"
             ],
             [
              1,
              "#f0f921"
             ]
            ],
            "type": "contour"
           }
          ],
          "contourcarpet": [
           {
            "colorbar": {
             "outlinewidth": 0,
             "ticks": ""
            },
            "type": "contourcarpet"
           }
          ],
          "heatmap": [
           {
            "colorbar": {
             "outlinewidth": 0,
             "ticks": ""
            },
            "colorscale": [
             [
              0,
              "#0d0887"
             ],
             [
              0.1111111111111111,
              "#46039f"
             ],
             [
              0.2222222222222222,
              "#7201a8"
             ],
             [
              0.3333333333333333,
              "#9c179e"
             ],
             [
              0.4444444444444444,
              "#bd3786"
             ],
             [
              0.5555555555555556,
              "#d8576b"
             ],
             [
              0.6666666666666666,
              "#ed7953"
             ],
             [
              0.7777777777777778,
              "#fb9f3a"
             ],
             [
              0.8888888888888888,
              "#fdca26"
             ],
             [
              1,
              "#f0f921"
             ]
            ],
            "type": "heatmap"
           }
          ],
          "heatmapgl": [
           {
            "colorbar": {
             "outlinewidth": 0,
             "ticks": ""
            },
            "colorscale": [
             [
              0,
              "#0d0887"
             ],
             [
              0.1111111111111111,
              "#46039f"
             ],
             [
              0.2222222222222222,
              "#7201a8"
             ],
             [
              0.3333333333333333,
              "#9c179e"
             ],
             [
              0.4444444444444444,
              "#bd3786"
             ],
             [
              0.5555555555555556,
              "#d8576b"
             ],
             [
              0.6666666666666666,
              "#ed7953"
             ],
             [
              0.7777777777777778,
              "#fb9f3a"
             ],
             [
              0.8888888888888888,
              "#fdca26"
             ],
             [
              1,
              "#f0f921"
             ]
            ],
            "type": "heatmapgl"
           }
          ],
          "histogram": [
           {
            "marker": {
             "colorbar": {
              "outlinewidth": 0,
              "ticks": ""
             }
            },
            "type": "histogram"
           }
          ],
          "histogram2d": [
           {
            "colorbar": {
             "outlinewidth": 0,
             "ticks": ""
            },
            "colorscale": [
             [
              0,
              "#0d0887"
             ],
             [
              0.1111111111111111,
              "#46039f"
             ],
             [
              0.2222222222222222,
              "#7201a8"
             ],
             [
              0.3333333333333333,
              "#9c179e"
             ],
             [
              0.4444444444444444,
              "#bd3786"
             ],
             [
              0.5555555555555556,
              "#d8576b"
             ],
             [
              0.6666666666666666,
              "#ed7953"
             ],
             [
              0.7777777777777778,
              "#fb9f3a"
             ],
             [
              0.8888888888888888,
              "#fdca26"
             ],
             [
              1,
              "#f0f921"
             ]
            ],
            "type": "histogram2d"
           }
          ],
          "histogram2dcontour": [
           {
            "colorbar": {
             "outlinewidth": 0,
             "ticks": ""
            },
            "colorscale": [
             [
              0,
              "#0d0887"
             ],
             [
              0.1111111111111111,
              "#46039f"
             ],
             [
              0.2222222222222222,
              "#7201a8"
             ],
             [
              0.3333333333333333,
              "#9c179e"
             ],
             [
              0.4444444444444444,
              "#bd3786"
             ],
             [
              0.5555555555555556,
              "#d8576b"
             ],
             [
              0.6666666666666666,
              "#ed7953"
             ],
             [
              0.7777777777777778,
              "#fb9f3a"
             ],
             [
              0.8888888888888888,
              "#fdca26"
             ],
             [
              1,
              "#f0f921"
             ]
            ],
            "type": "histogram2dcontour"
           }
          ],
          "mesh3d": [
           {
            "colorbar": {
             "outlinewidth": 0,
             "ticks": ""
            },
            "type": "mesh3d"
           }
          ],
          "parcoords": [
           {
            "line": {
             "colorbar": {
              "outlinewidth": 0,
              "ticks": ""
             }
            },
            "type": "parcoords"
           }
          ],
          "pie": [
           {
            "automargin": true,
            "type": "pie"
           }
          ],
          "scatter": [
           {
            "marker": {
             "colorbar": {
              "outlinewidth": 0,
              "ticks": ""
             }
            },
            "type": "scatter"
           }
          ],
          "scatter3d": [
           {
            "line": {
             "colorbar": {
              "outlinewidth": 0,
              "ticks": ""
             }
            },
            "marker": {
             "colorbar": {
              "outlinewidth": 0,
              "ticks": ""
             }
            },
            "type": "scatter3d"
           }
          ],
          "scattercarpet": [
           {
            "marker": {
             "colorbar": {
              "outlinewidth": 0,
              "ticks": ""
             }
            },
            "type": "scattercarpet"
           }
          ],
          "scattergeo": [
           {
            "marker": {
             "colorbar": {
              "outlinewidth": 0,
              "ticks": ""
             }
            },
            "type": "scattergeo"
           }
          ],
          "scattergl": [
           {
            "marker": {
             "colorbar": {
              "outlinewidth": 0,
              "ticks": ""
             }
            },
            "type": "scattergl"
           }
          ],
          "scattermapbox": [
           {
            "marker": {
             "colorbar": {
              "outlinewidth": 0,
              "ticks": ""
             }
            },
            "type": "scattermapbox"
           }
          ],
          "scatterpolar": [
           {
            "marker": {
             "colorbar": {
              "outlinewidth": 0,
              "ticks": ""
             }
            },
            "type": "scatterpolar"
           }
          ],
          "scatterpolargl": [
           {
            "marker": {
             "colorbar": {
              "outlinewidth": 0,
              "ticks": ""
             }
            },
            "type": "scatterpolargl"
           }
          ],
          "scatterternary": [
           {
            "marker": {
             "colorbar": {
              "outlinewidth": 0,
              "ticks": ""
             }
            },
            "type": "scatterternary"
           }
          ],
          "surface": [
           {
            "colorbar": {
             "outlinewidth": 0,
             "ticks": ""
            },
            "colorscale": [
             [
              0,
              "#0d0887"
             ],
             [
              0.1111111111111111,
              "#46039f"
             ],
             [
              0.2222222222222222,
              "#7201a8"
             ],
             [
              0.3333333333333333,
              "#9c179e"
             ],
             [
              0.4444444444444444,
              "#bd3786"
             ],
             [
              0.5555555555555556,
              "#d8576b"
             ],
             [
              0.6666666666666666,
              "#ed7953"
             ],
             [
              0.7777777777777778,
              "#fb9f3a"
             ],
             [
              0.8888888888888888,
              "#fdca26"
             ],
             [
              1,
              "#f0f921"
             ]
            ],
            "type": "surface"
           }
          ],
          "table": [
           {
            "cells": {
             "fill": {
              "color": "#EBF0F8"
             },
             "line": {
              "color": "white"
             }
            },
            "header": {
             "fill": {
              "color": "#C8D4E3"
             },
             "line": {
              "color": "white"
             }
            },
            "type": "table"
           }
          ]
         },
         "layout": {
          "annotationdefaults": {
           "arrowcolor": "#2a3f5f",
           "arrowhead": 0,
           "arrowwidth": 1
          },
          "coloraxis": {
           "colorbar": {
            "outlinewidth": 0,
            "ticks": ""
           }
          },
          "colorscale": {
           "diverging": [
            [
             0,
             "#8e0152"
            ],
            [
             0.1,
             "#c51b7d"
            ],
            [
             0.2,
             "#de77ae"
            ],
            [
             0.3,
             "#f1b6da"
            ],
            [
             0.4,
             "#fde0ef"
            ],
            [
             0.5,
             "#f7f7f7"
            ],
            [
             0.6,
             "#e6f5d0"
            ],
            [
             0.7,
             "#b8e186"
            ],
            [
             0.8,
             "#7fbc41"
            ],
            [
             0.9,
             "#4d9221"
            ],
            [
             1,
             "#276419"
            ]
           ],
           "sequential": [
            [
             0,
             "#0d0887"
            ],
            [
             0.1111111111111111,
             "#46039f"
            ],
            [
             0.2222222222222222,
             "#7201a8"
            ],
            [
             0.3333333333333333,
             "#9c179e"
            ],
            [
             0.4444444444444444,
             "#bd3786"
            ],
            [
             0.5555555555555556,
             "#d8576b"
            ],
            [
             0.6666666666666666,
             "#ed7953"
            ],
            [
             0.7777777777777778,
             "#fb9f3a"
            ],
            [
             0.8888888888888888,
             "#fdca26"
            ],
            [
             1,
             "#f0f921"
            ]
           ],
           "sequentialminus": [
            [
             0,
             "#0d0887"
            ],
            [
             0.1111111111111111,
             "#46039f"
            ],
            [
             0.2222222222222222,
             "#7201a8"
            ],
            [
             0.3333333333333333,
             "#9c179e"
            ],
            [
             0.4444444444444444,
             "#bd3786"
            ],
            [
             0.5555555555555556,
             "#d8576b"
            ],
            [
             0.6666666666666666,
             "#ed7953"
            ],
            [
             0.7777777777777778,
             "#fb9f3a"
            ],
            [
             0.8888888888888888,
             "#fdca26"
            ],
            [
             1,
             "#f0f921"
            ]
           ]
          },
          "colorway": [
           "#636efa",
           "#EF553B",
           "#00cc96",
           "#ab63fa",
           "#FFA15A",
           "#19d3f3",
           "#FF6692",
           "#B6E880",
           "#FF97FF",
           "#FECB52"
          ],
          "font": {
           "color": "#2a3f5f"
          },
          "geo": {
           "bgcolor": "white",
           "lakecolor": "white",
           "landcolor": "#E5ECF6",
           "showlakes": true,
           "showland": true,
           "subunitcolor": "white"
          },
          "hoverlabel": {
           "align": "left"
          },
          "hovermode": "closest",
          "mapbox": {
           "style": "light"
          },
          "paper_bgcolor": "white",
          "plot_bgcolor": "#E5ECF6",
          "polar": {
           "angularaxis": {
            "gridcolor": "white",
            "linecolor": "white",
            "ticks": ""
           },
           "bgcolor": "#E5ECF6",
           "radialaxis": {
            "gridcolor": "white",
            "linecolor": "white",
            "ticks": ""
           }
          },
          "scene": {
           "xaxis": {
            "backgroundcolor": "#E5ECF6",
            "gridcolor": "white",
            "gridwidth": 2,
            "linecolor": "white",
            "showbackground": true,
            "ticks": "",
            "zerolinecolor": "white"
           },
           "yaxis": {
            "backgroundcolor": "#E5ECF6",
            "gridcolor": "white",
            "gridwidth": 2,
            "linecolor": "white",
            "showbackground": true,
            "ticks": "",
            "zerolinecolor": "white"
           },
           "zaxis": {
            "backgroundcolor": "#E5ECF6",
            "gridcolor": "white",
            "gridwidth": 2,
            "linecolor": "white",
            "showbackground": true,
            "ticks": "",
            "zerolinecolor": "white"
           }
          },
          "shapedefaults": {
           "line": {
            "color": "#2a3f5f"
           }
          },
          "ternary": {
           "aaxis": {
            "gridcolor": "white",
            "linecolor": "white",
            "ticks": ""
           },
           "baxis": {
            "gridcolor": "white",
            "linecolor": "white",
            "ticks": ""
           },
           "bgcolor": "#E5ECF6",
           "caxis": {
            "gridcolor": "white",
            "linecolor": "white",
            "ticks": ""
           }
          },
          "title": {
           "x": 0.05
          },
          "xaxis": {
           "automargin": true,
           "gridcolor": "white",
           "linecolor": "white",
           "ticks": "",
           "title": {
            "standoff": 15
           },
           "zerolinecolor": "white",
           "zerolinewidth": 2
          },
          "yaxis": {
           "automargin": true,
           "gridcolor": "white",
           "linecolor": "white",
           "ticks": "",
           "title": {
            "standoff": 15
           },
           "zerolinecolor": "white",
           "zerolinewidth": 2
          }
         }
        }
       }
      },
      "text/html": [
       "<div>\n",
       "        \n",
       "        \n",
       "            <div id=\"494469c4-b8e0-44c5-8e7c-6365d5f459b6\" class=\"plotly-graph-div\" style=\"height:525px; width:100%;\"></div>\n",
       "            <script type=\"text/javascript\">\n",
       "                require([\"plotly\"], function(Plotly) {\n",
       "                    window.PLOTLYENV=window.PLOTLYENV || {};\n",
       "                    \n",
       "                if (document.getElementById(\"494469c4-b8e0-44c5-8e7c-6365d5f459b6\")) {\n",
       "                    Plotly.newPlot(\n",
       "                        '494469c4-b8e0-44c5-8e7c-6365d5f459b6',\n",
       "                        [{\"type\": \"scatter\", \"x\": [0, 1], \"y\": [0, 1]}],\n",
       "                        {\"shapes\": [{\"line\": {\"color\": \"blue\", \"width\": 1.5}, \"opacity\": 0.6, \"path\": \"M 0.000000, 229.000000 C 0.200000, 229.000000 0.800000, 1031.000000 1.000000, 1031.000000\", \"type\": \"path\"}, {\"line\": {\"color\": \"blue\", \"width\": 1.5}, \"opacity\": 0.6, \"path\": \"M 0.000000, 470.000000 C 0.200000, 470.000000 0.800000, 38.000000 1.000000, 38.000000\", \"type\": \"path\"}, {\"line\": {\"color\": \"blue\", \"width\": 1.5}, \"opacity\": 0.6, \"path\": \"M 0.000000, 1105.000000 C 0.200000, 1105.000000 0.800000, 559.000000 1.000000, 559.000000\", \"type\": \"path\"}, {\"line\": {\"color\": \"blue\", \"width\": 1.5}, \"opacity\": 0.6, \"path\": \"M 0.000000, 1041.000000 C 0.200000, 1041.000000 0.800000, 107.000000 1.000000, 107.000000\", \"type\": \"path\"}, {\"line\": {\"color\": \"blue\", \"width\": 1.5}, \"opacity\": 0.6, \"path\": \"M 0.000000, 578.000000 C 0.200000, 578.000000 0.800000, 688.000000 1.000000, 688.000000\", \"type\": \"path\"}, {\"line\": {\"color\": \"blue\", \"width\": 1.5}, \"opacity\": 0.6, \"path\": \"M 0.000000, 654.000000 C 0.200000, 654.000000 0.800000, 36.000000 1.000000, 36.000000\", \"type\": \"path\"}, {\"line\": {\"color\": \"blue\", \"width\": 1.5}, \"opacity\": 0.6, \"path\": \"M 0.000000, 915.000000 C 0.200000, 915.000000 0.800000, 67.000000 1.000000, 67.000000\", \"type\": \"path\"}, {\"line\": {\"color\": \"blue\", \"width\": 1.5}, \"opacity\": 0.6, \"path\": \"M 0.000000, 41.000000 C 0.200000, 41.000000 0.800000, 310.000000 1.000000, 310.000000\", \"type\": \"path\"}, {\"line\": {\"color\": \"blue\", \"width\": 1.5}, \"opacity\": 0.6, \"path\": \"M 0.000000, 1194.000000 C 0.200000, 1194.000000 0.800000, 218.000000 1.000000, 218.000000\", \"type\": \"path\"}, {\"line\": {\"color\": \"blue\", \"width\": 1.5}, \"opacity\": 0.6, \"path\": \"M 0.000000, 928.000000 C 0.200000, 928.000000 0.800000, 1076.000000 1.000000, 1076.000000\", \"type\": \"path\"}, {\"line\": {\"color\": \"blue\", \"width\": 1.5}, \"opacity\": 0.6, \"path\": \"M 0.000000, 272.000000 C 0.200000, 272.000000 0.800000, 0.000000 1.000000, 0.000000\", \"type\": \"path\"}, {\"line\": {\"color\": \"blue\", \"width\": 1.5}, \"opacity\": 0.6, \"path\": \"M 0.000000, 1241.000000 C 0.200000, 1241.000000 0.800000, 1041.000000 1.000000, 1041.000000\", \"type\": \"path\"}, {\"line\": {\"color\": \"blue\", \"width\": 1.5}, \"opacity\": 0.6, \"path\": \"M 0.000000, 37.000000 C 0.200000, 37.000000 0.800000, 145.000000 1.000000, 145.000000\", \"type\": \"path\"}, {\"line\": {\"color\": \"blue\", \"width\": 1.5}, \"opacity\": 0.6, \"path\": \"M 0.000000, 1193.000000 C 0.200000, 1193.000000 0.800000, 655.000000 1.000000, 655.000000\", \"type\": \"path\"}, {\"line\": {\"color\": \"blue\", \"width\": 1.5}, \"opacity\": 0.6, \"path\": \"M 0.000000, 1265.000000 C 0.200000, 1265.000000 0.800000, 400.000000 1.000000, 400.000000\", \"type\": \"path\"}, {\"line\": {\"color\": \"blue\", \"width\": 1.5}, \"opacity\": 0.6, \"path\": \"M 0.000000, 1082.000000 C 0.200000, 1082.000000 0.800000, 406.000000 1.000000, 406.000000\", \"type\": \"path\"}, {\"line\": {\"color\": \"blue\", \"width\": 1.5}, \"opacity\": 0.6, \"path\": \"M 0.000000, 985.000000 C 0.200000, 985.000000 0.800000, 132.000000 1.000000, 132.000000\", \"type\": \"path\"}, {\"line\": {\"color\": \"blue\", \"width\": 1.5}, \"opacity\": 0.6, \"path\": \"M 0.000000, 1256.000000 C 0.200000, 1256.000000 0.800000, 780.000000 1.000000, 780.000000\", \"type\": \"path\"}, {\"line\": {\"color\": \"blue\", \"width\": 1.5}, \"opacity\": 0.6, \"path\": \"M 0.000000, 410.000000 C 0.200000, 410.000000 0.800000, 928.000000 1.000000, 928.000000\", \"type\": \"path\"}, {\"line\": {\"color\": \"blue\", \"width\": 1.5}, \"opacity\": 0.6, \"path\": \"M 0.000000, 514.000000 C 0.200000, 514.000000 0.800000, 1270.000000 1.000000, 1270.000000\", \"type\": \"path\"}, {\"line\": {\"color\": \"blue\", \"width\": 1.5}, \"opacity\": 0.6, \"path\": \"M 0.000000, 157.000000 C 0.200000, 157.000000 0.800000, 1263.000000 1.000000, 1263.000000\", \"type\": \"path\"}, {\"line\": {\"color\": \"blue\", \"width\": 1.5}, \"opacity\": 0.6, \"path\": \"M 0.000000, 1080.000000 C 0.200000, 1080.000000 0.800000, 647.000000 1.000000, 647.000000\", \"type\": \"path\"}, {\"line\": {\"color\": \"blue\", \"width\": 1.5}, \"opacity\": 0.6, \"path\": \"M 0.000000, 74.000000 C 0.200000, 74.000000 0.800000, 1229.000000 1.000000, 1229.000000\", \"type\": \"path\"}, {\"line\": {\"color\": \"blue\", \"width\": 1.5}, \"opacity\": 0.6, \"path\": \"M 0.000000, 68.000000 C 0.200000, 68.000000 0.800000, 1162.000000 1.000000, 1162.000000\", \"type\": \"path\"}, {\"line\": {\"color\": \"blue\", \"width\": 1.5}, \"opacity\": 0.6, \"path\": \"M 0.000000, 982.000000 C 0.200000, 982.000000 0.800000, 1271.000000 1.000000, 1271.000000\", \"type\": \"path\"}, {\"line\": {\"color\": \"blue\", \"width\": 1.5}, \"opacity\": 0.6, \"path\": \"M 0.000000, 895.000000 C 0.200000, 895.000000 0.800000, 910.000000 1.000000, 910.000000\", \"type\": \"path\"}, {\"line\": {\"color\": \"blue\", \"width\": 1.5}, \"opacity\": 0.6, \"path\": \"M 0.000000, 175.000000 C 0.200000, 175.000000 0.800000, 1217.000000 1.000000, 1217.000000\", \"type\": \"path\"}, {\"line\": {\"color\": \"blue\", \"width\": 1.5}, \"opacity\": 0.6, \"path\": \"M 0.000000, 393.000000 C 0.200000, 393.000000 0.800000, 489.000000 1.000000, 489.000000\", \"type\": \"path\"}, {\"line\": {\"color\": \"blue\", \"width\": 1.5}, \"opacity\": 0.6, \"path\": \"M 0.000000, 76.000000 C 0.200000, 76.000000 0.800000, 754.000000 1.000000, 754.000000\", \"type\": \"path\"}, {\"line\": {\"color\": \"blue\", \"width\": 1.5}, \"opacity\": 0.6, \"path\": \"M 0.000000, 78.000000 C 0.200000, 78.000000 0.800000, 322.000000 1.000000, 322.000000\", \"type\": \"path\"}, {\"line\": {\"color\": \"blue\", \"width\": 1.5}, \"opacity\": 0.6, \"path\": \"M 0.000000, 1015.000000 C 0.200000, 1015.000000 0.800000, 215.000000 1.000000, 215.000000\", \"type\": \"path\"}, {\"line\": {\"color\": \"blue\", \"width\": 1.5}, \"opacity\": 0.6, \"path\": \"M 0.000000, 70.000000 C 0.200000, 70.000000 0.800000, 705.000000 1.000000, 705.000000\", \"type\": \"path\"}, {\"line\": {\"color\": \"blue\", \"width\": 1.5}, \"opacity\": 0.6, \"path\": \"M 0.000000, 188.000000 C 0.200000, 188.000000 0.800000, 692.000000 1.000000, 692.000000\", \"type\": \"path\"}, {\"line\": {\"color\": \"blue\", \"width\": 1.5}, \"opacity\": 0.6, \"path\": \"M 0.000000, 675.000000 C 0.200000, 675.000000 0.800000, 1153.000000 1.000000, 1153.000000\", \"type\": \"path\"}, {\"line\": {\"color\": \"blue\", \"width\": 1.5}, \"opacity\": 0.6, \"path\": \"M 0.000000, 779.000000 C 0.200000, 779.000000 0.800000, 934.000000 1.000000, 934.000000\", \"type\": \"path\"}, {\"line\": {\"color\": \"blue\", \"width\": 1.5}, \"opacity\": 0.6, \"path\": \"M 0.000000, 595.000000 C 0.200000, 595.000000 0.800000, 873.000000 1.000000, 873.000000\", \"type\": \"path\"}, {\"line\": {\"color\": \"blue\", \"width\": 1.5}, \"opacity\": 0.6, \"path\": \"M 0.000000, 349.000000 C 0.200000, 349.000000 0.800000, 897.000000 1.000000, 897.000000\", \"type\": \"path\"}, {\"line\": {\"color\": \"blue\", \"width\": 1.5}, \"opacity\": 0.6, \"path\": \"M 0.000000, 1233.000000 C 0.200000, 1233.000000 0.800000, 829.000000 1.000000, 829.000000\", \"type\": \"path\"}, {\"line\": {\"color\": \"blue\", \"width\": 1.5}, \"opacity\": 0.6, \"path\": \"M 0.000000, 88.000000 C 0.200000, 88.000000 0.800000, 633.000000 1.000000, 633.000000\", \"type\": \"path\"}, {\"line\": {\"color\": \"blue\", \"width\": 1.5}, \"opacity\": 0.6, \"path\": \"M 0.000000, 433.000000 C 0.200000, 433.000000 0.800000, 589.000000 1.000000, 589.000000\", \"type\": \"path\"}, {\"line\": {\"color\": \"blue\", \"width\": 1.5}, \"opacity\": 0.6, \"path\": \"M 0.000000, 1003.000000 C 0.200000, 1003.000000 0.800000, 444.000000 1.000000, 444.000000\", \"type\": \"path\"}, {\"line\": {\"color\": \"blue\", \"width\": 1.5}, \"opacity\": 0.6, \"path\": \"M 0.000000, 927.000000 C 0.200000, 927.000000 0.800000, 111.000000 1.000000, 111.000000\", \"type\": \"path\"}, {\"line\": {\"color\": \"blue\", \"width\": 1.5}, \"opacity\": 0.6, \"path\": \"M 0.000000, 625.000000 C 0.200000, 625.000000 0.800000, 234.000000 1.000000, 234.000000\", \"type\": \"path\"}, {\"line\": {\"color\": \"blue\", \"width\": 1.5}, \"opacity\": 0.6, \"path\": \"M 0.000000, 721.000000 C 0.200000, 721.000000 0.800000, 153.000000 1.000000, 153.000000\", \"type\": \"path\"}, {\"line\": {\"color\": \"blue\", \"width\": 1.5}, \"opacity\": 0.6, \"path\": \"M 0.000000, 454.000000 C 0.200000, 454.000000 0.800000, 662.000000 1.000000, 662.000000\", \"type\": \"path\"}, {\"line\": {\"color\": \"blue\", \"width\": 1.5}, \"opacity\": 0.6, \"path\": \"M 0.000000, 985.000000 C 0.200000, 985.000000 0.800000, 54.000000 1.000000, 54.000000\", \"type\": \"path\"}, {\"line\": {\"color\": \"blue\", \"width\": 1.5}, \"opacity\": 0.6, \"path\": \"M 0.000000, 528.000000 C 0.200000, 528.000000 0.800000, 477.000000 1.000000, 477.000000\", \"type\": \"path\"}, {\"line\": {\"color\": \"blue\", \"width\": 1.5}, \"opacity\": 0.6, \"path\": \"M 0.000000, 364.000000 C 0.200000, 364.000000 0.800000, 312.000000 1.000000, 312.000000\", \"type\": \"path\"}, {\"line\": {\"color\": \"blue\", \"width\": 1.5}, \"opacity\": 0.6, \"path\": \"M 0.000000, 942.000000 C 0.200000, 942.000000 0.800000, 425.000000 1.000000, 425.000000\", \"type\": \"path\"}, {\"line\": {\"color\": \"blue\", \"width\": 1.5}, \"opacity\": 0.6, \"path\": \"M 0.000000, 374.000000 C 0.200000, 374.000000 0.800000, 345.000000 1.000000, 345.000000\", \"type\": \"path\"}, {\"line\": {\"color\": \"blue\", \"width\": 1.5}, \"opacity\": 0.6, \"path\": \"M 0.000000, 711.000000 C 0.200000, 711.000000 0.800000, 200.000000 1.000000, 200.000000\", \"type\": \"path\"}, {\"line\": {\"color\": \"blue\", \"width\": 1.5}, \"opacity\": 0.6, \"path\": \"M 0.000000, 680.000000 C 0.200000, 680.000000 0.800000, 284.000000 1.000000, 284.000000\", \"type\": \"path\"}, {\"line\": {\"color\": \"blue\", \"width\": 1.5}, \"opacity\": 0.6, \"path\": \"M 0.000000, 851.000000 C 0.200000, 851.000000 0.800000, 101.000000 1.000000, 101.000000\", \"type\": \"path\"}, {\"line\": {\"color\": \"blue\", \"width\": 1.5}, \"opacity\": 0.6, \"path\": \"M 0.000000, 877.000000 C 0.200000, 877.000000 0.800000, 52.000000 1.000000, 52.000000\", \"type\": \"path\"}, {\"line\": {\"color\": \"blue\", \"width\": 1.5}, \"opacity\": 0.6, \"path\": \"M 0.000000, 985.000000 C 0.200000, 985.000000 0.800000, 384.000000 1.000000, 384.000000\", \"type\": \"path\"}, {\"line\": {\"color\": \"blue\", \"width\": 1.5}, \"opacity\": 0.6, \"path\": \"M 0.000000, 1192.000000 C 0.200000, 1192.000000 0.800000, 1205.000000 1.000000, 1205.000000\", \"type\": \"path\"}, {\"line\": {\"color\": \"blue\", \"width\": 1.5}, \"opacity\": 0.6, \"path\": \"M 0.000000, 338.000000 C 0.200000, 338.000000 0.800000, 388.000000 1.000000, 388.000000\", \"type\": \"path\"}, {\"line\": {\"color\": \"blue\", \"width\": 1.5}, \"opacity\": 0.6, \"path\": \"M 0.000000, 936.000000 C 0.200000, 936.000000 0.800000, 851.000000 1.000000, 851.000000\", \"type\": \"path\"}, {\"line\": {\"color\": \"blue\", \"width\": 1.5}, \"opacity\": 0.6, \"path\": \"M 0.000000, 989.000000 C 0.200000, 989.000000 0.800000, 457.000000 1.000000, 457.000000\", \"type\": \"path\"}, {\"line\": {\"color\": \"blue\", \"width\": 1.5}, \"opacity\": 0.6, \"path\": \"M 0.000000, 261.000000 C 0.200000, 261.000000 0.800000, 1081.000000 1.000000, 1081.000000\", \"type\": \"path\"}, {\"line\": {\"color\": \"blue\", \"width\": 1.5}, \"opacity\": 0.6, \"path\": \"M 0.000000, 358.000000 C 0.200000, 358.000000 0.800000, 634.000000 1.000000, 634.000000\", \"type\": \"path\"}, {\"line\": {\"color\": \"blue\", \"width\": 1.5}, \"opacity\": 0.6, \"path\": \"M 0.000000, 1169.000000 C 0.200000, 1169.000000 0.800000, 688.000000 1.000000, 688.000000\", \"type\": \"path\"}, {\"line\": {\"color\": \"blue\", \"width\": 1.5}, \"opacity\": 0.6, \"path\": \"M 0.000000, 1228.000000 C 0.200000, 1228.000000 0.800000, 259.000000 1.000000, 259.000000\", \"type\": \"path\"}, {\"line\": {\"color\": \"blue\", \"width\": 1.5}, \"opacity\": 0.6, \"path\": \"M 0.000000, 799.000000 C 0.200000, 799.000000 0.800000, 1204.000000 1.000000, 1204.000000\", \"type\": \"path\"}, {\"line\": {\"color\": \"blue\", \"width\": 1.5}, \"opacity\": 0.6, \"path\": \"M 0.000000, 814.000000 C 0.200000, 814.000000 0.800000, 83.000000 1.000000, 83.000000\", \"type\": \"path\"}, {\"line\": {\"color\": \"blue\", \"width\": 1.5}, \"opacity\": 0.6, \"path\": \"M 0.000000, 268.000000 C 0.200000, 268.000000 0.800000, 494.000000 1.000000, 494.000000\", \"type\": \"path\"}, {\"line\": {\"color\": \"blue\", \"width\": 1.5}, \"opacity\": 0.6, \"path\": \"M 0.000000, 1194.000000 C 0.200000, 1194.000000 0.800000, 974.000000 1.000000, 974.000000\", \"type\": \"path\"}, {\"line\": {\"color\": \"blue\", \"width\": 1.5}, \"opacity\": 0.6, \"path\": \"M 0.000000, 606.000000 C 0.200000, 606.000000 0.800000, 790.000000 1.000000, 790.000000\", \"type\": \"path\"}, {\"line\": {\"color\": \"blue\", \"width\": 1.5}, \"opacity\": 0.6, \"path\": \"M 0.000000, 437.000000 C 0.200000, 437.000000 0.800000, 667.000000 1.000000, 667.000000\", \"type\": \"path\"}, {\"line\": {\"color\": \"blue\", \"width\": 1.5}, \"opacity\": 0.6, \"path\": \"M 0.000000, 1008.000000 C 0.200000, 1008.000000 0.800000, 1114.000000 1.000000, 1114.000000\", \"type\": \"path\"}, {\"line\": {\"color\": \"blue\", \"width\": 1.5}, \"opacity\": 0.6, \"path\": \"M 0.000000, 909.000000 C 0.200000, 909.000000 0.800000, 1053.000000 1.000000, 1053.000000\", \"type\": \"path\"}, {\"line\": {\"color\": \"blue\", \"width\": 1.5}, \"opacity\": 0.6, \"path\": \"M 0.000000, 1037.000000 C 0.200000, 1037.000000 0.800000, 1218.000000 1.000000, 1218.000000\", \"type\": \"path\"}, {\"line\": {\"color\": \"blue\", \"width\": 1.5}, \"opacity\": 0.6, \"path\": \"M 0.000000, 387.000000 C 0.200000, 387.000000 0.800000, 576.000000 1.000000, 576.000000\", \"type\": \"path\"}, {\"line\": {\"color\": \"blue\", \"width\": 1.5}, \"opacity\": 0.6, \"path\": \"M 0.000000, 289.000000 C 0.200000, 289.000000 0.800000, 844.000000 1.000000, 844.000000\", \"type\": \"path\"}, {\"line\": {\"color\": \"blue\", \"width\": 1.5}, \"opacity\": 0.6, \"path\": \"M 0.000000, 293.000000 C 0.200000, 293.000000 0.800000, 1128.000000 1.000000, 1128.000000\", \"type\": \"path\"}, {\"line\": {\"color\": \"blue\", \"width\": 1.5}, \"opacity\": 0.6, \"path\": \"M 0.000000, 642.000000 C 0.200000, 642.000000 0.800000, 1076.000000 1.000000, 1076.000000\", \"type\": \"path\"}, {\"line\": {\"color\": \"blue\", \"width\": 1.5}, \"opacity\": 0.6, \"path\": \"M 0.000000, 682.000000 C 0.200000, 682.000000 0.800000, 180.000000 1.000000, 180.000000\", \"type\": \"path\"}, {\"line\": {\"color\": \"blue\", \"width\": 1.5}, \"opacity\": 0.6, \"path\": \"M 0.000000, 608.000000 C 0.200000, 608.000000 0.800000, 927.000000 1.000000, 927.000000\", \"type\": \"path\"}, {\"line\": {\"color\": \"blue\", \"width\": 1.5}, \"opacity\": 0.6, \"path\": \"M 0.000000, 644.000000 C 0.200000, 644.000000 0.800000, 924.000000 1.000000, 924.000000\", \"type\": \"path\"}, {\"line\": {\"color\": \"blue\", \"width\": 1.5}, \"opacity\": 0.6, \"path\": \"M 0.000000, 851.000000 C 0.200000, 851.000000 0.800000, 1237.000000 1.000000, 1237.000000\", \"type\": \"path\"}, {\"line\": {\"color\": \"blue\", \"width\": 1.5}, \"opacity\": 0.6, \"path\": \"M 0.000000, 1005.000000 C 0.200000, 1005.000000 0.800000, 1244.000000 1.000000, 1244.000000\", \"type\": \"path\"}, {\"line\": {\"color\": \"blue\", \"width\": 1.5}, \"opacity\": 0.6, \"path\": \"M 0.000000, 912.000000 C 0.200000, 912.000000 0.800000, 758.000000 1.000000, 758.000000\", \"type\": \"path\"}, {\"line\": {\"color\": \"blue\", \"width\": 1.5}, \"opacity\": 0.6, \"path\": \"M 0.000000, 1205.000000 C 0.200000, 1205.000000 0.800000, 284.000000 1.000000, 284.000000\", \"type\": \"path\"}, {\"line\": {\"color\": \"blue\", \"width\": 1.5}, \"opacity\": 0.6, \"path\": \"M 0.000000, 309.000000 C 0.200000, 309.000000 0.800000, 543.000000 1.000000, 543.000000\", \"type\": \"path\"}, {\"line\": {\"color\": \"blue\", \"width\": 1.5}, \"opacity\": 0.6, \"path\": \"M 0.000000, 831.000000 C 0.200000, 831.000000 0.800000, 107.000000 1.000000, 107.000000\", \"type\": \"path\"}, {\"line\": {\"color\": \"blue\", \"width\": 1.5}, \"opacity\": 0.6, \"path\": \"M 0.000000, 436.000000 C 0.200000, 436.000000 0.800000, 918.000000 1.000000, 918.000000\", \"type\": \"path\"}, {\"line\": {\"color\": \"blue\", \"width\": 1.5}, \"opacity\": 0.6, \"path\": \"M 0.000000, 969.000000 C 0.200000, 969.000000 0.800000, 429.000000 1.000000, 429.000000\", \"type\": \"path\"}, {\"line\": {\"color\": \"blue\", \"width\": 1.5}, \"opacity\": 0.6, \"path\": \"M 0.000000, 509.000000 C 0.200000, 509.000000 0.800000, 1147.000000 1.000000, 1147.000000\", \"type\": \"path\"}, {\"line\": {\"color\": \"blue\", \"width\": 1.5}, \"opacity\": 0.6, \"path\": \"M 0.000000, 677.000000 C 0.200000, 677.000000 0.800000, 441.000000 1.000000, 441.000000\", \"type\": \"path\"}, {\"line\": {\"color\": \"blue\", \"width\": 1.5}, \"opacity\": 0.6, \"path\": \"M 0.000000, 472.000000 C 0.200000, 472.000000 0.800000, 642.000000 1.000000, 642.000000\", \"type\": \"path\"}, {\"line\": {\"color\": \"blue\", \"width\": 1.5}, \"opacity\": 0.6, \"path\": \"M 0.000000, 25.000000 C 0.200000, 25.000000 0.800000, 250.000000 1.000000, 250.000000\", \"type\": \"path\"}, {\"line\": {\"color\": \"blue\", \"width\": 1.5}, \"opacity\": 0.6, \"path\": \"M 0.000000, 114.000000 C 0.200000, 114.000000 0.800000, 1031.000000 1.000000, 1031.000000\", \"type\": \"path\"}, {\"line\": {\"color\": \"blue\", \"width\": 1.5}, \"opacity\": 0.6, \"path\": \"M 0.000000, 219.000000 C 0.200000, 219.000000 0.800000, 1048.000000 1.000000, 1048.000000\", \"type\": \"path\"}, {\"line\": {\"color\": \"blue\", \"width\": 1.5}, \"opacity\": 0.6, \"path\": \"M 0.000000, 168.000000 C 0.200000, 168.000000 0.800000, 892.000000 1.000000, 892.000000\", \"type\": \"path\"}, {\"line\": {\"color\": \"blue\", \"width\": 1.5}, \"opacity\": 0.6, \"path\": \"M 0.000000, 144.000000 C 0.200000, 144.000000 0.800000, 449.000000 1.000000, 449.000000\", \"type\": \"path\"}, {\"line\": {\"color\": \"blue\", \"width\": 1.5}, \"opacity\": 0.6, \"path\": \"M 0.000000, 680.000000 C 0.200000, 680.000000 0.800000, 1150.000000 1.000000, 1150.000000\", \"type\": \"path\"}, {\"line\": {\"color\": \"blue\", \"width\": 1.5}, \"opacity\": 0.6, \"path\": \"M 0.000000, 209.000000 C 0.200000, 209.000000 0.800000, 494.000000 1.000000, 494.000000\", \"type\": \"path\"}, {\"line\": {\"color\": \"blue\", \"width\": 1.5}, \"opacity\": 0.6, \"path\": \"M 0.000000, 1117.000000 C 0.200000, 1117.000000 0.800000, 149.000000 1.000000, 149.000000\", \"type\": \"path\"}, {\"line\": {\"color\": \"blue\", \"width\": 1.5}, \"opacity\": 0.6, \"path\": \"M 0.000000, 726.000000 C 0.200000, 726.000000 0.800000, 1239.000000 1.000000, 1239.000000\", \"type\": \"path\"}, {\"line\": {\"color\": \"blue\", \"width\": 1.5}, \"opacity\": 0.6, \"path\": \"M 0.000000, 410.000000 C 0.200000, 410.000000 0.800000, 661.000000 1.000000, 661.000000\", \"type\": \"path\"}, {\"line\": {\"color\": \"blue\", \"width\": 1.5}, \"opacity\": 0.6, \"path\": \"M 0.000000, 272.000000 C 0.200000, 272.000000 0.800000, 171.000000 1.000000, 171.000000\", \"type\": \"path\"}, {\"line\": {\"color\": \"blue\", \"width\": 1.5}, \"opacity\": 0.6, \"path\": \"M 0.000000, 532.000000 C 0.200000, 532.000000 0.800000, 102.000000 1.000000, 102.000000\", \"type\": \"path\"}, {\"line\": {\"color\": \"blue\", \"width\": 1.5}, \"opacity\": 0.6, \"path\": \"M 0.000000, 1098.000000 C 0.200000, 1098.000000 0.800000, 1250.000000 1.000000, 1250.000000\", \"type\": \"path\"}, {\"line\": {\"color\": \"blue\", \"width\": 1.5}, \"opacity\": 0.6, \"path\": \"M 0.000000, 380.000000 C 0.200000, 380.000000 0.800000, 1214.000000 1.000000, 1214.000000\", \"type\": \"path\"}, {\"line\": {\"color\": \"blue\", \"width\": 1.5}, \"opacity\": 0.6, \"path\": \"M 0.000000, 721.000000 C 0.200000, 721.000000 0.800000, 822.000000 1.000000, 822.000000\", \"type\": \"path\"}, {\"line\": {\"color\": \"blue\", \"width\": 1.5}, \"opacity\": 0.6, \"path\": \"M 0.000000, 1094.000000 C 0.200000, 1094.000000 0.800000, 237.000000 1.000000, 237.000000\", \"type\": \"path\"}, {\"line\": {\"color\": \"blue\", \"width\": 1.5}, \"opacity\": 0.6, \"path\": \"M 0.000000, 810.000000 C 0.200000, 810.000000 0.800000, 314.000000 1.000000, 314.000000\", \"type\": \"path\"}, {\"line\": {\"color\": \"blue\", \"width\": 1.5}, \"opacity\": 0.6, \"path\": \"M 0.000000, 15.000000 C 0.200000, 15.000000 0.800000, 440.000000 1.000000, 440.000000\", \"type\": \"path\"}, {\"line\": {\"color\": \"blue\", \"width\": 1.5}, \"opacity\": 0.6, \"path\": \"M 0.000000, 748.000000 C 0.200000, 748.000000 0.800000, 339.000000 1.000000, 339.000000\", \"type\": \"path\"}, {\"line\": {\"color\": \"blue\", \"width\": 1.5}, \"opacity\": 0.6, \"path\": \"M 0.000000, 299.000000 C 0.200000, 299.000000 0.800000, 788.000000 1.000000, 788.000000\", \"type\": \"path\"}, {\"line\": {\"color\": \"blue\", \"width\": 1.5}, \"opacity\": 0.6, \"path\": \"M 0.000000, 1014.000000 C 0.200000, 1014.000000 0.800000, 213.000000 1.000000, 213.000000\", \"type\": \"path\"}, {\"line\": {\"color\": \"blue\", \"width\": 1.5}, \"opacity\": 0.6, \"path\": \"M 0.000000, 764.000000 C 0.200000, 764.000000 0.800000, 9.000000 1.000000, 9.000000\", \"type\": \"path\"}, {\"line\": {\"color\": \"blue\", \"width\": 1.5}, \"opacity\": 0.6, \"path\": \"M 0.000000, 27.000000 C 0.200000, 27.000000 0.800000, 567.000000 1.000000, 567.000000\", \"type\": \"path\"}, {\"line\": {\"color\": \"blue\", \"width\": 1.5}, \"opacity\": 0.6, \"path\": \"M 0.000000, 696.000000 C 0.200000, 696.000000 0.800000, 703.000000 1.000000, 703.000000\", \"type\": \"path\"}, {\"line\": {\"color\": \"blue\", \"width\": 1.5}, \"opacity\": 0.6, \"path\": \"M 0.000000, 1130.000000 C 0.200000, 1130.000000 0.800000, 212.000000 1.000000, 212.000000\", \"type\": \"path\"}, {\"line\": {\"color\": \"blue\", \"width\": 1.5}, \"opacity\": 0.6, \"path\": \"M 0.000000, 70.000000 C 0.200000, 70.000000 0.800000, 1084.000000 1.000000, 1084.000000\", \"type\": \"path\"}, {\"line\": {\"color\": \"blue\", \"width\": 1.5}, \"opacity\": 0.6, \"path\": \"M 0.000000, 665.000000 C 0.200000, 665.000000 0.800000, 843.000000 1.000000, 843.000000\", \"type\": \"path\"}, {\"line\": {\"color\": \"blue\", \"width\": 1.5}, \"opacity\": 0.6, \"path\": \"M 0.000000, 99.000000 C 0.200000, 99.000000 0.800000, 1105.000000 1.000000, 1105.000000\", \"type\": \"path\"}, {\"line\": {\"color\": \"blue\", \"width\": 1.5}, \"opacity\": 0.6, \"path\": \"M 0.000000, 161.000000 C 0.200000, 161.000000 0.800000, 962.000000 1.000000, 962.000000\", \"type\": \"path\"}, {\"line\": {\"color\": \"blue\", \"width\": 1.5}, \"opacity\": 0.6, \"path\": \"M 0.000000, 213.000000 C 0.200000, 213.000000 0.800000, 1152.000000 1.000000, 1152.000000\", \"type\": \"path\"}, {\"line\": {\"color\": \"blue\", \"width\": 1.5}, \"opacity\": 0.6, \"path\": \"M 0.000000, 240.000000 C 0.200000, 240.000000 0.800000, 157.000000 1.000000, 157.000000\", \"type\": \"path\"}, {\"line\": {\"color\": \"blue\", \"width\": 1.5}, \"opacity\": 0.6, \"path\": \"M 0.000000, 1268.000000 C 0.200000, 1268.000000 0.800000, 233.000000 1.000000, 233.000000\", \"type\": \"path\"}, {\"line\": {\"color\": \"blue\", \"width\": 1.5}, \"opacity\": 0.6, \"path\": \"M 0.000000, 938.000000 C 0.200000, 938.000000 0.800000, 262.000000 1.000000, 262.000000\", \"type\": \"path\"}, {\"line\": {\"color\": \"blue\", \"width\": 1.5}, \"opacity\": 0.6, \"path\": \"M 0.000000, 135.000000 C 0.200000, 135.000000 0.800000, 549.000000 1.000000, 549.000000\", \"type\": \"path\"}, {\"line\": {\"color\": \"blue\", \"width\": 1.5}, \"opacity\": 0.6, \"path\": \"M 0.000000, 459.000000 C 0.200000, 459.000000 0.800000, 266.000000 1.000000, 266.000000\", \"type\": \"path\"}, {\"line\": {\"color\": \"blue\", \"width\": 1.5}, \"opacity\": 0.6, \"path\": \"M 0.000000, 1119.000000 C 0.200000, 1119.000000 0.800000, 1042.000000 1.000000, 1042.000000\", \"type\": \"path\"}, {\"line\": {\"color\": \"blue\", \"width\": 1.5}, \"opacity\": 0.6, \"path\": \"M 0.000000, 1134.000000 C 0.200000, 1134.000000 0.800000, 217.000000 1.000000, 217.000000\", \"type\": \"path\"}, {\"line\": {\"color\": \"blue\", \"width\": 1.5}, \"opacity\": 0.6, \"path\": \"M 0.000000, 745.000000 C 0.200000, 745.000000 0.800000, 895.000000 1.000000, 895.000000\", \"type\": \"path\"}, {\"line\": {\"color\": \"blue\", \"width\": 1.5}, \"opacity\": 0.6, \"path\": \"M 0.000000, 313.000000 C 0.200000, 313.000000 0.800000, 1228.000000 1.000000, 1228.000000\", \"type\": \"path\"}, {\"line\": {\"color\": \"blue\", \"width\": 1.5}, \"opacity\": 0.6, \"path\": \"M 0.000000, 235.000000 C 0.200000, 235.000000 0.800000, 538.000000 1.000000, 538.000000\", \"type\": \"path\"}, {\"line\": {\"color\": \"blue\", \"width\": 1.5}, \"opacity\": 0.6, \"path\": \"M 0.000000, 647.000000 C 0.200000, 647.000000 0.800000, 729.000000 1.000000, 729.000000\", \"type\": \"path\"}, {\"line\": {\"color\": \"blue\", \"width\": 1.5}, \"opacity\": 0.6, \"path\": \"M 0.000000, 46.000000 C 0.200000, 46.000000 0.800000, 1023.000000 1.000000, 1023.000000\", \"type\": \"path\"}, {\"line\": {\"color\": \"blue\", \"width\": 1.5}, \"opacity\": 0.6, \"path\": \"M 0.000000, 667.000000 C 0.200000, 667.000000 0.800000, 220.000000 1.000000, 220.000000\", \"type\": \"path\"}, {\"line\": {\"color\": \"blue\", \"width\": 1.5}, \"opacity\": 0.6, \"path\": \"M 0.000000, 1045.000000 C 0.200000, 1045.000000 0.800000, 832.000000 1.000000, 832.000000\", \"type\": \"path\"}, {\"line\": {\"color\": \"blue\", \"width\": 1.5}, \"opacity\": 0.6, \"path\": \"M 0.000000, 69.000000 C 0.200000, 69.000000 0.800000, 1164.000000 1.000000, 1164.000000\", \"type\": \"path\"}, {\"line\": {\"color\": \"blue\", \"width\": 1.5}, \"opacity\": 0.6, \"path\": \"M 0.000000, 900.000000 C 0.200000, 900.000000 0.800000, 855.000000 1.000000, 855.000000\", \"type\": \"path\"}, {\"line\": {\"color\": \"blue\", \"width\": 1.5}, \"opacity\": 0.6, \"path\": \"M 0.000000, 314.000000 C 0.200000, 314.000000 0.800000, 801.000000 1.000000, 801.000000\", \"type\": \"path\"}, {\"line\": {\"color\": \"blue\", \"width\": 1.5}, \"opacity\": 0.6, \"path\": \"M 0.000000, 588.000000 C 0.200000, 588.000000 0.800000, 742.000000 1.000000, 742.000000\", \"type\": \"path\"}, {\"line\": {\"color\": \"blue\", \"width\": 1.5}, \"opacity\": 0.6, \"path\": \"M 0.000000, 982.000000 C 0.200000, 982.000000 0.800000, 246.000000 1.000000, 246.000000\", \"type\": \"path\"}, {\"line\": {\"color\": \"blue\", \"width\": 1.5}, \"opacity\": 0.6, \"path\": \"M 0.000000, 102.000000 C 0.200000, 102.000000 0.800000, 50.000000 1.000000, 50.000000\", \"type\": \"path\"}, {\"line\": {\"color\": \"blue\", \"width\": 1.5}, \"opacity\": 0.6, \"path\": \"M 0.000000, 99.000000 C 0.200000, 99.000000 0.800000, 939.000000 1.000000, 939.000000\", \"type\": \"path\"}, {\"line\": {\"color\": \"blue\", \"width\": 1.5}, \"opacity\": 0.6, \"path\": \"M 0.000000, 114.000000 C 0.200000, 114.000000 0.800000, 930.000000 1.000000, 930.000000\", \"type\": \"path\"}, {\"line\": {\"color\": \"blue\", \"width\": 1.5}, \"opacity\": 0.6, \"path\": \"M 0.000000, 554.000000 C 0.200000, 554.000000 0.800000, 4.000000 1.000000, 4.000000\", \"type\": \"path\"}, {\"line\": {\"color\": \"blue\", \"width\": 1.5}, \"opacity\": 0.6, \"path\": \"M 0.000000, 533.000000 C 0.200000, 533.000000 0.800000, 257.000000 1.000000, 257.000000\", \"type\": \"path\"}, {\"line\": {\"color\": \"blue\", \"width\": 1.5}, \"opacity\": 0.6, \"path\": \"M 0.000000, 187.000000 C 0.200000, 187.000000 0.800000, 141.000000 1.000000, 141.000000\", \"type\": \"path\"}, {\"line\": {\"color\": \"blue\", \"width\": 1.5}, \"opacity\": 0.6, \"path\": \"M 0.000000, 928.000000 C 0.200000, 928.000000 0.800000, 1080.000000 1.000000, 1080.000000\", \"type\": \"path\"}, {\"line\": {\"color\": \"blue\", \"width\": 1.5}, \"opacity\": 0.6, \"path\": \"M 0.000000, 856.000000 C 0.200000, 856.000000 0.800000, 1041.000000 1.000000, 1041.000000\", \"type\": \"path\"}, {\"line\": {\"color\": \"blue\", \"width\": 1.5}, \"opacity\": 0.6, \"path\": \"M 0.000000, 1274.000000 C 0.200000, 1274.000000 0.800000, 1090.000000 1.000000, 1090.000000\", \"type\": \"path\"}, {\"line\": {\"color\": \"blue\", \"width\": 1.5}, \"opacity\": 0.6, \"path\": \"M 0.000000, 355.000000 C 0.200000, 355.000000 0.800000, 1.000000 1.000000, 1.000000\", \"type\": \"path\"}, {\"line\": {\"color\": \"blue\", \"width\": 1.5}, \"opacity\": 0.6, \"path\": \"M 0.000000, 1085.000000 C 0.200000, 1085.000000 0.800000, 214.000000 1.000000, 214.000000\", \"type\": \"path\"}, {\"line\": {\"color\": \"blue\", \"width\": 1.5}, \"opacity\": 0.6, \"path\": \"M 0.000000, 110.000000 C 0.200000, 110.000000 0.800000, 21.000000 1.000000, 21.000000\", \"type\": \"path\"}, {\"line\": {\"color\": \"blue\", \"width\": 1.5}, \"opacity\": 0.6, \"path\": \"M 0.000000, 965.000000 C 0.200000, 965.000000 0.800000, 802.000000 1.000000, 802.000000\", \"type\": \"path\"}, {\"line\": {\"color\": \"blue\", \"width\": 1.5}, \"opacity\": 0.6, \"path\": \"M 0.000000, 972.000000 C 0.200000, 972.000000 0.800000, 426.000000 1.000000, 426.000000\", \"type\": \"path\"}, {\"line\": {\"color\": \"blue\", \"width\": 1.5}, \"opacity\": 0.6, \"path\": \"M 0.000000, 1098.000000 C 0.200000, 1098.000000 0.800000, 758.000000 1.000000, 758.000000\", \"type\": \"path\"}, {\"line\": {\"color\": \"blue\", \"width\": 1.5}, \"opacity\": 0.6, \"path\": \"M 0.000000, 172.000000 C 0.200000, 172.000000 0.800000, 853.000000 1.000000, 853.000000\", \"type\": \"path\"}, {\"line\": {\"color\": \"blue\", \"width\": 1.5}, \"opacity\": 0.6, \"path\": \"M 0.000000, 133.000000 C 0.200000, 133.000000 0.800000, 726.000000 1.000000, 726.000000\", \"type\": \"path\"}, {\"line\": {\"color\": \"blue\", \"width\": 1.5}, \"opacity\": 0.6, \"path\": \"M 0.000000, 1085.000000 C 0.200000, 1085.000000 0.800000, 1267.000000 1.000000, 1267.000000\", \"type\": \"path\"}, {\"line\": {\"color\": \"blue\", \"width\": 1.5}, \"opacity\": 0.6, \"path\": \"M 0.000000, 902.000000 C 0.200000, 902.000000 0.800000, 1278.000000 1.000000, 1278.000000\", \"type\": \"path\"}, {\"line\": {\"color\": \"blue\", \"width\": 1.5}, \"opacity\": 0.6, \"path\": \"M 0.000000, 724.000000 C 0.200000, 724.000000 0.800000, 739.000000 1.000000, 739.000000\", \"type\": \"path\"}, {\"line\": {\"color\": \"blue\", \"width\": 1.5}, \"opacity\": 0.6, \"path\": \"M 0.000000, 323.000000 C 0.200000, 323.000000 0.800000, 183.000000 1.000000, 183.000000\", \"type\": \"path\"}, {\"line\": {\"color\": \"blue\", \"width\": 1.5}, \"opacity\": 0.6, \"path\": \"M 0.000000, 1185.000000 C 0.200000, 1185.000000 0.800000, 63.000000 1.000000, 63.000000\", \"type\": \"path\"}, {\"line\": {\"color\": \"blue\", \"width\": 1.5}, \"opacity\": 0.6, \"path\": \"M 0.000000, 316.000000 C 0.200000, 316.000000 0.800000, 884.000000 1.000000, 884.000000\", \"type\": \"path\"}, {\"line\": {\"color\": \"blue\", \"width\": 1.5}, \"opacity\": 0.6, \"path\": \"M 0.000000, 1.000000 C 0.200000, 1.000000 0.800000, 800.000000 1.000000, 800.000000\", \"type\": \"path\"}, {\"line\": {\"color\": \"blue\", \"width\": 1.5}, \"opacity\": 0.6, \"path\": \"M 0.000000, 78.000000 C 0.200000, 78.000000 0.800000, 846.000000 1.000000, 846.000000\", \"type\": \"path\"}, {\"line\": {\"color\": \"blue\", \"width\": 1.5}, \"opacity\": 0.6, \"path\": \"M 0.000000, 1162.000000 C 0.200000, 1162.000000 0.800000, 865.000000 1.000000, 865.000000\", \"type\": \"path\"}, {\"line\": {\"color\": \"blue\", \"width\": 1.5}, \"opacity\": 0.6, \"path\": \"M 0.000000, 505.000000 C 0.200000, 505.000000 0.800000, 1184.000000 1.000000, 1184.000000\", \"type\": \"path\"}, {\"line\": {\"color\": \"blue\", \"width\": 1.5}, \"opacity\": 0.6, \"path\": \"M 0.000000, 482.000000 C 0.200000, 482.000000 0.800000, 714.000000 1.000000, 714.000000\", \"type\": \"path\"}, {\"line\": {\"color\": \"blue\", \"width\": 1.5}, \"opacity\": 0.6, \"path\": \"M 0.000000, 89.000000 C 0.200000, 89.000000 0.800000, 1040.000000 1.000000, 1040.000000\", \"type\": \"path\"}, {\"line\": {\"color\": \"blue\", \"width\": 1.5}, \"opacity\": 0.6, \"path\": \"M 0.000000, 1253.000000 C 0.200000, 1253.000000 0.800000, 73.000000 1.000000, 73.000000\", \"type\": \"path\"}, {\"line\": {\"color\": \"blue\", \"width\": 1.5}, \"opacity\": 0.6, \"path\": \"M 0.000000, 701.000000 C 0.200000, 701.000000 0.800000, 164.000000 1.000000, 164.000000\", \"type\": \"path\"}, {\"line\": {\"color\": \"blue\", \"width\": 1.5}, \"opacity\": 0.6, \"path\": \"M 0.000000, 590.000000 C 0.200000, 590.000000 0.800000, 680.000000 1.000000, 680.000000\", \"type\": \"path\"}, {\"line\": {\"color\": \"blue\", \"width\": 1.5}, \"opacity\": 0.6, \"path\": \"M 0.000000, 1188.000000 C 0.200000, 1188.000000 0.800000, 1124.000000 1.000000, 1124.000000\", \"type\": \"path\"}, {\"line\": {\"color\": \"blue\", \"width\": 1.5}, \"opacity\": 0.6, \"path\": \"M 0.000000, 109.000000 C 0.200000, 109.000000 0.800000, 65.000000 1.000000, 65.000000\", \"type\": \"path\"}, {\"line\": {\"color\": \"blue\", \"width\": 1.5}, \"opacity\": 0.6, \"path\": \"M 0.000000, 521.000000 C 0.200000, 521.000000 0.800000, 770.000000 1.000000, 770.000000\", \"type\": \"path\"}, {\"line\": {\"color\": \"blue\", \"width\": 1.5}, \"opacity\": 0.6, \"path\": \"M 0.000000, 211.000000 C 0.200000, 211.000000 0.800000, 293.000000 1.000000, 293.000000\", \"type\": \"path\"}, {\"line\": {\"color\": \"blue\", \"width\": 1.5}, \"opacity\": 0.6, \"path\": \"M 0.000000, 788.000000 C 0.200000, 788.000000 0.800000, 799.000000 1.000000, 799.000000\", \"type\": \"path\"}, {\"line\": {\"color\": \"blue\", \"width\": 1.5}, \"opacity\": 0.6, \"path\": \"M 0.000000, 771.000000 C 0.200000, 771.000000 0.800000, 830.000000 1.000000, 830.000000\", \"type\": \"path\"}, {\"line\": {\"color\": \"blue\", \"width\": 1.5}, \"opacity\": 0.6, \"path\": \"M 0.000000, 387.000000 C 0.200000, 387.000000 0.800000, 59.000000 1.000000, 59.000000\", \"type\": \"path\"}, {\"line\": {\"color\": \"blue\", \"width\": 1.5}, \"opacity\": 0.6, \"path\": \"M 0.000000, 1167.000000 C 0.200000, 1167.000000 0.800000, 402.000000 1.000000, 402.000000\", \"type\": \"path\"}, {\"line\": {\"color\": \"blue\", \"width\": 1.5}, \"opacity\": 0.6, \"path\": \"M 0.000000, 505.000000 C 0.200000, 505.000000 0.800000, 797.000000 1.000000, 797.000000\", \"type\": \"path\"}, {\"line\": {\"color\": \"blue\", \"width\": 1.5}, \"opacity\": 0.6, \"path\": \"M 0.000000, 318.000000 C 0.200000, 318.000000 0.800000, 687.000000 1.000000, 687.000000\", \"type\": \"path\"}, {\"line\": {\"color\": \"blue\", \"width\": 1.5}, \"opacity\": 0.6, \"path\": \"M 0.000000, 741.000000 C 0.200000, 741.000000 0.800000, 662.000000 1.000000, 662.000000\", \"type\": \"path\"}, {\"line\": {\"color\": \"blue\", \"width\": 1.5}, \"opacity\": 0.6, \"path\": \"M 0.000000, 1250.000000 C 0.200000, 1250.000000 0.800000, 363.000000 1.000000, 363.000000\", \"type\": \"path\"}, {\"line\": {\"color\": \"blue\", \"width\": 1.5}, \"opacity\": 0.6, \"path\": \"M 0.000000, 984.000000 C 0.200000, 984.000000 0.800000, 860.000000 1.000000, 860.000000\", \"type\": \"path\"}, {\"line\": {\"color\": \"blue\", \"width\": 1.5}, \"opacity\": 0.6, \"path\": \"M 0.000000, 1255.000000 C 0.200000, 1255.000000 0.800000, 160.000000 1.000000, 160.000000\", \"type\": \"path\"}, {\"line\": {\"color\": \"blue\", \"width\": 1.5}, \"opacity\": 0.6, \"path\": \"M 0.000000, 856.000000 C 0.200000, 856.000000 0.800000, 398.000000 1.000000, 398.000000\", \"type\": \"path\"}, {\"line\": {\"color\": \"blue\", \"width\": 1.5}, \"opacity\": 0.6, \"path\": \"M 0.000000, 993.000000 C 0.200000, 993.000000 0.800000, 750.000000 1.000000, 750.000000\", \"type\": \"path\"}, {\"line\": {\"color\": \"blue\", \"width\": 1.5}, \"opacity\": 0.6, \"path\": \"M 0.000000, 1113.000000 C 0.200000, 1113.000000 0.800000, 842.000000 1.000000, 842.000000\", \"type\": \"path\"}, {\"line\": {\"color\": \"blue\", \"width\": 1.5}, \"opacity\": 0.6, \"path\": \"M 0.000000, 745.000000 C 0.200000, 745.000000 0.800000, 420.000000 1.000000, 420.000000\", \"type\": \"path\"}, {\"line\": {\"color\": \"blue\", \"width\": 1.5}, \"opacity\": 0.6, \"path\": \"M 0.000000, 219.000000 C 0.200000, 219.000000 0.800000, 765.000000 1.000000, 765.000000\", \"type\": \"path\"}, {\"line\": {\"color\": \"blue\", \"width\": 1.5}, \"opacity\": 0.6, \"path\": \"M 0.000000, 687.000000 C 0.200000, 687.000000 0.800000, 126.000000 1.000000, 126.000000\", \"type\": \"path\"}, {\"line\": {\"color\": \"blue\", \"width\": 1.5}, \"opacity\": 0.6, \"path\": \"M 0.000000, 740.000000 C 0.200000, 740.000000 0.800000, 210.000000 1.000000, 210.000000\", \"type\": \"path\"}, {\"line\": {\"color\": \"blue\", \"width\": 1.5}, \"opacity\": 0.6, \"path\": \"M 0.000000, 390.000000 C 0.200000, 390.000000 0.800000, 98.000000 1.000000, 98.000000\", \"type\": \"path\"}, {\"line\": {\"color\": \"blue\", \"width\": 1.5}, \"opacity\": 0.6, \"path\": \"M 0.000000, 1227.000000 C 0.200000, 1227.000000 0.800000, 1226.000000 1.000000, 1226.000000\", \"type\": \"path\"}, {\"line\": {\"color\": \"blue\", \"width\": 1.5}, \"opacity\": 0.6, \"path\": \"M 0.000000, 618.000000 C 0.200000, 618.000000 0.800000, 142.000000 1.000000, 142.000000\", \"type\": \"path\"}, {\"line\": {\"color\": \"blue\", \"width\": 1.5}, \"opacity\": 0.6, \"path\": \"M 0.000000, 875.000000 C 0.200000, 875.000000 0.800000, 666.000000 1.000000, 666.000000\", \"type\": \"path\"}, {\"line\": {\"color\": \"blue\", \"width\": 1.5}, \"opacity\": 0.6, \"path\": \"M 0.000000, 932.000000 C 0.200000, 932.000000 0.800000, 128.000000 1.000000, 128.000000\", \"type\": \"path\"}, {\"line\": {\"color\": \"blue\", \"width\": 1.5}, \"opacity\": 0.6, \"path\": \"M 0.000000, 635.000000 C 0.200000, 635.000000 0.800000, 481.000000 1.000000, 481.000000\", \"type\": \"path\"}, {\"line\": {\"color\": \"blue\", \"width\": 1.5}, \"opacity\": 0.6, \"path\": \"M 0.000000, 1141.000000 C 0.200000, 1141.000000 0.800000, 188.000000 1.000000, 188.000000\", \"type\": \"path\"}, {\"line\": {\"color\": \"blue\", \"width\": 1.5}, \"opacity\": 0.6, \"path\": \"M 0.000000, 1072.000000 C 0.200000, 1072.000000 0.800000, 1216.000000 1.000000, 1216.000000\", \"type\": \"path\"}, {\"line\": {\"color\": \"blue\", \"width\": 1.5}, \"opacity\": 0.6, \"path\": \"M 0.000000, 684.000000 C 0.200000, 684.000000 0.800000, 837.000000 1.000000, 837.000000\", \"type\": \"path\"}, {\"line\": {\"color\": \"blue\", \"width\": 1.5}, \"opacity\": 0.6, \"path\": \"M 0.000000, 332.000000 C 0.200000, 332.000000 0.800000, 1130.000000 1.000000, 1130.000000\", \"type\": \"path\"}, {\"line\": {\"color\": \"blue\", \"width\": 1.5}, \"opacity\": 0.6, \"path\": \"M 0.000000, 528.000000 C 0.200000, 528.000000 0.800000, 741.000000 1.000000, 741.000000\", \"type\": \"path\"}, {\"line\": {\"color\": \"blue\", \"width\": 1.5}, \"opacity\": 0.6, \"path\": \"M 0.000000, 1226.000000 C 0.200000, 1226.000000 0.800000, 217.000000 1.000000, 217.000000\", \"type\": \"path\"}, {\"line\": {\"color\": \"blue\", \"width\": 1.5}, \"opacity\": 0.6, \"path\": \"M 0.000000, 707.000000 C 0.200000, 707.000000 0.800000, 913.000000 1.000000, 913.000000\", \"type\": \"path\"}, {\"line\": {\"color\": \"blue\", \"width\": 1.5}, \"opacity\": 0.6, \"path\": \"M 0.000000, 973.000000 C 0.200000, 973.000000 0.800000, 138.000000 1.000000, 138.000000\", \"type\": \"path\"}, {\"line\": {\"color\": \"blue\", \"width\": 1.5}, \"opacity\": 0.6, \"path\": \"M 0.000000, 128.000000 C 0.200000, 128.000000 0.800000, 760.000000 1.000000, 760.000000\", \"type\": \"path\"}, {\"line\": {\"color\": \"blue\", \"width\": 1.5}, \"opacity\": 0.6, \"path\": \"M 0.000000, 692.000000 C 0.200000, 692.000000 0.800000, 1110.000000 1.000000, 1110.000000\", \"type\": \"path\"}, {\"line\": {\"color\": \"blue\", \"width\": 1.5}, \"opacity\": 0.6, \"path\": \"M 0.000000, 1112.000000 C 0.200000, 1112.000000 0.800000, 1217.000000 1.000000, 1217.000000\", \"type\": \"path\"}, {\"line\": {\"color\": \"blue\", \"width\": 1.5}, \"opacity\": 0.6, \"path\": \"M 0.000000, 1039.000000 C 0.200000, 1039.000000 0.800000, 117.000000 1.000000, 117.000000\", \"type\": \"path\"}, {\"line\": {\"color\": \"blue\", \"width\": 1.5}, \"opacity\": 0.6, \"path\": \"M 0.000000, 1272.000000 C 0.200000, 1272.000000 0.800000, 969.000000 1.000000, 969.000000\", \"type\": \"path\"}, {\"line\": {\"color\": \"blue\", \"width\": 1.5}, \"opacity\": 0.6, \"path\": \"M 0.000000, 1089.000000 C 0.200000, 1089.000000 0.800000, 572.000000 1.000000, 572.000000\", \"type\": \"path\"}, {\"line\": {\"color\": \"blue\", \"width\": 1.5}, \"opacity\": 0.6, \"path\": \"M 0.000000, 197.000000 C 0.200000, 197.000000 0.800000, 1226.000000 1.000000, 1226.000000\", \"type\": \"path\"}, {\"line\": {\"color\": \"blue\", \"width\": 1.5}, \"opacity\": 0.6, \"path\": \"M 0.000000, 1183.000000 C 0.200000, 1183.000000 0.800000, 1120.000000 1.000000, 1120.000000\", \"type\": \"path\"}, {\"line\": {\"color\": \"blue\", \"width\": 1.5}, \"opacity\": 0.6, \"path\": \"M 0.000000, 219.000000 C 0.200000, 219.000000 0.800000, 1145.000000 1.000000, 1145.000000\", \"type\": \"path\"}, {\"line\": {\"color\": \"blue\", \"width\": 1.5}, \"opacity\": 0.6, \"path\": \"M 0.000000, 830.000000 C 0.200000, 830.000000 0.800000, 127.000000 1.000000, 127.000000\", \"type\": \"path\"}, {\"line\": {\"color\": \"blue\", \"width\": 1.5}, \"opacity\": 0.6, \"path\": \"M 0.000000, 897.000000 C 0.200000, 897.000000 0.800000, 390.000000 1.000000, 390.000000\", \"type\": \"path\"}, {\"line\": {\"color\": \"blue\", \"width\": 1.5}, \"opacity\": 0.6, \"path\": \"M 0.000000, 909.000000 C 0.200000, 909.000000 0.800000, 1086.000000 1.000000, 1086.000000\", \"type\": \"path\"}, {\"line\": {\"color\": \"blue\", \"width\": 1.5}, \"opacity\": 0.6, \"path\": \"M 0.000000, 1221.000000 C 0.200000, 1221.000000 0.800000, 54.000000 1.000000, 54.000000\", \"type\": \"path\"}, {\"line\": {\"color\": \"blue\", \"width\": 1.5}, \"opacity\": 0.6, \"path\": \"M 0.000000, 132.000000 C 0.200000, 132.000000 0.800000, 548.000000 1.000000, 548.000000\", \"type\": \"path\"}, {\"line\": {\"color\": \"blue\", \"width\": 1.5}, \"opacity\": 0.6, \"path\": \"M 0.000000, 540.000000 C 0.200000, 540.000000 0.800000, 325.000000 1.000000, 325.000000\", \"type\": \"path\"}, {\"line\": {\"color\": \"blue\", \"width\": 1.5}, \"opacity\": 0.6, \"path\": \"M 0.000000, 1042.000000 C 0.200000, 1042.000000 0.800000, 166.000000 1.000000, 166.000000\", \"type\": \"path\"}, {\"line\": {\"color\": \"blue\", \"width\": 1.5}, \"opacity\": 0.6, \"path\": \"M 0.000000, 158.000000 C 0.200000, 158.000000 0.800000, 119.000000 1.000000, 119.000000\", \"type\": \"path\"}, {\"line\": {\"color\": \"blue\", \"width\": 1.5}, \"opacity\": 0.6, \"path\": \"M 0.000000, 1046.000000 C 0.200000, 1046.000000 0.800000, 77.000000 1.000000, 77.000000\", \"type\": \"path\"}, {\"line\": {\"color\": \"blue\", \"width\": 1.5}, \"opacity\": 0.6, \"path\": \"M 0.000000, 512.000000 C 0.200000, 512.000000 0.800000, 1260.000000 1.000000, 1260.000000\", \"type\": \"path\"}, {\"line\": {\"color\": \"blue\", \"width\": 1.5}, \"opacity\": 0.6, \"path\": \"M 0.000000, 616.000000 C 0.200000, 616.000000 0.800000, 393.000000 1.000000, 393.000000\", \"type\": \"path\"}, {\"line\": {\"color\": \"blue\", \"width\": 1.5}, \"opacity\": 0.6, \"path\": \"M 0.000000, 839.000000 C 0.200000, 839.000000 0.800000, 370.000000 1.000000, 370.000000\", \"type\": \"path\"}, {\"line\": {\"color\": \"blue\", \"width\": 1.5}, \"opacity\": 0.6, \"path\": \"M 0.000000, 1279.000000 C 0.200000, 1279.000000 0.800000, 48.000000 1.000000, 48.000000\", \"type\": \"path\"}, {\"line\": {\"color\": \"blue\", \"width\": 1.5}, \"opacity\": 0.6, \"path\": \"M 0.000000, 534.000000 C 0.200000, 534.000000 0.800000, 61.000000 1.000000, 61.000000\", \"type\": \"path\"}, {\"line\": {\"color\": \"blue\", \"width\": 1.5}, \"opacity\": 0.6, \"path\": \"M 0.000000, 931.000000 C 0.200000, 931.000000 0.800000, 887.000000 1.000000, 887.000000\", \"type\": \"path\"}, {\"line\": {\"color\": \"blue\", \"width\": 1.5}, \"opacity\": 0.6, \"path\": \"M 0.000000, 951.000000 C 0.200000, 951.000000 0.800000, 722.000000 1.000000, 722.000000\", \"type\": \"path\"}, {\"line\": {\"color\": \"blue\", \"width\": 1.5}, \"opacity\": 0.6, \"path\": \"M 0.000000, 470.000000 C 0.200000, 470.000000 0.800000, 474.000000 1.000000, 474.000000\", \"type\": \"path\"}, {\"line\": {\"color\": \"blue\", \"width\": 1.5}, \"opacity\": 0.6, \"path\": \"M 0.000000, 387.000000 C 0.200000, 387.000000 0.800000, 267.000000 1.000000, 267.000000\", \"type\": \"path\"}, {\"line\": {\"color\": \"blue\", \"width\": 1.5}, \"opacity\": 0.6, \"path\": \"M 0.000000, 1183.000000 C 0.200000, 1183.000000 0.800000, 1144.000000 1.000000, 1144.000000\", \"type\": \"path\"}, {\"line\": {\"color\": \"blue\", \"width\": 1.5}, \"opacity\": 0.6, \"path\": \"M 0.000000, 1227.000000 C 0.200000, 1227.000000 0.800000, 979.000000 1.000000, 979.000000\", \"type\": \"path\"}, {\"line\": {\"color\": \"blue\", \"width\": 1.5}, \"opacity\": 0.6, \"path\": \"M 0.000000, 60.000000 C 0.200000, 60.000000 0.800000, 78.000000 1.000000, 78.000000\", \"type\": \"path\"}, {\"line\": {\"color\": \"blue\", \"width\": 1.5}, \"opacity\": 0.6, \"path\": \"M 0.000000, 700.000000 C 0.200000, 700.000000 0.800000, 281.000000 1.000000, 281.000000\", \"type\": \"path\"}, {\"line\": {\"color\": \"blue\", \"width\": 1.5}, \"opacity\": 0.6, \"path\": \"M 0.000000, 638.000000 C 0.200000, 638.000000 0.800000, 495.000000 1.000000, 495.000000\", \"type\": \"path\"}, {\"line\": {\"color\": \"blue\", \"width\": 1.5}, \"opacity\": 0.6, \"path\": \"M 0.000000, 212.000000 C 0.200000, 212.000000 0.800000, 171.000000 1.000000, 171.000000\", \"type\": \"path\"}, {\"line\": {\"color\": \"blue\", \"width\": 1.5}, \"opacity\": 0.6, \"path\": \"M 0.000000, 48.000000 C 0.200000, 48.000000 0.800000, 952.000000 1.000000, 952.000000\", \"type\": \"path\"}, {\"line\": {\"color\": \"blue\", \"width\": 1.5}, \"opacity\": 0.6, \"path\": \"M 0.000000, 12.000000 C 0.200000, 12.000000 0.800000, 76.000000 1.000000, 76.000000\", \"type\": \"path\"}, {\"line\": {\"color\": \"blue\", \"width\": 1.5}, \"opacity\": 0.6, \"path\": \"M 0.000000, 550.000000 C 0.200000, 550.000000 0.800000, 1049.000000 1.000000, 1049.000000\", \"type\": \"path\"}, {\"line\": {\"color\": \"blue\", \"width\": 1.5}, \"opacity\": 0.6, \"path\": \"M 0.000000, 839.000000 C 0.200000, 839.000000 0.800000, 652.000000 1.000000, 652.000000\", \"type\": \"path\"}, {\"line\": {\"color\": \"blue\", \"width\": 1.5}, \"opacity\": 0.6, \"path\": \"M 0.000000, 1199.000000 C 0.200000, 1199.000000 0.800000, 383.000000 1.000000, 383.000000\", \"type\": \"path\"}, {\"line\": {\"color\": \"blue\", \"width\": 1.5}, \"opacity\": 0.6, \"path\": \"M 0.000000, 755.000000 C 0.200000, 755.000000 0.800000, 46.000000 1.000000, 46.000000\", \"type\": \"path\"}, {\"line\": {\"color\": \"blue\", \"width\": 1.5}, \"opacity\": 0.6, \"path\": \"M 0.000000, 952.000000 C 0.200000, 952.000000 0.800000, 685.000000 1.000000, 685.000000\", \"type\": \"path\"}, {\"line\": {\"color\": \"blue\", \"width\": 1.5}, \"opacity\": 0.6, \"path\": \"M 0.000000, 466.000000 C 0.200000, 466.000000 0.800000, 811.000000 1.000000, 811.000000\", \"type\": \"path\"}, {\"line\": {\"color\": \"blue\", \"width\": 1.5}, \"opacity\": 0.6, \"path\": \"M 0.000000, 703.000000 C 0.200000, 703.000000 0.800000, 979.000000 1.000000, 979.000000\", \"type\": \"path\"}, {\"line\": {\"color\": \"blue\", \"width\": 1.5}, \"opacity\": 0.6, \"path\": \"M 0.000000, 312.000000 C 0.200000, 312.000000 0.800000, 1189.000000 1.000000, 1189.000000\", \"type\": \"path\"}, {\"line\": {\"color\": \"blue\", \"width\": 1.5}, \"opacity\": 0.6, \"path\": \"M 0.000000, 9.000000 C 0.200000, 9.000000 0.800000, 873.000000 1.000000, 873.000000\", \"type\": \"path\"}, {\"line\": {\"color\": \"blue\", \"width\": 1.5}, \"opacity\": 0.6, \"path\": \"M 0.000000, 120.000000 C 0.200000, 120.000000 0.800000, 731.000000 1.000000, 731.000000\", \"type\": \"path\"}, {\"line\": {\"color\": \"blue\", \"width\": 1.5}, \"opacity\": 0.6, \"path\": \"M 0.000000, 199.000000 C 0.200000, 199.000000 0.800000, 299.000000 1.000000, 299.000000\", \"type\": \"path\"}, {\"line\": {\"color\": \"blue\", \"width\": 1.5}, \"opacity\": 0.6, \"path\": \"M 0.000000, 1157.000000 C 0.200000, 1157.000000 0.800000, 621.000000 1.000000, 621.000000\", \"type\": \"path\"}, {\"line\": {\"color\": \"blue\", \"width\": 1.5}, \"opacity\": 0.6, \"path\": \"M 0.000000, 29.000000 C 0.200000, 29.000000 0.800000, 854.000000 1.000000, 854.000000\", \"type\": \"path\"}, {\"line\": {\"color\": \"blue\", \"width\": 1.5}, \"opacity\": 0.6, \"path\": \"M 0.000000, 323.000000 C 0.200000, 323.000000 0.800000, 362.000000 1.000000, 362.000000\", \"type\": \"path\"}, {\"line\": {\"color\": \"blue\", \"width\": 1.5}, \"opacity\": 0.6, \"path\": \"M 0.000000, 368.000000 C 0.200000, 368.000000 0.800000, 375.000000 1.000000, 375.000000\", \"type\": \"path\"}, {\"line\": {\"color\": \"blue\", \"width\": 1.5}, \"opacity\": 0.6, \"path\": \"M 0.000000, 529.000000 C 0.200000, 529.000000 0.800000, 835.000000 1.000000, 835.000000\", \"type\": \"path\"}, {\"line\": {\"color\": \"blue\", \"width\": 1.5}, \"opacity\": 0.6, \"path\": \"M 0.000000, 1177.000000 C 0.200000, 1177.000000 0.800000, 861.000000 1.000000, 861.000000\", \"type\": \"path\"}, {\"line\": {\"color\": \"blue\", \"width\": 1.5}, \"opacity\": 0.6, \"path\": \"M 0.000000, 2.000000 C 0.200000, 2.000000 0.800000, 26.000000 1.000000, 26.000000\", \"type\": \"path\"}, {\"line\": {\"color\": \"blue\", \"width\": 1.5}, \"opacity\": 0.6, \"path\": \"M 0.000000, 1156.000000 C 0.200000, 1156.000000 0.800000, 507.000000 1.000000, 507.000000\", \"type\": \"path\"}, {\"line\": {\"color\": \"blue\", \"width\": 1.5}, \"opacity\": 0.6, \"path\": \"M 0.000000, 94.000000 C 0.200000, 94.000000 0.800000, 334.000000 1.000000, 334.000000\", \"type\": \"path\"}, {\"line\": {\"color\": \"blue\", \"width\": 1.5}, \"opacity\": 0.6, \"path\": \"M 0.000000, 412.000000 C 0.200000, 412.000000 0.800000, 209.000000 1.000000, 209.000000\", \"type\": \"path\"}, {\"line\": {\"color\": \"blue\", \"width\": 1.5}, \"opacity\": 0.6, \"path\": \"M 0.000000, 473.000000 C 0.200000, 473.000000 0.800000, 358.000000 1.000000, 358.000000\", \"type\": \"path\"}, {\"line\": {\"color\": \"blue\", \"width\": 1.5}, \"opacity\": 0.6, \"path\": \"M 0.000000, 245.000000 C 0.200000, 245.000000 0.800000, 1110.000000 1.000000, 1110.000000\", \"type\": \"path\"}, {\"line\": {\"color\": \"blue\", \"width\": 1.5}, \"opacity\": 0.6, \"path\": \"M 0.000000, 484.000000 C 0.200000, 484.000000 0.800000, 719.000000 1.000000, 719.000000\", \"type\": \"path\"}, {\"line\": {\"color\": \"blue\", \"width\": 1.5}, \"opacity\": 0.6, \"path\": \"M 0.000000, 18.000000 C 0.200000, 18.000000 0.800000, 57.000000 1.000000, 57.000000\", \"type\": \"path\"}, {\"line\": {\"color\": \"blue\", \"width\": 1.5}, \"opacity\": 0.6, \"path\": \"M 0.000000, 360.000000 C 0.200000, 360.000000 0.800000, 862.000000 1.000000, 862.000000\", \"type\": \"path\"}, {\"line\": {\"color\": \"blue\", \"width\": 1.5}, \"opacity\": 0.6, \"path\": \"M 0.000000, 126.000000 C 0.200000, 126.000000 0.800000, 536.000000 1.000000, 536.000000\", \"type\": \"path\"}, {\"line\": {\"color\": \"blue\", \"width\": 1.5}, \"opacity\": 0.6, \"path\": \"M 0.000000, 1125.000000 C 0.200000, 1125.000000 0.800000, 67.000000 1.000000, 67.000000\", \"type\": \"path\"}, {\"line\": {\"color\": \"blue\", \"width\": 1.5}, \"opacity\": 0.6, \"path\": \"M 0.000000, 42.000000 C 0.200000, 42.000000 0.800000, 583.000000 1.000000, 583.000000\", \"type\": \"path\"}, {\"line\": {\"color\": \"blue\", \"width\": 1.5}, \"opacity\": 0.6, \"path\": \"M 0.000000, 572.000000 C 0.200000, 572.000000 0.800000, 698.000000 1.000000, 698.000000\", \"type\": \"path\"}, {\"line\": {\"color\": \"blue\", \"width\": 1.5}, \"opacity\": 0.6, \"path\": \"M 0.000000, 1000.000000 C 0.200000, 1000.000000 0.800000, 836.000000 1.000000, 836.000000\", \"type\": \"path\"}, {\"line\": {\"color\": \"blue\", \"width\": 1.5}, \"opacity\": 0.6, \"path\": \"M 0.000000, 931.000000 C 0.200000, 931.000000 0.800000, 71.000000 1.000000, 71.000000\", \"type\": \"path\"}, {\"line\": {\"color\": \"blue\", \"width\": 1.5}, \"opacity\": 0.6, \"path\": \"M 0.000000, 532.000000 C 0.200000, 532.000000 0.800000, 173.000000 1.000000, 173.000000\", \"type\": \"path\"}, {\"line\": {\"color\": \"blue\", \"width\": 1.5}, \"opacity\": 0.6, \"path\": \"M 0.000000, 103.000000 C 0.200000, 103.000000 0.800000, 588.000000 1.000000, 588.000000\", \"type\": \"path\"}, {\"line\": {\"color\": \"blue\", \"width\": 1.5}, \"opacity\": 0.6, \"path\": \"M 0.000000, 120.000000 C 0.200000, 120.000000 0.800000, 458.000000 1.000000, 458.000000\", \"type\": \"path\"}, {\"line\": {\"color\": \"blue\", \"width\": 1.5}, \"opacity\": 0.6, \"path\": \"M 0.000000, 260.000000 C 0.200000, 260.000000 0.800000, 1246.000000 1.000000, 1246.000000\", \"type\": \"path\"}, {\"line\": {\"color\": \"blue\", \"width\": 1.5}, \"opacity\": 0.6, \"path\": \"M 0.000000, 751.000000 C 0.200000, 751.000000 0.800000, 586.000000 1.000000, 586.000000\", \"type\": \"path\"}, {\"line\": {\"color\": \"blue\", \"width\": 1.5}, \"opacity\": 0.6, \"path\": \"M 0.000000, 900.000000 C 0.200000, 900.000000 0.800000, 109.000000 1.000000, 109.000000\", \"type\": \"path\"}, {\"line\": {\"color\": \"blue\", \"width\": 1.5}, \"opacity\": 0.6, \"path\": \"M 0.000000, 603.000000 C 0.200000, 603.000000 0.800000, 117.000000 1.000000, 117.000000\", \"type\": \"path\"}, {\"line\": {\"color\": \"blue\", \"width\": 1.5}, \"opacity\": 0.6, \"path\": \"M 0.000000, 1198.000000 C 0.200000, 1198.000000 0.800000, 1009.000000 1.000000, 1009.000000\", \"type\": \"path\"}, {\"line\": {\"color\": \"blue\", \"width\": 1.5}, \"opacity\": 0.6, \"path\": \"M 0.000000, 782.000000 C 0.200000, 782.000000 0.800000, 215.000000 1.000000, 215.000000\", \"type\": \"path\"}, {\"line\": {\"color\": \"blue\", \"width\": 1.5}, \"opacity\": 0.6, \"path\": \"M 0.000000, 923.000000 C 0.200000, 923.000000 0.800000, 107.000000 1.000000, 107.000000\", \"type\": \"path\"}, {\"line\": {\"color\": \"blue\", \"width\": 1.5}, \"opacity\": 0.6, \"path\": \"M 0.000000, 464.000000 C 0.200000, 464.000000 0.800000, 41.000000 1.000000, 41.000000\", \"type\": \"path\"}, {\"line\": {\"color\": \"blue\", \"width\": 1.5}, \"opacity\": 0.6, \"path\": \"M 0.000000, 359.000000 C 0.200000, 359.000000 0.800000, 988.000000 1.000000, 988.000000\", \"type\": \"path\"}, {\"line\": {\"color\": \"blue\", \"width\": 1.5}, \"opacity\": 0.6, \"path\": \"M 0.000000, 1132.000000 C 0.200000, 1132.000000 0.800000, 480.000000 1.000000, 480.000000\", \"type\": \"path\"}, {\"line\": {\"color\": \"blue\", \"width\": 1.5}, \"opacity\": 0.6, \"path\": \"M 0.000000, 1007.000000 C 0.200000, 1007.000000 0.800000, 1226.000000 1.000000, 1226.000000\", \"type\": \"path\"}, {\"line\": {\"color\": \"blue\", \"width\": 1.5}, \"opacity\": 0.6, \"path\": \"M 0.000000, 887.000000 C 0.200000, 887.000000 0.800000, 800.000000 1.000000, 800.000000\", \"type\": \"path\"}, {\"line\": {\"color\": \"blue\", \"width\": 1.5}, \"opacity\": 0.6, \"path\": \"M 0.000000, 506.000000 C 0.200000, 506.000000 0.800000, 452.000000 1.000000, 452.000000\", \"type\": \"path\"}, {\"line\": {\"color\": \"blue\", \"width\": 1.5}, \"opacity\": 0.6, \"path\": \"M 0.000000, 66.000000 C 0.200000, 66.000000 0.800000, 585.000000 1.000000, 585.000000\", \"type\": \"path\"}, {\"line\": {\"color\": \"blue\", \"width\": 1.5}, \"opacity\": 0.6, \"path\": \"M 0.000000, 1127.000000 C 0.200000, 1127.000000 0.800000, 150.000000 1.000000, 150.000000\", \"type\": \"path\"}, {\"line\": {\"color\": \"blue\", \"width\": 1.5}, \"opacity\": 0.6, \"path\": \"M 0.000000, 549.000000 C 0.200000, 549.000000 0.800000, 865.000000 1.000000, 865.000000\", \"type\": \"path\"}, {\"line\": {\"color\": \"blue\", \"width\": 1.5}, \"opacity\": 0.6, \"path\": \"M 0.000000, 646.000000 C 0.200000, 646.000000 0.800000, 661.000000 1.000000, 661.000000\", \"type\": \"path\"}, {\"line\": {\"color\": \"blue\", \"width\": 1.5}, \"opacity\": 0.6, \"path\": \"M 0.000000, 1048.000000 C 0.200000, 1048.000000 0.800000, 1061.000000 1.000000, 1061.000000\", \"type\": \"path\"}, {\"line\": {\"color\": \"blue\", \"width\": 1.5}, \"opacity\": 0.6, \"path\": \"M 0.000000, 98.000000 C 0.200000, 98.000000 0.800000, 1257.000000 1.000000, 1257.000000\", \"type\": \"path\"}, {\"line\": {\"color\": \"blue\", \"width\": 1.5}, \"opacity\": 0.6, \"path\": \"M 0.000000, 2.000000 C 0.200000, 2.000000 0.800000, 1007.000000 1.000000, 1007.000000\", \"type\": \"path\"}, {\"line\": {\"color\": \"blue\", \"width\": 1.5}, \"opacity\": 0.6, \"path\": \"M 0.000000, 41.000000 C 0.200000, 41.000000 0.800000, 923.000000 1.000000, 923.000000\", \"type\": \"path\"}, {\"line\": {\"color\": \"blue\", \"width\": 1.5}, \"opacity\": 0.6, \"path\": \"M 0.000000, 421.000000 C 0.200000, 421.000000 0.800000, 198.000000 1.000000, 198.000000\", \"type\": \"path\"}, {\"line\": {\"color\": \"blue\", \"width\": 1.5}, \"opacity\": 0.6, \"path\": \"M 0.000000, 56.000000 C 0.200000, 56.000000 0.800000, 138.000000 1.000000, 138.000000\", \"type\": \"path\"}, {\"line\": {\"color\": \"blue\", \"width\": 1.5}, \"opacity\": 0.6, \"path\": \"M 0.000000, 860.000000 C 0.200000, 860.000000 0.800000, 504.000000 1.000000, 504.000000\", \"type\": \"path\"}, {\"line\": {\"color\": \"blue\", \"width\": 1.5}, \"opacity\": 0.6, \"path\": \"M 0.000000, 273.000000 C 0.200000, 273.000000 0.800000, 689.000000 1.000000, 689.000000\", \"type\": \"path\"}, {\"line\": {\"color\": \"blue\", \"width\": 1.5}, \"opacity\": 0.6, \"path\": \"M 0.000000, 382.000000 C 0.200000, 382.000000 0.800000, 128.000000 1.000000, 128.000000\", \"type\": \"path\"}, {\"line\": {\"color\": \"blue\", \"width\": 1.5}, \"opacity\": 0.6, \"path\": \"M 0.000000, 1259.000000 C 0.200000, 1259.000000 0.800000, 895.000000 1.000000, 895.000000\", \"type\": \"path\"}, {\"line\": {\"color\": \"blue\", \"width\": 1.5}, \"opacity\": 0.6, \"path\": \"M 0.000000, 826.000000 C 0.200000, 826.000000 0.800000, 1259.000000 1.000000, 1259.000000\", \"type\": \"path\"}, {\"line\": {\"color\": \"blue\", \"width\": 1.5}, \"opacity\": 0.6, \"path\": \"M 0.000000, 861.000000 C 0.200000, 861.000000 0.800000, 1102.000000 1.000000, 1102.000000\", \"type\": \"path\"}, {\"line\": {\"color\": \"blue\", \"width\": 1.5}, \"opacity\": 0.6, \"path\": \"M 0.000000, 865.000000 C 0.200000, 865.000000 0.800000, 56.000000 1.000000, 56.000000\", \"type\": \"path\"}, {\"line\": {\"color\": \"blue\", \"width\": 1.5}, \"opacity\": 0.6, \"path\": \"M 0.000000, 1001.000000 C 0.200000, 1001.000000 0.800000, 209.000000 1.000000, 209.000000\", \"type\": \"path\"}, {\"line\": {\"color\": \"blue\", \"width\": 1.5}, \"opacity\": 0.6, \"path\": \"M 0.000000, 6.000000 C 0.200000, 6.000000 0.800000, 483.000000 1.000000, 483.000000\", \"type\": \"path\"}, {\"line\": {\"color\": \"blue\", \"width\": 1.5}, \"opacity\": 0.6, \"path\": \"M 0.000000, 944.000000 C 0.200000, 944.000000 0.800000, 502.000000 1.000000, 502.000000\", \"type\": \"path\"}, {\"line\": {\"color\": \"blue\", \"width\": 1.5}, \"opacity\": 0.6, \"path\": \"M 0.000000, 1067.000000 C 0.200000, 1067.000000 0.800000, 497.000000 1.000000, 497.000000\", \"type\": \"path\"}, {\"line\": {\"color\": \"blue\", \"width\": 1.5}, \"opacity\": 0.6, \"path\": \"M 0.000000, 1199.000000 C 0.200000, 1199.000000 0.800000, 359.000000 1.000000, 359.000000\", \"type\": \"path\"}, {\"line\": {\"color\": \"blue\", \"width\": 1.5}, \"opacity\": 0.6, \"path\": \"M 0.000000, 738.000000 C 0.200000, 738.000000 0.800000, 12.000000 1.000000, 12.000000\", \"type\": \"path\"}, {\"line\": {\"color\": \"blue\", \"width\": 1.5}, \"opacity\": 0.6, \"path\": \"M 0.000000, 694.000000 C 0.200000, 694.000000 0.800000, 256.000000 1.000000, 256.000000\", \"type\": \"path\"}, {\"line\": {\"color\": \"blue\", \"width\": 1.5}, \"opacity\": 0.6, \"path\": \"M 0.000000, 1185.000000 C 0.200000, 1185.000000 0.800000, 345.000000 1.000000, 345.000000\", \"type\": \"path\"}, {\"line\": {\"color\": \"blue\", \"width\": 1.5}, \"opacity\": 0.6, \"path\": \"M 0.000000, 677.000000 C 0.200000, 677.000000 0.800000, 1239.000000 1.000000, 1239.000000\", \"type\": \"path\"}, {\"line\": {\"color\": \"blue\", \"width\": 1.5}, \"opacity\": 0.6, \"path\": \"M 0.000000, 946.000000 C 0.200000, 946.000000 0.800000, 69.000000 1.000000, 69.000000\", \"type\": \"path\"}, {\"line\": {\"color\": \"blue\", \"width\": 1.5}, \"opacity\": 0.6, \"path\": \"M 0.000000, 1118.000000 C 0.200000, 1118.000000 0.800000, 805.000000 1.000000, 805.000000\", \"type\": \"path\"}, {\"line\": {\"color\": \"blue\", \"width\": 1.5}, \"opacity\": 0.6, \"path\": \"M 0.000000, 554.000000 C 0.200000, 554.000000 0.800000, 717.000000 1.000000, 717.000000\", \"type\": \"path\"}, {\"line\": {\"color\": \"blue\", \"width\": 1.5}, \"opacity\": 0.6, \"path\": \"M 0.000000, 724.000000 C 0.200000, 724.000000 0.800000, 188.000000 1.000000, 188.000000\", \"type\": \"path\"}, {\"line\": {\"color\": \"blue\", \"width\": 1.5}, \"opacity\": 0.6, \"path\": \"M 0.000000, 447.000000 C 0.200000, 447.000000 0.800000, 864.000000 1.000000, 864.000000\", \"type\": \"path\"}, {\"line\": {\"color\": \"blue\", \"width\": 1.5}, \"opacity\": 0.6, \"path\": \"M 0.000000, 462.000000 C 0.200000, 462.000000 0.800000, 1224.000000 1.000000, 1224.000000\", \"type\": \"path\"}, {\"line\": {\"color\": \"blue\", \"width\": 1.5}, \"opacity\": 0.6, \"path\": \"M 0.000000, 251.000000 C 0.200000, 251.000000 0.800000, 300.000000 1.000000, 300.000000\", \"type\": \"path\"}, {\"line\": {\"color\": \"blue\", \"width\": 1.5}, \"opacity\": 0.6, \"path\": \"M 0.000000, 164.000000 C 0.200000, 164.000000 0.800000, 594.000000 1.000000, 594.000000\", \"type\": \"path\"}, {\"line\": {\"color\": \"blue\", \"width\": 1.5}, \"opacity\": 0.6, \"path\": \"M 0.000000, 820.000000 C 0.200000, 820.000000 0.800000, 1261.000000 1.000000, 1261.000000\", \"type\": \"path\"}, {\"line\": {\"color\": \"blue\", \"width\": 1.5}, \"opacity\": 0.6, \"path\": \"M 0.000000, 1103.000000 C 0.200000, 1103.000000 0.800000, 220.000000 1.000000, 220.000000\", \"type\": \"path\"}, {\"line\": {\"color\": \"blue\", \"width\": 1.5}, \"opacity\": 0.6, \"path\": \"M 0.000000, 277.000000 C 0.200000, 277.000000 0.800000, 939.000000 1.000000, 939.000000\", \"type\": \"path\"}, {\"line\": {\"color\": \"blue\", \"width\": 1.5}, \"opacity\": 0.6, \"path\": \"M 0.000000, 1060.000000 C 0.200000, 1060.000000 0.800000, 862.000000 1.000000, 862.000000\", \"type\": \"path\"}, {\"line\": {\"color\": \"blue\", \"width\": 1.5}, \"opacity\": 0.6, \"path\": \"M 0.000000, 887.000000 C 0.200000, 887.000000 0.800000, 128.000000 1.000000, 128.000000\", \"type\": \"path\"}, {\"line\": {\"color\": \"blue\", \"width\": 1.5}, \"opacity\": 0.6, \"path\": \"M 0.000000, 1037.000000 C 0.200000, 1037.000000 0.800000, 1012.000000 1.000000, 1012.000000\", \"type\": \"path\"}, {\"line\": {\"color\": \"blue\", \"width\": 1.5}, \"opacity\": 0.6, \"path\": \"M 0.000000, 1148.000000 C 0.200000, 1148.000000 0.800000, 402.000000 1.000000, 402.000000\", \"type\": \"path\"}, {\"line\": {\"color\": \"blue\", \"width\": 1.5}, \"opacity\": 0.6, \"path\": \"M 0.000000, 350.000000 C 0.200000, 350.000000 0.800000, 1036.000000 1.000000, 1036.000000\", \"type\": \"path\"}, {\"line\": {\"color\": \"blue\", \"width\": 1.5}, \"opacity\": 0.6, \"path\": \"M 0.000000, 1237.000000 C 0.200000, 1237.000000 0.800000, 991.000000 1.000000, 991.000000\", \"type\": \"path\"}, {\"line\": {\"color\": \"blue\", \"width\": 1.5}, \"opacity\": 0.6, \"path\": \"M 0.000000, 242.000000 C 0.200000, 242.000000 0.800000, 270.000000 1.000000, 270.000000\", \"type\": \"path\"}, {\"line\": {\"color\": \"blue\", \"width\": 1.5}, \"opacity\": 0.6, \"path\": \"M 0.000000, 675.000000 C 0.200000, 675.000000 0.800000, 331.000000 1.000000, 331.000000\", \"type\": \"path\"}, {\"line\": {\"color\": \"blue\", \"width\": 1.5}, \"opacity\": 0.6, \"path\": \"M 0.000000, 723.000000 C 0.200000, 723.000000 0.800000, 639.000000 1.000000, 639.000000\", \"type\": \"path\"}, {\"line\": {\"color\": \"blue\", \"width\": 1.5}, \"opacity\": 0.6, \"path\": \"M 0.000000, 1253.000000 C 0.200000, 1253.000000 0.800000, 928.000000 1.000000, 928.000000\", \"type\": \"path\"}, {\"line\": {\"color\": \"blue\", \"width\": 1.5}, \"opacity\": 0.6, \"path\": \"M 0.000000, 826.000000 C 0.200000, 826.000000 0.800000, 664.000000 1.000000, 664.000000\", \"type\": \"path\"}, {\"line\": {\"color\": \"blue\", \"width\": 1.5}, \"opacity\": 0.6, \"path\": \"M 0.000000, 547.000000 C 0.200000, 547.000000 0.800000, 797.000000 1.000000, 797.000000\", \"type\": \"path\"}, {\"line\": {\"color\": \"blue\", \"width\": 1.5}, \"opacity\": 0.6, \"path\": \"M 0.000000, 1085.000000 C 0.200000, 1085.000000 0.800000, 487.000000 1.000000, 487.000000\", \"type\": \"path\"}, {\"line\": {\"color\": \"blue\", \"width\": 1.5}, \"opacity\": 0.6, \"path\": \"M 0.000000, 676.000000 C 0.200000, 676.000000 0.800000, 595.000000 1.000000, 595.000000\", \"type\": \"path\"}, {\"line\": {\"color\": \"blue\", \"width\": 1.5}, \"opacity\": 0.6, \"path\": \"M 0.000000, 155.000000 C 0.200000, 155.000000 0.800000, 311.000000 1.000000, 311.000000\", \"type\": \"path\"}, {\"line\": {\"color\": \"blue\", \"width\": 1.5}, \"opacity\": 0.6, \"path\": \"M 0.000000, 1042.000000 C 0.200000, 1042.000000 0.800000, 967.000000 1.000000, 967.000000\", \"type\": \"path\"}, {\"line\": {\"color\": \"blue\", \"width\": 1.5}, \"opacity\": 0.6, \"path\": \"M 0.000000, 281.000000 C 0.200000, 281.000000 0.800000, 1052.000000 1.000000, 1052.000000\", \"type\": \"path\"}, {\"line\": {\"color\": \"blue\", \"width\": 1.5}, \"opacity\": 0.6, \"path\": \"M 0.000000, 969.000000 C 0.200000, 969.000000 0.800000, 947.000000 1.000000, 947.000000\", \"type\": \"path\"}, {\"line\": {\"color\": \"blue\", \"width\": 1.5}, \"opacity\": 0.6, \"path\": \"M 0.000000, 820.000000 C 0.200000, 820.000000 0.800000, 1221.000000 1.000000, 1221.000000\", \"type\": \"path\"}, {\"line\": {\"color\": \"blue\", \"width\": 1.5}, \"opacity\": 0.6, \"path\": \"M 0.000000, 963.000000 C 0.200000, 963.000000 0.800000, 8.000000 1.000000, 8.000000\", \"type\": \"path\"}, {\"line\": {\"color\": \"blue\", \"width\": 1.5}, \"opacity\": 0.6, \"path\": \"M 0.000000, 966.000000 C 0.200000, 966.000000 0.800000, 785.000000 1.000000, 785.000000\", \"type\": \"path\"}, {\"line\": {\"color\": \"blue\", \"width\": 1.5}, \"opacity\": 0.6, \"path\": \"M 0.000000, 933.000000 C 0.200000, 933.000000 0.800000, 1052.000000 1.000000, 1052.000000\", \"type\": \"path\"}, {\"line\": {\"color\": \"blue\", \"width\": 1.5}, \"opacity\": 0.6, \"path\": \"M 0.000000, 2.000000 C 0.200000, 2.000000 0.800000, 803.000000 1.000000, 803.000000\", \"type\": \"path\"}, {\"line\": {\"color\": \"blue\", \"width\": 1.5}, \"opacity\": 0.6, \"path\": \"M 0.000000, 558.000000 C 0.200000, 558.000000 0.800000, 53.000000 1.000000, 53.000000\", \"type\": \"path\"}, {\"line\": {\"color\": \"blue\", \"width\": 1.5}, \"opacity\": 0.6, \"path\": \"M 0.000000, 108.000000 C 0.200000, 108.000000 0.800000, 806.000000 1.000000, 806.000000\", \"type\": \"path\"}, {\"line\": {\"color\": \"blue\", \"width\": 1.5}, \"opacity\": 0.6, \"path\": \"M 0.000000, 921.000000 C 0.200000, 921.000000 0.800000, 423.000000 1.000000, 423.000000\", \"type\": \"path\"}, {\"line\": {\"color\": \"blue\", \"width\": 1.5}, \"opacity\": 0.6, \"path\": \"M 0.000000, 371.000000 C 0.200000, 371.000000 0.800000, 996.000000 1.000000, 996.000000\", \"type\": \"path\"}, {\"line\": {\"color\": \"blue\", \"width\": 1.5}, \"opacity\": 0.6, \"path\": \"M 0.000000, 927.000000 C 0.200000, 927.000000 0.800000, 1129.000000 1.000000, 1129.000000\", \"type\": \"path\"}, {\"line\": {\"color\": \"blue\", \"width\": 1.5}, \"opacity\": 0.6, \"path\": \"M 0.000000, 1091.000000 C 0.200000, 1091.000000 0.800000, 5.000000 1.000000, 5.000000\", \"type\": \"path\"}, {\"line\": {\"color\": \"blue\", \"width\": 1.5}, \"opacity\": 0.6, \"path\": \"M 0.000000, 944.000000 C 0.200000, 944.000000 0.800000, 74.000000 1.000000, 74.000000\", \"type\": \"path\"}, {\"line\": {\"color\": \"blue\", \"width\": 1.5}, \"opacity\": 0.6, \"path\": \"M 0.000000, 116.000000 C 0.200000, 116.000000 0.800000, 989.000000 1.000000, 989.000000\", \"type\": \"path\"}, {\"line\": {\"color\": \"blue\", \"width\": 1.5}, \"opacity\": 0.6, \"path\": \"M 0.000000, 1140.000000 C 0.200000, 1140.000000 0.800000, 36.000000 1.000000, 36.000000\", \"type\": \"path\"}, {\"line\": {\"color\": \"blue\", \"width\": 1.5}, \"opacity\": 0.6, \"path\": \"M 0.000000, 990.000000 C 0.200000, 990.000000 0.800000, 406.000000 1.000000, 406.000000\", \"type\": \"path\"}, {\"line\": {\"color\": \"blue\", \"width\": 1.5}, \"opacity\": 0.6, \"path\": \"M 0.000000, 704.000000 C 0.200000, 704.000000 0.800000, 1115.000000 1.000000, 1115.000000\", \"type\": \"path\"}, {\"line\": {\"color\": \"blue\", \"width\": 1.5}, \"opacity\": 0.6, \"path\": \"M 0.000000, 1164.000000 C 0.200000, 1164.000000 0.800000, 1005.000000 1.000000, 1005.000000\", \"type\": \"path\"}, {\"line\": {\"color\": \"blue\", \"width\": 1.5}, \"opacity\": 0.6, \"path\": \"M 0.000000, 27.000000 C 0.200000, 27.000000 0.800000, 35.000000 1.000000, 35.000000\", \"type\": \"path\"}, {\"line\": {\"color\": \"blue\", \"width\": 1.5}, \"opacity\": 0.6, \"path\": \"M 0.000000, 1264.000000 C 0.200000, 1264.000000 0.800000, 426.000000 1.000000, 426.000000\", \"type\": \"path\"}, {\"line\": {\"color\": \"blue\", \"width\": 1.5}, \"opacity\": 0.6, \"path\": \"M 0.000000, 321.000000 C 0.200000, 321.000000 0.800000, 872.000000 1.000000, 872.000000\", \"type\": \"path\"}, {\"line\": {\"color\": \"blue\", \"width\": 1.5}, \"opacity\": 0.6, \"path\": \"M 0.000000, 1138.000000 C 0.200000, 1138.000000 0.800000, 1048.000000 1.000000, 1048.000000\", \"type\": \"path\"}, {\"line\": {\"color\": \"blue\", \"width\": 1.5}, \"opacity\": 0.6, \"path\": \"M 0.000000, 1087.000000 C 0.200000, 1087.000000 0.800000, 1272.000000 1.000000, 1272.000000\", \"type\": \"path\"}, {\"line\": {\"color\": \"blue\", \"width\": 1.5}, \"opacity\": 0.6, \"path\": \"M 0.000000, 669.000000 C 0.200000, 669.000000 0.800000, 737.000000 1.000000, 737.000000\", \"type\": \"path\"}, {\"line\": {\"color\": \"blue\", \"width\": 1.5}, \"opacity\": 0.6, \"path\": \"M 0.000000, 143.000000 C 0.200000, 143.000000 0.800000, 1141.000000 1.000000, 1141.000000\", \"type\": \"path\"}, {\"line\": {\"color\": \"blue\", \"width\": 1.5}, \"opacity\": 0.6, \"path\": \"M 0.000000, 618.000000 C 0.200000, 618.000000 0.800000, 62.000000 1.000000, 62.000000\", \"type\": \"path\"}, {\"line\": {\"color\": \"blue\", \"width\": 1.5}, \"opacity\": 0.6, \"path\": \"M 0.000000, 695.000000 C 0.200000, 695.000000 0.800000, 432.000000 1.000000, 432.000000\", \"type\": \"path\"}, {\"line\": {\"color\": \"blue\", \"width\": 1.5}, \"opacity\": 0.6, \"path\": \"M 0.000000, 906.000000 C 0.200000, 906.000000 0.800000, 813.000000 1.000000, 813.000000\", \"type\": \"path\"}, {\"line\": {\"color\": \"blue\", \"width\": 1.5}, \"opacity\": 0.6, \"path\": \"M 0.000000, 231.000000 C 0.200000, 231.000000 0.800000, 167.000000 1.000000, 167.000000\", \"type\": \"path\"}, {\"line\": {\"color\": \"blue\", \"width\": 1.5}, \"opacity\": 0.6, \"path\": \"M 0.000000, 863.000000 C 0.200000, 863.000000 0.800000, 640.000000 1.000000, 640.000000\", \"type\": \"path\"}, {\"line\": {\"color\": \"blue\", \"width\": 1.5}, \"opacity\": 0.6, \"path\": \"M 0.000000, 41.000000 C 0.200000, 41.000000 0.800000, 743.000000 1.000000, 743.000000\", \"type\": \"path\"}, {\"line\": {\"color\": \"blue\", \"width\": 1.5}, \"opacity\": 0.6, \"path\": \"M 0.000000, 62.000000 C 0.200000, 62.000000 0.800000, 726.000000 1.000000, 726.000000\", \"type\": \"path\"}, {\"line\": {\"color\": \"blue\", \"width\": 1.5}, \"opacity\": 0.6, \"path\": \"M 0.000000, 515.000000 C 0.200000, 515.000000 0.800000, 1110.000000 1.000000, 1110.000000\", \"type\": \"path\"}, {\"line\": {\"color\": \"blue\", \"width\": 1.5}, \"opacity\": 0.6, \"path\": \"M 0.000000, 710.000000 C 0.200000, 710.000000 0.800000, 514.000000 1.000000, 514.000000\", \"type\": \"path\"}, {\"line\": {\"color\": \"blue\", \"width\": 1.5}, \"opacity\": 0.6, \"path\": \"M 0.000000, 480.000000 C 0.200000, 480.000000 0.800000, 527.000000 1.000000, 527.000000\", \"type\": \"path\"}, {\"line\": {\"color\": \"blue\", \"width\": 1.5}, \"opacity\": 0.6, \"path\": \"M 0.000000, 1080.000000 C 0.200000, 1080.000000 0.800000, 1184.000000 1.000000, 1184.000000\", \"type\": \"path\"}, {\"line\": {\"color\": \"blue\", \"width\": 1.5}, \"opacity\": 0.6, \"path\": \"M 0.000000, 753.000000 C 0.200000, 753.000000 0.800000, 42.000000 1.000000, 42.000000\", \"type\": \"path\"}, {\"line\": {\"color\": \"blue\", \"width\": 1.5}, \"opacity\": 0.6, \"path\": \"M 0.000000, 530.000000 C 0.200000, 530.000000 0.800000, 1221.000000 1.000000, 1221.000000\", \"type\": \"path\"}, {\"line\": {\"color\": \"blue\", \"width\": 1.5}, \"opacity\": 0.6, \"path\": \"M 0.000000, 1210.000000 C 0.200000, 1210.000000 0.800000, 25.000000 1.000000, 25.000000\", \"type\": \"path\"}, {\"line\": {\"color\": \"blue\", \"width\": 1.5}, \"opacity\": 0.6, \"path\": \"M 0.000000, 1226.000000 C 0.200000, 1226.000000 0.800000, 768.000000 1.000000, 768.000000\", \"type\": \"path\"}, {\"line\": {\"color\": \"blue\", \"width\": 1.5}, \"opacity\": 0.6, \"path\": \"M 0.000000, 738.000000 C 0.200000, 738.000000 0.800000, 589.000000 1.000000, 589.000000\", \"type\": \"path\"}, {\"line\": {\"color\": \"blue\", \"width\": 1.5}, \"opacity\": 0.6, \"path\": \"M 0.000000, 646.000000 C 0.200000, 646.000000 0.800000, 1241.000000 1.000000, 1241.000000\", \"type\": \"path\"}, {\"line\": {\"color\": \"blue\", \"width\": 1.5}, \"opacity\": 0.6, \"path\": \"M 0.000000, 1041.000000 C 0.200000, 1041.000000 0.800000, 1116.000000 1.000000, 1116.000000\", \"type\": \"path\"}, {\"line\": {\"color\": \"blue\", \"width\": 1.5}, \"opacity\": 0.6, \"path\": \"M 0.000000, 789.000000 C 0.200000, 789.000000 0.800000, 1178.000000 1.000000, 1178.000000\", \"type\": \"path\"}, {\"line\": {\"color\": \"blue\", \"width\": 1.5}, \"opacity\": 0.6, \"path\": \"M 0.000000, 936.000000 C 0.200000, 936.000000 0.800000, 276.000000 1.000000, 276.000000\", \"type\": \"path\"}, {\"line\": {\"color\": \"blue\", \"width\": 1.5}, \"opacity\": 0.6, \"path\": \"M 0.000000, 312.000000 C 0.200000, 312.000000 0.800000, 788.000000 1.000000, 788.000000\", \"type\": \"path\"}, {\"line\": {\"color\": \"blue\", \"width\": 1.5}, \"opacity\": 0.6, \"path\": \"M 0.000000, 727.000000 C 0.200000, 727.000000 0.800000, 943.000000 1.000000, 943.000000\", \"type\": \"path\"}, {\"line\": {\"color\": \"blue\", \"width\": 1.5}, \"opacity\": 0.6, \"path\": \"M 0.000000, 686.000000 C 0.200000, 686.000000 0.800000, 1048.000000 1.000000, 1048.000000\", \"type\": \"path\"}, {\"line\": {\"color\": \"blue\", \"width\": 1.5}, \"opacity\": 0.6, \"path\": \"M 0.000000, 864.000000 C 0.200000, 864.000000 0.800000, 733.000000 1.000000, 733.000000\", \"type\": \"path\"}, {\"line\": {\"color\": \"blue\", \"width\": 1.5}, \"opacity\": 0.6, \"path\": \"M 0.000000, 277.000000 C 0.200000, 277.000000 0.800000, 63.000000 1.000000, 63.000000\", \"type\": \"path\"}, {\"line\": {\"color\": \"blue\", \"width\": 1.5}, \"opacity\": 0.6, \"path\": \"M 0.000000, 262.000000 C 0.200000, 262.000000 0.800000, 158.000000 1.000000, 158.000000\", \"type\": \"path\"}, {\"line\": {\"color\": \"blue\", \"width\": 1.5}, \"opacity\": 0.6, \"path\": \"M 0.000000, 602.000000 C 0.200000, 602.000000 0.800000, 1237.000000 1.000000, 1237.000000\", \"type\": \"path\"}, {\"line\": {\"color\": \"blue\", \"width\": 1.5}, \"opacity\": 0.6, \"path\": \"M 0.000000, 1019.000000 C 0.200000, 1019.000000 0.800000, 1152.000000 1.000000, 1152.000000\", \"type\": \"path\"}, {\"line\": {\"color\": \"blue\", \"width\": 1.5}, \"opacity\": 0.6, \"path\": \"M 0.000000, 894.000000 C 0.200000, 894.000000 0.800000, 797.000000 1.000000, 797.000000\", \"type\": \"path\"}, {\"line\": {\"color\": \"blue\", \"width\": 1.5}, \"opacity\": 0.6, \"path\": \"M 0.000000, 16.000000 C 0.200000, 16.000000 0.800000, 161.000000 1.000000, 161.000000\", \"type\": \"path\"}, {\"line\": {\"color\": \"blue\", \"width\": 1.5}, \"opacity\": 0.6, \"path\": \"M 0.000000, 795.000000 C 0.200000, 795.000000 0.800000, 1243.000000 1.000000, 1243.000000\", \"type\": \"path\"}, {\"line\": {\"color\": \"blue\", \"width\": 1.5}, \"opacity\": 0.6, \"path\": \"M 0.000000, 929.000000 C 0.200000, 929.000000 0.800000, 683.000000 1.000000, 683.000000\", \"type\": \"path\"}, {\"line\": {\"color\": \"blue\", \"width\": 1.5}, \"opacity\": 0.6, \"path\": \"M 0.000000, 970.000000 C 0.200000, 970.000000 0.800000, 1108.000000 1.000000, 1108.000000\", \"type\": \"path\"}, {\"line\": {\"color\": \"blue\", \"width\": 1.5}, \"opacity\": 0.6, \"path\": \"M 0.000000, 752.000000 C 0.200000, 752.000000 0.800000, 841.000000 1.000000, 841.000000\", \"type\": \"path\"}, {\"line\": {\"color\": \"blue\", \"width\": 1.5}, \"opacity\": 0.6, \"path\": \"M 0.000000, 992.000000 C 0.200000, 992.000000 0.800000, 1148.000000 1.000000, 1148.000000\", \"type\": \"path\"}, {\"line\": {\"color\": \"blue\", \"width\": 1.5}, \"opacity\": 0.6, \"path\": \"M 0.000000, 218.000000 C 0.200000, 218.000000 0.800000, 1025.000000 1.000000, 1025.000000\", \"type\": \"path\"}, {\"line\": {\"color\": \"blue\", \"width\": 1.5}, \"opacity\": 0.6, \"path\": \"M 0.000000, 650.000000 C 0.200000, 650.000000 0.800000, 1135.000000 1.000000, 1135.000000\", \"type\": \"path\"}, {\"line\": {\"color\": \"blue\", \"width\": 1.5}, \"opacity\": 0.6, \"path\": \"M 0.000000, 317.000000 C 0.200000, 317.000000 0.800000, 715.000000 1.000000, 715.000000\", \"type\": \"path\"}, {\"line\": {\"color\": \"blue\", \"width\": 1.5}, \"opacity\": 0.6, \"path\": \"M 0.000000, 930.000000 C 0.200000, 930.000000 0.800000, 477.000000 1.000000, 477.000000\", \"type\": \"path\"}, {\"line\": {\"color\": \"blue\", \"width\": 1.5}, \"opacity\": 0.6, \"path\": \"M 0.000000, 500.000000 C 0.200000, 500.000000 0.800000, 792.000000 1.000000, 792.000000\", \"type\": \"path\"}, {\"line\": {\"color\": \"blue\", \"width\": 1.5}, \"opacity\": 0.6, \"path\": \"M 0.000000, 62.000000 C 0.200000, 62.000000 0.800000, 525.000000 1.000000, 525.000000\", \"type\": \"path\"}, {\"line\": {\"color\": \"blue\", \"width\": 1.5}, \"opacity\": 0.6, \"path\": \"M 0.000000, 1137.000000 C 0.200000, 1137.000000 0.800000, 309.000000 1.000000, 309.000000\", \"type\": \"path\"}, {\"line\": {\"color\": \"blue\", \"width\": 1.5}, \"opacity\": 0.6, \"path\": \"M 0.000000, 152.000000 C 0.200000, 152.000000 0.800000, 88.000000 1.000000, 88.000000\", \"type\": \"path\"}, {\"line\": {\"color\": \"blue\", \"width\": 1.5}, \"opacity\": 0.6, \"path\": \"M 0.000000, 1218.000000 C 0.200000, 1218.000000 0.800000, 1266.000000 1.000000, 1266.000000\", \"type\": \"path\"}, {\"line\": {\"color\": \"blue\", \"width\": 1.5}, \"opacity\": 0.6, \"path\": \"M 0.000000, 1119.000000 C 0.200000, 1119.000000 0.800000, 311.000000 1.000000, 311.000000\", \"type\": \"path\"}, {\"line\": {\"color\": \"blue\", \"width\": 1.5}, \"opacity\": 0.6, \"path\": \"M 0.000000, 996.000000 C 0.200000, 996.000000 0.800000, 726.000000 1.000000, 726.000000\", \"type\": \"path\"}, {\"line\": {\"color\": \"blue\", \"width\": 1.5}, \"opacity\": 0.6, \"path\": \"M 0.000000, 696.000000 C 0.200000, 696.000000 0.800000, 274.000000 1.000000, 274.000000\", \"type\": \"path\"}, {\"line\": {\"color\": \"blue\", \"width\": 1.5}, \"opacity\": 0.6, \"path\": \"M 0.000000, 872.000000 C 0.200000, 872.000000 0.800000, 763.000000 1.000000, 763.000000\", \"type\": \"path\"}, {\"line\": {\"color\": \"blue\", \"width\": 1.5}, \"opacity\": 0.6, \"path\": \"M 0.000000, 628.000000 C 0.200000, 628.000000 0.800000, 1202.000000 1.000000, 1202.000000\", \"type\": \"path\"}, {\"line\": {\"color\": \"blue\", \"width\": 1.5}, \"opacity\": 0.6, \"path\": \"M 0.000000, 247.000000 C 0.200000, 247.000000 0.800000, 471.000000 1.000000, 471.000000\", \"type\": \"path\"}, {\"line\": {\"color\": \"blue\", \"width\": 1.5}, \"opacity\": 0.6, \"path\": \"M 0.000000, 7.000000 C 0.200000, 7.000000 0.800000, 272.000000 1.000000, 272.000000\", \"type\": \"path\"}, {\"line\": {\"color\": \"blue\", \"width\": 1.5}, \"opacity\": 0.6, \"path\": \"M 0.000000, 737.000000 C 0.200000, 737.000000 0.800000, 824.000000 1.000000, 824.000000\", \"type\": \"path\"}, {\"line\": {\"color\": \"blue\", \"width\": 1.5}, \"opacity\": 0.6, \"path\": \"M 0.000000, 662.000000 C 0.200000, 662.000000 0.800000, 868.000000 1.000000, 868.000000\", \"type\": \"path\"}, {\"line\": {\"color\": \"blue\", \"width\": 1.5}, \"opacity\": 0.6, \"path\": \"M 0.000000, 998.000000 C 0.200000, 998.000000 0.800000, 617.000000 1.000000, 617.000000\", \"type\": \"path\"}, {\"line\": {\"color\": \"blue\", \"width\": 1.5}, \"opacity\": 0.6, \"path\": \"M 0.000000, 381.000000 C 0.200000, 381.000000 0.800000, 261.000000 1.000000, 261.000000\", \"type\": \"path\"}, {\"line\": {\"color\": \"blue\", \"width\": 1.5}, \"opacity\": 0.6, \"path\": \"M 0.000000, 350.000000 C 0.200000, 350.000000 0.800000, 13.000000 1.000000, 13.000000\", \"type\": \"path\"}, {\"line\": {\"color\": \"blue\", \"width\": 1.5}, \"opacity\": 0.6, \"path\": \"M 0.000000, 582.000000 C 0.200000, 582.000000 0.800000, 570.000000 1.000000, 570.000000\", \"type\": \"path\"}, {\"line\": {\"color\": \"blue\", \"width\": 1.5}, \"opacity\": 0.6, \"path\": \"M 0.000000, 1006.000000 C 0.200000, 1006.000000 0.800000, 1274.000000 1.000000, 1274.000000\", \"type\": \"path\"}, {\"line\": {\"color\": \"blue\", \"width\": 1.5}, \"opacity\": 0.6, \"path\": \"M 0.000000, 568.000000 C 0.200000, 568.000000 0.800000, 690.000000 1.000000, 690.000000\", \"type\": \"path\"}, {\"line\": {\"color\": \"blue\", \"width\": 1.5}, \"opacity\": 0.6, \"path\": \"M 0.000000, 142.000000 C 0.200000, 142.000000 0.800000, 716.000000 1.000000, 716.000000\", \"type\": \"path\"}, {\"line\": {\"color\": \"blue\", \"width\": 1.5}, \"opacity\": 0.6, \"path\": \"M 0.000000, 951.000000 C 0.200000, 951.000000 0.800000, 217.000000 1.000000, 217.000000\", \"type\": \"path\"}, {\"line\": {\"color\": \"blue\", \"width\": 1.5}, \"opacity\": 0.6, \"path\": \"M 0.000000, 402.000000 C 0.200000, 402.000000 0.800000, 484.000000 1.000000, 484.000000\", \"type\": \"path\"}, {\"line\": {\"color\": \"blue\", \"width\": 1.5}, \"opacity\": 0.6, \"path\": \"M 0.000000, 360.000000 C 0.200000, 360.000000 0.800000, 1078.000000 1.000000, 1078.000000\", \"type\": \"path\"}, {\"line\": {\"color\": \"blue\", \"width\": 1.5}, \"opacity\": 0.6, \"path\": \"M 0.000000, 1129.000000 C 0.200000, 1129.000000 0.800000, 163.000000 1.000000, 163.000000\", \"type\": \"path\"}, {\"line\": {\"color\": \"blue\", \"width\": 1.5}, \"opacity\": 0.6, \"path\": \"M 0.000000, 1008.000000 C 0.200000, 1008.000000 0.800000, 498.000000 1.000000, 498.000000\", \"type\": \"path\"}, {\"line\": {\"color\": \"blue\", \"width\": 1.5}, \"opacity\": 0.6, \"path\": \"M 0.000000, 699.000000 C 0.200000, 699.000000 0.800000, 402.000000 1.000000, 402.000000\", \"type\": \"path\"}, {\"line\": {\"color\": \"blue\", \"width\": 1.5}, \"opacity\": 0.6, \"path\": \"M 0.000000, 1053.000000 C 0.200000, 1053.000000 0.800000, 501.000000 1.000000, 501.000000\", \"type\": \"path\"}, {\"line\": {\"color\": \"blue\", \"width\": 1.5}, \"opacity\": 0.6, \"path\": \"M 0.000000, 1085.000000 C 0.200000, 1085.000000 0.800000, 1134.000000 1.000000, 1134.000000\", \"type\": \"path\"}, {\"line\": {\"color\": \"blue\", \"width\": 1.5}, \"opacity\": 0.6, \"path\": \"M 0.000000, 996.000000 C 0.200000, 996.000000 0.800000, 961.000000 1.000000, 961.000000\", \"type\": \"path\"}, {\"line\": {\"color\": \"blue\", \"width\": 1.5}, \"opacity\": 0.6, \"path\": \"M 0.000000, 199.000000 C 0.200000, 199.000000 0.800000, 790.000000 1.000000, 790.000000\", \"type\": \"path\"}, {\"line\": {\"color\": \"blue\", \"width\": 1.5}, \"opacity\": 0.6, \"path\": \"M 0.000000, 555.000000 C 0.200000, 555.000000 0.800000, 741.000000 1.000000, 741.000000\", \"type\": \"path\"}, {\"line\": {\"color\": \"blue\", \"width\": 1.5}, \"opacity\": 0.6, \"path\": \"M 0.000000, 600.000000 C 0.200000, 600.000000 0.800000, 504.000000 1.000000, 504.000000\", \"type\": \"path\"}, {\"line\": {\"color\": \"blue\", \"width\": 1.5}, \"opacity\": 0.6, \"path\": \"M 0.000000, 861.000000 C 0.200000, 861.000000 0.800000, 1269.000000 1.000000, 1269.000000\", \"type\": \"path\"}, {\"line\": {\"color\": \"blue\", \"width\": 1.5}, \"opacity\": 0.6, \"path\": \"M 0.000000, 1116.000000 C 0.200000, 1116.000000 0.800000, 830.000000 1.000000, 830.000000\", \"type\": \"path\"}, {\"line\": {\"color\": \"blue\", \"width\": 1.5}, \"opacity\": 0.6, \"path\": \"M 0.000000, 481.000000 C 0.200000, 481.000000 0.800000, 281.000000 1.000000, 281.000000\", \"type\": \"path\"}, {\"line\": {\"color\": \"blue\", \"width\": 1.5}, \"opacity\": 0.6, \"path\": \"M 0.000000, 1045.000000 C 0.200000, 1045.000000 0.800000, 1231.000000 1.000000, 1231.000000\", \"type\": \"path\"}, {\"line\": {\"color\": \"blue\", \"width\": 1.5}, \"opacity\": 0.6, \"path\": \"M 0.000000, 746.000000 C 0.200000, 746.000000 0.800000, 1076.000000 1.000000, 1076.000000\", \"type\": \"path\"}, {\"line\": {\"color\": \"blue\", \"width\": 1.5}, \"opacity\": 0.6, \"path\": \"M 0.000000, 471.000000 C 0.200000, 471.000000 0.800000, 1105.000000 1.000000, 1105.000000\", \"type\": \"path\"}, {\"line\": {\"color\": \"blue\", \"width\": 1.5}, \"opacity\": 0.6, \"path\": \"M 0.000000, 653.000000 C 0.200000, 653.000000 0.800000, 931.000000 1.000000, 931.000000\", \"type\": \"path\"}, {\"line\": {\"color\": \"blue\", \"width\": 1.5}, \"opacity\": 0.6, \"path\": \"M 0.000000, 984.000000 C 0.200000, 984.000000 0.800000, 593.000000 1.000000, 593.000000\", \"type\": \"path\"}, {\"line\": {\"color\": \"blue\", \"width\": 1.5}, \"opacity\": 0.6, \"path\": \"M 0.000000, 1110.000000 C 0.200000, 1110.000000 0.800000, 781.000000 1.000000, 781.000000\", \"type\": \"path\"}, {\"line\": {\"color\": \"blue\", \"width\": 1.5}, \"opacity\": 0.6, \"path\": \"M 0.000000, 1267.000000 C 0.200000, 1267.000000 0.800000, 866.000000 1.000000, 866.000000\", \"type\": \"path\"}, {\"line\": {\"color\": \"blue\", \"width\": 1.5}, \"opacity\": 0.6, \"path\": \"M 0.000000, 463.000000 C 0.200000, 463.000000 0.800000, 679.000000 1.000000, 679.000000\", \"type\": \"path\"}, {\"line\": {\"color\": \"blue\", \"width\": 1.5}, \"opacity\": 0.6, \"path\": \"M 0.000000, 968.000000 C 0.200000, 968.000000 0.800000, 1180.000000 1.000000, 1180.000000\", \"type\": \"path\"}, {\"line\": {\"color\": \"blue\", \"width\": 1.5}, \"opacity\": 0.6, \"path\": \"M 0.000000, 785.000000 C 0.200000, 785.000000 0.800000, 595.000000 1.000000, 595.000000\", \"type\": \"path\"}, {\"line\": {\"color\": \"blue\", \"width\": 1.5}, \"opacity\": 0.6, \"path\": \"M 0.000000, 740.000000 C 0.200000, 740.000000 0.800000, 111.000000 1.000000, 111.000000\", \"type\": \"path\"}, {\"line\": {\"color\": \"blue\", \"width\": 1.5}, \"opacity\": 0.6, \"path\": \"M 0.000000, 599.000000 C 0.200000, 599.000000 0.800000, 609.000000 1.000000, 609.000000\", \"type\": \"path\"}, {\"line\": {\"color\": \"blue\", \"width\": 1.5}, \"opacity\": 0.6, \"path\": \"M 0.000000, 658.000000 C 0.200000, 658.000000 0.800000, 923.000000 1.000000, 923.000000\", \"type\": \"path\"}, {\"line\": {\"color\": \"blue\", \"width\": 1.5}, \"opacity\": 0.6, \"path\": \"M 0.000000, 239.000000 C 0.200000, 239.000000 0.800000, 931.000000 1.000000, 931.000000\", \"type\": \"path\"}, {\"line\": {\"color\": \"blue\", \"width\": 1.5}, \"opacity\": 0.6, \"path\": \"M 0.000000, 1041.000000 C 0.200000, 1041.000000 0.800000, 1136.000000 1.000000, 1136.000000\", \"type\": \"path\"}, {\"line\": {\"color\": \"blue\", \"width\": 1.5}, \"opacity\": 0.6, \"path\": \"M 0.000000, 1278.000000 C 0.200000, 1278.000000 0.800000, 373.000000 1.000000, 373.000000\", \"type\": \"path\"}, {\"line\": {\"color\": \"blue\", \"width\": 1.5}, \"opacity\": 0.6, \"path\": \"M 0.000000, 1124.000000 C 0.200000, 1124.000000 0.800000, 448.000000 1.000000, 448.000000\", \"type\": \"path\"}, {\"line\": {\"color\": \"blue\", \"width\": 1.5}, \"opacity\": 0.6, \"path\": \"M 0.000000, 223.000000 C 0.200000, 223.000000 0.800000, 695.000000 1.000000, 695.000000\", \"type\": \"path\"}, {\"line\": {\"color\": \"blue\", \"width\": 1.5}, \"opacity\": 0.6, \"path\": \"M 0.000000, 362.000000 C 0.200000, 362.000000 0.800000, 790.000000 1.000000, 790.000000\", \"type\": \"path\"}, {\"line\": {\"color\": \"blue\", \"width\": 1.5}, \"opacity\": 0.6, \"path\": \"M 0.000000, 269.000000 C 0.200000, 269.000000 0.800000, 711.000000 1.000000, 711.000000\", \"type\": \"path\"}, {\"line\": {\"color\": \"blue\", \"width\": 1.5}, \"opacity\": 0.6, \"path\": \"M 0.000000, 289.000000 C 0.200000, 289.000000 0.800000, 1258.000000 1.000000, 1258.000000\", \"type\": \"path\"}, {\"line\": {\"color\": \"blue\", \"width\": 1.5}, \"opacity\": 0.6, \"path\": \"M 0.000000, 703.000000 C 0.200000, 703.000000 0.800000, 645.000000 1.000000, 645.000000\", \"type\": \"path\"}, {\"line\": {\"color\": \"blue\", \"width\": 1.5}, \"opacity\": 0.6, \"path\": \"M 0.000000, 959.000000 C 0.200000, 959.000000 0.800000, 868.000000 1.000000, 868.000000\", \"type\": \"path\"}, {\"line\": {\"color\": \"blue\", \"width\": 1.5}, \"opacity\": 0.6, \"path\": \"M 0.000000, 335.000000 C 0.200000, 335.000000 0.800000, 284.000000 1.000000, 284.000000\", \"type\": \"path\"}, {\"line\": {\"color\": \"blue\", \"width\": 1.5}, \"opacity\": 0.6, \"path\": \"M 0.000000, 365.000000 C 0.200000, 365.000000 0.800000, 635.000000 1.000000, 635.000000\", \"type\": \"path\"}, {\"line\": {\"color\": \"blue\", \"width\": 1.5}, \"opacity\": 0.6, \"path\": \"M 0.000000, 659.000000 C 0.200000, 659.000000 0.800000, 817.000000 1.000000, 817.000000\", \"type\": \"path\"}, {\"line\": {\"color\": \"blue\", \"width\": 1.5}, \"opacity\": 0.6, \"path\": \"M 0.000000, 393.000000 C 0.200000, 393.000000 0.800000, 16.000000 1.000000, 16.000000\", \"type\": \"path\"}, {\"line\": {\"color\": \"blue\", \"width\": 1.5}, \"opacity\": 0.6, \"path\": \"M 0.000000, 1164.000000 C 0.200000, 1164.000000 0.800000, 761.000000 1.000000, 761.000000\", \"type\": \"path\"}, {\"line\": {\"color\": \"blue\", \"width\": 1.5}, \"opacity\": 0.6, \"path\": \"M 0.000000, 624.000000 C 0.200000, 624.000000 0.800000, 831.000000 1.000000, 831.000000\", \"type\": \"path\"}, {\"line\": {\"color\": \"blue\", \"width\": 1.5}, \"opacity\": 0.6, \"path\": \"M 0.000000, 669.000000 C 0.200000, 669.000000 0.800000, 386.000000 1.000000, 386.000000\", \"type\": \"path\"}, {\"line\": {\"color\": \"blue\", \"width\": 1.5}, \"opacity\": 0.6, \"path\": \"M 0.000000, 750.000000 C 0.200000, 750.000000 0.800000, 724.000000 1.000000, 724.000000\", \"type\": \"path\"}, {\"line\": {\"color\": \"blue\", \"width\": 1.5}, \"opacity\": 0.6, \"path\": \"M 0.000000, 849.000000 C 0.200000, 849.000000 0.800000, 327.000000 1.000000, 327.000000\", \"type\": \"path\"}, {\"line\": {\"color\": \"blue\", \"width\": 1.5}, \"opacity\": 0.6, \"path\": \"M 0.000000, 46.000000 C 0.200000, 46.000000 0.800000, 1266.000000 1.000000, 1266.000000\", \"type\": \"path\"}, {\"line\": {\"color\": \"blue\", \"width\": 1.5}, \"opacity\": 0.6, \"path\": \"M 0.000000, 885.000000 C 0.200000, 885.000000 0.800000, 941.000000 1.000000, 941.000000\", \"type\": \"path\"}, {\"line\": {\"color\": \"blue\", \"width\": 1.5}, \"opacity\": 0.6, \"path\": \"M 0.000000, 102.000000 C 0.200000, 102.000000 0.800000, 197.000000 1.000000, 197.000000\", \"type\": \"path\"}, {\"line\": {\"color\": \"blue\", \"width\": 1.5}, \"opacity\": 0.6, \"path\": \"M 0.000000, 543.000000 C 0.200000, 543.000000 0.800000, 87.000000 1.000000, 87.000000\", \"type\": \"path\"}, {\"line\": {\"color\": \"blue\", \"width\": 1.5}, \"opacity\": 0.6, \"path\": \"M 0.000000, 134.000000 C 0.200000, 134.000000 0.800000, 697.000000 1.000000, 697.000000\", \"type\": \"path\"}, {\"line\": {\"color\": \"blue\", \"width\": 1.5}, \"opacity\": 0.6, \"path\": \"M 0.000000, 520.000000 C 0.200000, 520.000000 0.800000, 29.000000 1.000000, 29.000000\", \"type\": \"path\"}, {\"line\": {\"color\": \"blue\", \"width\": 1.5}, \"opacity\": 0.6, \"path\": \"M 0.000000, 302.000000 C 0.200000, 302.000000 0.800000, 744.000000 1.000000, 744.000000\", \"type\": \"path\"}, {\"line\": {\"color\": \"blue\", \"width\": 1.5}, \"opacity\": 0.6, \"path\": \"M 0.000000, 1215.000000 C 0.200000, 1215.000000 0.800000, 601.000000 1.000000, 601.000000\", \"type\": \"path\"}, {\"line\": {\"color\": \"blue\", \"width\": 1.5}, \"opacity\": 0.6, \"path\": \"M 0.000000, 58.000000 C 0.200000, 58.000000 0.800000, 312.000000 1.000000, 312.000000\", \"type\": \"path\"}, {\"line\": {\"color\": \"blue\", \"width\": 1.5}, \"opacity\": 0.6, \"path\": \"M 0.000000, 1029.000000 C 0.200000, 1029.000000 0.800000, 576.000000 1.000000, 576.000000\", \"type\": \"path\"}, {\"line\": {\"color\": \"blue\", \"width\": 1.5}, \"opacity\": 0.6, \"path\": \"M 0.000000, 492.000000 C 0.200000, 492.000000 0.800000, 530.000000 1.000000, 530.000000\", \"type\": \"path\"}, {\"line\": {\"color\": \"blue\", \"width\": 1.5}, \"opacity\": 0.6, \"path\": \"M 0.000000, 26.000000 C 0.200000, 26.000000 0.800000, 44.000000 1.000000, 44.000000\", \"type\": \"path\"}, {\"line\": {\"color\": \"blue\", \"width\": 1.5}, \"opacity\": 0.6, \"path\": \"M 0.000000, 1047.000000 C 0.200000, 1047.000000 0.800000, 498.000000 1.000000, 498.000000\", \"type\": \"path\"}, {\"line\": {\"color\": \"blue\", \"width\": 1.5}, \"opacity\": 0.6, \"path\": \"M 0.000000, 85.000000 C 0.200000, 85.000000 0.800000, 945.000000 1.000000, 945.000000\", \"type\": \"path\"}, {\"line\": {\"color\": \"blue\", \"width\": 1.5}, \"opacity\": 0.6, \"path\": \"M 0.000000, 440.000000 C 0.200000, 440.000000 0.800000, 963.000000 1.000000, 963.000000\", \"type\": \"path\"}, {\"line\": {\"color\": \"blue\", \"width\": 1.5}, \"opacity\": 0.6, \"path\": \"M 0.000000, 1001.000000 C 0.200000, 1001.000000 0.800000, 1231.000000 1.000000, 1231.000000\", \"type\": \"path\"}, {\"line\": {\"color\": \"blue\", \"width\": 1.5}, \"opacity\": 0.6, \"path\": \"M 0.000000, 210.000000 C 0.200000, 210.000000 0.800000, 801.000000 1.000000, 801.000000\", \"type\": \"path\"}, {\"line\": {\"color\": \"blue\", \"width\": 1.5}, \"opacity\": 0.6, \"path\": \"M 0.000000, 1254.000000 C 0.200000, 1254.000000 0.800000, 1040.000000 1.000000, 1040.000000\", \"type\": \"path\"}, {\"line\": {\"color\": \"blue\", \"width\": 1.5}, \"opacity\": 0.6, \"path\": \"M 0.000000, 152.000000 C 0.200000, 152.000000 0.800000, 681.000000 1.000000, 681.000000\", \"type\": \"path\"}, {\"line\": {\"color\": \"blue\", \"width\": 1.5}, \"opacity\": 0.6, \"path\": \"M 0.000000, 181.000000 C 0.200000, 181.000000 0.800000, 577.000000 1.000000, 577.000000\", \"type\": \"path\"}, {\"line\": {\"color\": \"blue\", \"width\": 1.5}, \"opacity\": 0.6, \"path\": \"M 0.000000, 962.000000 C 0.200000, 962.000000 0.800000, 479.000000 1.000000, 479.000000\", \"type\": \"path\"}, {\"line\": {\"color\": \"blue\", \"width\": 1.5}, \"opacity\": 0.6, \"path\": \"M 0.000000, 1176.000000 C 0.200000, 1176.000000 0.800000, 339.000000 1.000000, 339.000000\", \"type\": \"path\"}, {\"line\": {\"color\": \"blue\", \"width\": 1.5}, \"opacity\": 0.6, \"path\": \"M 0.000000, 303.000000 C 0.200000, 303.000000 0.800000, 850.000000 1.000000, 850.000000\", \"type\": \"path\"}, {\"line\": {\"color\": \"blue\", \"width\": 1.5}, \"opacity\": 0.6, \"path\": \"M 0.000000, 381.000000 C 0.200000, 381.000000 0.800000, 892.000000 1.000000, 892.000000\", \"type\": \"path\"}, {\"line\": {\"color\": \"blue\", \"width\": 1.5}, \"opacity\": 0.6, \"path\": \"M 0.000000, 1110.000000 C 0.200000, 1110.000000 0.800000, 1114.000000 1.000000, 1114.000000\", \"type\": \"path\"}, {\"line\": {\"color\": \"blue\", \"width\": 1.5}, \"opacity\": 0.6, \"path\": \"M 0.000000, 193.000000 C 0.200000, 193.000000 0.800000, 792.000000 1.000000, 792.000000\", \"type\": \"path\"}, {\"line\": {\"color\": \"blue\", \"width\": 1.5}, \"opacity\": 0.6, \"path\": \"M 0.000000, 825.000000 C 0.200000, 825.000000 0.800000, 560.000000 1.000000, 560.000000\", \"type\": \"path\"}, {\"line\": {\"color\": \"blue\", \"width\": 1.5}, \"opacity\": 0.6, \"path\": \"M 0.000000, 962.000000 C 0.200000, 962.000000 0.800000, 785.000000 1.000000, 785.000000\", \"type\": \"path\"}, {\"line\": {\"color\": \"blue\", \"width\": 1.5}, \"opacity\": 0.6, \"path\": \"M 0.000000, 43.000000 C 0.200000, 43.000000 0.800000, 993.000000 1.000000, 993.000000\", \"type\": \"path\"}, {\"line\": {\"color\": \"blue\", \"width\": 1.5}, \"opacity\": 0.6, \"path\": \"M 0.000000, 365.000000 C 0.200000, 365.000000 0.800000, 246.000000 1.000000, 246.000000\", \"type\": \"path\"}, {\"line\": {\"color\": \"blue\", \"width\": 1.5}, \"opacity\": 0.6, \"path\": \"M 0.000000, 946.000000 C 0.200000, 946.000000 0.800000, 1109.000000 1.000000, 1109.000000\", \"type\": \"path\"}, {\"line\": {\"color\": \"blue\", \"width\": 1.5}, \"opacity\": 0.6, \"path\": \"M 0.000000, 571.000000 C 0.200000, 571.000000 0.800000, 1123.000000 1.000000, 1123.000000\", \"type\": \"path\"}, {\"line\": {\"color\": \"blue\", \"width\": 1.5}, \"opacity\": 0.6, \"path\": \"M 0.000000, 7.000000 C 0.200000, 7.000000 0.800000, 1124.000000 1.000000, 1124.000000\", \"type\": \"path\"}, {\"line\": {\"color\": \"blue\", \"width\": 1.5}, \"opacity\": 0.6, \"path\": \"M 0.000000, 113.000000 C 0.200000, 113.000000 0.800000, 600.000000 1.000000, 600.000000\", \"type\": \"path\"}, {\"line\": {\"color\": \"blue\", \"width\": 1.5}, \"opacity\": 0.6, \"path\": \"M 0.000000, 465.000000 C 0.200000, 465.000000 0.800000, 359.000000 1.000000, 359.000000\", \"type\": \"path\"}, {\"line\": {\"color\": \"blue\", \"width\": 1.5}, \"opacity\": 0.6, \"path\": \"M 0.000000, 383.000000 C 0.200000, 383.000000 0.800000, 1113.000000 1.000000, 1113.000000\", \"type\": \"path\"}, {\"line\": {\"color\": \"blue\", \"width\": 1.5}, \"opacity\": 0.6, \"path\": \"M 0.000000, 659.000000 C 0.200000, 659.000000 0.800000, 634.000000 1.000000, 634.000000\", \"type\": \"path\"}, {\"line\": {\"color\": \"blue\", \"width\": 1.5}, \"opacity\": 0.6, \"path\": \"M 0.000000, 531.000000 C 0.200000, 531.000000 0.800000, 9.000000 1.000000, 9.000000\", \"type\": \"path\"}, {\"line\": {\"color\": \"blue\", \"width\": 1.5}, \"opacity\": 0.6, \"path\": \"M 0.000000, 1271.000000 C 0.200000, 1271.000000 0.800000, 817.000000 1.000000, 817.000000\", \"type\": \"path\"}, {\"line\": {\"color\": \"blue\", \"width\": 1.5}, \"opacity\": 0.6, \"path\": \"M 0.000000, 664.000000 C 0.200000, 664.000000 0.800000, 51.000000 1.000000, 51.000000\", \"type\": \"path\"}, {\"line\": {\"color\": \"blue\", \"width\": 1.5}, \"opacity\": 0.6, \"path\": \"M 0.000000, 1085.000000 C 0.200000, 1085.000000 0.800000, 392.000000 1.000000, 392.000000\", \"type\": \"path\"}, {\"line\": {\"color\": \"blue\", \"width\": 1.5}, \"opacity\": 0.6, \"path\": \"M 0.000000, 723.000000 C 0.200000, 723.000000 0.800000, 917.000000 1.000000, 917.000000\", \"type\": \"path\"}, {\"line\": {\"color\": \"blue\", \"width\": 1.5}, \"opacity\": 0.6, \"path\": \"M 0.000000, 843.000000 C 0.200000, 843.000000 0.800000, 38.000000 1.000000, 38.000000\", \"type\": \"path\"}, {\"line\": {\"color\": \"blue\", \"width\": 1.5}, \"opacity\": 0.6, \"path\": \"M 0.000000, 739.000000 C 0.200000, 739.000000 0.800000, 1277.000000 1.000000, 1277.000000\", \"type\": \"path\"}, {\"line\": {\"color\": \"blue\", \"width\": 1.5}, \"opacity\": 0.6, \"path\": \"M 0.000000, 1041.000000 C 0.200000, 1041.000000 0.800000, 924.000000 1.000000, 924.000000\", \"type\": \"path\"}, {\"line\": {\"color\": \"blue\", \"width\": 1.5}, \"opacity\": 0.6, \"path\": \"M 0.000000, 739.000000 C 0.200000, 739.000000 0.800000, 750.000000 1.000000, 750.000000\", \"type\": \"path\"}, {\"line\": {\"color\": \"blue\", \"width\": 1.5}, \"opacity\": 0.6, \"path\": \"M 0.000000, 1095.000000 C 0.200000, 1095.000000 0.800000, 138.000000 1.000000, 138.000000\", \"type\": \"path\"}, {\"line\": {\"color\": \"blue\", \"width\": 1.5}, \"opacity\": 0.6, \"path\": \"M 0.000000, 1115.000000 C 0.200000, 1115.000000 0.800000, 307.000000 1.000000, 307.000000\", \"type\": \"path\"}, {\"line\": {\"color\": \"blue\", \"width\": 1.5}, \"opacity\": 0.6, \"path\": \"M 0.000000, 208.000000 C 0.200000, 208.000000 0.800000, 119.000000 1.000000, 119.000000\", \"type\": \"path\"}, {\"line\": {\"color\": \"blue\", \"width\": 1.5}, \"opacity\": 0.6, \"path\": \"M 0.000000, 1076.000000 C 0.200000, 1076.000000 0.800000, 372.000000 1.000000, 372.000000\", \"type\": \"path\"}, {\"line\": {\"color\": \"blue\", \"width\": 1.5}, \"opacity\": 0.6, \"path\": \"M 0.000000, 78.000000 C 0.200000, 78.000000 0.800000, 887.000000 1.000000, 887.000000\", \"type\": \"path\"}, {\"line\": {\"color\": \"blue\", \"width\": 1.5}, \"opacity\": 0.6, \"path\": \"M 0.000000, 419.000000 C 0.200000, 419.000000 0.800000, 331.000000 1.000000, 331.000000\", \"type\": \"path\"}, {\"line\": {\"color\": \"blue\", \"width\": 1.5}, \"opacity\": 0.6, \"path\": \"M 0.000000, 943.000000 C 0.200000, 943.000000 0.800000, 751.000000 1.000000, 751.000000\", \"type\": \"path\"}, {\"line\": {\"color\": \"blue\", \"width\": 1.5}, \"opacity\": 0.6, \"path\": \"M 0.000000, 174.000000 C 0.200000, 174.000000 0.800000, 1210.000000 1.000000, 1210.000000\", \"type\": \"path\"}, {\"line\": {\"color\": \"blue\", \"width\": 1.5}, \"opacity\": 0.6, \"path\": \"M 0.000000, 83.000000 C 0.200000, 83.000000 0.800000, 1141.000000 1.000000, 1141.000000\", \"type\": \"path\"}, {\"line\": {\"color\": \"blue\", \"width\": 1.5}, \"opacity\": 0.6, \"path\": \"M 0.000000, 807.000000 C 0.200000, 807.000000 0.800000, 489.000000 1.000000, 489.000000\", \"type\": \"path\"}, {\"line\": {\"color\": \"blue\", \"width\": 1.5}, \"opacity\": 0.6, \"path\": \"M 0.000000, 1123.000000 C 0.200000, 1123.000000 0.800000, 1264.000000 1.000000, 1264.000000\", \"type\": \"path\"}, {\"line\": {\"color\": \"blue\", \"width\": 1.5}, \"opacity\": 0.6, \"path\": \"M 0.000000, 1035.000000 C 0.200000, 1035.000000 0.800000, 875.000000 1.000000, 875.000000\", \"type\": \"path\"}, {\"line\": {\"color\": \"blue\", \"width\": 1.5}, \"opacity\": 0.6, \"path\": \"M 0.000000, 1095.000000 C 0.200000, 1095.000000 0.800000, 1155.000000 1.000000, 1155.000000\", \"type\": \"path\"}, {\"line\": {\"color\": \"blue\", \"width\": 1.5}, \"opacity\": 0.6, \"path\": \"M 0.000000, 839.000000 C 0.200000, 839.000000 0.800000, 685.000000 1.000000, 685.000000\", \"type\": \"path\"}, {\"line\": {\"color\": \"blue\", \"width\": 1.5}, \"opacity\": 0.6, \"path\": \"M 0.000000, 996.000000 C 0.200000, 996.000000 0.800000, 1271.000000 1.000000, 1271.000000\", \"type\": \"path\"}, {\"line\": {\"color\": \"blue\", \"width\": 1.5}, \"opacity\": 0.6, \"path\": \"M 0.000000, 314.000000 C 0.200000, 314.000000 0.800000, 286.000000 1.000000, 286.000000\", \"type\": \"path\"}, {\"line\": {\"color\": \"blue\", \"width\": 1.5}, \"opacity\": 0.6, \"path\": \"M 0.000000, 394.000000 C 0.200000, 394.000000 0.800000, 812.000000 1.000000, 812.000000\", \"type\": \"path\"}, {\"line\": {\"color\": \"blue\", \"width\": 1.5}, \"opacity\": 0.6, \"path\": \"M 0.000000, 434.000000 C 0.200000, 434.000000 0.800000, 820.000000 1.000000, 820.000000\", \"type\": \"path\"}, {\"line\": {\"color\": \"blue\", \"width\": 1.5}, \"opacity\": 0.6, \"path\": \"M 0.000000, 605.000000 C 0.200000, 605.000000 0.800000, 404.000000 1.000000, 404.000000\", \"type\": \"path\"}, {\"line\": {\"color\": \"blue\", \"width\": 1.5}, \"opacity\": 0.6, \"path\": \"M 0.000000, 1058.000000 C 0.200000, 1058.000000 0.800000, 461.000000 1.000000, 461.000000\", \"type\": \"path\"}, {\"line\": {\"color\": \"blue\", \"width\": 1.5}, \"opacity\": 0.6, \"path\": \"M 0.000000, 716.000000 C 0.200000, 716.000000 0.800000, 245.000000 1.000000, 245.000000\", \"type\": \"path\"}, {\"line\": {\"color\": \"blue\", \"width\": 1.5}, \"opacity\": 0.6, \"path\": \"M 0.000000, 161.000000 C 0.200000, 161.000000 0.800000, 1017.000000 1.000000, 1017.000000\", \"type\": \"path\"}, {\"line\": {\"color\": \"blue\", \"width\": 1.5}, \"opacity\": 0.6, \"path\": \"M 0.000000, 540.000000 C 0.200000, 540.000000 0.800000, 1105.000000 1.000000, 1105.000000\", \"type\": \"path\"}, {\"line\": {\"color\": \"blue\", \"width\": 1.5}, \"opacity\": 0.6, \"path\": \"M 0.000000, 1018.000000 C 0.200000, 1018.000000 0.800000, 965.000000 1.000000, 965.000000\", \"type\": \"path\"}, {\"line\": {\"color\": \"blue\", \"width\": 1.5}, \"opacity\": 0.6, \"path\": \"M 0.000000, 662.000000 C 0.200000, 662.000000 0.800000, 318.000000 1.000000, 318.000000\", \"type\": \"path\"}, {\"line\": {\"color\": \"blue\", \"width\": 1.5}, \"opacity\": 0.6, \"path\": \"M 0.000000, 1180.000000 C 0.200000, 1180.000000 0.800000, 119.000000 1.000000, 119.000000\", \"type\": \"path\"}, {\"line\": {\"color\": \"blue\", \"width\": 1.5}, \"opacity\": 0.6, \"path\": \"M 0.000000, 85.000000 C 0.200000, 85.000000 0.800000, 187.000000 1.000000, 187.000000\", \"type\": \"path\"}, {\"line\": {\"color\": \"blue\", \"width\": 1.5}, \"opacity\": 0.6, \"path\": \"M 0.000000, 1047.000000 C 0.200000, 1047.000000 0.800000, 627.000000 1.000000, 627.000000\", \"type\": \"path\"}, {\"line\": {\"color\": \"blue\", \"width\": 1.5}, \"opacity\": 0.6, \"path\": \"M 0.000000, 324.000000 C 0.200000, 324.000000 0.800000, 626.000000 1.000000, 626.000000\", \"type\": \"path\"}, {\"line\": {\"color\": \"blue\", \"width\": 1.5}, \"opacity\": 0.6, \"path\": \"M 0.000000, 755.000000 C 0.200000, 755.000000 0.800000, 938.000000 1.000000, 938.000000\", \"type\": \"path\"}, {\"line\": {\"color\": \"blue\", \"width\": 1.5}, \"opacity\": 0.6, \"path\": \"M 0.000000, 211.000000 C 0.200000, 211.000000 0.800000, 225.000000 1.000000, 225.000000\", \"type\": \"path\"}, {\"line\": {\"color\": \"blue\", \"width\": 1.5}, \"opacity\": 0.6, \"path\": \"M 0.000000, 91.000000 C 0.200000, 91.000000 0.800000, 217.000000 1.000000, 217.000000\", \"type\": \"path\"}, {\"line\": {\"color\": \"blue\", \"width\": 1.5}, \"opacity\": 0.6, \"path\": \"M 0.000000, 298.000000 C 0.200000, 298.000000 0.800000, 663.000000 1.000000, 663.000000\", \"type\": \"path\"}, {\"line\": {\"color\": \"blue\", \"width\": 1.5}, \"opacity\": 0.6, \"path\": \"M 0.000000, 952.000000 C 0.200000, 952.000000 0.800000, 815.000000 1.000000, 815.000000\", \"type\": \"path\"}, {\"line\": {\"color\": \"blue\", \"width\": 1.5}, \"opacity\": 0.6, \"path\": \"M 0.000000, 1248.000000 C 0.200000, 1248.000000 0.800000, 193.000000 1.000000, 193.000000\", \"type\": \"path\"}, {\"line\": {\"color\": \"blue\", \"width\": 1.5}, \"opacity\": 0.6, \"path\": \"M 0.000000, 231.000000 C 0.200000, 231.000000 0.800000, 531.000000 1.000000, 531.000000\", \"type\": \"path\"}, {\"line\": {\"color\": \"blue\", \"width\": 1.5}, \"opacity\": 0.6, \"path\": \"M 0.000000, 970.000000 C 0.200000, 970.000000 0.800000, 651.000000 1.000000, 651.000000\", \"type\": \"path\"}, {\"line\": {\"color\": \"blue\", \"width\": 1.5}, \"opacity\": 0.6, \"path\": \"M 0.000000, 177.000000 C 0.200000, 177.000000 0.800000, 804.000000 1.000000, 804.000000\", \"type\": \"path\"}, {\"line\": {\"color\": \"blue\", \"width\": 1.5}, \"opacity\": 0.6, \"path\": \"M 0.000000, 875.000000 C 0.200000, 875.000000 0.800000, 408.000000 1.000000, 408.000000\", \"type\": \"path\"}, {\"line\": {\"color\": \"blue\", \"width\": 1.5}, \"opacity\": 0.6, \"path\": \"M 0.000000, 970.000000 C 0.200000, 970.000000 0.800000, 564.000000 1.000000, 564.000000\", \"type\": \"path\"}, {\"line\": {\"color\": \"blue\", \"width\": 1.5}, \"opacity\": 0.6, \"path\": \"M 0.000000, 967.000000 C 0.200000, 967.000000 0.800000, 891.000000 1.000000, 891.000000\", \"type\": \"path\"}, {\"line\": {\"color\": \"blue\", \"width\": 1.5}, \"opacity\": 0.6, \"path\": \"M 0.000000, 28.000000 C 0.200000, 28.000000 0.800000, 595.000000 1.000000, 595.000000\", \"type\": \"path\"}, {\"line\": {\"color\": \"blue\", \"width\": 1.5}, \"opacity\": 0.6, \"path\": \"M 0.000000, 888.000000 C 0.200000, 888.000000 0.800000, 514.000000 1.000000, 514.000000\", \"type\": \"path\"}, {\"line\": {\"color\": \"blue\", \"width\": 1.5}, \"opacity\": 0.6, \"path\": \"M 0.000000, 47.000000 C 0.200000, 47.000000 0.800000, 1038.000000 1.000000, 1038.000000\", \"type\": \"path\"}, {\"line\": {\"color\": \"blue\", \"width\": 1.5}, \"opacity\": 0.6, \"path\": \"M 0.000000, 231.000000 C 0.200000, 231.000000 0.800000, 1109.000000 1.000000, 1109.000000\", \"type\": \"path\"}, {\"line\": {\"color\": \"blue\", \"width\": 1.5}, \"opacity\": 0.6, \"path\": \"M 0.000000, 658.000000 C 0.200000, 658.000000 0.800000, 237.000000 1.000000, 237.000000\", \"type\": \"path\"}, {\"line\": {\"color\": \"blue\", \"width\": 1.5}, \"opacity\": 0.6, \"path\": \"M 0.000000, 319.000000 C 0.200000, 319.000000 0.800000, 42.000000 1.000000, 42.000000\", \"type\": \"path\"}, {\"line\": {\"color\": \"blue\", \"width\": 1.5}, \"opacity\": 0.6, \"path\": \"M 0.000000, 229.000000 C 0.200000, 229.000000 0.800000, 59.000000 1.000000, 59.000000\", \"type\": \"path\"}, {\"line\": {\"color\": \"blue\", \"width\": 1.5}, \"opacity\": 0.6, \"path\": \"M 0.000000, 980.000000 C 0.200000, 980.000000 0.800000, 1240.000000 1.000000, 1240.000000\", \"type\": \"path\"}, {\"line\": {\"color\": \"blue\", \"width\": 1.5}, \"opacity\": 0.6, \"path\": \"M 0.000000, 480.000000 C 0.200000, 480.000000 0.800000, 837.000000 1.000000, 837.000000\", \"type\": \"path\"}, {\"line\": {\"color\": \"blue\", \"width\": 1.5}, \"opacity\": 0.6, \"path\": \"M 0.000000, 805.000000 C 0.200000, 805.000000 0.800000, 1106.000000 1.000000, 1106.000000\", \"type\": \"path\"}, {\"line\": {\"color\": \"blue\", \"width\": 1.5}, \"opacity\": 0.6, \"path\": \"M 0.000000, 506.000000 C 0.200000, 506.000000 0.800000, 302.000000 1.000000, 302.000000\", \"type\": \"path\"}, {\"line\": {\"color\": \"blue\", \"width\": 1.5}, \"opacity\": 0.6, \"path\": \"M 0.000000, 169.000000 C 0.200000, 169.000000 0.800000, 541.000000 1.000000, 541.000000\", \"type\": \"path\"}, {\"line\": {\"color\": \"blue\", \"width\": 1.5}, \"opacity\": 0.6, \"path\": \"M 0.000000, 1214.000000 C 0.200000, 1214.000000 0.800000, 668.000000 1.000000, 668.000000\", \"type\": \"path\"}, {\"line\": {\"color\": \"blue\", \"width\": 1.5}, \"opacity\": 0.6, \"path\": \"M 0.000000, 1183.000000 C 0.200000, 1183.000000 0.800000, 1106.000000 1.000000, 1106.000000\", \"type\": \"path\"}, {\"line\": {\"color\": \"blue\", \"width\": 1.5}, \"opacity\": 0.6, \"path\": \"M 0.000000, 180.000000 C 0.200000, 180.000000 0.800000, 1232.000000 1.000000, 1232.000000\", \"type\": \"path\"}, {\"line\": {\"color\": \"blue\", \"width\": 1.5}, \"opacity\": 0.6, \"path\": \"M 0.000000, 735.000000 C 0.200000, 735.000000 0.800000, 301.000000 1.000000, 301.000000\", \"type\": \"path\"}, {\"line\": {\"color\": \"blue\", \"width\": 1.5}, \"opacity\": 0.6, \"path\": \"M 0.000000, 1077.000000 C 0.200000, 1077.000000 0.800000, 520.000000 1.000000, 520.000000\", \"type\": \"path\"}, {\"line\": {\"color\": \"blue\", \"width\": 1.5}, \"opacity\": 0.6, \"path\": \"M 0.000000, 337.000000 C 0.200000, 337.000000 0.800000, 98.000000 1.000000, 98.000000\", \"type\": \"path\"}, {\"line\": {\"color\": \"blue\", \"width\": 1.5}, \"opacity\": 0.6, \"path\": \"M 0.000000, 1122.000000 C 0.200000, 1122.000000 0.800000, 59.000000 1.000000, 59.000000\", \"type\": \"path\"}, {\"line\": {\"color\": \"blue\", \"width\": 1.5}, \"opacity\": 0.6, \"path\": \"M 0.000000, 630.000000 C 0.200000, 630.000000 0.800000, 231.000000 1.000000, 231.000000\", \"type\": \"path\"}, {\"line\": {\"color\": \"blue\", \"width\": 1.5}, \"opacity\": 0.6, \"path\": \"M 0.000000, 207.000000 C 0.200000, 207.000000 0.800000, 891.000000 1.000000, 891.000000\", \"type\": \"path\"}, {\"line\": {\"color\": \"blue\", \"width\": 1.5}, \"opacity\": 0.6, \"path\": \"M 0.000000, 1087.000000 C 0.200000, 1087.000000 0.800000, 534.000000 1.000000, 534.000000\", \"type\": \"path\"}, {\"line\": {\"color\": \"blue\", \"width\": 1.5}, \"opacity\": 0.6, \"path\": \"M 0.000000, 1171.000000 C 0.200000, 1171.000000 0.800000, 476.000000 1.000000, 476.000000\", \"type\": \"path\"}, {\"line\": {\"color\": \"blue\", \"width\": 1.5}, \"opacity\": 0.6, \"path\": \"M 0.000000, 327.000000 C 0.200000, 327.000000 0.800000, 947.000000 1.000000, 947.000000\", \"type\": \"path\"}, {\"line\": {\"color\": \"blue\", \"width\": 1.5}, \"opacity\": 0.6, \"path\": \"M 0.000000, 450.000000 C 0.200000, 450.000000 0.800000, 355.000000 1.000000, 355.000000\", \"type\": \"path\"}, {\"line\": {\"color\": \"blue\", \"width\": 1.5}, \"opacity\": 0.6, \"path\": \"M 0.000000, 1229.000000 C 0.200000, 1229.000000 0.800000, 535.000000 1.000000, 535.000000\", \"type\": \"path\"}, {\"line\": {\"color\": \"blue\", \"width\": 1.5}, \"opacity\": 0.6, \"path\": \"M 0.000000, 902.000000 C 0.200000, 902.000000 0.800000, 1074.000000 1.000000, 1074.000000\", \"type\": \"path\"}, {\"line\": {\"color\": \"blue\", \"width\": 1.5}, \"opacity\": 0.6, \"path\": \"M 0.000000, 635.000000 C 0.200000, 635.000000 0.800000, 1.000000 1.000000, 1.000000\", \"type\": \"path\"}, {\"line\": {\"color\": \"blue\", \"width\": 1.5}, \"opacity\": 0.6, \"path\": \"M 0.000000, 871.000000 C 0.200000, 871.000000 0.800000, 639.000000 1.000000, 639.000000\", \"type\": \"path\"}, {\"line\": {\"color\": \"blue\", \"width\": 1.5}, \"opacity\": 0.6, \"path\": \"M 0.000000, 1274.000000 C 0.200000, 1274.000000 0.800000, 83.000000 1.000000, 83.000000\", \"type\": \"path\"}, {\"line\": {\"color\": \"blue\", \"width\": 1.5}, \"opacity\": 0.6, \"path\": \"M 0.000000, 631.000000 C 0.200000, 631.000000 0.800000, 429.000000 1.000000, 429.000000\", \"type\": \"path\"}, {\"line\": {\"color\": \"blue\", \"width\": 1.5}, \"opacity\": 0.6, \"path\": \"M 0.000000, 624.000000 C 0.200000, 624.000000 0.800000, 141.000000 1.000000, 141.000000\", \"type\": \"path\"}, {\"line\": {\"color\": \"blue\", \"width\": 1.5}, \"opacity\": 0.6, \"path\": \"M 0.000000, 633.000000 C 0.200000, 633.000000 0.800000, 53.000000 1.000000, 53.000000\", \"type\": \"path\"}, {\"line\": {\"color\": \"blue\", \"width\": 1.5}, \"opacity\": 0.6, \"path\": \"M 0.000000, 209.000000 C 0.200000, 209.000000 0.800000, 1130.000000 1.000000, 1130.000000\", \"type\": \"path\"}, {\"line\": {\"color\": \"blue\", \"width\": 1.5}, \"opacity\": 0.6, \"path\": \"M 0.000000, 496.000000 C 0.200000, 496.000000 0.800000, 471.000000 1.000000, 471.000000\", \"type\": \"path\"}, {\"line\": {\"color\": \"blue\", \"width\": 1.5}, \"opacity\": 0.6, \"path\": \"M 0.000000, 46.000000 C 0.200000, 46.000000 0.800000, 432.000000 1.000000, 432.000000\", \"type\": \"path\"}, {\"line\": {\"color\": \"blue\", \"width\": 1.5}, \"opacity\": 0.6, \"path\": \"M 0.000000, 330.000000 C 0.200000, 330.000000 0.800000, 731.000000 1.000000, 731.000000\", \"type\": \"path\"}, {\"line\": {\"color\": \"blue\", \"width\": 1.5}, \"opacity\": 0.6, \"path\": \"M 0.000000, 434.000000 C 0.200000, 434.000000 0.800000, 612.000000 1.000000, 612.000000\", \"type\": \"path\"}, {\"line\": {\"color\": \"blue\", \"width\": 1.5}, \"opacity\": 0.6, \"path\": \"M 0.000000, 356.000000 C 0.200000, 356.000000 0.800000, 712.000000 1.000000, 712.000000\", \"type\": \"path\"}, {\"line\": {\"color\": \"blue\", \"width\": 1.5}, \"opacity\": 0.6, \"path\": \"M 0.000000, 568.000000 C 0.200000, 568.000000 0.800000, 175.000000 1.000000, 175.000000\", \"type\": \"path\"}, {\"line\": {\"color\": \"blue\", \"width\": 1.5}, \"opacity\": 0.6, \"path\": \"M 0.000000, 292.000000 C 0.200000, 292.000000 0.800000, 617.000000 1.000000, 617.000000\", \"type\": \"path\"}, {\"line\": {\"color\": \"blue\", \"width\": 1.5}, \"opacity\": 0.6, \"path\": \"M 0.000000, 975.000000 C 0.200000, 975.000000 0.800000, 613.000000 1.000000, 613.000000\", \"type\": \"path\"}, {\"line\": {\"color\": \"blue\", \"width\": 1.5}, \"opacity\": 0.6, \"path\": \"M 0.000000, 893.000000 C 0.200000, 893.000000 0.800000, 717.000000 1.000000, 717.000000\", \"type\": \"path\"}, {\"line\": {\"color\": \"blue\", \"width\": 1.5}, \"opacity\": 0.6, \"path\": \"M 0.000000, 180.000000 C 0.200000, 180.000000 0.800000, 693.000000 1.000000, 693.000000\", \"type\": \"path\"}, {\"line\": {\"color\": \"blue\", \"width\": 1.5}, \"opacity\": 0.6, \"path\": \"M 0.000000, 2.000000 C 0.200000, 2.000000 0.800000, 1077.000000 1.000000, 1077.000000\", \"type\": \"path\"}, {\"line\": {\"color\": \"blue\", \"width\": 1.5}, \"opacity\": 0.6, \"path\": \"M 0.000000, 11.000000 C 0.200000, 11.000000 0.800000, 323.000000 1.000000, 323.000000\", \"type\": \"path\"}, {\"line\": {\"color\": \"blue\", \"width\": 1.5}, \"opacity\": 0.6, \"path\": \"M 0.000000, 310.000000 C 0.200000, 310.000000 0.800000, 805.000000 1.000000, 805.000000\", \"type\": \"path\"}, {\"line\": {\"color\": \"blue\", \"width\": 1.5}, \"opacity\": 0.6, \"path\": \"M 0.000000, 171.000000 C 0.200000, 171.000000 0.800000, 285.000000 1.000000, 285.000000\", \"type\": \"path\"}, {\"line\": {\"color\": \"blue\", \"width\": 1.5}, \"opacity\": 0.6, \"path\": \"M 0.000000, 514.000000 C 0.200000, 514.000000 0.800000, 564.000000 1.000000, 564.000000\", \"type\": \"path\"}, {\"line\": {\"color\": \"blue\", \"width\": 1.5}, \"opacity\": 0.6, \"path\": \"M 0.000000, 33.000000 C 0.200000, 33.000000 0.800000, 350.000000 1.000000, 350.000000\", \"type\": \"path\"}, {\"line\": {\"color\": \"blue\", \"width\": 1.5}, \"opacity\": 0.6, \"path\": \"M 0.000000, 348.000000 C 0.200000, 348.000000 0.800000, 580.000000 1.000000, 580.000000\", \"type\": \"path\"}, {\"line\": {\"color\": \"blue\", \"width\": 1.5}, \"opacity\": 0.6, \"path\": \"M 0.000000, 756.000000 C 0.200000, 756.000000 0.800000, 227.000000 1.000000, 227.000000\", \"type\": \"path\"}, {\"line\": {\"color\": \"blue\", \"width\": 1.5}, \"opacity\": 0.6, \"path\": \"M 0.000000, 448.000000 C 0.200000, 448.000000 0.800000, 1131.000000 1.000000, 1131.000000\", \"type\": \"path\"}, {\"line\": {\"color\": \"blue\", \"width\": 1.5}, \"opacity\": 0.6, \"path\": \"M 0.000000, 330.000000 C 0.200000, 330.000000 0.800000, 1019.000000 1.000000, 1019.000000\", \"type\": \"path\"}, {\"line\": {\"color\": \"blue\", \"width\": 1.5}, \"opacity\": 0.6, \"path\": \"M 0.000000, 838.000000 C 0.200000, 838.000000 0.800000, 964.000000 1.000000, 964.000000\", \"type\": \"path\"}, {\"line\": {\"color\": \"blue\", \"width\": 1.5}, \"opacity\": 0.6, \"path\": \"M 0.000000, 759.000000 C 0.200000, 759.000000 0.800000, 290.000000 1.000000, 290.000000\", \"type\": \"path\"}, {\"line\": {\"color\": \"blue\", \"width\": 1.5}, \"opacity\": 0.6, \"path\": \"M 0.000000, 477.000000 C 0.200000, 477.000000 0.800000, 383.000000 1.000000, 383.000000\", \"type\": \"path\"}, {\"line\": {\"color\": \"blue\", \"width\": 1.5}, \"opacity\": 0.6, \"path\": \"M 0.000000, 670.000000 C 0.200000, 670.000000 0.800000, 255.000000 1.000000, 255.000000\", \"type\": \"path\"}, {\"line\": {\"color\": \"blue\", \"width\": 1.5}, \"opacity\": 0.6, \"path\": \"M 0.000000, 913.000000 C 0.200000, 913.000000 0.800000, 923.000000 1.000000, 923.000000\", \"type\": \"path\"}, {\"line\": {\"color\": \"blue\", \"width\": 1.5}, \"opacity\": 0.6, \"path\": \"M 0.000000, 33.000000 C 0.200000, 33.000000 0.800000, 630.000000 1.000000, 630.000000\", \"type\": \"path\"}, {\"line\": {\"color\": \"blue\", \"width\": 1.5}, \"opacity\": 0.6, \"path\": \"M 0.000000, 143.000000 C 0.200000, 143.000000 0.800000, 165.000000 1.000000, 165.000000\", \"type\": \"path\"}, {\"line\": {\"color\": \"blue\", \"width\": 1.5}, \"opacity\": 0.6, \"path\": \"M 0.000000, 147.000000 C 0.200000, 147.000000 0.800000, 1072.000000 1.000000, 1072.000000\", \"type\": \"path\"}, {\"line\": {\"color\": \"blue\", \"width\": 1.5}, \"opacity\": 0.6, \"path\": \"M 0.000000, 978.000000 C 0.200000, 978.000000 0.800000, 32.000000 1.000000, 32.000000\", \"type\": \"path\"}, {\"line\": {\"color\": \"blue\", \"width\": 1.5}, \"opacity\": 0.6, \"path\": \"M 0.000000, 365.000000 C 0.200000, 365.000000 0.800000, 348.000000 1.000000, 348.000000\", \"type\": \"path\"}, {\"line\": {\"color\": \"blue\", \"width\": 1.5}, \"opacity\": 0.6, \"path\": \"M 0.000000, 277.000000 C 0.200000, 277.000000 0.800000, 187.000000 1.000000, 187.000000\", \"type\": \"path\"}, {\"line\": {\"color\": \"blue\", \"width\": 1.5}, \"opacity\": 0.6, \"path\": \"M 0.000000, 490.000000 C 0.200000, 490.000000 0.800000, 1074.000000 1.000000, 1074.000000\", \"type\": \"path\"}, {\"line\": {\"color\": \"blue\", \"width\": 1.5}, \"opacity\": 0.6, \"path\": \"M 0.000000, 1161.000000 C 0.200000, 1161.000000 0.800000, 470.000000 1.000000, 470.000000\", \"type\": \"path\"}, {\"line\": {\"color\": \"blue\", \"width\": 1.5}, \"opacity\": 0.6, \"path\": \"M 0.000000, 658.000000 C 0.200000, 658.000000 0.800000, 648.000000 1.000000, 648.000000\", \"type\": \"path\"}, {\"line\": {\"color\": \"blue\", \"width\": 1.5}, \"opacity\": 0.6, \"path\": \"M 0.000000, 1063.000000 C 0.200000, 1063.000000 0.800000, 604.000000 1.000000, 604.000000\", \"type\": \"path\"}, {\"line\": {\"color\": \"blue\", \"width\": 1.5}, \"opacity\": 0.6, \"path\": \"M 0.000000, 891.000000 C 0.200000, 891.000000 0.800000, 137.000000 1.000000, 137.000000\", \"type\": \"path\"}, {\"line\": {\"color\": \"blue\", \"width\": 1.5}, \"opacity\": 0.6, \"path\": \"M 0.000000, 664.000000 C 0.200000, 664.000000 0.800000, 114.000000 1.000000, 114.000000\", \"type\": \"path\"}, {\"line\": {\"color\": \"blue\", \"width\": 1.5}, \"opacity\": 0.6, \"path\": \"M 0.000000, 79.000000 C 0.200000, 79.000000 0.800000, 931.000000 1.000000, 931.000000\", \"type\": \"path\"}, {\"line\": {\"color\": \"blue\", \"width\": 1.5}, \"opacity\": 0.6, \"path\": \"M 0.000000, 456.000000 C 0.200000, 456.000000 0.800000, 118.000000 1.000000, 118.000000\", \"type\": \"path\"}, {\"line\": {\"color\": \"blue\", \"width\": 1.5}, \"opacity\": 0.6, \"path\": \"M 0.000000, 987.000000 C 0.200000, 987.000000 0.800000, 942.000000 1.000000, 942.000000\", \"type\": \"path\"}, {\"line\": {\"color\": \"blue\", \"width\": 1.5}, \"opacity\": 0.6, \"path\": \"M 0.000000, 1113.000000 C 0.200000, 1113.000000 0.800000, 150.000000 1.000000, 150.000000\", \"type\": \"path\"}, {\"line\": {\"color\": \"blue\", \"width\": 1.5}, \"opacity\": 0.6, \"path\": \"M 0.000000, 1083.000000 C 0.200000, 1083.000000 0.800000, 36.000000 1.000000, 36.000000\", \"type\": \"path\"}, {\"line\": {\"color\": \"blue\", \"width\": 1.5}, \"opacity\": 0.6, \"path\": \"M 0.000000, 713.000000 C 0.200000, 713.000000 0.800000, 763.000000 1.000000, 763.000000\", \"type\": \"path\"}, {\"line\": {\"color\": \"blue\", \"width\": 1.5}, \"opacity\": 0.6, \"path\": \"M 0.000000, 676.000000 C 0.200000, 676.000000 0.800000, 216.000000 1.000000, 216.000000\", \"type\": \"path\"}], \"template\": {\"data\": {\"bar\": [{\"error_x\": {\"color\": \"#2a3f5f\"}, \"error_y\": {\"color\": \"#2a3f5f\"}, \"marker\": {\"line\": {\"color\": \"#E5ECF6\", \"width\": 0.5}}, \"type\": \"bar\"}], \"barpolar\": [{\"marker\": {\"line\": {\"color\": \"#E5ECF6\", \"width\": 0.5}}, \"type\": \"barpolar\"}], \"carpet\": [{\"aaxis\": {\"endlinecolor\": \"#2a3f5f\", \"gridcolor\": \"white\", \"linecolor\": \"white\", \"minorgridcolor\": \"white\", \"startlinecolor\": \"#2a3f5f\"}, \"baxis\": {\"endlinecolor\": \"#2a3f5f\", \"gridcolor\": \"white\", \"linecolor\": \"white\", \"minorgridcolor\": \"white\", \"startlinecolor\": \"#2a3f5f\"}, \"type\": \"carpet\"}], \"choropleth\": [{\"colorbar\": {\"outlinewidth\": 0, \"ticks\": \"\"}, \"type\": \"choropleth\"}], \"contour\": [{\"colorbar\": {\"outlinewidth\": 0, \"ticks\": \"\"}, \"colorscale\": [[0.0, \"#0d0887\"], [0.1111111111111111, \"#46039f\"], [0.2222222222222222, \"#7201a8\"], [0.3333333333333333, \"#9c179e\"], [0.4444444444444444, \"#bd3786\"], [0.5555555555555556, \"#d8576b\"], [0.6666666666666666, \"#ed7953\"], [0.7777777777777778, \"#fb9f3a\"], [0.8888888888888888, \"#fdca26\"], [1.0, \"#f0f921\"]], \"type\": \"contour\"}], \"contourcarpet\": [{\"colorbar\": {\"outlinewidth\": 0, \"ticks\": \"\"}, \"type\": \"contourcarpet\"}], \"heatmap\": [{\"colorbar\": {\"outlinewidth\": 0, \"ticks\": \"\"}, \"colorscale\": [[0.0, \"#0d0887\"], [0.1111111111111111, \"#46039f\"], [0.2222222222222222, \"#7201a8\"], [0.3333333333333333, \"#9c179e\"], [0.4444444444444444, \"#bd3786\"], [0.5555555555555556, \"#d8576b\"], [0.6666666666666666, \"#ed7953\"], [0.7777777777777778, \"#fb9f3a\"], [0.8888888888888888, \"#fdca26\"], [1.0, \"#f0f921\"]], \"type\": \"heatmap\"}], \"heatmapgl\": [{\"colorbar\": {\"outlinewidth\": 0, \"ticks\": \"\"}, \"colorscale\": [[0.0, \"#0d0887\"], [0.1111111111111111, \"#46039f\"], [0.2222222222222222, \"#7201a8\"], [0.3333333333333333, \"#9c179e\"], [0.4444444444444444, \"#bd3786\"], [0.5555555555555556, \"#d8576b\"], [0.6666666666666666, \"#ed7953\"], [0.7777777777777778, \"#fb9f3a\"], [0.8888888888888888, \"#fdca26\"], [1.0, \"#f0f921\"]], \"type\": \"heatmapgl\"}], \"histogram\": [{\"marker\": {\"colorbar\": {\"outlinewidth\": 0, \"ticks\": \"\"}}, \"type\": \"histogram\"}], \"histogram2d\": [{\"colorbar\": {\"outlinewidth\": 0, \"ticks\": \"\"}, \"colorscale\": [[0.0, \"#0d0887\"], [0.1111111111111111, \"#46039f\"], [0.2222222222222222, \"#7201a8\"], [0.3333333333333333, \"#9c179e\"], [0.4444444444444444, \"#bd3786\"], [0.5555555555555556, \"#d8576b\"], [0.6666666666666666, \"#ed7953\"], [0.7777777777777778, \"#fb9f3a\"], [0.8888888888888888, \"#fdca26\"], [1.0, \"#f0f921\"]], \"type\": \"histogram2d\"}], \"histogram2dcontour\": [{\"colorbar\": {\"outlinewidth\": 0, \"ticks\": \"\"}, \"colorscale\": [[0.0, \"#0d0887\"], [0.1111111111111111, \"#46039f\"], [0.2222222222222222, \"#7201a8\"], [0.3333333333333333, \"#9c179e\"], [0.4444444444444444, \"#bd3786\"], [0.5555555555555556, \"#d8576b\"], [0.6666666666666666, \"#ed7953\"], [0.7777777777777778, \"#fb9f3a\"], [0.8888888888888888, \"#fdca26\"], [1.0, \"#f0f921\"]], \"type\": \"histogram2dcontour\"}], \"mesh3d\": [{\"colorbar\": {\"outlinewidth\": 0, \"ticks\": \"\"}, \"type\": \"mesh3d\"}], \"parcoords\": [{\"line\": {\"colorbar\": {\"outlinewidth\": 0, \"ticks\": \"\"}}, \"type\": \"parcoords\"}], \"pie\": [{\"automargin\": true, \"type\": \"pie\"}], \"scatter\": [{\"marker\": {\"colorbar\": {\"outlinewidth\": 0, \"ticks\": \"\"}}, \"type\": \"scatter\"}], \"scatter3d\": [{\"line\": {\"colorbar\": {\"outlinewidth\": 0, \"ticks\": \"\"}}, \"marker\": {\"colorbar\": {\"outlinewidth\": 0, \"ticks\": \"\"}}, \"type\": \"scatter3d\"}], \"scattercarpet\": [{\"marker\": {\"colorbar\": {\"outlinewidth\": 0, \"ticks\": \"\"}}, \"type\": \"scattercarpet\"}], \"scattergeo\": [{\"marker\": {\"colorbar\": {\"outlinewidth\": 0, \"ticks\": \"\"}}, \"type\": \"scattergeo\"}], \"scattergl\": [{\"marker\": {\"colorbar\": {\"outlinewidth\": 0, \"ticks\": \"\"}}, \"type\": \"scattergl\"}], \"scattermapbox\": [{\"marker\": {\"colorbar\": {\"outlinewidth\": 0, \"ticks\": \"\"}}, \"type\": \"scattermapbox\"}], \"scatterpolar\": [{\"marker\": {\"colorbar\": {\"outlinewidth\": 0, \"ticks\": \"\"}}, \"type\": \"scatterpolar\"}], \"scatterpolargl\": [{\"marker\": {\"colorbar\": {\"outlinewidth\": 0, \"ticks\": \"\"}}, \"type\": \"scatterpolargl\"}], \"scatterternary\": [{\"marker\": {\"colorbar\": {\"outlinewidth\": 0, \"ticks\": \"\"}}, \"type\": \"scatterternary\"}], \"surface\": [{\"colorbar\": {\"outlinewidth\": 0, \"ticks\": \"\"}, \"colorscale\": [[0.0, \"#0d0887\"], [0.1111111111111111, \"#46039f\"], [0.2222222222222222, \"#7201a8\"], [0.3333333333333333, \"#9c179e\"], [0.4444444444444444, \"#bd3786\"], [0.5555555555555556, \"#d8576b\"], [0.6666666666666666, \"#ed7953\"], [0.7777777777777778, \"#fb9f3a\"], [0.8888888888888888, \"#fdca26\"], [1.0, \"#f0f921\"]], \"type\": \"surface\"}], \"table\": [{\"cells\": {\"fill\": {\"color\": \"#EBF0F8\"}, \"line\": {\"color\": \"white\"}}, \"header\": {\"fill\": {\"color\": \"#C8D4E3\"}, \"line\": {\"color\": \"white\"}}, \"type\": \"table\"}]}, \"layout\": {\"annotationdefaults\": {\"arrowcolor\": \"#2a3f5f\", \"arrowhead\": 0, \"arrowwidth\": 1}, \"coloraxis\": {\"colorbar\": {\"outlinewidth\": 0, \"ticks\": \"\"}}, \"colorscale\": {\"diverging\": [[0, \"#8e0152\"], [0.1, \"#c51b7d\"], [0.2, \"#de77ae\"], [0.3, \"#f1b6da\"], [0.4, \"#fde0ef\"], [0.5, \"#f7f7f7\"], [0.6, \"#e6f5d0\"], [0.7, \"#b8e186\"], [0.8, \"#7fbc41\"], [0.9, \"#4d9221\"], [1, \"#276419\"]], \"sequential\": [[0.0, \"#0d0887\"], [0.1111111111111111, \"#46039f\"], [0.2222222222222222, \"#7201a8\"], [0.3333333333333333, \"#9c179e\"], [0.4444444444444444, \"#bd3786\"], [0.5555555555555556, \"#d8576b\"], [0.6666666666666666, \"#ed7953\"], [0.7777777777777778, \"#fb9f3a\"], [0.8888888888888888, \"#fdca26\"], [1.0, \"#f0f921\"]], \"sequentialminus\": [[0.0, \"#0d0887\"], [0.1111111111111111, \"#46039f\"], [0.2222222222222222, \"#7201a8\"], [0.3333333333333333, \"#9c179e\"], [0.4444444444444444, \"#bd3786\"], [0.5555555555555556, \"#d8576b\"], [0.6666666666666666, \"#ed7953\"], [0.7777777777777778, \"#fb9f3a\"], [0.8888888888888888, \"#fdca26\"], [1.0, \"#f0f921\"]]}, \"colorway\": [\"#636efa\", \"#EF553B\", \"#00cc96\", \"#ab63fa\", \"#FFA15A\", \"#19d3f3\", \"#FF6692\", \"#B6E880\", \"#FF97FF\", \"#FECB52\"], \"font\": {\"color\": \"#2a3f5f\"}, \"geo\": {\"bgcolor\": \"white\", \"lakecolor\": \"white\", \"landcolor\": \"#E5ECF6\", \"showlakes\": true, \"showland\": true, \"subunitcolor\": \"white\"}, \"hoverlabel\": {\"align\": \"left\"}, \"hovermode\": \"closest\", \"mapbox\": {\"style\": \"light\"}, \"paper_bgcolor\": \"white\", \"plot_bgcolor\": \"#E5ECF6\", \"polar\": {\"angularaxis\": {\"gridcolor\": \"white\", \"linecolor\": \"white\", \"ticks\": \"\"}, \"bgcolor\": \"#E5ECF6\", \"radialaxis\": {\"gridcolor\": \"white\", \"linecolor\": \"white\", \"ticks\": \"\"}}, \"scene\": {\"xaxis\": {\"backgroundcolor\": \"#E5ECF6\", \"gridcolor\": \"white\", \"gridwidth\": 2, \"linecolor\": \"white\", \"showbackground\": true, \"ticks\": \"\", \"zerolinecolor\": \"white\"}, \"yaxis\": {\"backgroundcolor\": \"#E5ECF6\", \"gridcolor\": \"white\", \"gridwidth\": 2, \"linecolor\": \"white\", \"showbackground\": true, \"ticks\": \"\", \"zerolinecolor\": \"white\"}, \"zaxis\": {\"backgroundcolor\": \"#E5ECF6\", \"gridcolor\": \"white\", \"gridwidth\": 2, \"linecolor\": \"white\", \"showbackground\": true, \"ticks\": \"\", \"zerolinecolor\": \"white\"}}, \"shapedefaults\": {\"line\": {\"color\": \"#2a3f5f\"}}, \"ternary\": {\"aaxis\": {\"gridcolor\": \"white\", \"linecolor\": \"white\", \"ticks\": \"\"}, \"baxis\": {\"gridcolor\": \"white\", \"linecolor\": \"white\", \"ticks\": \"\"}, \"bgcolor\": \"#E5ECF6\", \"caxis\": {\"gridcolor\": \"white\", \"linecolor\": \"white\", \"ticks\": \"\"}}, \"title\": {\"x\": 0.05}, \"xaxis\": {\"automargin\": true, \"gridcolor\": \"white\", \"linecolor\": \"white\", \"ticks\": \"\", \"title\": {\"standoff\": 15}, \"zerolinecolor\": \"white\", \"zerolinewidth\": 2}, \"yaxis\": {\"automargin\": true, \"gridcolor\": \"white\", \"linecolor\": \"white\", \"ticks\": \"\", \"title\": {\"standoff\": 15}, \"zerolinecolor\": \"white\", \"zerolinewidth\": 2}}}},\n",
       "                        {\"responsive\": true}\n",
       "                    ).then(function(){\n",
       "                            \n",
       "var gd = document.getElementById('494469c4-b8e0-44c5-8e7c-6365d5f459b6');\n",
       "var x = new MutationObserver(function (mutations, observer) {{\n",
       "        var display = window.getComputedStyle(gd).display;\n",
       "        if (!display || display === 'none') {{\n",
       "            console.log([gd, 'removed!']);\n",
       "            Plotly.purge(gd);\n",
       "            observer.disconnect();\n",
       "        }}\n",
       "}});\n",
       "\n",
       "// Listen for the removal of the full notebook cells\n",
       "var notebookContainer = gd.closest('#notebook-container');\n",
       "if (notebookContainer) {{\n",
       "    x.observe(notebookContainer, {childList: true});\n",
       "}}\n",
       "\n",
       "// Listen for the clearing of the current output cell\n",
       "var outputEl = gd.closest('.output');\n",
       "if (outputEl) {{\n",
       "    x.observe(outputEl, {childList: true});\n",
       "}}\n",
       "\n",
       "                        })\n",
       "                };\n",
       "                });\n",
       "            </script>\n",
       "        </div>"
      ]
     },
     "metadata": {},
     "output_type": "display_data"
    }
   ],
   "source": [
    "x0 = 0\n",
    "x1 = 1\n",
    "\n",
    "paths = ['M %f, %f C %f, %f %f, %f %f, %f' % (x0, y0,\n",
    "                                                      x0 + 0.2, y0,\n",
    "                                                      x1 - 0.2, y1,\n",
    "                                                      x1, y1) for y0, y1 in connections]\n",
    "c = 'blue'\n",
    "fig = go.Figure(go.Scatter(x=[0, 1], y=[0, 1]))\n",
    "%time fig.update_layout(shapes=[dict(type='path', path=p, line=dict(color=c, width=1.5), opacity=0.6) for p in paths])"
   ]
  },
  {
   "cell_type": "code",
   "execution_count": 28,
   "metadata": {},
   "outputs": [
    {
     "data": {
      "text/plain": [
       "640"
      ]
     },
     "execution_count": 28,
     "metadata": {},
     "output_type": "execute_result"
    }
   ],
   "source": [
    "len(paths)"
   ]
  },
  {
   "cell_type": "code",
   "execution_count": null,
   "metadata": {},
   "outputs": [],
   "source": []
  }
 ],
 "metadata": {
  "kernelspec": {
   "display_name": "Python 3",
   "language": "python",
   "name": "python3"
  },
  "language_info": {
   "codemirror_mode": {
    "name": "ipython",
    "version": 3
   },
   "file_extension": ".py",
   "mimetype": "text/x-python",
   "name": "python",
   "nbconvert_exporter": "python",
   "pygments_lexer": "ipython3",
   "version": "3.7.6"
  }
 },
 "nbformat": 4,
 "nbformat_minor": 4
}
